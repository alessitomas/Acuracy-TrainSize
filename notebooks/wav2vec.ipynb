{
 "cells": [
  {
   "cell_type": "code",
   "execution_count": 18,
   "metadata": {},
   "outputs": [
    {
     "name": "stderr",
     "output_type": "stream",
     "text": [
      "Some weights of the model checkpoint at facebook/wav2vec2-base-960h were not used when initializing Wav2Vec2ForCTC: ['wav2vec2.encoder.pos_conv_embed.conv.weight_g', 'wav2vec2.encoder.pos_conv_embed.conv.weight_v']\n",
      "- This IS expected if you are initializing Wav2Vec2ForCTC from the checkpoint of a model trained on another task or with another architecture (e.g. initializing a BertForSequenceClassification model from a BertForPreTraining model).\n",
      "- This IS NOT expected if you are initializing Wav2Vec2ForCTC from the checkpoint of a model that you expect to be exactly identical (initializing a BertForSequenceClassification model from a BertForSequenceClassification model).\n",
      "Some weights of Wav2Vec2ForCTC were not initialized from the model checkpoint at facebook/wav2vec2-base-960h and are newly initialized: ['wav2vec2.encoder.pos_conv_embed.conv.parametrizations.weight.original0', 'wav2vec2.encoder.pos_conv_embed.conv.parametrizations.weight.original1', 'wav2vec2.masked_spec_embed']\n",
      "You should probably TRAIN this model on a down-stream task to be able to use it for predictions and inference.\n",
      "It is strongly recommended to pass the ``sampling_rate`` argument to this function. Failing to do so can result in silent errors that might be hard to debug.\n"
     ]
    },
    {
     "name": "stdout",
     "output_type": "stream",
     "text": [
      "tensor([[[ 10.3694, -24.9513, -24.6926,  ...,  -6.0816,  -6.3892,  -6.8019],\n",
      "         [ 10.3874, -25.0843, -24.8286,  ...,  -6.1105,  -6.3651,  -6.8960],\n",
      "         [ 10.4912, -25.2876, -25.0470,  ...,  -6.0993,  -6.3079,  -7.0422],\n",
      "         ...,\n",
      "         [  5.9135, -22.2397, -22.0399,  ...,  -6.2818,  -5.8257,  -5.7780],\n",
      "         [  5.8237, -21.6973, -21.5244,  ...,  -6.3758,  -6.3163,  -5.8410],\n",
      "         [  5.6914, -20.8546, -20.6983,  ...,  -5.5151,  -5.3632,  -5.5131]]])\n"
     ]
    }
   ],
   "source": [
    "from transformers import Wav2Vec2Processor, Wav2Vec2ForCTC\n",
    "import torchaudio\n",
    "import torch\n",
    "\n",
    "\n",
    "processor = Wav2Vec2Processor.from_pretrained(\"facebook/wav2vec2-base-960h\", sampling_rate=22050)\n",
    "model = Wav2Vec2ForCTC.from_pretrained(\"facebook/wav2vec2-base-960h\")\n",
    "audio_input, rate = torchaudio.load(\"../audios/gtzan/blues/blues.00000.wav\")\n",
    "input_values = processor(audio_input.squeeze().numpy(), return_tensors=\"pt\", padding=\"longest\").input_values\n",
    "\n",
    "with torch.no_grad():\n",
    "    output = model(input_values).logits\n",
    "\n",
    "print(output)"
   ]
  },
  {
   "cell_type": "code",
   "execution_count": 19,
   "metadata": {},
   "outputs": [
    {
     "data": {
      "text/plain": [
       "torch.Size([1, 2067, 32])"
      ]
     },
     "execution_count": 19,
     "metadata": {},
     "output_type": "execute_result"
    }
   ],
   "source": [
    "output.shape"
   ]
  },
  {
   "cell_type": "code",
   "execution_count": 20,
   "metadata": {},
   "outputs": [],
   "source": [
    "import pandas as pd\n",
    "import numpy as np\n",
    "\n",
    "output_array = output.numpy()\n",
    "num_features = output_array.shape[2]\n",
    "reshaped_output = output_array.reshape(-1, num_features)\n",
    "df = pd.DataFrame(reshaped_output, columns=[f'feature_{i}' for i in range(num_features)])\n"
   ]
  },
  {
   "cell_type": "code",
   "execution_count": 25,
   "metadata": {},
   "outputs": [],
   "source": [
    "linha_agregada = df.agg('mean')\n",
    "df = pd.DataFrame(linha_agregada).transpose()\n"
   ]
  },
  {
   "cell_type": "code",
   "execution_count": 26,
   "metadata": {},
   "outputs": [
    {
     "data": {
      "text/html": [
       "<div>\n",
       "<style scoped>\n",
       "    .dataframe tbody tr th:only-of-type {\n",
       "        vertical-align: middle;\n",
       "    }\n",
       "\n",
       "    .dataframe tbody tr th {\n",
       "        vertical-align: top;\n",
       "    }\n",
       "\n",
       "    .dataframe thead th {\n",
       "        text-align: right;\n",
       "    }\n",
       "</style>\n",
       "<table border=\"1\" class=\"dataframe\">\n",
       "  <thead>\n",
       "    <tr style=\"text-align: right;\">\n",
       "      <th></th>\n",
       "      <th>feature_0</th>\n",
       "      <th>feature_1</th>\n",
       "      <th>feature_2</th>\n",
       "      <th>feature_3</th>\n",
       "      <th>feature_4</th>\n",
       "      <th>feature_5</th>\n",
       "      <th>feature_6</th>\n",
       "      <th>feature_7</th>\n",
       "      <th>feature_8</th>\n",
       "      <th>feature_9</th>\n",
       "      <th>...</th>\n",
       "      <th>feature_22</th>\n",
       "      <th>feature_23</th>\n",
       "      <th>feature_24</th>\n",
       "      <th>feature_25</th>\n",
       "      <th>feature_26</th>\n",
       "      <th>feature_27</th>\n",
       "      <th>feature_28</th>\n",
       "      <th>feature_29</th>\n",
       "      <th>feature_30</th>\n",
       "      <th>feature_31</th>\n",
       "    </tr>\n",
       "  </thead>\n",
       "  <tbody>\n",
       "    <tr>\n",
       "      <th>0</th>\n",
       "      <td>7.669487</td>\n",
       "      <td>-22.001381</td>\n",
       "      <td>-21.853308</td>\n",
       "      <td>-21.891827</td>\n",
       "      <td>0.50334</td>\n",
       "      <td>0.093137</td>\n",
       "      <td>-0.74546</td>\n",
       "      <td>-0.42326</td>\n",
       "      <td>-0.942377</td>\n",
       "      <td>-0.851343</td>\n",
       "      <td>...</td>\n",
       "      <td>-2.361672</td>\n",
       "      <td>-3.245058</td>\n",
       "      <td>-2.325846</td>\n",
       "      <td>-4.218693</td>\n",
       "      <td>-3.058365</td>\n",
       "      <td>-5.030371</td>\n",
       "      <td>-6.183205</td>\n",
       "      <td>-5.927718</td>\n",
       "      <td>-6.410456</td>\n",
       "      <td>-6.383831</td>\n",
       "    </tr>\n",
       "  </tbody>\n",
       "</table>\n",
       "<p>1 rows × 32 columns</p>\n",
       "</div>"
      ],
      "text/plain": [
       "   feature_0  feature_1  feature_2  feature_3  feature_4  feature_5  \\\n",
       "0   7.669487 -22.001381 -21.853308 -21.891827    0.50334   0.093137   \n",
       "\n",
       "   feature_6  feature_7  feature_8  feature_9  ...  feature_22  feature_23  \\\n",
       "0   -0.74546   -0.42326  -0.942377  -0.851343  ...   -2.361672   -3.245058   \n",
       "\n",
       "   feature_24  feature_25  feature_26  feature_27  feature_28  feature_29  \\\n",
       "0   -2.325846   -4.218693   -3.058365   -5.030371   -6.183205   -5.927718   \n",
       "\n",
       "   feature_30  feature_31  \n",
       "0   -6.410456   -6.383831  \n",
       "\n",
       "[1 rows x 32 columns]"
      ]
     },
     "execution_count": 26,
     "metadata": {},
     "output_type": "execute_result"
    }
   ],
   "source": [
    "df"
   ]
  }
 ],
 "metadata": {
  "kernelspec": {
   "display_name": "env",
   "language": "python",
   "name": "python3"
  },
  "language_info": {
   "codemirror_mode": {
    "name": "ipython",
    "version": 3
   },
   "file_extension": ".py",
   "mimetype": "text/x-python",
   "name": "python",
   "nbconvert_exporter": "python",
   "pygments_lexer": "ipython3",
   "version": "3.11.3"
  }
 },
 "nbformat": 4,
 "nbformat_minor": 2
}
