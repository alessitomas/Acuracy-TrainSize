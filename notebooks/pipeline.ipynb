{
 "cells": [
  {
   "cell_type": "markdown",
   "metadata": {},
   "source": [
    "# Evaluates the performance of Logistic Regression Classifier with different training sizes of diferrent datasets"
   ]
  },
  {
   "cell_type": "code",
   "execution_count": 72,
   "metadata": {},
   "outputs": [],
   "source": [
    "import pandas as pd\n"
   ]
  },
  {
   "cell_type": "code",
   "execution_count": 73,
   "metadata": {},
   "outputs": [],
   "source": [
    "# GTZAN_dataset = pd.read_csv(\"../data/gtzan/features_30_sec.csv\")\n",
    "# GTZAN_dataset.drop(['filename','length'], axis =1, inplace = True)\n",
    "# X = GTZAN_dataset.drop(['label'], axis=1)\n",
    "# y = GTZAN_dataset['label']"
   ]
  },
  {
   "cell_type": "code",
   "execution_count": 74,
   "metadata": {},
   "outputs": [
    {
     "data": {
      "text/html": [
       "<div>\n",
       "<style scoped>\n",
       "    .dataframe tbody tr th:only-of-type {\n",
       "        vertical-align: middle;\n",
       "    }\n",
       "\n",
       "    .dataframe tbody tr th {\n",
       "        vertical-align: top;\n",
       "    }\n",
       "\n",
       "    .dataframe thead th {\n",
       "        text-align: right;\n",
       "    }\n",
       "</style>\n",
       "<table border=\"1\" class=\"dataframe\">\n",
       "  <thead>\n",
       "    <tr style=\"text-align: right;\">\n",
       "      <th></th>\n",
       "      <th>track_id</th>\n",
       "      <th>chroma_cens</th>\n",
       "      <th>chroma_cens.1</th>\n",
       "      <th>chroma_cens.2</th>\n",
       "      <th>chroma_cens.3</th>\n",
       "      <th>chroma_cens.4</th>\n",
       "      <th>chroma_cens.5</th>\n",
       "      <th>chroma_cens.6</th>\n",
       "      <th>chroma_cens.7</th>\n",
       "      <th>chroma_cens.8</th>\n",
       "      <th>...</th>\n",
       "      <th>tonnetz.41</th>\n",
       "      <th>zcr</th>\n",
       "      <th>zcr.1</th>\n",
       "      <th>zcr.2</th>\n",
       "      <th>zcr.3</th>\n",
       "      <th>zcr.4</th>\n",
       "      <th>zcr.5</th>\n",
       "      <th>zcr.6</th>\n",
       "      <th>subset</th>\n",
       "      <th>genre_top</th>\n",
       "    </tr>\n",
       "  </thead>\n",
       "  <tbody>\n",
       "    <tr>\n",
       "      <th>0</th>\n",
       "      <td>135</td>\n",
       "      <td>0.978402</td>\n",
       "      <td>0.623572</td>\n",
       "      <td>1.129261</td>\n",
       "      <td>-1.043970</td>\n",
       "      <td>-1.127288</td>\n",
       "      <td>-0.032642</td>\n",
       "      <td>-0.878434</td>\n",
       "      <td>-0.916234</td>\n",
       "      <td>-0.743257</td>\n",
       "      <td>...</td>\n",
       "      <td>0.020464</td>\n",
       "      <td>-0.038451</td>\n",
       "      <td>0.234863</td>\n",
       "      <td>0.050837</td>\n",
       "      <td>0.050781</td>\n",
       "      <td>0.003418</td>\n",
       "      <td>0.297873</td>\n",
       "      <td>0.024899</td>\n",
       "      <td>large</td>\n",
       "      <td>Rock</td>\n",
       "    </tr>\n",
       "    <tr>\n",
       "      <th>1</th>\n",
       "      <td>137</td>\n",
       "      <td>1.607191</td>\n",
       "      <td>1.199649</td>\n",
       "      <td>0.745765</td>\n",
       "      <td>1.430835</td>\n",
       "      <td>-0.155455</td>\n",
       "      <td>0.768487</td>\n",
       "      <td>3.005594</td>\n",
       "      <td>2.779431</td>\n",
       "      <td>1.567088</td>\n",
       "      <td>...</td>\n",
       "      <td>0.011149</td>\n",
       "      <td>40.950294</td>\n",
       "      <td>0.619629</td>\n",
       "      <td>0.088439</td>\n",
       "      <td>0.086914</td>\n",
       "      <td>0.000000</td>\n",
       "      <td>3.275552</td>\n",
       "      <td>0.021831</td>\n",
       "      <td>large</td>\n",
       "      <td>Experimental</td>\n",
       "    </tr>\n",
       "    <tr>\n",
       "      <th>2</th>\n",
       "      <td>138</td>\n",
       "      <td>1.501403</td>\n",
       "      <td>0.957514</td>\n",
       "      <td>1.276685</td>\n",
       "      <td>0.640389</td>\n",
       "      <td>0.442936</td>\n",
       "      <td>0.845533</td>\n",
       "      <td>0.917440</td>\n",
       "      <td>0.770691</td>\n",
       "      <td>1.787260</td>\n",
       "      <td>...</td>\n",
       "      <td>0.012725</td>\n",
       "      <td>5.126394</td>\n",
       "      <td>0.627441</td>\n",
       "      <td>0.102232</td>\n",
       "      <td>0.099121</td>\n",
       "      <td>0.004883</td>\n",
       "      <td>0.633483</td>\n",
       "      <td>0.034676</td>\n",
       "      <td>large</td>\n",
       "      <td>Experimental</td>\n",
       "    </tr>\n",
       "    <tr>\n",
       "      <th>3</th>\n",
       "      <td>142</td>\n",
       "      <td>-0.581270</td>\n",
       "      <td>3.199484</td>\n",
       "      <td>1.298346</td>\n",
       "      <td>-0.681253</td>\n",
       "      <td>-0.935093</td>\n",
       "      <td>-0.960304</td>\n",
       "      <td>-0.748014</td>\n",
       "      <td>-0.715798</td>\n",
       "      <td>-0.905853</td>\n",
       "      <td>...</td>\n",
       "      <td>0.022975</td>\n",
       "      <td>4.865969</td>\n",
       "      <td>0.309570</td>\n",
       "      <td>0.066520</td>\n",
       "      <td>0.061035</td>\n",
       "      <td>0.001953</td>\n",
       "      <td>1.625022</td>\n",
       "      <td>0.036644</td>\n",
       "      <td>large</td>\n",
       "      <td>Folk</td>\n",
       "    </tr>\n",
       "    <tr>\n",
       "      <th>4</th>\n",
       "      <td>144</td>\n",
       "      <td>0.121207</td>\n",
       "      <td>-0.025308</td>\n",
       "      <td>0.541327</td>\n",
       "      <td>0.967687</td>\n",
       "      <td>1.082456</td>\n",
       "      <td>1.675841</td>\n",
       "      <td>1.741263</td>\n",
       "      <td>0.470098</td>\n",
       "      <td>4.051888</td>\n",
       "      <td>...</td>\n",
       "      <td>0.018568</td>\n",
       "      <td>0.627553</td>\n",
       "      <td>0.239258</td>\n",
       "      <td>0.079759</td>\n",
       "      <td>0.078613</td>\n",
       "      <td>0.000000</td>\n",
       "      <td>0.226211</td>\n",
       "      <td>0.034378</td>\n",
       "      <td>large</td>\n",
       "      <td>Jazz</td>\n",
       "    </tr>\n",
       "  </tbody>\n",
       "</table>\n",
       "<p>5 rows × 521 columns</p>\n",
       "</div>"
      ],
      "text/plain": [
       "   track_id  chroma_cens  chroma_cens.1  chroma_cens.2  chroma_cens.3  \\\n",
       "0       135     0.978402       0.623572       1.129261      -1.043970   \n",
       "1       137     1.607191       1.199649       0.745765       1.430835   \n",
       "2       138     1.501403       0.957514       1.276685       0.640389   \n",
       "3       142    -0.581270       3.199484       1.298346      -0.681253   \n",
       "4       144     0.121207      -0.025308       0.541327       0.967687   \n",
       "\n",
       "   chroma_cens.4  chroma_cens.5  chroma_cens.6  chroma_cens.7  chroma_cens.8  \\\n",
       "0      -1.127288      -0.032642      -0.878434      -0.916234      -0.743257   \n",
       "1      -0.155455       0.768487       3.005594       2.779431       1.567088   \n",
       "2       0.442936       0.845533       0.917440       0.770691       1.787260   \n",
       "3      -0.935093      -0.960304      -0.748014      -0.715798      -0.905853   \n",
       "4       1.082456       1.675841       1.741263       0.470098       4.051888   \n",
       "\n",
       "   ...  tonnetz.41        zcr     zcr.1     zcr.2     zcr.3     zcr.4  \\\n",
       "0  ...    0.020464  -0.038451  0.234863  0.050837  0.050781  0.003418   \n",
       "1  ...    0.011149  40.950294  0.619629  0.088439  0.086914  0.000000   \n",
       "2  ...    0.012725   5.126394  0.627441  0.102232  0.099121  0.004883   \n",
       "3  ...    0.022975   4.865969  0.309570  0.066520  0.061035  0.001953   \n",
       "4  ...    0.018568   0.627553  0.239258  0.079759  0.078613  0.000000   \n",
       "\n",
       "      zcr.5     zcr.6  subset     genre_top  \n",
       "0  0.297873  0.024899   large          Rock  \n",
       "1  3.275552  0.021831   large  Experimental  \n",
       "2  0.633483  0.034676   large  Experimental  \n",
       "3  1.625022  0.036644   large          Folk  \n",
       "4  0.226211  0.034378   large          Jazz  \n",
       "\n",
       "[5 rows x 521 columns]"
      ]
     },
     "execution_count": 74,
     "metadata": {},
     "output_type": "execute_result"
    }
   ],
   "source": [
    "fma = pd.read_csv('../data/fma/fmaManipulated.csv')\n",
    "fma_small = fma[fma['subset'] == 'large']\n",
    "fma_small.reset_index(inplace=True, drop=True)\n",
    "fma_small.head()"
   ]
  },
  {
   "cell_type": "code",
   "execution_count": 75,
   "metadata": {},
   "outputs": [],
   "source": [
    "X = fma_small.drop(['track_id','genre_top','subset'], axis=1)\n",
    "y = fma_small['genre_top']"
   ]
  },
  {
   "cell_type": "code",
   "execution_count": 76,
   "metadata": {},
   "outputs": [],
   "source": [
    "import numpy as np\n",
    "from tqdm import tqdm\n",
    "from sklearn.linear_model import LogisticRegression\n",
    "from sklearn.model_selection import train_test_split, cross_val_score\n",
    "from sklearn.pipeline import Pipeline\n",
    "from sklearn.metrics import accuracy_score\n",
    "from sklearn.preprocessing import StandardScaler\n",
    "import json"
   ]
  },
  {
   "cell_type": "markdown",
   "metadata": {},
   "source": [
    "Arguments:\n",
    "\n",
    "(X) Matrix of features\n",
    "\n",
    "(y) Array of targets\n",
    "\n",
    "(train_size) Size of the trainset, this trian set will be spllited into more partitions  "
   ]
  },
  {
   "cell_type": "code",
   "execution_count": 77,
   "metadata": {},
   "outputs": [],
   "source": [
    "def performanceOfTrainSizes(X, y, train_size):\n",
    "    pipeline = Pipeline([\n",
    "                            ('StandardScaler',  StandardScaler()),\n",
    "                            ('meu_classificador', LogisticRegression(max_iter=10000))\n",
    "                        ])\n",
    "    \n",
    "    X_train, X_test, y_train, y_test = train_test_split(X, y, train_size=train_size, stratify=y)\n",
    "\n",
    "    n_train = np.logspace(-2, np.log10(0.8), 10)\n",
    "    n_train_ = [int(n*X_train.shape[0]) for n in n_train]\n",
    "\n",
    "    n_train_ = [n for n in n_train_ if n > len(set(y))]\n",
    "    acc_mean = []\n",
    "    acc_std = []\n",
    "    acc_mean_overfit = []\n",
    "    acc_std_overfit = []\n",
    "    \n",
    "    for n in n_train_:\n",
    "        this_acc = []\n",
    "        this_acc_overfit = []\n",
    "        for k in tqdm(range(50)):\n",
    "            X_train_, _, y_train_, _ = train_test_split(X_train, y_train, train_size=n, stratify=y_train)\n",
    "            pipeline.fit(X_train_,y_train_)\n",
    "            \n",
    "            y_pred = pipeline.predict(X_test)\n",
    "            \n",
    "            acc = accuracy_score(y_pred,y_test)\n",
    "\n",
    "            y_pred_overfit = pipeline.predict(X_train)\n",
    "            acc_overfit = accuracy_score(y_pred_overfit,y_train)\n",
    "\n",
    "            this_acc_overfit.append(acc_overfit)\n",
    "            this_acc.append(acc)\n",
    "        \n",
    "        this_acc_overfit = np.array(this_acc_overfit)\n",
    "        this_acc = np.array(this_acc)\n",
    "        acc_mean.append(this_acc.mean())\n",
    "        acc_std.append(this_acc.std())\n",
    "        acc_mean_overfit.append(this_acc_overfit.mean())\n",
    "        acc_std_overfit.append(this_acc_overfit.std())\n",
    "    return acc_mean, acc_mean_overfit, acc_std, acc_std_overfit, n_train_"
   ]
  },
  {
   "cell_type": "code",
   "execution_count": 78,
   "metadata": {},
   "outputs": [],
   "source": [
    "def saveMetricsStorage(storageJsonPath ,datasetName, acc_mean, acc_mean_overfit, acc_std, acc_std_overfit, n_train_,datasetSize):\n",
    "    with open(storageJsonPath, 'r') as f:\n",
    "        storage = json.load(f)\n",
    "    \n",
    "    storage[datasetName] = {\n",
    "        'acc_mean': acc_mean,\n",
    "        'acc_mean_overfit': acc_mean_overfit,\n",
    "        'acc_std': acc_std,\n",
    "        'acc_std_overfit': acc_std_overfit,\n",
    "        'n_train_': n_train_,\n",
    "        'datasetSize': datasetSize\n",
    "    }\n",
    "    \n",
    "    with open(storageJsonPath, 'w') as f:\n",
    "        json.dump(storage, f)"
   ]
  },
  {
   "cell_type": "code",
   "execution_count": 79,
   "metadata": {},
   "outputs": [
    {
     "name": "stderr",
     "output_type": "stream",
     "text": [
      "  0%|          | 0/50 [00:00<?, ?it/s]"
     ]
    },
    {
     "name": "stderr",
     "output_type": "stream",
     "text": [
      "100%|██████████| 50/50 [00:28<00:00,  1.74it/s]\n",
      "100%|██████████| 50/50 [00:30<00:00,  1.61it/s]\n",
      "100%|██████████| 50/50 [00:40<00:00,  1.22it/s]\n",
      "100%|██████████| 50/50 [01:18<00:00,  1.56s/it]\n",
      "100%|██████████| 50/50 [02:38<00:00,  3.18s/it]\n",
      "100%|██████████| 50/50 [04:08<00:00,  4.97s/it]\n",
      "100%|██████████| 50/50 [05:50<00:00,  7.00s/it]\n",
      "100%|██████████| 50/50 [11:57<00:00, 14.34s/it]\n",
      "100%|██████████| 50/50 [20:45<00:00, 24.91s/it]\n",
      "100%|██████████| 50/50 [38:22<00:00, 46.06s/it]\n"
     ]
    }
   ],
   "source": [
    "acc_mean, acc_mean_overfit , acc_std, acc_std_overfit ,n_train_ = performanceOfTrainSizes(X, y, 0.8)\n",
    "saveMetricsStorage('../data/metricsStorage.json', 'FMA-large', acc_mean, acc_mean_overfit , acc_std, acc_std_overfit ,n_train_,len(y))"
   ]
  },
  {
   "cell_type": "code",
   "execution_count": 80,
   "metadata": {},
   "outputs": [
    {
     "data": {
      "text/plain": [
       "[0.49486196319018405,\n",
       " 0.509258691206544,\n",
       " 0.524258691206544,\n",
       " 0.529780163599182,\n",
       " 0.5378527607361963,\n",
       " 0.5410173824130879,\n",
       " 0.5614723926380368,\n",
       " 0.594739263803681,\n",
       " 0.6258026584867076,\n",
       " 0.6501891615541924]"
      ]
     },
     "execution_count": 80,
     "metadata": {},
     "output_type": "execute_result"
    }
   ],
   "source": [
    "acc_mean"
   ]
  },
  {
   "cell_type": "code",
   "execution_count": 81,
   "metadata": {},
   "outputs": [
    {
     "data": {
      "text/plain": [
       "[0.49883691206543973,\n",
       " 0.515329754601227,\n",
       " 0.534924591002045,\n",
       " 0.5482016871165645,\n",
       " 0.567321063394683,\n",
       " 0.5892714723926381,\n",
       " 0.6232387525562373,\n",
       " 0.6656978527607363,\n",
       " 0.7035058793456033,\n",
       " 0.7329703476482617]"
      ]
     },
     "execution_count": 81,
     "metadata": {},
     "output_type": "execute_result"
    }
   ],
   "source": [
    "acc_mean_overfit "
   ]
  },
  {
   "cell_type": "code",
   "execution_count": 82,
   "metadata": {},
   "outputs": [
    {
     "data": {
      "text/plain": [
       "[0.012953263916789488,\n",
       " 0.012899178269244372,\n",
       " 0.010536938805297618,\n",
       " 0.01047124753490078,\n",
       " 0.010299046445425003,\n",
       " 0.009391548748333384,\n",
       " 0.006894876438113353,\n",
       " 0.005589197334477628,\n",
       " 0.0046284160332959404,\n",
       " 0.003065016901015458]"
      ]
     },
     "execution_count": 82,
     "metadata": {},
     "output_type": "execute_result"
    }
   ],
   "source": [
    "acc_std"
   ]
  },
  {
   "cell_type": "code",
   "execution_count": 83,
   "metadata": {},
   "outputs": [
    {
     "data": {
      "text/plain": [
       "[0.012688306442401789,\n",
       " 0.012364498816831304,\n",
       " 0.00999332857326273,\n",
       " 0.007934376780819579,\n",
       " 0.007374192350145336,\n",
       " 0.0063467802841144895,\n",
       " 0.0037676577995119707,\n",
       " 0.0032745628254856403,\n",
       " 0.002573186713423827,\n",
       " 0.0015693422947931559]"
      ]
     },
     "execution_count": 83,
     "metadata": {},
     "output_type": "execute_result"
    }
   ],
   "source": [
    "acc_std_overfit"
   ]
  },
  {
   "cell_type": "code",
   "execution_count": 84,
   "metadata": {},
   "outputs": [
    {
     "data": {
      "text/plain": [
       "[156, 254, 414, 674, 1097, 1785, 2905, 4727, 7692, 12518]"
      ]
     },
     "execution_count": 84,
     "metadata": {},
     "output_type": "execute_result"
    }
   ],
   "source": [
    "n_train_"
   ]
  }
 ],
 "metadata": {
  "kernelspec": {
   "display_name": "env",
   "language": "python",
   "name": "python3"
  },
  "language_info": {
   "codemirror_mode": {
    "name": "ipython",
    "version": 3
   },
   "file_extension": ".py",
   "mimetype": "text/x-python",
   "name": "python",
   "nbconvert_exporter": "python",
   "pygments_lexer": "ipython3",
   "version": "3.11.3"
  },
  "orig_nbformat": 4
 },
 "nbformat": 4,
 "nbformat_minor": 2
}
