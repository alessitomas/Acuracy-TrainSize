{
 "cells": [
  {
   "cell_type": "markdown",
   "metadata": {},
   "source": [
    "# Evaluates the performance of Logistic Regression Classifier with different training sizes of diferrent datasets"
   ]
  },
  {
   "cell_type": "code",
   "execution_count": 28,
   "metadata": {},
   "outputs": [],
   "source": [
    "import pandas as pd\n"
   ]
  },
  {
   "cell_type": "code",
   "execution_count": 29,
   "metadata": {},
   "outputs": [],
   "source": [
    "GTZAN_dataset = pd.read_csv(\"../data/gtzan/features_30_sec.csv\")"
   ]
  },
  {
   "cell_type": "code",
   "execution_count": 30,
   "metadata": {},
   "outputs": [],
   "source": [
    "# X = GTZAN_dataset.drop(\"label\", axis=1)\n",
    "# y = GTZAN_dataset[\"label\"]"
   ]
  },
  {
   "cell_type": "code",
   "execution_count": 31,
   "metadata": {},
   "outputs": [],
   "source": [
    "GTZAN_dataset = pd.read_csv(\"../data/gtzan/features_30_sec.csv\")\n",
    "GTZAN_dataset = GTZAN_dataset[GTZAN_dataset['filename'] != 'jazz.00054.wav']\n",
    "GTZAN_dataset.drop(['filename','length'], axis =1, inplace = True)\n",
    "X = GTZAN_dataset.drop(['label'], axis=1)\n",
    "y = GTZAN_dataset['label']"
   ]
  },
  {
   "cell_type": "code",
   "execution_count": 32,
   "metadata": {},
   "outputs": [],
   "source": [
    "# fma = pd.read_csv('../data/hand-crafted/FMA-large-handcrafted-label.csv')\n",
    "# fma.head()"
   ]
  },
  {
   "cell_type": "code",
   "execution_count": 33,
   "metadata": {},
   "outputs": [],
   "source": [
    "# X = fma.drop(['track_id','genre_top','subset'], axis=1)\n",
    "# y = fma['genre_top']"
   ]
  },
  {
   "cell_type": "code",
   "execution_count": 34,
   "metadata": {},
   "outputs": [
    {
     "data": {
      "text/plain": [
       "0      blues\n",
       "1      blues\n",
       "2      blues\n",
       "3      blues\n",
       "4      blues\n",
       "       ...  \n",
       "995     rock\n",
       "996     rock\n",
       "997     rock\n",
       "998     rock\n",
       "999     rock\n",
       "Name: label, Length: 999, dtype: object"
      ]
     },
     "execution_count": 34,
     "metadata": {},
     "output_type": "execute_result"
    }
   ],
   "source": [
    "y"
   ]
  },
  {
   "cell_type": "code",
   "execution_count": 35,
   "metadata": {},
   "outputs": [
    {
     "data": {
      "text/html": [
       "<div>\n",
       "<style scoped>\n",
       "    .dataframe tbody tr th:only-of-type {\n",
       "        vertical-align: middle;\n",
       "    }\n",
       "\n",
       "    .dataframe tbody tr th {\n",
       "        vertical-align: top;\n",
       "    }\n",
       "\n",
       "    .dataframe thead th {\n",
       "        text-align: right;\n",
       "    }\n",
       "</style>\n",
       "<table border=\"1\" class=\"dataframe\">\n",
       "  <thead>\n",
       "    <tr style=\"text-align: right;\">\n",
       "      <th></th>\n",
       "      <th>chroma_stft_mean</th>\n",
       "      <th>chroma_stft_var</th>\n",
       "      <th>rms_mean</th>\n",
       "      <th>rms_var</th>\n",
       "      <th>spectral_centroid_mean</th>\n",
       "      <th>spectral_centroid_var</th>\n",
       "      <th>spectral_bandwidth_mean</th>\n",
       "      <th>spectral_bandwidth_var</th>\n",
       "      <th>rolloff_mean</th>\n",
       "      <th>rolloff_var</th>\n",
       "      <th>...</th>\n",
       "      <th>mfcc16_mean</th>\n",
       "      <th>mfcc16_var</th>\n",
       "      <th>mfcc17_mean</th>\n",
       "      <th>mfcc17_var</th>\n",
       "      <th>mfcc18_mean</th>\n",
       "      <th>mfcc18_var</th>\n",
       "      <th>mfcc19_mean</th>\n",
       "      <th>mfcc19_var</th>\n",
       "      <th>mfcc20_mean</th>\n",
       "      <th>mfcc20_var</th>\n",
       "    </tr>\n",
       "  </thead>\n",
       "  <tbody>\n",
       "    <tr>\n",
       "      <th>0</th>\n",
       "      <td>0.350088</td>\n",
       "      <td>0.088757</td>\n",
       "      <td>0.130228</td>\n",
       "      <td>0.002827</td>\n",
       "      <td>1784.165850</td>\n",
       "      <td>129774.064525</td>\n",
       "      <td>2002.449060</td>\n",
       "      <td>85882.761315</td>\n",
       "      <td>3805.839606</td>\n",
       "      <td>9.015054e+05</td>\n",
       "      <td>...</td>\n",
       "      <td>0.752740</td>\n",
       "      <td>52.420910</td>\n",
       "      <td>-1.690215</td>\n",
       "      <td>36.524071</td>\n",
       "      <td>-0.408979</td>\n",
       "      <td>41.597103</td>\n",
       "      <td>-2.303523</td>\n",
       "      <td>55.062923</td>\n",
       "      <td>1.221291</td>\n",
       "      <td>46.936035</td>\n",
       "    </tr>\n",
       "    <tr>\n",
       "      <th>1</th>\n",
       "      <td>0.340914</td>\n",
       "      <td>0.094980</td>\n",
       "      <td>0.095948</td>\n",
       "      <td>0.002373</td>\n",
       "      <td>1530.176679</td>\n",
       "      <td>375850.073649</td>\n",
       "      <td>2039.036516</td>\n",
       "      <td>213843.755497</td>\n",
       "      <td>3550.522098</td>\n",
       "      <td>2.977893e+06</td>\n",
       "      <td>...</td>\n",
       "      <td>0.927998</td>\n",
       "      <td>55.356403</td>\n",
       "      <td>-0.731125</td>\n",
       "      <td>60.314529</td>\n",
       "      <td>0.295073</td>\n",
       "      <td>48.120598</td>\n",
       "      <td>-0.283518</td>\n",
       "      <td>51.106190</td>\n",
       "      <td>0.531217</td>\n",
       "      <td>45.786282</td>\n",
       "    </tr>\n",
       "    <tr>\n",
       "      <th>2</th>\n",
       "      <td>0.363637</td>\n",
       "      <td>0.085275</td>\n",
       "      <td>0.175570</td>\n",
       "      <td>0.002746</td>\n",
       "      <td>1552.811865</td>\n",
       "      <td>156467.643368</td>\n",
       "      <td>1747.702312</td>\n",
       "      <td>76254.192257</td>\n",
       "      <td>3042.260232</td>\n",
       "      <td>7.840345e+05</td>\n",
       "      <td>...</td>\n",
       "      <td>2.451690</td>\n",
       "      <td>40.598766</td>\n",
       "      <td>-7.729093</td>\n",
       "      <td>47.639427</td>\n",
       "      <td>-1.816407</td>\n",
       "      <td>52.382141</td>\n",
       "      <td>-3.439720</td>\n",
       "      <td>46.639660</td>\n",
       "      <td>-2.231258</td>\n",
       "      <td>30.573025</td>\n",
       "    </tr>\n",
       "    <tr>\n",
       "      <th>3</th>\n",
       "      <td>0.404785</td>\n",
       "      <td>0.093999</td>\n",
       "      <td>0.141093</td>\n",
       "      <td>0.006346</td>\n",
       "      <td>1070.106615</td>\n",
       "      <td>184355.942417</td>\n",
       "      <td>1596.412872</td>\n",
       "      <td>166441.494769</td>\n",
       "      <td>2184.745799</td>\n",
       "      <td>1.493194e+06</td>\n",
       "      <td>...</td>\n",
       "      <td>0.780874</td>\n",
       "      <td>44.427753</td>\n",
       "      <td>-3.319597</td>\n",
       "      <td>50.206673</td>\n",
       "      <td>0.636965</td>\n",
       "      <td>37.319130</td>\n",
       "      <td>-0.619121</td>\n",
       "      <td>37.259739</td>\n",
       "      <td>-3.407448</td>\n",
       "      <td>31.949339</td>\n",
       "    </tr>\n",
       "    <tr>\n",
       "      <th>4</th>\n",
       "      <td>0.308526</td>\n",
       "      <td>0.087841</td>\n",
       "      <td>0.091529</td>\n",
       "      <td>0.002303</td>\n",
       "      <td>1835.004266</td>\n",
       "      <td>343399.939274</td>\n",
       "      <td>1748.172116</td>\n",
       "      <td>88445.209036</td>\n",
       "      <td>3579.757627</td>\n",
       "      <td>1.572978e+06</td>\n",
       "      <td>...</td>\n",
       "      <td>-4.520576</td>\n",
       "      <td>86.099236</td>\n",
       "      <td>-5.454034</td>\n",
       "      <td>75.269707</td>\n",
       "      <td>-0.916874</td>\n",
       "      <td>53.613918</td>\n",
       "      <td>-4.404827</td>\n",
       "      <td>62.910812</td>\n",
       "      <td>-11.703234</td>\n",
       "      <td>55.195160</td>\n",
       "    </tr>\n",
       "  </tbody>\n",
       "</table>\n",
       "<p>5 rows × 57 columns</p>\n",
       "</div>"
      ],
      "text/plain": [
       "   chroma_stft_mean  chroma_stft_var  rms_mean   rms_var  \\\n",
       "0          0.350088         0.088757  0.130228  0.002827   \n",
       "1          0.340914         0.094980  0.095948  0.002373   \n",
       "2          0.363637         0.085275  0.175570  0.002746   \n",
       "3          0.404785         0.093999  0.141093  0.006346   \n",
       "4          0.308526         0.087841  0.091529  0.002303   \n",
       "\n",
       "   spectral_centroid_mean  spectral_centroid_var  spectral_bandwidth_mean  \\\n",
       "0             1784.165850          129774.064525              2002.449060   \n",
       "1             1530.176679          375850.073649              2039.036516   \n",
       "2             1552.811865          156467.643368              1747.702312   \n",
       "3             1070.106615          184355.942417              1596.412872   \n",
       "4             1835.004266          343399.939274              1748.172116   \n",
       "\n",
       "   spectral_bandwidth_var  rolloff_mean   rolloff_var  ...  mfcc16_mean  \\\n",
       "0            85882.761315   3805.839606  9.015054e+05  ...     0.752740   \n",
       "1           213843.755497   3550.522098  2.977893e+06  ...     0.927998   \n",
       "2            76254.192257   3042.260232  7.840345e+05  ...     2.451690   \n",
       "3           166441.494769   2184.745799  1.493194e+06  ...     0.780874   \n",
       "4            88445.209036   3579.757627  1.572978e+06  ...    -4.520576   \n",
       "\n",
       "   mfcc16_var  mfcc17_mean  mfcc17_var  mfcc18_mean  mfcc18_var  mfcc19_mean  \\\n",
       "0   52.420910    -1.690215   36.524071    -0.408979   41.597103    -2.303523   \n",
       "1   55.356403    -0.731125   60.314529     0.295073   48.120598    -0.283518   \n",
       "2   40.598766    -7.729093   47.639427    -1.816407   52.382141    -3.439720   \n",
       "3   44.427753    -3.319597   50.206673     0.636965   37.319130    -0.619121   \n",
       "4   86.099236    -5.454034   75.269707    -0.916874   53.613918    -4.404827   \n",
       "\n",
       "   mfcc19_var  mfcc20_mean  mfcc20_var  \n",
       "0   55.062923     1.221291   46.936035  \n",
       "1   51.106190     0.531217   45.786282  \n",
       "2   46.639660    -2.231258   30.573025  \n",
       "3   37.259739    -3.407448   31.949339  \n",
       "4   62.910812   -11.703234   55.195160  \n",
       "\n",
       "[5 rows x 57 columns]"
      ]
     },
     "execution_count": 35,
     "metadata": {},
     "output_type": "execute_result"
    }
   ],
   "source": [
    "X.head()"
   ]
  },
  {
   "cell_type": "code",
   "execution_count": 36,
   "metadata": {},
   "outputs": [],
   "source": [
    "import numpy as np\n",
    "from tqdm import tqdm\n",
    "from sklearn.linear_model import LogisticRegression\n",
    "from sklearn.model_selection import train_test_split, cross_val_score\n",
    "from sklearn.pipeline import Pipeline\n",
    "from sklearn.metrics import accuracy_score\n",
    "from sklearn.preprocessing import StandardScaler\n",
    "import json"
   ]
  },
  {
   "cell_type": "code",
   "execution_count": 37,
   "metadata": {},
   "outputs": [
    {
     "data": {
      "text/plain": [
       "array([0.01      , 0.01627251, 0.02647945, 0.04308869, 0.0701161 ,\n",
       "       0.11409647, 0.18566355, 0.30212113, 0.49162679, 0.8       ])"
      ]
     },
     "execution_count": 37,
     "metadata": {},
     "output_type": "execute_result"
    }
   ],
   "source": [
    "n_train = np.logspace(-2, np.log10(0.8), 10)\n",
    "n_train"
   ]
  },
  {
   "cell_type": "markdown",
   "metadata": {},
   "source": [
    "Arguments:\n",
    "\n",
    "(X) Matrix of features\n",
    "\n",
    "(y) Array of targets\n",
    "\n",
    "(train_size) Size of the trainset, this trian set will be spllited into more partitions  "
   ]
  },
  {
   "cell_type": "code",
   "execution_count": 38,
   "metadata": {},
   "outputs": [],
   "source": [
    "def performanceOfTrainSizes(X, y):\n",
    "    pipeline = Pipeline([\n",
    "                            ('StandardScaler',  StandardScaler()),\n",
    "                            ('meu_classificador', LogisticRegression(max_iter=10000))\n",
    "                        ])\n",
    "\n",
    "    n_train = np.logspace(-2, np.log10(0.8), 10)\n",
    "    n_train = [int(n*X.shape[0]) for n in n_train]\n",
    "    n_train = [n for n in n_train if n > len(set(y))]\n",
    "    acc_mean = []\n",
    "    acc_std = []\n",
    "    acc_mean_overfit = []\n",
    "    acc_std_overfit = []\n",
    "    \n",
    "    i = 0\n",
    "    for n in n_train:\n",
    "\n",
    "        this_acc = []\n",
    "        this_acc_overfit = []\n",
    "        for k in tqdm(range(50)):\n",
    "            X_train, X_test, y_train, y_test = train_test_split(X, y, train_size=n, stratify=y)\n",
    "            \n",
    "            # accurracy\n",
    "            pipeline.fit(X_train,y_train)\n",
    "            y_pred = pipeline.predict(X_test)\n",
    "            acc = accuracy_score(y_pred,y_test)\n",
    "            # acurracy overfit\n",
    "\n",
    "            y_pred_overfit = pipeline.predict(X_train)\n",
    "            acc_overfit = accuracy_score(y_pred_overfit,y_train)\n",
    "\n",
    "            this_acc_overfit.append(acc_overfit)\n",
    "            this_acc.append(acc)\n",
    "        \n",
    "        this_acc_overfit = np.array(this_acc_overfit)\n",
    "        this_acc = np.array(this_acc)\n",
    "        acc_mean.append(this_acc.mean())\n",
    "        acc_std.append(this_acc.std())\n",
    "        acc_mean_overfit.append(this_acc_overfit.mean())\n",
    "        acc_std_overfit.append(this_acc_overfit.std())\n",
    "        i += 1\n",
    "    return acc_mean, acc_mean_overfit, acc_std, acc_std_overfit, n_train"
   ]
  },
  {
   "cell_type": "code",
   "execution_count": 39,
   "metadata": {},
   "outputs": [],
   "source": [
    "def saveMetricsStorage(storageJsonPath ,datasetName, acc_mean, acc_mean_overfit, acc_std, acc_std_overfit, n_train,datasetSize):\n",
    "    with open(storageJsonPath, 'r') as f:\n",
    "        storage = json.load(f)\n",
    "    \n",
    "    storage[datasetName] = {\n",
    "        'acc_mean': acc_mean,\n",
    "        'acc_mean_overfit': acc_mean_overfit,\n",
    "        'acc_std': acc_std,\n",
    "        'acc_std_overfit': acc_std_overfit,\n",
    "        'n_train_': n_train,\n",
    "        'datasetSize': datasetSize\n",
    "    }\n",
    "    \n",
    "    with open(storageJsonPath, 'w') as f:\n",
    "        json.dump(storage, f)"
   ]
  },
  {
   "cell_type": "code",
   "execution_count": 40,
   "metadata": {},
   "outputs": [
    {
     "name": "stderr",
     "output_type": "stream",
     "text": [
      "100%|██████████| 50/50 [00:01<00:00, 30.99it/s]\n",
      "100%|██████████| 50/50 [00:01<00:00, 32.34it/s]\n",
      "100%|██████████| 50/50 [00:01<00:00, 30.19it/s]\n",
      "100%|██████████| 50/50 [00:01<00:00, 28.91it/s]\n",
      "100%|██████████| 50/50 [00:01<00:00, 33.09it/s]\n",
      "100%|██████████| 50/50 [00:02<00:00, 22.15it/s]\n",
      "100%|██████████| 50/50 [00:02<00:00, 18.32it/s]\n",
      "100%|██████████| 50/50 [00:09<00:00,  5.32it/s]\n",
      "100%|██████████| 50/50 [00:24<00:00,  2.02it/s]\n"
     ]
    }
   ],
   "source": [
    "\n",
    "acc_mean, acc_mean_overfit , acc_std, acc_std_overfit ,n_train = performanceOfTrainSizes(X, y)\n"
   ]
  },
  {
   "cell_type": "code",
   "execution_count": 41,
   "metadata": {},
   "outputs": [],
   "source": [
    "saveMetricsStorage('../data/metrics.json', 'gtzan', acc_mean, acc_mean_overfit , acc_std, acc_std_overfit ,n_train,len(y))"
   ]
  },
  {
   "cell_type": "code",
   "execution_count": 42,
   "metadata": {},
   "outputs": [
    {
     "data": {
      "text/plain": [
       "[0.3441505595116988,\n",
       " 0.39773895169578616,\n",
       " 0.4648117154811716,\n",
       " 0.5192034445640473,\n",
       " 0.5697516930022574,\n",
       " 0.6078624078624079,\n",
       " 0.6482808022922637,\n",
       " 0.6817716535433069,\n",
       " 0.7053]"
      ]
     },
     "execution_count": 42,
     "metadata": {},
     "output_type": "execute_result"
    }
   ],
   "source": [
    "acc_mean"
   ]
  },
  {
   "cell_type": "code",
   "execution_count": 43,
   "metadata": {},
   "outputs": [
    {
     "data": {
      "text/plain": [
       "[1.0,\n",
       " 1.0,\n",
       " 1.0,\n",
       " 1.0,\n",
       " 0.9994690265486725,\n",
       " 0.9955675675675676,\n",
       " 0.9744850498338871,\n",
       " 0.934989816700611,\n",
       " 0.8882102628285358]"
      ]
     },
     "execution_count": 43,
     "metadata": {},
     "output_type": "execute_result"
    }
   ],
   "source": [
    "acc_mean_overfit "
   ]
  },
  {
   "cell_type": "code",
   "execution_count": 44,
   "metadata": {},
   "outputs": [
    {
     "data": {
      "text/plain": [
       "[0.04233177787626911,\n",
       " 0.032924568542367715,\n",
       " 0.029706936177209806,\n",
       " 0.0228898039897259,\n",
       " 0.021228565138616252,\n",
       " 0.016109769010108608,\n",
       " 0.017661334219542905,\n",
       " 0.015164432396895685,\n",
       " 0.03023921295272083]"
      ]
     },
     "execution_count": 44,
     "metadata": {},
     "output_type": "execute_result"
    }
   ],
   "source": [
    "acc_std"
   ]
  },
  {
   "cell_type": "code",
   "execution_count": 45,
   "metadata": {},
   "outputs": [
    {
     "data": {
      "text/plain": [
       "[0.0,\n",
       " 0.0,\n",
       " 0.0,\n",
       " 0.0,\n",
       " 0.0027476415391610703,\n",
       " 0.006085823976232451,\n",
       " 0.01043083558973576,\n",
       " 0.012580163021881686,\n",
       " 0.009440612992603098]"
      ]
     },
     "execution_count": 45,
     "metadata": {},
     "output_type": "execute_result"
    }
   ],
   "source": [
    "acc_std_overfit"
   ]
  },
  {
   "cell_type": "code",
   "execution_count": 46,
   "metadata": {},
   "outputs": [
    {
     "data": {
      "text/plain": [
       "[16, 26, 43, 70, 113, 185, 301, 491, 799]"
      ]
     },
     "execution_count": 46,
     "metadata": {},
     "output_type": "execute_result"
    }
   ],
   "source": [
    "n_train"
   ]
  }
 ],
 "metadata": {
  "kernelspec": {
   "display_name": "env",
   "language": "python",
   "name": "python3"
  },
  "language_info": {
   "codemirror_mode": {
    "name": "ipython",
    "version": 3
   },
   "file_extension": ".py",
   "mimetype": "text/x-python",
   "name": "python",
   "nbconvert_exporter": "python",
   "pygments_lexer": "ipython3",
   "version": "3.11.3"
  },
  "orig_nbformat": 4
 },
 "nbformat": 4,
 "nbformat_minor": 2
}
