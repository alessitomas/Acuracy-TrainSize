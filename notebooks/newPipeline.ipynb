{
 "cells": [
  {
   "cell_type": "markdown",
   "metadata": {},
   "source": [
    "# Evaluates the performance of Logistic Regression Classifier with different training sizes of diferrent datasets"
   ]
  },
  {
   "cell_type": "code",
   "execution_count": 91,
   "metadata": {},
   "outputs": [],
   "source": [
    "import pandas as pd\n"
   ]
  },
  {
   "cell_type": "code",
   "execution_count": 92,
   "metadata": {},
   "outputs": [],
   "source": [
    "# GTZAN_dataset = pd.read_csv(\"../data/hand-crafted/GTZAN_handcrafted_features.csv\")"
   ]
  },
  {
   "cell_type": "code",
   "execution_count": 93,
   "metadata": {},
   "outputs": [],
   "source": [
    "# X = GTZAN_dataset.drop(\"label\", axis=1)\n",
    "# y = GTZAN_dataset[\"label\"]"
   ]
  },
  {
   "cell_type": "code",
   "execution_count": 94,
   "metadata": {},
   "outputs": [],
   "source": [
    "# GTZAN_dataset = pd.read_csv(\"../data/gtzan/features_30_sec.csv\")\n",
    "# GTZAN_dataset.drop(['filename','length'], axis =1, inplace = True)\n",
    "# X = GTZAN_dataset.drop(['label'], axis=1)\n",
    "# y = GTZAN_dataset['label']"
   ]
  },
  {
   "cell_type": "code",
   "execution_count": 95,
   "metadata": {},
   "outputs": [
    {
     "data": {
      "text/html": [
       "<div>\n",
       "<style scoped>\n",
       "    .dataframe tbody tr th:only-of-type {\n",
       "        vertical-align: middle;\n",
       "    }\n",
       "\n",
       "    .dataframe tbody tr th {\n",
       "        vertical-align: top;\n",
       "    }\n",
       "\n",
       "    .dataframe thead th {\n",
       "        text-align: right;\n",
       "    }\n",
       "</style>\n",
       "<table border=\"1\" class=\"dataframe\">\n",
       "  <thead>\n",
       "    <tr style=\"text-align: right;\">\n",
       "      <th></th>\n",
       "      <th>feature_1</th>\n",
       "      <th>feature_2</th>\n",
       "      <th>feature_3</th>\n",
       "      <th>feature_4</th>\n",
       "      <th>feature_5</th>\n",
       "      <th>feature_6</th>\n",
       "      <th>feature_7</th>\n",
       "      <th>feature_8</th>\n",
       "      <th>feature_9</th>\n",
       "      <th>feature_10</th>\n",
       "      <th>...</th>\n",
       "      <th>feature_270</th>\n",
       "      <th>feature_271</th>\n",
       "      <th>feature_272</th>\n",
       "      <th>feature_273</th>\n",
       "      <th>feature_274</th>\n",
       "      <th>feature_275</th>\n",
       "      <th>feature_276</th>\n",
       "      <th>track_id</th>\n",
       "      <th>subset</th>\n",
       "      <th>genre_top</th>\n",
       "    </tr>\n",
       "  </thead>\n",
       "  <tbody>\n",
       "    <tr>\n",
       "      <th>0</th>\n",
       "      <td>-287.659267</td>\n",
       "      <td>136.153265</td>\n",
       "      <td>-1.044785</td>\n",
       "      <td>46.998524</td>\n",
       "      <td>-4.480115</td>\n",
       "      <td>24.553571</td>\n",
       "      <td>-2.639639</td>\n",
       "      <td>13.259387</td>\n",
       "      <td>7.618672</td>\n",
       "      <td>-2.094758</td>\n",
       "      <td>...</td>\n",
       "      <td>1.495546</td>\n",
       "      <td>1.251119</td>\n",
       "      <td>1.494395</td>\n",
       "      <td>1.862157</td>\n",
       "      <td>214.978746</td>\n",
       "      <td>428.135264</td>\n",
       "      <td>604.615394</td>\n",
       "      <td>135054</td>\n",
       "      <td>small</td>\n",
       "      <td>Experimental</td>\n",
       "    </tr>\n",
       "    <tr>\n",
       "      <th>1</th>\n",
       "      <td>-179.123534</td>\n",
       "      <td>112.503843</td>\n",
       "      <td>32.167569</td>\n",
       "      <td>30.893534</td>\n",
       "      <td>3.766597</td>\n",
       "      <td>6.532825</td>\n",
       "      <td>3.143919</td>\n",
       "      <td>3.558495</td>\n",
       "      <td>-9.535322</td>\n",
       "      <td>10.881085</td>\n",
       "      <td>...</td>\n",
       "      <td>4.128862</td>\n",
       "      <td>3.573876</td>\n",
       "      <td>5.408616</td>\n",
       "      <td>3.928263</td>\n",
       "      <td>401.518601</td>\n",
       "      <td>802.062530</td>\n",
       "      <td>880.749257</td>\n",
       "      <td>135040</td>\n",
       "      <td>medium</td>\n",
       "      <td>Folk</td>\n",
       "    </tr>\n",
       "    <tr>\n",
       "      <th>2</th>\n",
       "      <td>-99.555557</td>\n",
       "      <td>99.983701</td>\n",
       "      <td>20.608591</td>\n",
       "      <td>21.318870</td>\n",
       "      <td>15.662856</td>\n",
       "      <td>5.197851</td>\n",
       "      <td>-1.226076</td>\n",
       "      <td>0.869772</td>\n",
       "      <td>-8.267710</td>\n",
       "      <td>-1.382700</td>\n",
       "      <td>...</td>\n",
       "      <td>4.880134</td>\n",
       "      <td>5.931302</td>\n",
       "      <td>7.048175</td>\n",
       "      <td>5.393518</td>\n",
       "      <td>517.643590</td>\n",
       "      <td>1036.383325</td>\n",
       "      <td>1104.245792</td>\n",
       "      <td>135336</td>\n",
       "      <td>small</td>\n",
       "      <td>Pop</td>\n",
       "    </tr>\n",
       "    <tr>\n",
       "      <th>3</th>\n",
       "      <td>-108.875410</td>\n",
       "      <td>87.945286</td>\n",
       "      <td>-9.532563</td>\n",
       "      <td>-6.515012</td>\n",
       "      <td>-5.952966</td>\n",
       "      <td>-21.799541</td>\n",
       "      <td>-21.075214</td>\n",
       "      <td>-8.817229</td>\n",
       "      <td>-11.907607</td>\n",
       "      <td>-2.482180</td>\n",
       "      <td>...</td>\n",
       "      <td>5.534257</td>\n",
       "      <td>8.000605</td>\n",
       "      <td>6.076923</td>\n",
       "      <td>4.345370</td>\n",
       "      <td>497.781151</td>\n",
       "      <td>995.472194</td>\n",
       "      <td>1187.864241</td>\n",
       "      <td>135337</td>\n",
       "      <td>small</td>\n",
       "      <td>Pop</td>\n",
       "    </tr>\n",
       "    <tr>\n",
       "      <th>4</th>\n",
       "      <td>-150.223013</td>\n",
       "      <td>99.786985</td>\n",
       "      <td>18.814489</td>\n",
       "      <td>52.378629</td>\n",
       "      <td>17.220552</td>\n",
       "      <td>15.986250</td>\n",
       "      <td>3.212827</td>\n",
       "      <td>1.292879</td>\n",
       "      <td>-12.196205</td>\n",
       "      <td>2.725307</td>\n",
       "      <td>...</td>\n",
       "      <td>3.980877</td>\n",
       "      <td>5.231651</td>\n",
       "      <td>4.868610</td>\n",
       "      <td>4.262915</td>\n",
       "      <td>401.210943</td>\n",
       "      <td>800.559865</td>\n",
       "      <td>985.653409</td>\n",
       "      <td>135041</td>\n",
       "      <td>medium</td>\n",
       "      <td>Folk</td>\n",
       "    </tr>\n",
       "  </tbody>\n",
       "</table>\n",
       "<p>5 rows × 279 columns</p>\n",
       "</div>"
      ],
      "text/plain": [
       "    feature_1   feature_2  feature_3  feature_4  feature_5  feature_6  \\\n",
       "0 -287.659267  136.153265  -1.044785  46.998524  -4.480115  24.553571   \n",
       "1 -179.123534  112.503843  32.167569  30.893534   3.766597   6.532825   \n",
       "2  -99.555557   99.983701  20.608591  21.318870  15.662856   5.197851   \n",
       "3 -108.875410   87.945286  -9.532563  -6.515012  -5.952966 -21.799541   \n",
       "4 -150.223013   99.786985  18.814489  52.378629  17.220552  15.986250   \n",
       "\n",
       "   feature_7  feature_8  feature_9  feature_10  ...  feature_270  feature_271  \\\n",
       "0  -2.639639  13.259387   7.618672   -2.094758  ...     1.495546     1.251119   \n",
       "1   3.143919   3.558495  -9.535322   10.881085  ...     4.128862     3.573876   \n",
       "2  -1.226076   0.869772  -8.267710   -1.382700  ...     4.880134     5.931302   \n",
       "3 -21.075214  -8.817229 -11.907607   -2.482180  ...     5.534257     8.000605   \n",
       "4   3.212827   1.292879 -12.196205    2.725307  ...     3.980877     5.231651   \n",
       "\n",
       "   feature_272  feature_273  feature_274  feature_275  feature_276  track_id  \\\n",
       "0     1.494395     1.862157   214.978746   428.135264   604.615394    135054   \n",
       "1     5.408616     3.928263   401.518601   802.062530   880.749257    135040   \n",
       "2     7.048175     5.393518   517.643590  1036.383325  1104.245792    135336   \n",
       "3     6.076923     4.345370   497.781151   995.472194  1187.864241    135337   \n",
       "4     4.868610     4.262915   401.210943   800.559865   985.653409    135041   \n",
       "\n",
       "   subset     genre_top  \n",
       "0   small  Experimental  \n",
       "1  medium          Folk  \n",
       "2   small           Pop  \n",
       "3   small           Pop  \n",
       "4  medium          Folk  \n",
       "\n",
       "[5 rows x 279 columns]"
      ]
     },
     "execution_count": 95,
     "metadata": {},
     "output_type": "execute_result"
    }
   ],
   "source": [
    "fma = pd.read_csv('../data/hand-crafted/FMA-medium-handcrafted-label.csv')\n",
    "fma.head()"
   ]
  },
  {
   "cell_type": "code",
   "execution_count": 96,
   "metadata": {},
   "outputs": [],
   "source": [
    "X = fma.drop(['track_id','genre_top','subset'], axis=1)\n",
    "y = fma['genre_top']"
   ]
  },
  {
   "cell_type": "code",
   "execution_count": 97,
   "metadata": {},
   "outputs": [
    {
     "data": {
      "text/plain": [
       "0        Experimental\n",
       "1                Folk\n",
       "2                 Pop\n",
       "3                 Pop\n",
       "4                Folk\n",
       "             ...     \n",
       "20562            Rock\n",
       "20563         Hip-Hop\n",
       "20564            Rock\n",
       "20565         Hip-Hop\n",
       "20566            Rock\n",
       "Name: genre_top, Length: 20567, dtype: object"
      ]
     },
     "execution_count": 97,
     "metadata": {},
     "output_type": "execute_result"
    }
   ],
   "source": [
    "y"
   ]
  },
  {
   "cell_type": "code",
   "execution_count": 98,
   "metadata": {},
   "outputs": [
    {
     "data": {
      "text/html": [
       "<div>\n",
       "<style scoped>\n",
       "    .dataframe tbody tr th:only-of-type {\n",
       "        vertical-align: middle;\n",
       "    }\n",
       "\n",
       "    .dataframe tbody tr th {\n",
       "        vertical-align: top;\n",
       "    }\n",
       "\n",
       "    .dataframe thead th {\n",
       "        text-align: right;\n",
       "    }\n",
       "</style>\n",
       "<table border=\"1\" class=\"dataframe\">\n",
       "  <thead>\n",
       "    <tr style=\"text-align: right;\">\n",
       "      <th></th>\n",
       "      <th>feature_1</th>\n",
       "      <th>feature_2</th>\n",
       "      <th>feature_3</th>\n",
       "      <th>feature_4</th>\n",
       "      <th>feature_5</th>\n",
       "      <th>feature_6</th>\n",
       "      <th>feature_7</th>\n",
       "      <th>feature_8</th>\n",
       "      <th>feature_9</th>\n",
       "      <th>feature_10</th>\n",
       "      <th>...</th>\n",
       "      <th>feature_267</th>\n",
       "      <th>feature_268</th>\n",
       "      <th>feature_269</th>\n",
       "      <th>feature_270</th>\n",
       "      <th>feature_271</th>\n",
       "      <th>feature_272</th>\n",
       "      <th>feature_273</th>\n",
       "      <th>feature_274</th>\n",
       "      <th>feature_275</th>\n",
       "      <th>feature_276</th>\n",
       "    </tr>\n",
       "  </thead>\n",
       "  <tbody>\n",
       "    <tr>\n",
       "      <th>0</th>\n",
       "      <td>-287.659267</td>\n",
       "      <td>136.153265</td>\n",
       "      <td>-1.044785</td>\n",
       "      <td>46.998524</td>\n",
       "      <td>-4.480115</td>\n",
       "      <td>24.553571</td>\n",
       "      <td>-2.639639</td>\n",
       "      <td>13.259387</td>\n",
       "      <td>7.618672</td>\n",
       "      <td>-2.094758</td>\n",
       "      <td>...</td>\n",
       "      <td>1.606480</td>\n",
       "      <td>1.933978</td>\n",
       "      <td>1.807735</td>\n",
       "      <td>1.495546</td>\n",
       "      <td>1.251119</td>\n",
       "      <td>1.494395</td>\n",
       "      <td>1.862157</td>\n",
       "      <td>214.978746</td>\n",
       "      <td>428.135264</td>\n",
       "      <td>604.615394</td>\n",
       "    </tr>\n",
       "    <tr>\n",
       "      <th>1</th>\n",
       "      <td>-179.123534</td>\n",
       "      <td>112.503843</td>\n",
       "      <td>32.167569</td>\n",
       "      <td>30.893534</td>\n",
       "      <td>3.766597</td>\n",
       "      <td>6.532825</td>\n",
       "      <td>3.143919</td>\n",
       "      <td>3.558495</td>\n",
       "      <td>-9.535322</td>\n",
       "      <td>10.881085</td>\n",
       "      <td>...</td>\n",
       "      <td>6.502058</td>\n",
       "      <td>4.859566</td>\n",
       "      <td>3.853364</td>\n",
       "      <td>4.128862</td>\n",
       "      <td>3.573876</td>\n",
       "      <td>5.408616</td>\n",
       "      <td>3.928263</td>\n",
       "      <td>401.518601</td>\n",
       "      <td>802.062530</td>\n",
       "      <td>880.749257</td>\n",
       "    </tr>\n",
       "    <tr>\n",
       "      <th>2</th>\n",
       "      <td>-99.555557</td>\n",
       "      <td>99.983701</td>\n",
       "      <td>20.608591</td>\n",
       "      <td>21.318870</td>\n",
       "      <td>15.662856</td>\n",
       "      <td>5.197851</td>\n",
       "      <td>-1.226076</td>\n",
       "      <td>0.869772</td>\n",
       "      <td>-8.267710</td>\n",
       "      <td>-1.382700</td>\n",
       "      <td>...</td>\n",
       "      <td>8.062387</td>\n",
       "      <td>7.598634</td>\n",
       "      <td>5.926319</td>\n",
       "      <td>4.880134</td>\n",
       "      <td>5.931302</td>\n",
       "      <td>7.048175</td>\n",
       "      <td>5.393518</td>\n",
       "      <td>517.643590</td>\n",
       "      <td>1036.383325</td>\n",
       "      <td>1104.245792</td>\n",
       "    </tr>\n",
       "    <tr>\n",
       "      <th>3</th>\n",
       "      <td>-108.875410</td>\n",
       "      <td>87.945286</td>\n",
       "      <td>-9.532563</td>\n",
       "      <td>-6.515012</td>\n",
       "      <td>-5.952966</td>\n",
       "      <td>-21.799541</td>\n",
       "      <td>-21.075214</td>\n",
       "      <td>-8.817229</td>\n",
       "      <td>-11.907607</td>\n",
       "      <td>-2.482180</td>\n",
       "      <td>...</td>\n",
       "      <td>8.843665</td>\n",
       "      <td>6.971639</td>\n",
       "      <td>4.917969</td>\n",
       "      <td>5.534257</td>\n",
       "      <td>8.000605</td>\n",
       "      <td>6.076923</td>\n",
       "      <td>4.345370</td>\n",
       "      <td>497.781151</td>\n",
       "      <td>995.472194</td>\n",
       "      <td>1187.864241</td>\n",
       "    </tr>\n",
       "    <tr>\n",
       "      <th>4</th>\n",
       "      <td>-150.223013</td>\n",
       "      <td>99.786985</td>\n",
       "      <td>18.814489</td>\n",
       "      <td>52.378629</td>\n",
       "      <td>17.220552</td>\n",
       "      <td>15.986250</td>\n",
       "      <td>3.212827</td>\n",
       "      <td>1.292879</td>\n",
       "      <td>-12.196205</td>\n",
       "      <td>2.725307</td>\n",
       "      <td>...</td>\n",
       "      <td>5.597839</td>\n",
       "      <td>5.322011</td>\n",
       "      <td>5.433737</td>\n",
       "      <td>3.980877</td>\n",
       "      <td>5.231651</td>\n",
       "      <td>4.868610</td>\n",
       "      <td>4.262915</td>\n",
       "      <td>401.210943</td>\n",
       "      <td>800.559865</td>\n",
       "      <td>985.653409</td>\n",
       "    </tr>\n",
       "  </tbody>\n",
       "</table>\n",
       "<p>5 rows × 276 columns</p>\n",
       "</div>"
      ],
      "text/plain": [
       "    feature_1   feature_2  feature_3  feature_4  feature_5  feature_6  \\\n",
       "0 -287.659267  136.153265  -1.044785  46.998524  -4.480115  24.553571   \n",
       "1 -179.123534  112.503843  32.167569  30.893534   3.766597   6.532825   \n",
       "2  -99.555557   99.983701  20.608591  21.318870  15.662856   5.197851   \n",
       "3 -108.875410   87.945286  -9.532563  -6.515012  -5.952966 -21.799541   \n",
       "4 -150.223013   99.786985  18.814489  52.378629  17.220552  15.986250   \n",
       "\n",
       "   feature_7  feature_8  feature_9  feature_10  ...  feature_267  feature_268  \\\n",
       "0  -2.639639  13.259387   7.618672   -2.094758  ...     1.606480     1.933978   \n",
       "1   3.143919   3.558495  -9.535322   10.881085  ...     6.502058     4.859566   \n",
       "2  -1.226076   0.869772  -8.267710   -1.382700  ...     8.062387     7.598634   \n",
       "3 -21.075214  -8.817229 -11.907607   -2.482180  ...     8.843665     6.971639   \n",
       "4   3.212827   1.292879 -12.196205    2.725307  ...     5.597839     5.322011   \n",
       "\n",
       "   feature_269  feature_270  feature_271  feature_272  feature_273  \\\n",
       "0     1.807735     1.495546     1.251119     1.494395     1.862157   \n",
       "1     3.853364     4.128862     3.573876     5.408616     3.928263   \n",
       "2     5.926319     4.880134     5.931302     7.048175     5.393518   \n",
       "3     4.917969     5.534257     8.000605     6.076923     4.345370   \n",
       "4     5.433737     3.980877     5.231651     4.868610     4.262915   \n",
       "\n",
       "   feature_274  feature_275  feature_276  \n",
       "0   214.978746   428.135264   604.615394  \n",
       "1   401.518601   802.062530   880.749257  \n",
       "2   517.643590  1036.383325  1104.245792  \n",
       "3   497.781151   995.472194  1187.864241  \n",
       "4   401.210943   800.559865   985.653409  \n",
       "\n",
       "[5 rows x 276 columns]"
      ]
     },
     "execution_count": 98,
     "metadata": {},
     "output_type": "execute_result"
    }
   ],
   "source": [
    "X.head()"
   ]
  },
  {
   "cell_type": "code",
   "execution_count": 99,
   "metadata": {},
   "outputs": [],
   "source": [
    "import numpy as np\n",
    "from tqdm import tqdm\n",
    "from sklearn.linear_model import LogisticRegression\n",
    "from sklearn.model_selection import train_test_split, cross_val_score\n",
    "from sklearn.pipeline import Pipeline\n",
    "from sklearn.metrics import accuracy_score\n",
    "from sklearn.preprocessing import StandardScaler\n",
    "import json"
   ]
  },
  {
   "cell_type": "code",
   "execution_count": 100,
   "metadata": {},
   "outputs": [
    {
     "data": {
      "text/plain": [
       "array([0.01      , 0.01627251, 0.02647945, 0.04308869, 0.0701161 ,\n",
       "       0.11409647, 0.18566355, 0.30212113, 0.49162679, 0.8       ])"
      ]
     },
     "execution_count": 100,
     "metadata": {},
     "output_type": "execute_result"
    }
   ],
   "source": [
    "n_train = np.logspace(-2, np.log10(0.8), 10)\n",
    "n_train"
   ]
  },
  {
   "cell_type": "markdown",
   "metadata": {},
   "source": [
    "Arguments:\n",
    "\n",
    "(X) Matrix of features\n",
    "\n",
    "(y) Array of targets\n",
    "\n",
    "(train_size) Size of the trainset, this trian set will be spllited into more partitions  "
   ]
  },
  {
   "cell_type": "code",
   "execution_count": 101,
   "metadata": {},
   "outputs": [],
   "source": [
    "def performanceOfTrainSizes(X, y,):\n",
    "    pipeline = Pipeline([\n",
    "                            ('StandardScaler',  StandardScaler()),\n",
    "                            ('meu_classificador', LogisticRegression(max_iter=10000))\n",
    "                        ])\n",
    "\n",
    "    n_train = np.logspace(-2, np.log10(0.8), 10)\n",
    "    n_train = [int(n*X.shape[0]) for n in n_train]\n",
    "    n_train = [n for n in n_train if n > len(set(y))]\n",
    "    acc_mean = []\n",
    "    acc_std = []\n",
    "    acc_mean_overfit = []\n",
    "    acc_std_overfit = []\n",
    "    \n",
    "    for n in n_train:\n",
    "        this_acc = []\n",
    "        this_acc_overfit = []\n",
    "        for k in tqdm(range(50)):\n",
    "            X_train, X_test, y_train, y_test = train_test_split(X, y, train_size=n, stratify=y)\n",
    "            \n",
    "            # accurracy\n",
    "            pipeline.fit(X_train,y_train)\n",
    "            y_pred = pipeline.predict(X_test)\n",
    "            acc = accuracy_score(y_pred,y_test)\n",
    "            # acurracy overfit\n",
    "\n",
    "            y_pred_overfit = pipeline.predict(X_train)\n",
    "            acc_overfit = accuracy_score(y_pred_overfit,y_train)\n",
    "\n",
    "            this_acc_overfit.append(acc_overfit)\n",
    "            this_acc.append(acc)\n",
    "        \n",
    "        this_acc_overfit = np.array(this_acc_overfit)\n",
    "        this_acc = np.array(this_acc)\n",
    "        acc_mean.append(this_acc.mean())\n",
    "        acc_std.append(this_acc.std())\n",
    "        acc_mean_overfit.append(this_acc_overfit.mean())\n",
    "        acc_std_overfit.append(this_acc_overfit.std())\n",
    "    return acc_mean, acc_mean_overfit, acc_std, acc_std_overfit, n_train"
   ]
  },
  {
   "cell_type": "code",
   "execution_count": 102,
   "metadata": {},
   "outputs": [],
   "source": [
    "def saveMetricsStorage(storageJsonPath ,datasetName, acc_mean, acc_mean_overfit, acc_std, acc_std_overfit, n_train,datasetSize):\n",
    "    with open(storageJsonPath, 'r') as f:\n",
    "        storage = json.load(f)\n",
    "    \n",
    "    storage[datasetName] = {\n",
    "        'acc_mean': acc_mean,\n",
    "        'acc_mean_overfit': acc_mean_overfit,\n",
    "        'acc_std': acc_std,\n",
    "        'acc_std_overfit': acc_std_overfit,\n",
    "        'n_train_': n_train,\n",
    "        'datasetSize': datasetSize\n",
    "    }\n",
    "    \n",
    "    with open(storageJsonPath, 'w') as f:\n",
    "        json.dump(storage, f)"
   ]
  },
  {
   "cell_type": "code",
   "execution_count": 103,
   "metadata": {},
   "outputs": [
    {
     "name": "stderr",
     "output_type": "stream",
     "text": [
      "100%|██████████| 50/50 [01:04<00:00,  1.29s/it]\n",
      "100%|██████████| 50/50 [00:58<00:00,  1.17s/it]\n",
      "100%|██████████| 50/50 [02:01<00:00,  2.43s/it]\n",
      "100%|██████████| 50/50 [03:35<00:00,  4.31s/it]\n",
      "100%|██████████| 50/50 [04:35<00:00,  5.51s/it]\n",
      "100%|██████████| 50/50 [05:07<00:00,  6.14s/it]\n",
      "100%|██████████| 50/50 [07:56<00:00,  9.53s/it]\n",
      "100%|██████████| 50/50 [10:56<00:00, 13.13s/it]\n",
      "100%|██████████| 50/50 [32:30<00:00, 39.01s/it]\n",
      "100%|██████████| 50/50 [1:02:11<00:00, 74.63s/it]\n"
     ]
    }
   ],
   "source": [
    "\n",
    "acc_mean, acc_mean_overfit , acc_std, acc_std_overfit ,n_train = performanceOfTrainSizes(X, y)\n"
   ]
  },
  {
   "cell_type": "code",
   "execution_count": 104,
   "metadata": {},
   "outputs": [],
   "source": [
    "saveMetricsStorage('../data/newMetrics.json', 'FMA-medium-handcrafted', acc_mean, acc_mean_overfit , acc_std, acc_std_overfit ,n_train,len(y))"
   ]
  },
  {
   "cell_type": "code",
   "execution_count": 105,
   "metadata": {},
   "outputs": [
    {
     "data": {
      "text/plain": [
       "[0.4681121697279246,\n",
       " 0.47553897098799,\n",
       " 0.481570194276582,\n",
       " 0.49527361414562265,\n",
       " 0.5199320261437907,\n",
       " 0.5479973656769661,\n",
       " 0.5733106454116663,\n",
       " 0.5916427476661557,\n",
       " 0.6065952563121653,\n",
       " 0.6187311618862421]"
      ]
     },
     "execution_count": 105,
     "metadata": {},
     "output_type": "execute_result"
    }
   ],
   "source": [
    "acc_mean"
   ]
  },
  {
   "cell_type": "code",
   "execution_count": 106,
   "metadata": {},
   "outputs": [
    {
     "data": {
      "text/plain": [
       "[1.0,\n",
       " 0.9992215568862275,\n",
       " 0.9874632352941177,\n",
       " 0.9341309255079007,\n",
       " 0.8453259361997225,\n",
       " 0.7690792838874682,\n",
       " 0.7211000523834467,\n",
       " 0.6874585546434895,\n",
       " 0.666849965384235,\n",
       " 0.6547134261228955]"
      ]
     },
     "execution_count": 106,
     "metadata": {},
     "output_type": "execute_result"
    }
   ],
   "source": [
    "acc_mean_overfit "
   ]
  },
  {
   "cell_type": "code",
   "execution_count": 107,
   "metadata": {},
   "outputs": [
    {
     "data": {
      "text/plain": [
       "[0.015483059730846653,\n",
       " 0.010296252809830786,\n",
       " 0.010786332865593731,\n",
       " 0.006405010381847788,\n",
       " 0.005600566298115206,\n",
       " 0.004769691671051535,\n",
       " 0.003332160360505768,\n",
       " 0.0037064714825993314,\n",
       " 0.0031872381222978596,\n",
       " 0.005238920980976349]"
      ]
     },
     "execution_count": 107,
     "metadata": {},
     "output_type": "execute_result"
    }
   ],
   "source": [
    "acc_std"
   ]
  },
  {
   "cell_type": "code",
   "execution_count": 108,
   "metadata": {},
   "outputs": [
    {
     "data": {
      "text/plain": [
       "[0.0,\n",
       " 0.0016734357619738996,\n",
       " 0.006137504008131253,\n",
       " 0.011573687255542382,\n",
       " 0.010985899153254864,\n",
       " 0.008219061803766269,\n",
       " 0.006528911088023263,\n",
       " 0.00426931043448937,\n",
       " 0.00377890432912159,\n",
       " 0.0018670195621600528]"
      ]
     },
     "execution_count": 108,
     "metadata": {},
     "output_type": "execute_result"
    }
   ],
   "source": [
    "acc_std_overfit"
   ]
  },
  {
   "cell_type": "code",
   "execution_count": 109,
   "metadata": {},
   "outputs": [
    {
     "data": {
      "text/plain": [
       "[205, 334, 544, 886, 1442, 2346, 3818, 6213, 10111, 16453]"
      ]
     },
     "execution_count": 109,
     "metadata": {},
     "output_type": "execute_result"
    }
   ],
   "source": [
    "n_train"
   ]
  }
 ],
 "metadata": {
  "kernelspec": {
   "display_name": "env",
   "language": "python",
   "name": "python3"
  },
  "language_info": {
   "codemirror_mode": {
    "name": "ipython",
    "version": 3
   },
   "file_extension": ".py",
   "mimetype": "text/x-python",
   "name": "python",
   "nbconvert_exporter": "python",
   "pygments_lexer": "ipython3",
   "version": "3.11.3"
  },
  "orig_nbformat": 4
 },
 "nbformat": 4,
 "nbformat_minor": 2
}
