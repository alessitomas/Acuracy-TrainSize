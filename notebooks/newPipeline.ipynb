{
 "cells": [
  {
   "cell_type": "markdown",
   "metadata": {},
   "source": [
    "# Evaluates the performance of Logistic Regression Classifier with different training sizes of diferrent datasets"
   ]
  },
  {
   "cell_type": "code",
   "execution_count": 26,
   "metadata": {},
   "outputs": [],
   "source": [
    "import pandas as pd\n"
   ]
  },
  {
   "cell_type": "code",
   "execution_count": 27,
   "metadata": {},
   "outputs": [],
   "source": [
    "# GTZAN_dataset = pd.read_csv(\"../data/gtzan/features_30_sec.csv\")\n",
    "# GTZAN_dataset.drop(['filename','length'], axis =1, inplace = True)\n",
    "# X = GTZAN_dataset.drop(['label'], axis=1)\n",
    "# y = GTZAN_dataset['label']"
   ]
  },
  {
   "cell_type": "code",
   "execution_count": 28,
   "metadata": {},
   "outputs": [
    {
     "data": {
      "text/html": [
       "<div>\n",
       "<style scoped>\n",
       "    .dataframe tbody tr th:only-of-type {\n",
       "        vertical-align: middle;\n",
       "    }\n",
       "\n",
       "    .dataframe tbody tr th {\n",
       "        vertical-align: top;\n",
       "    }\n",
       "\n",
       "    .dataframe thead th {\n",
       "        text-align: right;\n",
       "    }\n",
       "</style>\n",
       "<table border=\"1\" class=\"dataframe\">\n",
       "  <thead>\n",
       "    <tr style=\"text-align: right;\">\n",
       "      <th></th>\n",
       "      <th>track_id</th>\n",
       "      <th>chroma_cens</th>\n",
       "      <th>chroma_cens.1</th>\n",
       "      <th>chroma_cens.2</th>\n",
       "      <th>chroma_cens.3</th>\n",
       "      <th>chroma_cens.4</th>\n",
       "      <th>chroma_cens.5</th>\n",
       "      <th>chroma_cens.6</th>\n",
       "      <th>chroma_cens.7</th>\n",
       "      <th>chroma_cens.8</th>\n",
       "      <th>...</th>\n",
       "      <th>tonnetz.41</th>\n",
       "      <th>zcr</th>\n",
       "      <th>zcr.1</th>\n",
       "      <th>zcr.2</th>\n",
       "      <th>zcr.3</th>\n",
       "      <th>zcr.4</th>\n",
       "      <th>zcr.5</th>\n",
       "      <th>zcr.6</th>\n",
       "      <th>subset</th>\n",
       "      <th>genre_top</th>\n",
       "    </tr>\n",
       "  </thead>\n",
       "  <tbody>\n",
       "    <tr>\n",
       "      <th>0</th>\n",
       "      <td>135</td>\n",
       "      <td>0.978402</td>\n",
       "      <td>0.623572</td>\n",
       "      <td>1.129261</td>\n",
       "      <td>-1.043970</td>\n",
       "      <td>-1.127288</td>\n",
       "      <td>-0.032642</td>\n",
       "      <td>-0.878434</td>\n",
       "      <td>-0.916234</td>\n",
       "      <td>-0.743257</td>\n",
       "      <td>...</td>\n",
       "      <td>0.020464</td>\n",
       "      <td>-0.038451</td>\n",
       "      <td>0.234863</td>\n",
       "      <td>0.050837</td>\n",
       "      <td>0.050781</td>\n",
       "      <td>0.003418</td>\n",
       "      <td>0.297873</td>\n",
       "      <td>0.024899</td>\n",
       "      <td>large</td>\n",
       "      <td>Rock</td>\n",
       "    </tr>\n",
       "    <tr>\n",
       "      <th>1</th>\n",
       "      <td>137</td>\n",
       "      <td>1.607191</td>\n",
       "      <td>1.199649</td>\n",
       "      <td>0.745765</td>\n",
       "      <td>1.430835</td>\n",
       "      <td>-0.155455</td>\n",
       "      <td>0.768487</td>\n",
       "      <td>3.005594</td>\n",
       "      <td>2.779431</td>\n",
       "      <td>1.567088</td>\n",
       "      <td>...</td>\n",
       "      <td>0.011149</td>\n",
       "      <td>40.950294</td>\n",
       "      <td>0.619629</td>\n",
       "      <td>0.088439</td>\n",
       "      <td>0.086914</td>\n",
       "      <td>0.000000</td>\n",
       "      <td>3.275552</td>\n",
       "      <td>0.021831</td>\n",
       "      <td>large</td>\n",
       "      <td>Experimental</td>\n",
       "    </tr>\n",
       "    <tr>\n",
       "      <th>2</th>\n",
       "      <td>138</td>\n",
       "      <td>1.501403</td>\n",
       "      <td>0.957514</td>\n",
       "      <td>1.276685</td>\n",
       "      <td>0.640389</td>\n",
       "      <td>0.442936</td>\n",
       "      <td>0.845533</td>\n",
       "      <td>0.917440</td>\n",
       "      <td>0.770691</td>\n",
       "      <td>1.787260</td>\n",
       "      <td>...</td>\n",
       "      <td>0.012725</td>\n",
       "      <td>5.126394</td>\n",
       "      <td>0.627441</td>\n",
       "      <td>0.102232</td>\n",
       "      <td>0.099121</td>\n",
       "      <td>0.004883</td>\n",
       "      <td>0.633483</td>\n",
       "      <td>0.034676</td>\n",
       "      <td>large</td>\n",
       "      <td>Experimental</td>\n",
       "    </tr>\n",
       "    <tr>\n",
       "      <th>3</th>\n",
       "      <td>142</td>\n",
       "      <td>-0.581270</td>\n",
       "      <td>3.199484</td>\n",
       "      <td>1.298346</td>\n",
       "      <td>-0.681253</td>\n",
       "      <td>-0.935093</td>\n",
       "      <td>-0.960304</td>\n",
       "      <td>-0.748014</td>\n",
       "      <td>-0.715798</td>\n",
       "      <td>-0.905853</td>\n",
       "      <td>...</td>\n",
       "      <td>0.022975</td>\n",
       "      <td>4.865969</td>\n",
       "      <td>0.309570</td>\n",
       "      <td>0.066520</td>\n",
       "      <td>0.061035</td>\n",
       "      <td>0.001953</td>\n",
       "      <td>1.625022</td>\n",
       "      <td>0.036644</td>\n",
       "      <td>large</td>\n",
       "      <td>Folk</td>\n",
       "    </tr>\n",
       "    <tr>\n",
       "      <th>4</th>\n",
       "      <td>144</td>\n",
       "      <td>0.121207</td>\n",
       "      <td>-0.025308</td>\n",
       "      <td>0.541327</td>\n",
       "      <td>0.967687</td>\n",
       "      <td>1.082456</td>\n",
       "      <td>1.675841</td>\n",
       "      <td>1.741263</td>\n",
       "      <td>0.470098</td>\n",
       "      <td>4.051888</td>\n",
       "      <td>...</td>\n",
       "      <td>0.018568</td>\n",
       "      <td>0.627553</td>\n",
       "      <td>0.239258</td>\n",
       "      <td>0.079759</td>\n",
       "      <td>0.078613</td>\n",
       "      <td>0.000000</td>\n",
       "      <td>0.226211</td>\n",
       "      <td>0.034378</td>\n",
       "      <td>large</td>\n",
       "      <td>Jazz</td>\n",
       "    </tr>\n",
       "  </tbody>\n",
       "</table>\n",
       "<p>5 rows × 521 columns</p>\n",
       "</div>"
      ],
      "text/plain": [
       "   track_id  chroma_cens  chroma_cens.1  chroma_cens.2  chroma_cens.3  \\\n",
       "0       135     0.978402       0.623572       1.129261      -1.043970   \n",
       "1       137     1.607191       1.199649       0.745765       1.430835   \n",
       "2       138     1.501403       0.957514       1.276685       0.640389   \n",
       "3       142    -0.581270       3.199484       1.298346      -0.681253   \n",
       "4       144     0.121207      -0.025308       0.541327       0.967687   \n",
       "\n",
       "   chroma_cens.4  chroma_cens.5  chroma_cens.6  chroma_cens.7  chroma_cens.8  \\\n",
       "0      -1.127288      -0.032642      -0.878434      -0.916234      -0.743257   \n",
       "1      -0.155455       0.768487       3.005594       2.779431       1.567088   \n",
       "2       0.442936       0.845533       0.917440       0.770691       1.787260   \n",
       "3      -0.935093      -0.960304      -0.748014      -0.715798      -0.905853   \n",
       "4       1.082456       1.675841       1.741263       0.470098       4.051888   \n",
       "\n",
       "   ...  tonnetz.41        zcr     zcr.1     zcr.2     zcr.3     zcr.4  \\\n",
       "0  ...    0.020464  -0.038451  0.234863  0.050837  0.050781  0.003418   \n",
       "1  ...    0.011149  40.950294  0.619629  0.088439  0.086914  0.000000   \n",
       "2  ...    0.012725   5.126394  0.627441  0.102232  0.099121  0.004883   \n",
       "3  ...    0.022975   4.865969  0.309570  0.066520  0.061035  0.001953   \n",
       "4  ...    0.018568   0.627553  0.239258  0.079759  0.078613  0.000000   \n",
       "\n",
       "      zcr.5     zcr.6  subset     genre_top  \n",
       "0  0.297873  0.024899   large          Rock  \n",
       "1  3.275552  0.021831   large  Experimental  \n",
       "2  0.633483  0.034676   large  Experimental  \n",
       "3  1.625022  0.036644   large          Folk  \n",
       "4  0.226211  0.034378   large          Jazz  \n",
       "\n",
       "[5 rows x 521 columns]"
      ]
     },
     "execution_count": 28,
     "metadata": {},
     "output_type": "execute_result"
    }
   ],
   "source": [
    "fma = pd.read_csv('../data/fma/fmaManipulated.csv')\n",
    "fma_small = fma[fma['subset'] == 'large']\n",
    "fma_small.reset_index(inplace=True, drop=True)\n",
    "fma_small.head()"
   ]
  },
  {
   "cell_type": "code",
   "execution_count": 29,
   "metadata": {},
   "outputs": [],
   "source": [
    "X = fma_small.drop(['track_id','genre_top','subset'], axis=1)\n",
    "y = fma_small['genre_top']"
   ]
  },
  {
   "cell_type": "code",
   "execution_count": 30,
   "metadata": {},
   "outputs": [],
   "source": [
    "import numpy as np\n",
    "from tqdm import tqdm\n",
    "from sklearn.linear_model import LogisticRegression\n",
    "from sklearn.model_selection import train_test_split, cross_val_score\n",
    "from sklearn.pipeline import Pipeline\n",
    "from sklearn.metrics import accuracy_score\n",
    "from sklearn.preprocessing import StandardScaler\n",
    "import json"
   ]
  },
  {
   "cell_type": "code",
   "execution_count": 31,
   "metadata": {},
   "outputs": [
    {
     "data": {
      "text/plain": [
       "array([0.01      , 0.01627251, 0.02647945, 0.04308869, 0.0701161 ,\n",
       "       0.11409647, 0.18566355, 0.30212113, 0.49162679, 0.8       ])"
      ]
     },
     "execution_count": 31,
     "metadata": {},
     "output_type": "execute_result"
    }
   ],
   "source": [
    "n_train = np.logspace(-2, np.log10(0.8), 10)\n",
    "n_train"
   ]
  },
  {
   "cell_type": "markdown",
   "metadata": {},
   "source": [
    "Arguments:\n",
    "\n",
    "(X) Matrix of features\n",
    "\n",
    "(y) Array of targets\n",
    "\n",
    "(train_size) Size of the trainset, this trian set will be spllited into more partitions  "
   ]
  },
  {
   "cell_type": "code",
   "execution_count": 32,
   "metadata": {},
   "outputs": [],
   "source": [
    "def performanceOfTrainSizes(X, y,):\n",
    "    pipeline = Pipeline([\n",
    "                            ('StandardScaler',  StandardScaler()),\n",
    "                            ('meu_classificador', LogisticRegression(max_iter=10000))\n",
    "                        ])\n",
    "\n",
    "    n_train = np.logspace(-2, np.log10(0.8), 10)\n",
    "    n_train = [int(n*X.shape[0]) for n in n_train]\n",
    "    n_train = [n for n in n_train if n > len(set(y))]\n",
    "    acc_mean = []\n",
    "    acc_std = []\n",
    "    acc_mean_overfit = []\n",
    "    acc_std_overfit = []\n",
    "    \n",
    "    for n in n_train:\n",
    "        this_acc = []\n",
    "        this_acc_overfit = []\n",
    "        for k in tqdm(range(50)):\n",
    "            X_train, X_test, y_train, y_test = train_test_split(X, y, train_size=n, stratify=y)\n",
    "            \n",
    "            # accurracy\n",
    "            pipeline.fit(X_train,y_train)\n",
    "            y_pred = pipeline.predict(X_test)\n",
    "            acc = accuracy_score(y_pred,y_test)\n",
    "            # acurracy overfit\n",
    "\n",
    "            y_pred_overfit = pipeline.predict(X_train)\n",
    "            acc_overfit = accuracy_score(y_pred_overfit,y_train)\n",
    "\n",
    "            this_acc_overfit.append(acc_overfit)\n",
    "            this_acc.append(acc)\n",
    "        \n",
    "        this_acc_overfit = np.array(this_acc_overfit)\n",
    "        this_acc = np.array(this_acc)\n",
    "        acc_mean.append(this_acc.mean())\n",
    "        acc_std.append(this_acc.std())\n",
    "        acc_mean_overfit.append(this_acc_overfit.mean())\n",
    "        acc_std_overfit.append(this_acc_overfit.std())\n",
    "    return acc_mean, acc_mean_overfit, acc_std, acc_std_overfit, n_train"
   ]
  },
  {
   "cell_type": "code",
   "execution_count": 33,
   "metadata": {},
   "outputs": [],
   "source": [
    "def saveMetricsStorage(storageJsonPath ,datasetName, acc_mean, acc_mean_overfit, acc_std, acc_std_overfit, n_train,datasetSize):\n",
    "    with open(storageJsonPath, 'r') as f:\n",
    "        storage = json.load(f)\n",
    "    \n",
    "    storage[datasetName] = {\n",
    "        'acc_mean': acc_mean,\n",
    "        'acc_mean_overfit': acc_mean_overfit,\n",
    "        'acc_std': acc_std,\n",
    "        'acc_std_overfit': acc_std_overfit,\n",
    "        'n_train_': n_train,\n",
    "        'datasetSize': datasetSize\n",
    "    }\n",
    "    \n",
    "    with open(storageJsonPath, 'w') as f:\n",
    "        json.dump(storage, f)"
   ]
  },
  {
   "cell_type": "code",
   "execution_count": 34,
   "metadata": {},
   "outputs": [
    {
     "name": "stderr",
     "output_type": "stream",
     "text": [
      "  0%|          | 0/50 [00:00<?, ?it/s]"
     ]
    },
    {
     "name": "stderr",
     "output_type": "stream",
     "text": [
      "100%|██████████| 50/50 [01:20<00:00,  1.61s/it]\n",
      "100%|██████████| 50/50 [00:37<00:00,  1.35it/s]\n",
      "100%|██████████| 50/50 [00:44<00:00,  1.14it/s]\n",
      "100%|██████████| 50/50 [01:44<00:00,  2.09s/it]\n",
      "100%|██████████| 50/50 [05:17<00:00,  6.36s/it]\n",
      "100%|██████████| 50/50 [07:30<00:00,  9.01s/it]\n",
      "100%|██████████| 50/50 [10:16<00:00, 12.34s/it]\n",
      "100%|██████████| 50/50 [15:28<00:00, 18.56s/it]\n",
      "100%|██████████| 50/50 [27:58<00:00, 33.56s/it]\n",
      "  6%|▌         | 3/50 [05:35<1:33:39, 119.57s/it]"
     ]
    }
   ],
   "source": [
    "\n",
    "acc_mean, acc_mean_overfit , acc_std, acc_std_overfit ,n_train = performanceOfTrainSizes(X, y)\n"
   ]
  },
  {
   "cell_type": "code",
   "execution_count": null,
   "metadata": {},
   "outputs": [],
   "source": [
    "saveMetricsStorage('../data/newm.json', 'FMA-large', acc_mean, acc_mean_overfit , acc_std, acc_std_overfit ,n_train,len(y))"
   ]
  },
  {
   "cell_type": "code",
   "execution_count": null,
   "metadata": {},
   "outputs": [
    {
     "data": {
      "text/plain": [
       "[0.6011931818181818,\n",
       " 0.6136236346308921,\n",
       " 0.6290154826283427,\n",
       " 0.6355249076795538,\n",
       " 0.6435101597642314,\n",
       " 0.6460517746662324,\n",
       " 0.6538452001416932,\n",
       " 0.671544900279012,\n",
       " 0.6916652482269502,\n",
       " 0.7137346791636625]"
      ]
     },
     "execution_count": 21,
     "metadata": {},
     "output_type": "execute_result"
    }
   ],
   "source": [
    "acc_mean"
   ]
  },
  {
   "cell_type": "code",
   "execution_count": null,
   "metadata": {},
   "outputs": [
    {
     "data": {
      "text/plain": [
       "[1.0,\n",
       " 1.0,\n",
       " 1.0,\n",
       " 1.0,\n",
       " 1.0,\n",
       " 0.9993805309734514,\n",
       " 0.9831779331779333,\n",
       " 0.9348436380997849,\n",
       " 0.8873239436619719,\n",
       " 0.8440822214208439]"
      ]
     },
     "execution_count": 22,
     "metadata": {},
     "output_type": "execute_result"
    }
   ],
   "source": [
    "acc_mean_overfit "
   ]
  },
  {
   "cell_type": "code",
   "execution_count": null,
   "metadata": {},
   "outputs": [
    {
     "data": {
      "text/plain": [
       "[0.012754033459509312,\n",
       " 0.01206662781215089,\n",
       " 0.009919569618706216,\n",
       " 0.007993836772734682,\n",
       " 0.008294186168222096,\n",
       " 0.007763251155185104,\n",
       " 0.005599720658258982,\n",
       " 0.005363230813861691,\n",
       " 0.004106284740186261,\n",
       " 0.0071639674820494145]"
      ]
     },
     "execution_count": 23,
     "metadata": {},
     "output_type": "execute_result"
    }
   ],
   "source": [
    "acc_std"
   ]
  },
  {
   "cell_type": "code",
   "execution_count": null,
   "metadata": {},
   "outputs": [
    {
     "data": {
      "text/plain": [
       "[0.0,\n",
       " 0.0,\n",
       " 0.0,\n",
       " 0.0,\n",
       " 0.0,\n",
       " 0.0008240752711874803,\n",
       " 0.004448117379743556,\n",
       " 0.005111608747337216,\n",
       " 0.0037526578119127163,\n",
       " 0.0024652530022986597]"
      ]
     },
     "execution_count": 24,
     "metadata": {},
     "output_type": "execute_result"
    }
   ],
   "source": [
    "acc_std_overfit"
   ]
  },
  {
   "cell_type": "code",
   "execution_count": null,
   "metadata": {},
   "outputs": [
    {
     "data": {
      "text/plain": [
       "[138, 225, 367, 597, 972, 1582, 2574, 4189, 6816, 11092]"
      ]
     },
     "execution_count": 25,
     "metadata": {},
     "output_type": "execute_result"
    }
   ],
   "source": [
    "n_train"
   ]
  }
 ],
 "metadata": {
  "kernelspec": {
   "display_name": "env",
   "language": "python",
   "name": "python3"
  },
  "language_info": {
   "codemirror_mode": {
    "name": "ipython",
    "version": 3
   },
   "file_extension": ".py",
   "mimetype": "text/x-python",
   "name": "python",
   "nbconvert_exporter": "python",
   "pygments_lexer": "ipython3",
   "version": "3.11.3"
  },
  "orig_nbformat": 4
 },
 "nbformat": 4,
 "nbformat_minor": 2
}
