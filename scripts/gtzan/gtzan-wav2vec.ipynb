{
 "cells": [
  {
   "cell_type": "code",
   "execution_count": 1,
   "metadata": {},
   "outputs": [
    {
     "name": "stderr",
     "output_type": "stream",
     "text": [
      "/Users/tomasalessi/Workspace/Acuracy-TrainSize/env/lib/python3.11/site-packages/tqdm/auto.py:21: TqdmWarning: IProgress not found. Please update jupyter and ipywidgets. See https://ipywidgets.readthedocs.io/en/stable/user_install.html\n",
      "  from .autonotebook import tqdm as notebook_tqdm\n",
      "Some weights of the model checkpoint at facebook/wav2vec2-base-960h were not used when initializing Wav2Vec2ForCTC: ['wav2vec2.encoder.pos_conv_embed.conv.weight_g', 'wav2vec2.encoder.pos_conv_embed.conv.weight_v']\n",
      "- This IS expected if you are initializing Wav2Vec2ForCTC from the checkpoint of a model trained on another task or with another architecture (e.g. initializing a BertForSequenceClassification model from a BertForPreTraining model).\n",
      "- This IS NOT expected if you are initializing Wav2Vec2ForCTC from the checkpoint of a model that you expect to be exactly identical (initializing a BertForSequenceClassification model from a BertForSequenceClassification model).\n",
      "Some weights of Wav2Vec2ForCTC were not initialized from the model checkpoint at facebook/wav2vec2-base-960h and are newly initialized: ['wav2vec2.encoder.pos_conv_embed.conv.parametrizations.weight.original0', 'wav2vec2.encoder.pos_conv_embed.conv.parametrizations.weight.original1', 'wav2vec2.masked_spec_embed']\n",
      "You should probably TRAIN this model on a down-stream task to be able to use it for predictions and inference.\n"
     ]
    }
   ],
   "source": [
    "from transformers import Wav2Vec2Processor, Wav2Vec2ForCTC\n",
    "processor = Wav2Vec2Processor.from_pretrained(\"facebook/wav2vec2-base-960h\", sampling_rate=22050)\n",
    "model = Wav2Vec2ForCTC.from_pretrained(\"facebook/wav2vec2-base-960h\")"
   ]
  },
  {
   "cell_type": "code",
   "execution_count": 2,
   "metadata": {},
   "outputs": [],
   "source": [
    "import pandas as pd\n",
    "column_names = [f'feature_{i+1}' for i in range(32)]\n",
    "column_names += ['track_id', 'label']\n",
    "df = pd.DataFrame(columns=column_names)"
   ]
  },
  {
   "cell_type": "code",
   "execution_count": 3,
   "metadata": {},
   "outputs": [
    {
     "name": "stderr",
     "output_type": "stream",
     "text": [
      "0it [00:00, ?it/s]It is strongly recommended to pass the ``sampling_rate`` argument to this function. Failing to do so can result in silent errors that might be hard to debug.\n"
     ]
    },
    {
     "name": "stdout",
     "output_type": "stream",
     "text": [
      "root ../audios/gtzan\n",
      "dirs ['pop', 'metal', 'disco', 'blues', 'reggae', 'classical', 'rock', 'hiphop', 'country', 'jazz']\n",
      "files []\n",
      "root ../audios/gtzan/pop\n",
      "dirs []\n",
      "files ['pop.00027.wav', 'pop.00033.wav', 'pop.00032.wav', 'pop.00026.wav', 'pop.00030.wav', 'pop.00024.wav', 'pop.00018.wav', 'pop.00019.wav', 'pop.00025.wav', 'pop.00031.wav', 'pop.00009.wav', 'pop.00035.wav', 'pop.00021.wav', 'pop.00020.wav', 'pop.00034.wav', 'pop.00008.wav', 'pop.00022.wav', 'pop.00036.wav', 'pop.00037.wav', 'pop.00023.wav', 'pop.00044.wav', 'pop.00050.wav', 'pop.00078.wav', 'pop.00087.wav', 'pop.00093.wav', 'pop.00092.wav', 'pop.00086.wav', 'pop.00079.wav', 'pop.00051.wav', 'pop.00045.wav', 'pop.00053.wav', 'pop.00047.wav', 'pop.00090.wav', 'pop.00084.wav', 'pop.00085.wav', 'pop.00091.wav', 'pop.00046.wav', 'pop.00052.wav', 'pop.00056.wav', 'pop.00042.wav', 'pop.00095.wav', 'pop.00081.wav', 'pop.00080.wav', 'pop.00094.wav', 'pop.00043.wav', 'pop.00057.wav', 'pop.00069.wav', 'pop.00041.wav', 'pop.00055.wav', 'pop.00082.wav', 'pop.00096.wav', 'pop.00097.wav', 'pop.00083.wav', 'pop.00054.wav', 'pop.00040.wav', 'pop.00068.wav', 'pop.00065.wav', 'pop.00071.wav', 'pop.00059.wav', 'pop.00058.wav', 'pop.00070.wav', 'pop.00064.wav', 'pop.00072.wav', 'pop.00066.wav', 'pop.00099.wav', 'pop.00098.wav', 'pop.00067.wav', 'pop.00073.wav', 'pop.00077.wav', 'pop.00063.wav', 'pop.00088.wav', 'pop.00089.wav', 'pop.00062.wav', 'pop.00076.wav', 'pop.00048.wav', 'pop.00060.wav', 'pop.00074.wav', 'pop.00075.wav', 'pop.00061.wav', 'pop.00049.wav', 'pop.00006.wav', 'pop.00012.wav', 'pop.00013.wav', 'pop.00007.wav', 'pop.00011.wav', 'pop.00005.wav', 'pop.00039.wav', 'pop.00038.wav', 'pop.00004.wav', 'pop.00010.wav', 'pop.00028.wav', 'pop.00014.wav', 'pop.00000.wav', 'pop.00001.wav', 'pop.00015.wav', 'pop.00029.wav', 'pop.00003.wav', 'pop.00017.wav', 'pop.00016.wav', 'pop.00002.wav']\n",
      "filename pop.00027.wav\n",
      "label pop\n",
      "track_id 00027.wav\n"
     ]
    },
    {
     "name": "stderr",
     "output_type": "stream",
     "text": [
      "It is strongly recommended to pass the ``sampling_rate`` argument to this function. Failing to do so can result in silent errors that might be hard to debug.\n"
     ]
    },
    {
     "name": "stdout",
     "output_type": "stream",
     "text": [
      "i 1\n",
      "filename pop.00033.wav\n",
      "label pop\n",
      "track_id 00033.wav\n"
     ]
    },
    {
     "name": "stderr",
     "output_type": "stream",
     "text": [
      "It is strongly recommended to pass the ``sampling_rate`` argument to this function. Failing to do so can result in silent errors that might be hard to debug.\n"
     ]
    },
    {
     "name": "stdout",
     "output_type": "stream",
     "text": [
      "i 2\n",
      "filename pop.00032.wav\n",
      "label pop\n",
      "track_id 00032.wav\n"
     ]
    },
    {
     "name": "stderr",
     "output_type": "stream",
     "text": [
      "It is strongly recommended to pass the ``sampling_rate`` argument to this function. Failing to do so can result in silent errors that might be hard to debug.\n"
     ]
    },
    {
     "name": "stdout",
     "output_type": "stream",
     "text": [
      "i 3\n",
      "filename pop.00026.wav\n",
      "label pop\n",
      "track_id 00026.wav\n"
     ]
    },
    {
     "name": "stderr",
     "output_type": "stream",
     "text": [
      "It is strongly recommended to pass the ``sampling_rate`` argument to this function. Failing to do so can result in silent errors that might be hard to debug.\n"
     ]
    },
    {
     "name": "stdout",
     "output_type": "stream",
     "text": [
      "i 4\n",
      "filename pop.00030.wav\n",
      "label pop\n",
      "track_id 00030.wav\n"
     ]
    },
    {
     "name": "stderr",
     "output_type": "stream",
     "text": [
      "It is strongly recommended to pass the ``sampling_rate`` argument to this function. Failing to do so can result in silent errors that might be hard to debug.\n"
     ]
    },
    {
     "name": "stdout",
     "output_type": "stream",
     "text": [
      "i 5\n",
      "filename pop.00024.wav\n",
      "label pop\n",
      "track_id 00024.wav\n"
     ]
    },
    {
     "name": "stderr",
     "output_type": "stream",
     "text": [
      "It is strongly recommended to pass the ``sampling_rate`` argument to this function. Failing to do so can result in silent errors that might be hard to debug.\n"
     ]
    },
    {
     "name": "stdout",
     "output_type": "stream",
     "text": [
      "i 6\n",
      "filename pop.00018.wav\n",
      "label pop\n",
      "track_id 00018.wav\n"
     ]
    },
    {
     "name": "stderr",
     "output_type": "stream",
     "text": [
      "It is strongly recommended to pass the ``sampling_rate`` argument to this function. Failing to do so can result in silent errors that might be hard to debug.\n"
     ]
    },
    {
     "name": "stdout",
     "output_type": "stream",
     "text": [
      "i 7\n",
      "filename pop.00019.wav\n",
      "label pop\n",
      "track_id 00019.wav\n"
     ]
    },
    {
     "name": "stderr",
     "output_type": "stream",
     "text": [
      "It is strongly recommended to pass the ``sampling_rate`` argument to this function. Failing to do so can result in silent errors that might be hard to debug.\n"
     ]
    },
    {
     "name": "stdout",
     "output_type": "stream",
     "text": [
      "i 8\n",
      "filename pop.00025.wav\n",
      "label pop\n",
      "track_id 00025.wav\n"
     ]
    },
    {
     "name": "stderr",
     "output_type": "stream",
     "text": [
      "It is strongly recommended to pass the ``sampling_rate`` argument to this function. Failing to do so can result in silent errors that might be hard to debug.\n"
     ]
    },
    {
     "name": "stdout",
     "output_type": "stream",
     "text": [
      "i 9\n",
      "filename pop.00031.wav\n",
      "label pop\n",
      "track_id 00031.wav\n"
     ]
    },
    {
     "name": "stderr",
     "output_type": "stream",
     "text": [
      "It is strongly recommended to pass the ``sampling_rate`` argument to this function. Failing to do so can result in silent errors that might be hard to debug.\n"
     ]
    },
    {
     "name": "stdout",
     "output_type": "stream",
     "text": [
      "i 10\n",
      "filename pop.00009.wav\n",
      "label pop\n",
      "track_id 00009.wav\n"
     ]
    },
    {
     "name": "stderr",
     "output_type": "stream",
     "text": [
      "It is strongly recommended to pass the ``sampling_rate`` argument to this function. Failing to do so can result in silent errors that might be hard to debug.\n"
     ]
    },
    {
     "name": "stdout",
     "output_type": "stream",
     "text": [
      "i 11\n",
      "filename pop.00035.wav\n",
      "label pop\n",
      "track_id 00035.wav\n"
     ]
    },
    {
     "name": "stderr",
     "output_type": "stream",
     "text": [
      "It is strongly recommended to pass the ``sampling_rate`` argument to this function. Failing to do so can result in silent errors that might be hard to debug.\n"
     ]
    },
    {
     "name": "stdout",
     "output_type": "stream",
     "text": [
      "i 12\n",
      "filename pop.00021.wav\n",
      "label pop\n",
      "track_id 00021.wav\n"
     ]
    },
    {
     "name": "stderr",
     "output_type": "stream",
     "text": [
      "It is strongly recommended to pass the ``sampling_rate`` argument to this function. Failing to do so can result in silent errors that might be hard to debug.\n"
     ]
    },
    {
     "name": "stdout",
     "output_type": "stream",
     "text": [
      "i 13\n",
      "filename pop.00020.wav\n",
      "label pop\n",
      "track_id 00020.wav\n"
     ]
    },
    {
     "name": "stderr",
     "output_type": "stream",
     "text": [
      "It is strongly recommended to pass the ``sampling_rate`` argument to this function. Failing to do so can result in silent errors that might be hard to debug.\n"
     ]
    },
    {
     "name": "stdout",
     "output_type": "stream",
     "text": [
      "i 14\n",
      "filename pop.00034.wav\n",
      "label pop\n",
      "track_id 00034.wav\n"
     ]
    },
    {
     "name": "stderr",
     "output_type": "stream",
     "text": [
      "It is strongly recommended to pass the ``sampling_rate`` argument to this function. Failing to do so can result in silent errors that might be hard to debug.\n"
     ]
    },
    {
     "name": "stdout",
     "output_type": "stream",
     "text": [
      "i 15\n",
      "filename pop.00008.wav\n",
      "label pop\n",
      "track_id 00008.wav\n"
     ]
    },
    {
     "name": "stderr",
     "output_type": "stream",
     "text": [
      "It is strongly recommended to pass the ``sampling_rate`` argument to this function. Failing to do so can result in silent errors that might be hard to debug.\n"
     ]
    },
    {
     "name": "stdout",
     "output_type": "stream",
     "text": [
      "i 16\n",
      "filename pop.00022.wav\n",
      "label pop\n",
      "track_id 00022.wav\n"
     ]
    },
    {
     "name": "stderr",
     "output_type": "stream",
     "text": [
      "It is strongly recommended to pass the ``sampling_rate`` argument to this function. Failing to do so can result in silent errors that might be hard to debug.\n"
     ]
    },
    {
     "name": "stdout",
     "output_type": "stream",
     "text": [
      "i 17\n",
      "filename pop.00036.wav\n",
      "label pop\n",
      "track_id 00036.wav\n"
     ]
    },
    {
     "name": "stderr",
     "output_type": "stream",
     "text": [
      "It is strongly recommended to pass the ``sampling_rate`` argument to this function. Failing to do so can result in silent errors that might be hard to debug.\n"
     ]
    },
    {
     "name": "stdout",
     "output_type": "stream",
     "text": [
      "i 18\n",
      "filename pop.00037.wav\n",
      "label pop\n",
      "track_id 00037.wav\n"
     ]
    },
    {
     "name": "stderr",
     "output_type": "stream",
     "text": [
      "It is strongly recommended to pass the ``sampling_rate`` argument to this function. Failing to do so can result in silent errors that might be hard to debug.\n"
     ]
    },
    {
     "name": "stdout",
     "output_type": "stream",
     "text": [
      "i 19\n",
      "filename pop.00023.wav\n",
      "label pop\n",
      "track_id 00023.wav\n"
     ]
    },
    {
     "name": "stderr",
     "output_type": "stream",
     "text": [
      "It is strongly recommended to pass the ``sampling_rate`` argument to this function. Failing to do so can result in silent errors that might be hard to debug.\n"
     ]
    },
    {
     "name": "stdout",
     "output_type": "stream",
     "text": [
      "i 20\n",
      "filename pop.00044.wav\n",
      "label pop\n",
      "track_id 00044.wav\n"
     ]
    },
    {
     "name": "stderr",
     "output_type": "stream",
     "text": [
      "It is strongly recommended to pass the ``sampling_rate`` argument to this function. Failing to do so can result in silent errors that might be hard to debug.\n"
     ]
    },
    {
     "name": "stdout",
     "output_type": "stream",
     "text": [
      "i 21\n",
      "filename pop.00050.wav\n",
      "label pop\n",
      "track_id 00050.wav\n"
     ]
    },
    {
     "name": "stderr",
     "output_type": "stream",
     "text": [
      "It is strongly recommended to pass the ``sampling_rate`` argument to this function. Failing to do so can result in silent errors that might be hard to debug.\n"
     ]
    },
    {
     "name": "stdout",
     "output_type": "stream",
     "text": [
      "i 22\n",
      "filename pop.00078.wav\n",
      "label pop\n",
      "track_id 00078.wav\n"
     ]
    },
    {
     "name": "stderr",
     "output_type": "stream",
     "text": [
      "It is strongly recommended to pass the ``sampling_rate`` argument to this function. Failing to do so can result in silent errors that might be hard to debug.\n"
     ]
    },
    {
     "name": "stdout",
     "output_type": "stream",
     "text": [
      "i 23\n",
      "filename pop.00087.wav\n",
      "label pop\n",
      "track_id 00087.wav\n"
     ]
    },
    {
     "name": "stderr",
     "output_type": "stream",
     "text": [
      "It is strongly recommended to pass the ``sampling_rate`` argument to this function. Failing to do so can result in silent errors that might be hard to debug.\n"
     ]
    },
    {
     "name": "stdout",
     "output_type": "stream",
     "text": [
      "i 24\n",
      "filename pop.00093.wav\n",
      "label pop\n",
      "track_id 00093.wav\n"
     ]
    },
    {
     "name": "stderr",
     "output_type": "stream",
     "text": [
      "It is strongly recommended to pass the ``sampling_rate`` argument to this function. Failing to do so can result in silent errors that might be hard to debug.\n"
     ]
    },
    {
     "name": "stdout",
     "output_type": "stream",
     "text": [
      "i 25\n",
      "filename pop.00092.wav\n",
      "label pop\n",
      "track_id 00092.wav\n"
     ]
    },
    {
     "name": "stderr",
     "output_type": "stream",
     "text": [
      "It is strongly recommended to pass the ``sampling_rate`` argument to this function. Failing to do so can result in silent errors that might be hard to debug.\n"
     ]
    },
    {
     "name": "stdout",
     "output_type": "stream",
     "text": [
      "i 26\n",
      "filename pop.00086.wav\n",
      "label pop\n",
      "track_id 00086.wav\n"
     ]
    },
    {
     "name": "stderr",
     "output_type": "stream",
     "text": [
      "It is strongly recommended to pass the ``sampling_rate`` argument to this function. Failing to do so can result in silent errors that might be hard to debug.\n"
     ]
    },
    {
     "name": "stdout",
     "output_type": "stream",
     "text": [
      "i 27\n",
      "filename pop.00079.wav\n",
      "label pop\n",
      "track_id 00079.wav\n"
     ]
    },
    {
     "name": "stderr",
     "output_type": "stream",
     "text": [
      "It is strongly recommended to pass the ``sampling_rate`` argument to this function. Failing to do so can result in silent errors that might be hard to debug.\n"
     ]
    },
    {
     "name": "stdout",
     "output_type": "stream",
     "text": [
      "i 28\n",
      "filename pop.00051.wav\n",
      "label pop\n",
      "track_id 00051.wav\n"
     ]
    },
    {
     "name": "stderr",
     "output_type": "stream",
     "text": [
      "It is strongly recommended to pass the ``sampling_rate`` argument to this function. Failing to do so can result in silent errors that might be hard to debug.\n"
     ]
    },
    {
     "name": "stdout",
     "output_type": "stream",
     "text": [
      "i 29\n",
      "filename pop.00045.wav\n",
      "label pop\n",
      "track_id 00045.wav\n"
     ]
    },
    {
     "name": "stderr",
     "output_type": "stream",
     "text": [
      "It is strongly recommended to pass the ``sampling_rate`` argument to this function. Failing to do so can result in silent errors that might be hard to debug.\n"
     ]
    },
    {
     "name": "stdout",
     "output_type": "stream",
     "text": [
      "i 30\n",
      "filename pop.00053.wav\n",
      "label pop\n",
      "track_id 00053.wav\n"
     ]
    },
    {
     "name": "stderr",
     "output_type": "stream",
     "text": [
      "It is strongly recommended to pass the ``sampling_rate`` argument to this function. Failing to do so can result in silent errors that might be hard to debug.\n"
     ]
    },
    {
     "name": "stdout",
     "output_type": "stream",
     "text": [
      "i 31\n",
      "filename pop.00047.wav\n",
      "label pop\n",
      "track_id 00047.wav\n"
     ]
    },
    {
     "name": "stderr",
     "output_type": "stream",
     "text": [
      "It is strongly recommended to pass the ``sampling_rate`` argument to this function. Failing to do so can result in silent errors that might be hard to debug.\n"
     ]
    },
    {
     "name": "stdout",
     "output_type": "stream",
     "text": [
      "i 32\n",
      "filename pop.00090.wav\n",
      "label pop\n",
      "track_id 00090.wav\n"
     ]
    },
    {
     "name": "stderr",
     "output_type": "stream",
     "text": [
      "It is strongly recommended to pass the ``sampling_rate`` argument to this function. Failing to do so can result in silent errors that might be hard to debug.\n"
     ]
    },
    {
     "name": "stdout",
     "output_type": "stream",
     "text": [
      "i 33\n",
      "filename pop.00084.wav\n",
      "label pop\n",
      "track_id 00084.wav\n"
     ]
    },
    {
     "name": "stderr",
     "output_type": "stream",
     "text": [
      "It is strongly recommended to pass the ``sampling_rate`` argument to this function. Failing to do so can result in silent errors that might be hard to debug.\n"
     ]
    },
    {
     "name": "stdout",
     "output_type": "stream",
     "text": [
      "i 34\n",
      "filename pop.00085.wav\n",
      "label pop\n",
      "track_id 00085.wav\n"
     ]
    },
    {
     "name": "stderr",
     "output_type": "stream",
     "text": [
      "It is strongly recommended to pass the ``sampling_rate`` argument to this function. Failing to do so can result in silent errors that might be hard to debug.\n"
     ]
    },
    {
     "name": "stdout",
     "output_type": "stream",
     "text": [
      "i 35\n",
      "filename pop.00091.wav\n",
      "label pop\n",
      "track_id 00091.wav\n"
     ]
    },
    {
     "name": "stderr",
     "output_type": "stream",
     "text": [
      "It is strongly recommended to pass the ``sampling_rate`` argument to this function. Failing to do so can result in silent errors that might be hard to debug.\n"
     ]
    },
    {
     "name": "stdout",
     "output_type": "stream",
     "text": [
      "i 36\n",
      "filename pop.00046.wav\n",
      "label pop\n",
      "track_id 00046.wav\n"
     ]
    },
    {
     "name": "stderr",
     "output_type": "stream",
     "text": [
      "It is strongly recommended to pass the ``sampling_rate`` argument to this function. Failing to do so can result in silent errors that might be hard to debug.\n"
     ]
    },
    {
     "name": "stdout",
     "output_type": "stream",
     "text": [
      "i 37\n",
      "filename pop.00052.wav\n",
      "label pop\n",
      "track_id 00052.wav\n"
     ]
    },
    {
     "name": "stderr",
     "output_type": "stream",
     "text": [
      "It is strongly recommended to pass the ``sampling_rate`` argument to this function. Failing to do so can result in silent errors that might be hard to debug.\n"
     ]
    },
    {
     "name": "stdout",
     "output_type": "stream",
     "text": [
      "i 38\n",
      "filename pop.00056.wav\n",
      "label pop\n",
      "track_id 00056.wav\n"
     ]
    },
    {
     "name": "stderr",
     "output_type": "stream",
     "text": [
      "It is strongly recommended to pass the ``sampling_rate`` argument to this function. Failing to do so can result in silent errors that might be hard to debug.\n"
     ]
    },
    {
     "name": "stdout",
     "output_type": "stream",
     "text": [
      "i 39\n",
      "filename pop.00042.wav\n",
      "label pop\n",
      "track_id 00042.wav\n"
     ]
    },
    {
     "name": "stderr",
     "output_type": "stream",
     "text": [
      "It is strongly recommended to pass the ``sampling_rate`` argument to this function. Failing to do so can result in silent errors that might be hard to debug.\n"
     ]
    },
    {
     "name": "stdout",
     "output_type": "stream",
     "text": [
      "i 40\n",
      "filename pop.00095.wav\n",
      "label pop\n",
      "track_id 00095.wav\n"
     ]
    },
    {
     "name": "stderr",
     "output_type": "stream",
     "text": [
      "It is strongly recommended to pass the ``sampling_rate`` argument to this function. Failing to do so can result in silent errors that might be hard to debug.\n"
     ]
    },
    {
     "name": "stdout",
     "output_type": "stream",
     "text": [
      "i 41\n",
      "filename pop.00081.wav\n",
      "label pop\n",
      "track_id 00081.wav\n"
     ]
    },
    {
     "name": "stderr",
     "output_type": "stream",
     "text": [
      "It is strongly recommended to pass the ``sampling_rate`` argument to this function. Failing to do so can result in silent errors that might be hard to debug.\n"
     ]
    },
    {
     "name": "stdout",
     "output_type": "stream",
     "text": [
      "i 42\n",
      "filename pop.00080.wav\n",
      "label pop\n",
      "track_id 00080.wav\n"
     ]
    },
    {
     "name": "stderr",
     "output_type": "stream",
     "text": [
      "It is strongly recommended to pass the ``sampling_rate`` argument to this function. Failing to do so can result in silent errors that might be hard to debug.\n"
     ]
    },
    {
     "name": "stdout",
     "output_type": "stream",
     "text": [
      "i 43\n",
      "filename pop.00094.wav\n",
      "label pop\n",
      "track_id 00094.wav\n"
     ]
    },
    {
     "name": "stderr",
     "output_type": "stream",
     "text": [
      "It is strongly recommended to pass the ``sampling_rate`` argument to this function. Failing to do so can result in silent errors that might be hard to debug.\n"
     ]
    },
    {
     "name": "stdout",
     "output_type": "stream",
     "text": [
      "i 44\n",
      "filename pop.00043.wav\n",
      "label pop\n",
      "track_id 00043.wav\n"
     ]
    },
    {
     "name": "stderr",
     "output_type": "stream",
     "text": [
      "It is strongly recommended to pass the ``sampling_rate`` argument to this function. Failing to do so can result in silent errors that might be hard to debug.\n"
     ]
    },
    {
     "name": "stdout",
     "output_type": "stream",
     "text": [
      "i 45\n",
      "filename pop.00057.wav\n",
      "label pop\n",
      "track_id 00057.wav\n"
     ]
    },
    {
     "name": "stderr",
     "output_type": "stream",
     "text": [
      "It is strongly recommended to pass the ``sampling_rate`` argument to this function. Failing to do so can result in silent errors that might be hard to debug.\n"
     ]
    },
    {
     "name": "stdout",
     "output_type": "stream",
     "text": [
      "i 46\n",
      "filename pop.00069.wav\n",
      "label pop\n",
      "track_id 00069.wav\n"
     ]
    },
    {
     "name": "stderr",
     "output_type": "stream",
     "text": [
      "It is strongly recommended to pass the ``sampling_rate`` argument to this function. Failing to do so can result in silent errors that might be hard to debug.\n"
     ]
    },
    {
     "name": "stdout",
     "output_type": "stream",
     "text": [
      "i 47\n",
      "filename pop.00041.wav\n",
      "label pop\n",
      "track_id 00041.wav\n"
     ]
    },
    {
     "name": "stderr",
     "output_type": "stream",
     "text": [
      "It is strongly recommended to pass the ``sampling_rate`` argument to this function. Failing to do so can result in silent errors that might be hard to debug.\n"
     ]
    },
    {
     "name": "stdout",
     "output_type": "stream",
     "text": [
      "i 48\n",
      "filename pop.00055.wav\n",
      "label pop\n",
      "track_id 00055.wav\n"
     ]
    },
    {
     "name": "stderr",
     "output_type": "stream",
     "text": [
      "It is strongly recommended to pass the ``sampling_rate`` argument to this function. Failing to do so can result in silent errors that might be hard to debug.\n"
     ]
    },
    {
     "name": "stdout",
     "output_type": "stream",
     "text": [
      "i 49\n",
      "filename pop.00082.wav\n",
      "label pop\n",
      "track_id 00082.wav\n"
     ]
    },
    {
     "name": "stderr",
     "output_type": "stream",
     "text": [
      "It is strongly recommended to pass the ``sampling_rate`` argument to this function. Failing to do so can result in silent errors that might be hard to debug.\n"
     ]
    },
    {
     "name": "stdout",
     "output_type": "stream",
     "text": [
      "i 50\n",
      "filename pop.00096.wav\n",
      "label pop\n",
      "track_id 00096.wav\n"
     ]
    },
    {
     "name": "stderr",
     "output_type": "stream",
     "text": [
      "It is strongly recommended to pass the ``sampling_rate`` argument to this function. Failing to do so can result in silent errors that might be hard to debug.\n"
     ]
    },
    {
     "name": "stdout",
     "output_type": "stream",
     "text": [
      "i 51\n",
      "filename pop.00097.wav\n",
      "label pop\n",
      "track_id 00097.wav\n"
     ]
    },
    {
     "name": "stderr",
     "output_type": "stream",
     "text": [
      "It is strongly recommended to pass the ``sampling_rate`` argument to this function. Failing to do so can result in silent errors that might be hard to debug.\n"
     ]
    },
    {
     "name": "stdout",
     "output_type": "stream",
     "text": [
      "i 52\n",
      "filename pop.00083.wav\n",
      "label pop\n",
      "track_id 00083.wav\n"
     ]
    },
    {
     "name": "stderr",
     "output_type": "stream",
     "text": [
      "It is strongly recommended to pass the ``sampling_rate`` argument to this function. Failing to do so can result in silent errors that might be hard to debug.\n"
     ]
    },
    {
     "name": "stdout",
     "output_type": "stream",
     "text": [
      "i 53\n",
      "filename pop.00054.wav\n",
      "label pop\n",
      "track_id 00054.wav\n"
     ]
    },
    {
     "name": "stderr",
     "output_type": "stream",
     "text": [
      "It is strongly recommended to pass the ``sampling_rate`` argument to this function. Failing to do so can result in silent errors that might be hard to debug.\n"
     ]
    },
    {
     "name": "stdout",
     "output_type": "stream",
     "text": [
      "i 54\n",
      "filename pop.00040.wav\n",
      "label pop\n",
      "track_id 00040.wav\n"
     ]
    },
    {
     "name": "stderr",
     "output_type": "stream",
     "text": [
      "It is strongly recommended to pass the ``sampling_rate`` argument to this function. Failing to do so can result in silent errors that might be hard to debug.\n"
     ]
    },
    {
     "name": "stdout",
     "output_type": "stream",
     "text": [
      "i 55\n",
      "filename pop.00068.wav\n",
      "label pop\n",
      "track_id 00068.wav\n"
     ]
    },
    {
     "name": "stderr",
     "output_type": "stream",
     "text": [
      "It is strongly recommended to pass the ``sampling_rate`` argument to this function. Failing to do so can result in silent errors that might be hard to debug.\n"
     ]
    },
    {
     "name": "stdout",
     "output_type": "stream",
     "text": [
      "i 56\n",
      "filename pop.00065.wav\n",
      "label pop\n",
      "track_id 00065.wav\n"
     ]
    },
    {
     "name": "stderr",
     "output_type": "stream",
     "text": [
      "It is strongly recommended to pass the ``sampling_rate`` argument to this function. Failing to do so can result in silent errors that might be hard to debug.\n"
     ]
    },
    {
     "name": "stdout",
     "output_type": "stream",
     "text": [
      "i 57\n",
      "filename pop.00071.wav\n",
      "label pop\n",
      "track_id 00071.wav\n"
     ]
    },
    {
     "name": "stderr",
     "output_type": "stream",
     "text": [
      "It is strongly recommended to pass the ``sampling_rate`` argument to this function. Failing to do so can result in silent errors that might be hard to debug.\n"
     ]
    },
    {
     "name": "stdout",
     "output_type": "stream",
     "text": [
      "i 58\n",
      "filename pop.00059.wav\n",
      "label pop\n",
      "track_id 00059.wav\n"
     ]
    },
    {
     "name": "stderr",
     "output_type": "stream",
     "text": [
      "It is strongly recommended to pass the ``sampling_rate`` argument to this function. Failing to do so can result in silent errors that might be hard to debug.\n"
     ]
    },
    {
     "name": "stdout",
     "output_type": "stream",
     "text": [
      "i 59\n",
      "filename pop.00058.wav\n",
      "label pop\n",
      "track_id 00058.wav\n"
     ]
    },
    {
     "name": "stderr",
     "output_type": "stream",
     "text": [
      "It is strongly recommended to pass the ``sampling_rate`` argument to this function. Failing to do so can result in silent errors that might be hard to debug.\n"
     ]
    },
    {
     "name": "stdout",
     "output_type": "stream",
     "text": [
      "i 60\n",
      "filename pop.00070.wav\n",
      "label pop\n",
      "track_id 00070.wav\n"
     ]
    },
    {
     "name": "stderr",
     "output_type": "stream",
     "text": [
      "It is strongly recommended to pass the ``sampling_rate`` argument to this function. Failing to do so can result in silent errors that might be hard to debug.\n"
     ]
    },
    {
     "name": "stdout",
     "output_type": "stream",
     "text": [
      "i 61\n",
      "filename pop.00064.wav\n",
      "label pop\n",
      "track_id 00064.wav\n"
     ]
    },
    {
     "name": "stderr",
     "output_type": "stream",
     "text": [
      "It is strongly recommended to pass the ``sampling_rate`` argument to this function. Failing to do so can result in silent errors that might be hard to debug.\n"
     ]
    },
    {
     "name": "stdout",
     "output_type": "stream",
     "text": [
      "i 62\n",
      "filename pop.00072.wav\n",
      "label pop\n",
      "track_id 00072.wav\n"
     ]
    },
    {
     "name": "stderr",
     "output_type": "stream",
     "text": [
      "It is strongly recommended to pass the ``sampling_rate`` argument to this function. Failing to do so can result in silent errors that might be hard to debug.\n"
     ]
    },
    {
     "name": "stdout",
     "output_type": "stream",
     "text": [
      "i 63\n",
      "filename pop.00066.wav\n",
      "label pop\n",
      "track_id 00066.wav\n"
     ]
    },
    {
     "name": "stderr",
     "output_type": "stream",
     "text": [
      "It is strongly recommended to pass the ``sampling_rate`` argument to this function. Failing to do so can result in silent errors that might be hard to debug.\n"
     ]
    },
    {
     "name": "stdout",
     "output_type": "stream",
     "text": [
      "i 64\n",
      "filename pop.00099.wav\n",
      "label pop\n",
      "track_id 00099.wav\n"
     ]
    },
    {
     "name": "stderr",
     "output_type": "stream",
     "text": [
      "It is strongly recommended to pass the ``sampling_rate`` argument to this function. Failing to do so can result in silent errors that might be hard to debug.\n"
     ]
    },
    {
     "name": "stdout",
     "output_type": "stream",
     "text": [
      "i 65\n",
      "filename pop.00098.wav\n",
      "label pop\n",
      "track_id 00098.wav\n"
     ]
    },
    {
     "name": "stderr",
     "output_type": "stream",
     "text": [
      "It is strongly recommended to pass the ``sampling_rate`` argument to this function. Failing to do so can result in silent errors that might be hard to debug.\n"
     ]
    },
    {
     "name": "stdout",
     "output_type": "stream",
     "text": [
      "i 66\n",
      "filename pop.00067.wav\n",
      "label pop\n",
      "track_id 00067.wav\n"
     ]
    },
    {
     "name": "stderr",
     "output_type": "stream",
     "text": [
      "It is strongly recommended to pass the ``sampling_rate`` argument to this function. Failing to do so can result in silent errors that might be hard to debug.\n"
     ]
    },
    {
     "name": "stdout",
     "output_type": "stream",
     "text": [
      "i 67\n",
      "filename pop.00073.wav\n",
      "label pop\n",
      "track_id 00073.wav\n"
     ]
    },
    {
     "name": "stderr",
     "output_type": "stream",
     "text": [
      "It is strongly recommended to pass the ``sampling_rate`` argument to this function. Failing to do so can result in silent errors that might be hard to debug.\n"
     ]
    },
    {
     "name": "stdout",
     "output_type": "stream",
     "text": [
      "i 68\n",
      "filename pop.00077.wav\n",
      "label pop\n",
      "track_id 00077.wav\n"
     ]
    },
    {
     "name": "stderr",
     "output_type": "stream",
     "text": [
      "It is strongly recommended to pass the ``sampling_rate`` argument to this function. Failing to do so can result in silent errors that might be hard to debug.\n"
     ]
    },
    {
     "name": "stdout",
     "output_type": "stream",
     "text": [
      "i 69\n",
      "filename pop.00063.wav\n",
      "label pop\n",
      "track_id 00063.wav\n"
     ]
    },
    {
     "name": "stderr",
     "output_type": "stream",
     "text": [
      "It is strongly recommended to pass the ``sampling_rate`` argument to this function. Failing to do so can result in silent errors that might be hard to debug.\n"
     ]
    },
    {
     "name": "stdout",
     "output_type": "stream",
     "text": [
      "i 70\n",
      "filename pop.00088.wav\n",
      "label pop\n",
      "track_id 00088.wav\n"
     ]
    },
    {
     "name": "stderr",
     "output_type": "stream",
     "text": [
      "It is strongly recommended to pass the ``sampling_rate`` argument to this function. Failing to do so can result in silent errors that might be hard to debug.\n"
     ]
    },
    {
     "name": "stdout",
     "output_type": "stream",
     "text": [
      "i 71\n",
      "filename pop.00089.wav\n",
      "label pop\n",
      "track_id 00089.wav\n"
     ]
    },
    {
     "name": "stderr",
     "output_type": "stream",
     "text": [
      "It is strongly recommended to pass the ``sampling_rate`` argument to this function. Failing to do so can result in silent errors that might be hard to debug.\n"
     ]
    },
    {
     "name": "stdout",
     "output_type": "stream",
     "text": [
      "i 72\n",
      "filename pop.00062.wav\n",
      "label pop\n",
      "track_id 00062.wav\n"
     ]
    },
    {
     "name": "stderr",
     "output_type": "stream",
     "text": [
      "It is strongly recommended to pass the ``sampling_rate`` argument to this function. Failing to do so can result in silent errors that might be hard to debug.\n"
     ]
    },
    {
     "name": "stdout",
     "output_type": "stream",
     "text": [
      "i 73\n",
      "filename pop.00076.wav\n",
      "label pop\n",
      "track_id 00076.wav\n"
     ]
    },
    {
     "name": "stderr",
     "output_type": "stream",
     "text": [
      "It is strongly recommended to pass the ``sampling_rate`` argument to this function. Failing to do so can result in silent errors that might be hard to debug.\n"
     ]
    },
    {
     "name": "stdout",
     "output_type": "stream",
     "text": [
      "i 74\n",
      "filename pop.00048.wav\n",
      "label pop\n",
      "track_id 00048.wav\n"
     ]
    },
    {
     "name": "stderr",
     "output_type": "stream",
     "text": [
      "It is strongly recommended to pass the ``sampling_rate`` argument to this function. Failing to do so can result in silent errors that might be hard to debug.\n"
     ]
    },
    {
     "name": "stdout",
     "output_type": "stream",
     "text": [
      "i 75\n",
      "filename pop.00060.wav\n",
      "label pop\n",
      "track_id 00060.wav\n"
     ]
    },
    {
     "name": "stderr",
     "output_type": "stream",
     "text": [
      "It is strongly recommended to pass the ``sampling_rate`` argument to this function. Failing to do so can result in silent errors that might be hard to debug.\n"
     ]
    },
    {
     "name": "stdout",
     "output_type": "stream",
     "text": [
      "i 76\n",
      "filename pop.00074.wav\n",
      "label pop\n",
      "track_id 00074.wav\n"
     ]
    },
    {
     "name": "stderr",
     "output_type": "stream",
     "text": [
      "It is strongly recommended to pass the ``sampling_rate`` argument to this function. Failing to do so can result in silent errors that might be hard to debug.\n"
     ]
    },
    {
     "name": "stdout",
     "output_type": "stream",
     "text": [
      "i 77\n",
      "filename pop.00075.wav\n",
      "label pop\n",
      "track_id 00075.wav\n"
     ]
    },
    {
     "name": "stderr",
     "output_type": "stream",
     "text": [
      "It is strongly recommended to pass the ``sampling_rate`` argument to this function. Failing to do so can result in silent errors that might be hard to debug.\n"
     ]
    },
    {
     "name": "stdout",
     "output_type": "stream",
     "text": [
      "i 78\n",
      "filename pop.00061.wav\n",
      "label pop\n",
      "track_id 00061.wav\n"
     ]
    },
    {
     "name": "stderr",
     "output_type": "stream",
     "text": [
      "It is strongly recommended to pass the ``sampling_rate`` argument to this function. Failing to do so can result in silent errors that might be hard to debug.\n"
     ]
    },
    {
     "name": "stdout",
     "output_type": "stream",
     "text": [
      "i 79\n",
      "filename pop.00049.wav\n",
      "label pop\n",
      "track_id 00049.wav\n"
     ]
    },
    {
     "name": "stderr",
     "output_type": "stream",
     "text": [
      "It is strongly recommended to pass the ``sampling_rate`` argument to this function. Failing to do so can result in silent errors that might be hard to debug.\n"
     ]
    },
    {
     "name": "stdout",
     "output_type": "stream",
     "text": [
      "i 80\n",
      "filename pop.00006.wav\n",
      "label pop\n",
      "track_id 00006.wav\n"
     ]
    },
    {
     "name": "stderr",
     "output_type": "stream",
     "text": [
      "It is strongly recommended to pass the ``sampling_rate`` argument to this function. Failing to do so can result in silent errors that might be hard to debug.\n"
     ]
    },
    {
     "name": "stdout",
     "output_type": "stream",
     "text": [
      "i 81\n",
      "filename pop.00012.wav\n",
      "label pop\n",
      "track_id 00012.wav\n"
     ]
    },
    {
     "name": "stderr",
     "output_type": "stream",
     "text": [
      "It is strongly recommended to pass the ``sampling_rate`` argument to this function. Failing to do so can result in silent errors that might be hard to debug.\n"
     ]
    },
    {
     "name": "stdout",
     "output_type": "stream",
     "text": [
      "i 82\n",
      "filename pop.00013.wav\n",
      "label pop\n",
      "track_id 00013.wav\n"
     ]
    },
    {
     "name": "stderr",
     "output_type": "stream",
     "text": [
      "It is strongly recommended to pass the ``sampling_rate`` argument to this function. Failing to do so can result in silent errors that might be hard to debug.\n"
     ]
    },
    {
     "name": "stdout",
     "output_type": "stream",
     "text": [
      "i 83\n",
      "filename pop.00007.wav\n",
      "label pop\n",
      "track_id 00007.wav\n"
     ]
    },
    {
     "name": "stderr",
     "output_type": "stream",
     "text": [
      "It is strongly recommended to pass the ``sampling_rate`` argument to this function. Failing to do so can result in silent errors that might be hard to debug.\n"
     ]
    },
    {
     "name": "stdout",
     "output_type": "stream",
     "text": [
      "i 84\n",
      "filename pop.00011.wav\n",
      "label pop\n",
      "track_id 00011.wav\n"
     ]
    },
    {
     "name": "stderr",
     "output_type": "stream",
     "text": [
      "It is strongly recommended to pass the ``sampling_rate`` argument to this function. Failing to do so can result in silent errors that might be hard to debug.\n"
     ]
    },
    {
     "name": "stdout",
     "output_type": "stream",
     "text": [
      "i 85\n",
      "filename pop.00005.wav\n",
      "label pop\n",
      "track_id 00005.wav\n"
     ]
    },
    {
     "name": "stderr",
     "output_type": "stream",
     "text": [
      "It is strongly recommended to pass the ``sampling_rate`` argument to this function. Failing to do so can result in silent errors that might be hard to debug.\n"
     ]
    },
    {
     "name": "stdout",
     "output_type": "stream",
     "text": [
      "i 86\n",
      "filename pop.00039.wav\n",
      "label pop\n",
      "track_id 00039.wav\n"
     ]
    },
    {
     "name": "stderr",
     "output_type": "stream",
     "text": [
      "It is strongly recommended to pass the ``sampling_rate`` argument to this function. Failing to do so can result in silent errors that might be hard to debug.\n"
     ]
    },
    {
     "name": "stdout",
     "output_type": "stream",
     "text": [
      "i 87\n",
      "filename pop.00038.wav\n",
      "label pop\n",
      "track_id 00038.wav\n"
     ]
    },
    {
     "name": "stderr",
     "output_type": "stream",
     "text": [
      "It is strongly recommended to pass the ``sampling_rate`` argument to this function. Failing to do so can result in silent errors that might be hard to debug.\n"
     ]
    },
    {
     "name": "stdout",
     "output_type": "stream",
     "text": [
      "i 88\n",
      "filename pop.00004.wav\n",
      "label pop\n",
      "track_id 00004.wav\n"
     ]
    },
    {
     "name": "stderr",
     "output_type": "stream",
     "text": [
      "It is strongly recommended to pass the ``sampling_rate`` argument to this function. Failing to do so can result in silent errors that might be hard to debug.\n"
     ]
    },
    {
     "name": "stdout",
     "output_type": "stream",
     "text": [
      "i 89\n",
      "filename pop.00010.wav\n",
      "label pop\n",
      "track_id 00010.wav\n"
     ]
    },
    {
     "name": "stderr",
     "output_type": "stream",
     "text": [
      "It is strongly recommended to pass the ``sampling_rate`` argument to this function. Failing to do so can result in silent errors that might be hard to debug.\n"
     ]
    },
    {
     "name": "stdout",
     "output_type": "stream",
     "text": [
      "i 90\n",
      "filename pop.00028.wav\n",
      "label pop\n",
      "track_id 00028.wav\n"
     ]
    },
    {
     "name": "stderr",
     "output_type": "stream",
     "text": [
      "It is strongly recommended to pass the ``sampling_rate`` argument to this function. Failing to do so can result in silent errors that might be hard to debug.\n"
     ]
    },
    {
     "name": "stdout",
     "output_type": "stream",
     "text": [
      "i 91\n",
      "filename pop.00014.wav\n",
      "label pop\n",
      "track_id 00014.wav\n"
     ]
    },
    {
     "name": "stderr",
     "output_type": "stream",
     "text": [
      "It is strongly recommended to pass the ``sampling_rate`` argument to this function. Failing to do so can result in silent errors that might be hard to debug.\n"
     ]
    },
    {
     "name": "stdout",
     "output_type": "stream",
     "text": [
      "i 92\n",
      "filename pop.00000.wav\n",
      "label pop\n",
      "track_id 00000.wav\n"
     ]
    },
    {
     "name": "stderr",
     "output_type": "stream",
     "text": [
      "It is strongly recommended to pass the ``sampling_rate`` argument to this function. Failing to do so can result in silent errors that might be hard to debug.\n"
     ]
    },
    {
     "name": "stdout",
     "output_type": "stream",
     "text": [
      "i 93\n",
      "filename pop.00001.wav\n",
      "label pop\n",
      "track_id 00001.wav\n"
     ]
    },
    {
     "name": "stderr",
     "output_type": "stream",
     "text": [
      "It is strongly recommended to pass the ``sampling_rate`` argument to this function. Failing to do so can result in silent errors that might be hard to debug.\n"
     ]
    },
    {
     "name": "stdout",
     "output_type": "stream",
     "text": [
      "i 94\n",
      "filename pop.00015.wav\n",
      "label pop\n",
      "track_id 00015.wav\n"
     ]
    },
    {
     "name": "stderr",
     "output_type": "stream",
     "text": [
      "It is strongly recommended to pass the ``sampling_rate`` argument to this function. Failing to do so can result in silent errors that might be hard to debug.\n"
     ]
    },
    {
     "name": "stdout",
     "output_type": "stream",
     "text": [
      "i 95\n",
      "filename pop.00029.wav\n",
      "label pop\n",
      "track_id 00029.wav\n"
     ]
    },
    {
     "name": "stderr",
     "output_type": "stream",
     "text": [
      "It is strongly recommended to pass the ``sampling_rate`` argument to this function. Failing to do so can result in silent errors that might be hard to debug.\n"
     ]
    },
    {
     "name": "stdout",
     "output_type": "stream",
     "text": [
      "i 96\n",
      "filename pop.00003.wav\n",
      "label pop\n",
      "track_id 00003.wav\n"
     ]
    },
    {
     "name": "stderr",
     "output_type": "stream",
     "text": [
      "It is strongly recommended to pass the ``sampling_rate`` argument to this function. Failing to do so can result in silent errors that might be hard to debug.\n"
     ]
    },
    {
     "name": "stdout",
     "output_type": "stream",
     "text": [
      "i 97\n",
      "filename pop.00017.wav\n",
      "label pop\n",
      "track_id 00017.wav\n"
     ]
    },
    {
     "name": "stderr",
     "output_type": "stream",
     "text": [
      "It is strongly recommended to pass the ``sampling_rate`` argument to this function. Failing to do so can result in silent errors that might be hard to debug.\n"
     ]
    },
    {
     "name": "stdout",
     "output_type": "stream",
     "text": [
      "i 98\n",
      "filename pop.00016.wav\n",
      "label pop\n",
      "track_id 00016.wav\n"
     ]
    },
    {
     "name": "stderr",
     "output_type": "stream",
     "text": [
      "It is strongly recommended to pass the ``sampling_rate`` argument to this function. Failing to do so can result in silent errors that might be hard to debug.\n"
     ]
    },
    {
     "name": "stdout",
     "output_type": "stream",
     "text": [
      "i 99\n",
      "filename pop.00002.wav\n",
      "label pop\n",
      "track_id 00002.wav\n"
     ]
    },
    {
     "name": "stderr",
     "output_type": "stream",
     "text": [
      "2it [06:12, 186.06s/it]It is strongly recommended to pass the ``sampling_rate`` argument to this function. Failing to do so can result in silent errors that might be hard to debug.\n"
     ]
    },
    {
     "name": "stdout",
     "output_type": "stream",
     "text": [
      "i 100\n",
      "root ../audios/gtzan/metal\n",
      "dirs []\n",
      "files ['metal.00022.wav', 'metal.00036.wav', 'metal.00037.wav', 'metal.00023.wav', 'metal.00009.wav', 'metal.00035.wav', 'metal.00021.wav', 'metal.00020.wav', 'metal.00034.wav', 'metal.00008.wav', 'metal.00030.wav', 'metal.00024.wav', 'metal.00018.wav', 'metal.00019.wav', 'metal.00025.wav', 'metal.00031.wav', 'metal.00027.wav', 'metal.00033.wav', 'metal.00032.wav', 'metal.00026.wav', 'metal.00082.wav', 'metal.00096.wav', 'metal.00069.wav', 'metal.00041.wav', 'metal.00055.wav', 'metal.00054.wav', 'metal.00040.wav', 'metal.00068.wav', 'metal.00097.wav', 'metal.00083.wav', 'metal.00095.wav', 'metal.00081.wav', 'metal.00056.wav', 'metal.00042.wav', 'metal.00043.wav', 'metal.00057.wav', 'metal.00080.wav', 'metal.00094.wav', 'metal.00090.wav', 'metal.00084.wav', 'metal.00053.wav', 'metal.00047.wav', 'metal.00046.wav', 'metal.00052.wav', 'metal.00085.wav', 'metal.00091.wav', 'metal.00087.wav', 'metal.00093.wav', 'metal.00044.wav', 'metal.00050.wav', 'metal.00078.wav', 'metal.00079.wav', 'metal.00051.wav', 'metal.00045.wav', 'metal.00092.wav', 'metal.00086.wav', 'metal.00048.wav', 'metal.00060.wav', 'metal.00074.wav', 'metal.00075.wav', 'metal.00061.wav', 'metal.00049.wav', 'metal.00088.wav', 'metal.00077.wav', 'metal.00063.wav', 'metal.00062.wav', 'metal.00076.wav', 'metal.00089.wav', 'metal.00099.wav', 'metal.00072.wav', 'metal.00066.wav', 'metal.00067.wav', 'metal.00073.wav', 'metal.00098.wav', 'metal.00065.wav', 'metal.00071.wav', 'metal.00059.wav', 'metal.00058.wav', 'metal.00070.wav', 'metal.00064.wav', 'metal.00003.wav', 'metal.00017.wav', 'metal.00016.wav', 'metal.00002.wav', 'metal.00028.wav', 'metal.00014.wav', 'metal.00000.wav', 'metal.00001.wav', 'metal.00015.wav', 'metal.00029.wav', 'metal.00011.wav', 'metal.00005.wav', 'metal.00039.wav', 'metal.00038.wav', 'metal.00004.wav', 'metal.00010.wav', 'metal.00006.wav', 'metal.00012.wav', 'metal.00013.wav', 'metal.00007.wav']\n",
      "filename metal.00022.wav\n",
      "label metal\n",
      "track_id 00022.wav\n"
     ]
    },
    {
     "name": "stderr",
     "output_type": "stream",
     "text": [
      "It is strongly recommended to pass the ``sampling_rate`` argument to this function. Failing to do so can result in silent errors that might be hard to debug.\n"
     ]
    },
    {
     "name": "stdout",
     "output_type": "stream",
     "text": [
      "i 101\n",
      "filename metal.00036.wav\n",
      "label metal\n",
      "track_id 00036.wav\n"
     ]
    },
    {
     "name": "stderr",
     "output_type": "stream",
     "text": [
      "It is strongly recommended to pass the ``sampling_rate`` argument to this function. Failing to do so can result in silent errors that might be hard to debug.\n"
     ]
    },
    {
     "name": "stdout",
     "output_type": "stream",
     "text": [
      "i 102\n",
      "filename metal.00037.wav\n",
      "label metal\n",
      "track_id 00037.wav\n"
     ]
    },
    {
     "name": "stderr",
     "output_type": "stream",
     "text": [
      "It is strongly recommended to pass the ``sampling_rate`` argument to this function. Failing to do so can result in silent errors that might be hard to debug.\n"
     ]
    },
    {
     "name": "stdout",
     "output_type": "stream",
     "text": [
      "i 103\n",
      "filename metal.00023.wav\n",
      "label metal\n",
      "track_id 00023.wav\n"
     ]
    },
    {
     "name": "stderr",
     "output_type": "stream",
     "text": [
      "It is strongly recommended to pass the ``sampling_rate`` argument to this function. Failing to do so can result in silent errors that might be hard to debug.\n"
     ]
    },
    {
     "name": "stdout",
     "output_type": "stream",
     "text": [
      "i 104\n",
      "filename metal.00009.wav\n",
      "label metal\n",
      "track_id 00009.wav\n"
     ]
    },
    {
     "name": "stderr",
     "output_type": "stream",
     "text": [
      "It is strongly recommended to pass the ``sampling_rate`` argument to this function. Failing to do so can result in silent errors that might be hard to debug.\n"
     ]
    },
    {
     "name": "stdout",
     "output_type": "stream",
     "text": [
      "i 105\n",
      "filename metal.00035.wav\n",
      "label metal\n",
      "track_id 00035.wav\n"
     ]
    },
    {
     "name": "stderr",
     "output_type": "stream",
     "text": [
      "It is strongly recommended to pass the ``sampling_rate`` argument to this function. Failing to do so can result in silent errors that might be hard to debug.\n"
     ]
    },
    {
     "name": "stdout",
     "output_type": "stream",
     "text": [
      "i 106\n",
      "filename metal.00021.wav\n",
      "label metal\n",
      "track_id 00021.wav\n"
     ]
    },
    {
     "name": "stderr",
     "output_type": "stream",
     "text": [
      "It is strongly recommended to pass the ``sampling_rate`` argument to this function. Failing to do so can result in silent errors that might be hard to debug.\n"
     ]
    },
    {
     "name": "stdout",
     "output_type": "stream",
     "text": [
      "i 107\n",
      "filename metal.00020.wav\n",
      "label metal\n",
      "track_id 00020.wav\n"
     ]
    },
    {
     "name": "stderr",
     "output_type": "stream",
     "text": [
      "It is strongly recommended to pass the ``sampling_rate`` argument to this function. Failing to do so can result in silent errors that might be hard to debug.\n"
     ]
    },
    {
     "name": "stdout",
     "output_type": "stream",
     "text": [
      "i 108\n",
      "filename metal.00034.wav\n",
      "label metal\n",
      "track_id 00034.wav\n"
     ]
    },
    {
     "name": "stderr",
     "output_type": "stream",
     "text": [
      "It is strongly recommended to pass the ``sampling_rate`` argument to this function. Failing to do so can result in silent errors that might be hard to debug.\n"
     ]
    },
    {
     "name": "stdout",
     "output_type": "stream",
     "text": [
      "i 109\n",
      "filename metal.00008.wav\n",
      "label metal\n",
      "track_id 00008.wav\n"
     ]
    },
    {
     "name": "stderr",
     "output_type": "stream",
     "text": [
      "It is strongly recommended to pass the ``sampling_rate`` argument to this function. Failing to do so can result in silent errors that might be hard to debug.\n"
     ]
    },
    {
     "name": "stdout",
     "output_type": "stream",
     "text": [
      "i 110\n",
      "filename metal.00030.wav\n",
      "label metal\n",
      "track_id 00030.wav\n"
     ]
    },
    {
     "name": "stderr",
     "output_type": "stream",
     "text": [
      "It is strongly recommended to pass the ``sampling_rate`` argument to this function. Failing to do so can result in silent errors that might be hard to debug.\n"
     ]
    },
    {
     "name": "stdout",
     "output_type": "stream",
     "text": [
      "i 111\n",
      "filename metal.00024.wav\n",
      "label metal\n",
      "track_id 00024.wav\n"
     ]
    },
    {
     "name": "stderr",
     "output_type": "stream",
     "text": [
      "It is strongly recommended to pass the ``sampling_rate`` argument to this function. Failing to do so can result in silent errors that might be hard to debug.\n"
     ]
    },
    {
     "name": "stdout",
     "output_type": "stream",
     "text": [
      "i 112\n",
      "filename metal.00018.wav\n",
      "label metal\n",
      "track_id 00018.wav\n"
     ]
    },
    {
     "name": "stderr",
     "output_type": "stream",
     "text": [
      "It is strongly recommended to pass the ``sampling_rate`` argument to this function. Failing to do so can result in silent errors that might be hard to debug.\n"
     ]
    },
    {
     "name": "stdout",
     "output_type": "stream",
     "text": [
      "i 113\n",
      "filename metal.00019.wav\n",
      "label metal\n",
      "track_id 00019.wav\n"
     ]
    },
    {
     "name": "stderr",
     "output_type": "stream",
     "text": [
      "It is strongly recommended to pass the ``sampling_rate`` argument to this function. Failing to do so can result in silent errors that might be hard to debug.\n"
     ]
    },
    {
     "name": "stdout",
     "output_type": "stream",
     "text": [
      "i 114\n",
      "filename metal.00025.wav\n",
      "label metal\n",
      "track_id 00025.wav\n"
     ]
    },
    {
     "name": "stderr",
     "output_type": "stream",
     "text": [
      "It is strongly recommended to pass the ``sampling_rate`` argument to this function. Failing to do so can result in silent errors that might be hard to debug.\n"
     ]
    },
    {
     "name": "stdout",
     "output_type": "stream",
     "text": [
      "i 115\n",
      "filename metal.00031.wav\n",
      "label metal\n",
      "track_id 00031.wav\n"
     ]
    },
    {
     "name": "stderr",
     "output_type": "stream",
     "text": [
      "It is strongly recommended to pass the ``sampling_rate`` argument to this function. Failing to do so can result in silent errors that might be hard to debug.\n"
     ]
    },
    {
     "name": "stdout",
     "output_type": "stream",
     "text": [
      "i 116\n",
      "filename metal.00027.wav\n",
      "label metal\n",
      "track_id 00027.wav\n"
     ]
    },
    {
     "name": "stderr",
     "output_type": "stream",
     "text": [
      "It is strongly recommended to pass the ``sampling_rate`` argument to this function. Failing to do so can result in silent errors that might be hard to debug.\n"
     ]
    },
    {
     "name": "stdout",
     "output_type": "stream",
     "text": [
      "i 117\n",
      "filename metal.00033.wav\n",
      "label metal\n",
      "track_id 00033.wav\n"
     ]
    },
    {
     "name": "stderr",
     "output_type": "stream",
     "text": [
      "It is strongly recommended to pass the ``sampling_rate`` argument to this function. Failing to do so can result in silent errors that might be hard to debug.\n"
     ]
    },
    {
     "name": "stdout",
     "output_type": "stream",
     "text": [
      "i 118\n",
      "filename metal.00032.wav\n",
      "label metal\n",
      "track_id 00032.wav\n"
     ]
    },
    {
     "name": "stderr",
     "output_type": "stream",
     "text": [
      "It is strongly recommended to pass the ``sampling_rate`` argument to this function. Failing to do so can result in silent errors that might be hard to debug.\n"
     ]
    },
    {
     "name": "stdout",
     "output_type": "stream",
     "text": [
      "i 119\n",
      "filename metal.00026.wav\n",
      "label metal\n",
      "track_id 00026.wav\n"
     ]
    },
    {
     "name": "stderr",
     "output_type": "stream",
     "text": [
      "It is strongly recommended to pass the ``sampling_rate`` argument to this function. Failing to do so can result in silent errors that might be hard to debug.\n"
     ]
    },
    {
     "name": "stdout",
     "output_type": "stream",
     "text": [
      "i 120\n",
      "filename metal.00082.wav\n",
      "label metal\n",
      "track_id 00082.wav\n"
     ]
    },
    {
     "name": "stderr",
     "output_type": "stream",
     "text": [
      "It is strongly recommended to pass the ``sampling_rate`` argument to this function. Failing to do so can result in silent errors that might be hard to debug.\n"
     ]
    },
    {
     "name": "stdout",
     "output_type": "stream",
     "text": [
      "i 121\n",
      "filename metal.00096.wav\n",
      "label metal\n",
      "track_id 00096.wav\n"
     ]
    },
    {
     "name": "stderr",
     "output_type": "stream",
     "text": [
      "It is strongly recommended to pass the ``sampling_rate`` argument to this function. Failing to do so can result in silent errors that might be hard to debug.\n"
     ]
    },
    {
     "name": "stdout",
     "output_type": "stream",
     "text": [
      "i 122\n",
      "filename metal.00069.wav\n",
      "label metal\n",
      "track_id 00069.wav\n"
     ]
    },
    {
     "name": "stderr",
     "output_type": "stream",
     "text": [
      "It is strongly recommended to pass the ``sampling_rate`` argument to this function. Failing to do so can result in silent errors that might be hard to debug.\n"
     ]
    },
    {
     "name": "stdout",
     "output_type": "stream",
     "text": [
      "i 123\n",
      "filename metal.00041.wav\n",
      "label metal\n",
      "track_id 00041.wav\n"
     ]
    },
    {
     "name": "stderr",
     "output_type": "stream",
     "text": [
      "It is strongly recommended to pass the ``sampling_rate`` argument to this function. Failing to do so can result in silent errors that might be hard to debug.\n"
     ]
    },
    {
     "name": "stdout",
     "output_type": "stream",
     "text": [
      "i 124\n",
      "filename metal.00055.wav\n",
      "label metal\n",
      "track_id 00055.wav\n"
     ]
    },
    {
     "name": "stderr",
     "output_type": "stream",
     "text": [
      "It is strongly recommended to pass the ``sampling_rate`` argument to this function. Failing to do so can result in silent errors that might be hard to debug.\n"
     ]
    },
    {
     "name": "stdout",
     "output_type": "stream",
     "text": [
      "i 125\n",
      "filename metal.00054.wav\n",
      "label metal\n",
      "track_id 00054.wav\n"
     ]
    },
    {
     "name": "stderr",
     "output_type": "stream",
     "text": [
      "It is strongly recommended to pass the ``sampling_rate`` argument to this function. Failing to do so can result in silent errors that might be hard to debug.\n"
     ]
    },
    {
     "name": "stdout",
     "output_type": "stream",
     "text": [
      "i 126\n",
      "filename metal.00040.wav\n",
      "label metal\n",
      "track_id 00040.wav\n"
     ]
    },
    {
     "name": "stderr",
     "output_type": "stream",
     "text": [
      "It is strongly recommended to pass the ``sampling_rate`` argument to this function. Failing to do so can result in silent errors that might be hard to debug.\n"
     ]
    },
    {
     "name": "stdout",
     "output_type": "stream",
     "text": [
      "i 127\n",
      "filename metal.00068.wav\n",
      "label metal\n",
      "track_id 00068.wav\n"
     ]
    },
    {
     "name": "stderr",
     "output_type": "stream",
     "text": [
      "It is strongly recommended to pass the ``sampling_rate`` argument to this function. Failing to do so can result in silent errors that might be hard to debug.\n"
     ]
    },
    {
     "name": "stdout",
     "output_type": "stream",
     "text": [
      "i 128\n",
      "filename metal.00097.wav\n",
      "label metal\n",
      "track_id 00097.wav\n"
     ]
    },
    {
     "name": "stderr",
     "output_type": "stream",
     "text": [
      "It is strongly recommended to pass the ``sampling_rate`` argument to this function. Failing to do so can result in silent errors that might be hard to debug.\n"
     ]
    },
    {
     "name": "stdout",
     "output_type": "stream",
     "text": [
      "i 129\n",
      "filename metal.00083.wav\n",
      "label metal\n",
      "track_id 00083.wav\n"
     ]
    },
    {
     "name": "stderr",
     "output_type": "stream",
     "text": [
      "It is strongly recommended to pass the ``sampling_rate`` argument to this function. Failing to do so can result in silent errors that might be hard to debug.\n"
     ]
    },
    {
     "name": "stdout",
     "output_type": "stream",
     "text": [
      "i 130\n",
      "filename metal.00095.wav\n",
      "label metal\n",
      "track_id 00095.wav\n"
     ]
    },
    {
     "name": "stderr",
     "output_type": "stream",
     "text": [
      "It is strongly recommended to pass the ``sampling_rate`` argument to this function. Failing to do so can result in silent errors that might be hard to debug.\n"
     ]
    },
    {
     "name": "stdout",
     "output_type": "stream",
     "text": [
      "i 131\n",
      "filename metal.00081.wav\n",
      "label metal\n",
      "track_id 00081.wav\n"
     ]
    },
    {
     "name": "stderr",
     "output_type": "stream",
     "text": [
      "It is strongly recommended to pass the ``sampling_rate`` argument to this function. Failing to do so can result in silent errors that might be hard to debug.\n"
     ]
    },
    {
     "name": "stdout",
     "output_type": "stream",
     "text": [
      "i 132\n",
      "filename metal.00056.wav\n",
      "label metal\n",
      "track_id 00056.wav\n"
     ]
    },
    {
     "name": "stderr",
     "output_type": "stream",
     "text": [
      "It is strongly recommended to pass the ``sampling_rate`` argument to this function. Failing to do so can result in silent errors that might be hard to debug.\n"
     ]
    },
    {
     "name": "stdout",
     "output_type": "stream",
     "text": [
      "i 133\n",
      "filename metal.00042.wav\n",
      "label metal\n",
      "track_id 00042.wav\n"
     ]
    },
    {
     "name": "stderr",
     "output_type": "stream",
     "text": [
      "It is strongly recommended to pass the ``sampling_rate`` argument to this function. Failing to do so can result in silent errors that might be hard to debug.\n"
     ]
    },
    {
     "name": "stdout",
     "output_type": "stream",
     "text": [
      "i 134\n",
      "filename metal.00043.wav\n",
      "label metal\n",
      "track_id 00043.wav\n"
     ]
    },
    {
     "name": "stderr",
     "output_type": "stream",
     "text": [
      "It is strongly recommended to pass the ``sampling_rate`` argument to this function. Failing to do so can result in silent errors that might be hard to debug.\n"
     ]
    },
    {
     "name": "stdout",
     "output_type": "stream",
     "text": [
      "i 135\n",
      "filename metal.00057.wav\n",
      "label metal\n",
      "track_id 00057.wav\n"
     ]
    },
    {
     "name": "stderr",
     "output_type": "stream",
     "text": [
      "It is strongly recommended to pass the ``sampling_rate`` argument to this function. Failing to do so can result in silent errors that might be hard to debug.\n"
     ]
    },
    {
     "name": "stdout",
     "output_type": "stream",
     "text": [
      "i 136\n",
      "filename metal.00080.wav\n",
      "label metal\n",
      "track_id 00080.wav\n"
     ]
    },
    {
     "name": "stderr",
     "output_type": "stream",
     "text": [
      "It is strongly recommended to pass the ``sampling_rate`` argument to this function. Failing to do so can result in silent errors that might be hard to debug.\n"
     ]
    },
    {
     "name": "stdout",
     "output_type": "stream",
     "text": [
      "i 137\n",
      "filename metal.00094.wav\n",
      "label metal\n",
      "track_id 00094.wav\n"
     ]
    },
    {
     "name": "stderr",
     "output_type": "stream",
     "text": [
      "It is strongly recommended to pass the ``sampling_rate`` argument to this function. Failing to do so can result in silent errors that might be hard to debug.\n"
     ]
    },
    {
     "name": "stdout",
     "output_type": "stream",
     "text": [
      "i 138\n",
      "filename metal.00090.wav\n",
      "label metal\n",
      "track_id 00090.wav\n"
     ]
    },
    {
     "name": "stderr",
     "output_type": "stream",
     "text": [
      "It is strongly recommended to pass the ``sampling_rate`` argument to this function. Failing to do so can result in silent errors that might be hard to debug.\n"
     ]
    },
    {
     "name": "stdout",
     "output_type": "stream",
     "text": [
      "i 139\n",
      "filename metal.00084.wav\n",
      "label metal\n",
      "track_id 00084.wav\n"
     ]
    },
    {
     "name": "stderr",
     "output_type": "stream",
     "text": [
      "It is strongly recommended to pass the ``sampling_rate`` argument to this function. Failing to do so can result in silent errors that might be hard to debug.\n"
     ]
    },
    {
     "name": "stdout",
     "output_type": "stream",
     "text": [
      "i 140\n",
      "filename metal.00053.wav\n",
      "label metal\n",
      "track_id 00053.wav\n"
     ]
    },
    {
     "name": "stderr",
     "output_type": "stream",
     "text": [
      "It is strongly recommended to pass the ``sampling_rate`` argument to this function. Failing to do so can result in silent errors that might be hard to debug.\n"
     ]
    },
    {
     "name": "stdout",
     "output_type": "stream",
     "text": [
      "i 141\n",
      "filename metal.00047.wav\n",
      "label metal\n",
      "track_id 00047.wav\n"
     ]
    },
    {
     "name": "stderr",
     "output_type": "stream",
     "text": [
      "It is strongly recommended to pass the ``sampling_rate`` argument to this function. Failing to do so can result in silent errors that might be hard to debug.\n"
     ]
    },
    {
     "name": "stdout",
     "output_type": "stream",
     "text": [
      "i 142\n",
      "filename metal.00046.wav\n",
      "label metal\n",
      "track_id 00046.wav\n"
     ]
    },
    {
     "name": "stderr",
     "output_type": "stream",
     "text": [
      "It is strongly recommended to pass the ``sampling_rate`` argument to this function. Failing to do so can result in silent errors that might be hard to debug.\n"
     ]
    },
    {
     "name": "stdout",
     "output_type": "stream",
     "text": [
      "i 143\n",
      "filename metal.00052.wav\n",
      "label metal\n",
      "track_id 00052.wav\n"
     ]
    },
    {
     "name": "stderr",
     "output_type": "stream",
     "text": [
      "It is strongly recommended to pass the ``sampling_rate`` argument to this function. Failing to do so can result in silent errors that might be hard to debug.\n"
     ]
    },
    {
     "name": "stdout",
     "output_type": "stream",
     "text": [
      "i 144\n",
      "filename metal.00085.wav\n",
      "label metal\n",
      "track_id 00085.wav\n"
     ]
    },
    {
     "name": "stderr",
     "output_type": "stream",
     "text": [
      "It is strongly recommended to pass the ``sampling_rate`` argument to this function. Failing to do so can result in silent errors that might be hard to debug.\n"
     ]
    },
    {
     "name": "stdout",
     "output_type": "stream",
     "text": [
      "i 145\n",
      "filename metal.00091.wav\n",
      "label metal\n",
      "track_id 00091.wav\n"
     ]
    },
    {
     "name": "stderr",
     "output_type": "stream",
     "text": [
      "It is strongly recommended to pass the ``sampling_rate`` argument to this function. Failing to do so can result in silent errors that might be hard to debug.\n"
     ]
    },
    {
     "name": "stdout",
     "output_type": "stream",
     "text": [
      "i 146\n",
      "filename metal.00087.wav\n",
      "label metal\n",
      "track_id 00087.wav\n"
     ]
    },
    {
     "name": "stderr",
     "output_type": "stream",
     "text": [
      "It is strongly recommended to pass the ``sampling_rate`` argument to this function. Failing to do so can result in silent errors that might be hard to debug.\n"
     ]
    },
    {
     "name": "stdout",
     "output_type": "stream",
     "text": [
      "i 147\n",
      "filename metal.00093.wav\n",
      "label metal\n",
      "track_id 00093.wav\n"
     ]
    },
    {
     "name": "stderr",
     "output_type": "stream",
     "text": [
      "It is strongly recommended to pass the ``sampling_rate`` argument to this function. Failing to do so can result in silent errors that might be hard to debug.\n"
     ]
    },
    {
     "name": "stdout",
     "output_type": "stream",
     "text": [
      "i 148\n",
      "filename metal.00044.wav\n",
      "label metal\n",
      "track_id 00044.wav\n"
     ]
    },
    {
     "name": "stderr",
     "output_type": "stream",
     "text": [
      "It is strongly recommended to pass the ``sampling_rate`` argument to this function. Failing to do so can result in silent errors that might be hard to debug.\n"
     ]
    },
    {
     "name": "stdout",
     "output_type": "stream",
     "text": [
      "i 149\n",
      "filename metal.00050.wav\n",
      "label metal\n",
      "track_id 00050.wav\n"
     ]
    },
    {
     "name": "stderr",
     "output_type": "stream",
     "text": [
      "It is strongly recommended to pass the ``sampling_rate`` argument to this function. Failing to do so can result in silent errors that might be hard to debug.\n"
     ]
    },
    {
     "name": "stdout",
     "output_type": "stream",
     "text": [
      "i 150\n",
      "filename metal.00078.wav\n",
      "label metal\n",
      "track_id 00078.wav\n"
     ]
    },
    {
     "name": "stderr",
     "output_type": "stream",
     "text": [
      "It is strongly recommended to pass the ``sampling_rate`` argument to this function. Failing to do so can result in silent errors that might be hard to debug.\n"
     ]
    },
    {
     "name": "stdout",
     "output_type": "stream",
     "text": [
      "i 151\n",
      "filename metal.00079.wav\n",
      "label metal\n",
      "track_id 00079.wav\n"
     ]
    },
    {
     "name": "stderr",
     "output_type": "stream",
     "text": [
      "It is strongly recommended to pass the ``sampling_rate`` argument to this function. Failing to do so can result in silent errors that might be hard to debug.\n"
     ]
    },
    {
     "name": "stdout",
     "output_type": "stream",
     "text": [
      "i 152\n",
      "filename metal.00051.wav\n",
      "label metal\n",
      "track_id 00051.wav\n"
     ]
    },
    {
     "name": "stderr",
     "output_type": "stream",
     "text": [
      "It is strongly recommended to pass the ``sampling_rate`` argument to this function. Failing to do so can result in silent errors that might be hard to debug.\n"
     ]
    },
    {
     "name": "stdout",
     "output_type": "stream",
     "text": [
      "i 153\n",
      "filename metal.00045.wav\n",
      "label metal\n",
      "track_id 00045.wav\n"
     ]
    },
    {
     "name": "stderr",
     "output_type": "stream",
     "text": [
      "It is strongly recommended to pass the ``sampling_rate`` argument to this function. Failing to do so can result in silent errors that might be hard to debug.\n"
     ]
    },
    {
     "name": "stdout",
     "output_type": "stream",
     "text": [
      "i 154\n",
      "filename metal.00092.wav\n",
      "label metal\n",
      "track_id 00092.wav\n"
     ]
    },
    {
     "name": "stderr",
     "output_type": "stream",
     "text": [
      "It is strongly recommended to pass the ``sampling_rate`` argument to this function. Failing to do so can result in silent errors that might be hard to debug.\n"
     ]
    },
    {
     "name": "stdout",
     "output_type": "stream",
     "text": [
      "i 155\n",
      "filename metal.00086.wav\n",
      "label metal\n",
      "track_id 00086.wav\n"
     ]
    },
    {
     "name": "stderr",
     "output_type": "stream",
     "text": [
      "It is strongly recommended to pass the ``sampling_rate`` argument to this function. Failing to do so can result in silent errors that might be hard to debug.\n"
     ]
    },
    {
     "name": "stdout",
     "output_type": "stream",
     "text": [
      "i 156\n",
      "filename metal.00048.wav\n",
      "label metal\n",
      "track_id 00048.wav\n"
     ]
    },
    {
     "name": "stderr",
     "output_type": "stream",
     "text": [
      "It is strongly recommended to pass the ``sampling_rate`` argument to this function. Failing to do so can result in silent errors that might be hard to debug.\n"
     ]
    },
    {
     "name": "stdout",
     "output_type": "stream",
     "text": [
      "i 157\n",
      "filename metal.00060.wav\n",
      "label metal\n",
      "track_id 00060.wav\n"
     ]
    },
    {
     "name": "stderr",
     "output_type": "stream",
     "text": [
      "It is strongly recommended to pass the ``sampling_rate`` argument to this function. Failing to do so can result in silent errors that might be hard to debug.\n"
     ]
    },
    {
     "name": "stdout",
     "output_type": "stream",
     "text": [
      "i 158\n",
      "filename metal.00074.wav\n",
      "label metal\n",
      "track_id 00074.wav\n"
     ]
    },
    {
     "name": "stderr",
     "output_type": "stream",
     "text": [
      "It is strongly recommended to pass the ``sampling_rate`` argument to this function. Failing to do so can result in silent errors that might be hard to debug.\n"
     ]
    },
    {
     "name": "stdout",
     "output_type": "stream",
     "text": [
      "i 159\n",
      "filename metal.00075.wav\n",
      "label metal\n",
      "track_id 00075.wav\n"
     ]
    },
    {
     "name": "stderr",
     "output_type": "stream",
     "text": [
      "It is strongly recommended to pass the ``sampling_rate`` argument to this function. Failing to do so can result in silent errors that might be hard to debug.\n"
     ]
    },
    {
     "name": "stdout",
     "output_type": "stream",
     "text": [
      "i 160\n",
      "filename metal.00061.wav\n",
      "label metal\n",
      "track_id 00061.wav\n"
     ]
    },
    {
     "name": "stderr",
     "output_type": "stream",
     "text": [
      "It is strongly recommended to pass the ``sampling_rate`` argument to this function. Failing to do so can result in silent errors that might be hard to debug.\n"
     ]
    },
    {
     "name": "stdout",
     "output_type": "stream",
     "text": [
      "i 161\n",
      "filename metal.00049.wav\n",
      "label metal\n",
      "track_id 00049.wav\n"
     ]
    },
    {
     "name": "stderr",
     "output_type": "stream",
     "text": [
      "It is strongly recommended to pass the ``sampling_rate`` argument to this function. Failing to do so can result in silent errors that might be hard to debug.\n"
     ]
    },
    {
     "name": "stdout",
     "output_type": "stream",
     "text": [
      "i 162\n",
      "filename metal.00088.wav\n",
      "label metal\n",
      "track_id 00088.wav\n"
     ]
    },
    {
     "name": "stderr",
     "output_type": "stream",
     "text": [
      "It is strongly recommended to pass the ``sampling_rate`` argument to this function. Failing to do so can result in silent errors that might be hard to debug.\n"
     ]
    },
    {
     "name": "stdout",
     "output_type": "stream",
     "text": [
      "i 163\n",
      "filename metal.00077.wav\n",
      "label metal\n",
      "track_id 00077.wav\n"
     ]
    },
    {
     "name": "stderr",
     "output_type": "stream",
     "text": [
      "It is strongly recommended to pass the ``sampling_rate`` argument to this function. Failing to do so can result in silent errors that might be hard to debug.\n"
     ]
    },
    {
     "name": "stdout",
     "output_type": "stream",
     "text": [
      "i 164\n",
      "filename metal.00063.wav\n",
      "label metal\n",
      "track_id 00063.wav\n"
     ]
    },
    {
     "name": "stderr",
     "output_type": "stream",
     "text": [
      "It is strongly recommended to pass the ``sampling_rate`` argument to this function. Failing to do so can result in silent errors that might be hard to debug.\n"
     ]
    },
    {
     "name": "stdout",
     "output_type": "stream",
     "text": [
      "i 165\n",
      "filename metal.00062.wav\n",
      "label metal\n",
      "track_id 00062.wav\n"
     ]
    },
    {
     "name": "stderr",
     "output_type": "stream",
     "text": [
      "It is strongly recommended to pass the ``sampling_rate`` argument to this function. Failing to do so can result in silent errors that might be hard to debug.\n"
     ]
    },
    {
     "name": "stdout",
     "output_type": "stream",
     "text": [
      "i 166\n",
      "filename metal.00076.wav\n",
      "label metal\n",
      "track_id 00076.wav\n"
     ]
    },
    {
     "name": "stderr",
     "output_type": "stream",
     "text": [
      "It is strongly recommended to pass the ``sampling_rate`` argument to this function. Failing to do so can result in silent errors that might be hard to debug.\n"
     ]
    },
    {
     "name": "stdout",
     "output_type": "stream",
     "text": [
      "i 167\n",
      "filename metal.00089.wav\n",
      "label metal\n",
      "track_id 00089.wav\n"
     ]
    },
    {
     "name": "stderr",
     "output_type": "stream",
     "text": [
      "It is strongly recommended to pass the ``sampling_rate`` argument to this function. Failing to do so can result in silent errors that might be hard to debug.\n"
     ]
    },
    {
     "name": "stdout",
     "output_type": "stream",
     "text": [
      "i 168\n",
      "filename metal.00099.wav\n",
      "label metal\n",
      "track_id 00099.wav\n"
     ]
    },
    {
     "name": "stderr",
     "output_type": "stream",
     "text": [
      "It is strongly recommended to pass the ``sampling_rate`` argument to this function. Failing to do so can result in silent errors that might be hard to debug.\n"
     ]
    },
    {
     "name": "stdout",
     "output_type": "stream",
     "text": [
      "i 169\n",
      "filename metal.00072.wav\n",
      "label metal\n",
      "track_id 00072.wav\n"
     ]
    },
    {
     "name": "stderr",
     "output_type": "stream",
     "text": [
      "It is strongly recommended to pass the ``sampling_rate`` argument to this function. Failing to do so can result in silent errors that might be hard to debug.\n"
     ]
    },
    {
     "name": "stdout",
     "output_type": "stream",
     "text": [
      "i 170\n",
      "filename metal.00066.wav\n",
      "label metal\n",
      "track_id 00066.wav\n"
     ]
    },
    {
     "name": "stderr",
     "output_type": "stream",
     "text": [
      "It is strongly recommended to pass the ``sampling_rate`` argument to this function. Failing to do so can result in silent errors that might be hard to debug.\n"
     ]
    },
    {
     "name": "stdout",
     "output_type": "stream",
     "text": [
      "i 171\n",
      "filename metal.00067.wav\n",
      "label metal\n",
      "track_id 00067.wav\n"
     ]
    },
    {
     "name": "stderr",
     "output_type": "stream",
     "text": [
      "It is strongly recommended to pass the ``sampling_rate`` argument to this function. Failing to do so can result in silent errors that might be hard to debug.\n"
     ]
    },
    {
     "name": "stdout",
     "output_type": "stream",
     "text": [
      "i 172\n",
      "filename metal.00073.wav\n",
      "label metal\n",
      "track_id 00073.wav\n"
     ]
    },
    {
     "name": "stderr",
     "output_type": "stream",
     "text": [
      "It is strongly recommended to pass the ``sampling_rate`` argument to this function. Failing to do so can result in silent errors that might be hard to debug.\n"
     ]
    },
    {
     "name": "stdout",
     "output_type": "stream",
     "text": [
      "i 173\n",
      "filename metal.00098.wav\n",
      "label metal\n",
      "track_id 00098.wav\n"
     ]
    },
    {
     "name": "stderr",
     "output_type": "stream",
     "text": [
      "It is strongly recommended to pass the ``sampling_rate`` argument to this function. Failing to do so can result in silent errors that might be hard to debug.\n"
     ]
    },
    {
     "name": "stdout",
     "output_type": "stream",
     "text": [
      "i 174\n",
      "filename metal.00065.wav\n",
      "label metal\n",
      "track_id 00065.wav\n"
     ]
    },
    {
     "name": "stderr",
     "output_type": "stream",
     "text": [
      "It is strongly recommended to pass the ``sampling_rate`` argument to this function. Failing to do so can result in silent errors that might be hard to debug.\n"
     ]
    },
    {
     "name": "stdout",
     "output_type": "stream",
     "text": [
      "i 175\n",
      "filename metal.00071.wav\n",
      "label metal\n",
      "track_id 00071.wav\n"
     ]
    },
    {
     "name": "stderr",
     "output_type": "stream",
     "text": [
      "It is strongly recommended to pass the ``sampling_rate`` argument to this function. Failing to do so can result in silent errors that might be hard to debug.\n"
     ]
    },
    {
     "name": "stdout",
     "output_type": "stream",
     "text": [
      "i 176\n",
      "filename metal.00059.wav\n",
      "label metal\n",
      "track_id 00059.wav\n"
     ]
    },
    {
     "name": "stderr",
     "output_type": "stream",
     "text": [
      "It is strongly recommended to pass the ``sampling_rate`` argument to this function. Failing to do so can result in silent errors that might be hard to debug.\n"
     ]
    },
    {
     "name": "stdout",
     "output_type": "stream",
     "text": [
      "i 177\n",
      "filename metal.00058.wav\n",
      "label metal\n",
      "track_id 00058.wav\n"
     ]
    },
    {
     "name": "stderr",
     "output_type": "stream",
     "text": [
      "It is strongly recommended to pass the ``sampling_rate`` argument to this function. Failing to do so can result in silent errors that might be hard to debug.\n"
     ]
    },
    {
     "name": "stdout",
     "output_type": "stream",
     "text": [
      "i 178\n",
      "filename metal.00070.wav\n",
      "label metal\n",
      "track_id 00070.wav\n"
     ]
    },
    {
     "name": "stderr",
     "output_type": "stream",
     "text": [
      "It is strongly recommended to pass the ``sampling_rate`` argument to this function. Failing to do so can result in silent errors that might be hard to debug.\n"
     ]
    },
    {
     "name": "stdout",
     "output_type": "stream",
     "text": [
      "i 179\n",
      "filename metal.00064.wav\n",
      "label metal\n",
      "track_id 00064.wav\n"
     ]
    },
    {
     "name": "stderr",
     "output_type": "stream",
     "text": [
      "It is strongly recommended to pass the ``sampling_rate`` argument to this function. Failing to do so can result in silent errors that might be hard to debug.\n"
     ]
    },
    {
     "name": "stdout",
     "output_type": "stream",
     "text": [
      "i 180\n",
      "filename metal.00003.wav\n",
      "label metal\n",
      "track_id 00003.wav\n"
     ]
    },
    {
     "name": "stderr",
     "output_type": "stream",
     "text": [
      "It is strongly recommended to pass the ``sampling_rate`` argument to this function. Failing to do so can result in silent errors that might be hard to debug.\n"
     ]
    },
    {
     "name": "stdout",
     "output_type": "stream",
     "text": [
      "i 181\n",
      "filename metal.00017.wav\n",
      "label metal\n",
      "track_id 00017.wav\n"
     ]
    },
    {
     "name": "stderr",
     "output_type": "stream",
     "text": [
      "It is strongly recommended to pass the ``sampling_rate`` argument to this function. Failing to do so can result in silent errors that might be hard to debug.\n"
     ]
    },
    {
     "name": "stdout",
     "output_type": "stream",
     "text": [
      "i 182\n",
      "filename metal.00016.wav\n",
      "label metal\n",
      "track_id 00016.wav\n"
     ]
    },
    {
     "name": "stderr",
     "output_type": "stream",
     "text": [
      "It is strongly recommended to pass the ``sampling_rate`` argument to this function. Failing to do so can result in silent errors that might be hard to debug.\n"
     ]
    },
    {
     "name": "stdout",
     "output_type": "stream",
     "text": [
      "i 183\n",
      "filename metal.00002.wav\n",
      "label metal\n",
      "track_id 00002.wav\n"
     ]
    },
    {
     "name": "stderr",
     "output_type": "stream",
     "text": [
      "It is strongly recommended to pass the ``sampling_rate`` argument to this function. Failing to do so can result in silent errors that might be hard to debug.\n"
     ]
    },
    {
     "name": "stdout",
     "output_type": "stream",
     "text": [
      "i 184\n",
      "filename metal.00028.wav\n",
      "label metal\n",
      "track_id 00028.wav\n"
     ]
    },
    {
     "name": "stderr",
     "output_type": "stream",
     "text": [
      "It is strongly recommended to pass the ``sampling_rate`` argument to this function. Failing to do so can result in silent errors that might be hard to debug.\n"
     ]
    },
    {
     "name": "stdout",
     "output_type": "stream",
     "text": [
      "i 185\n",
      "filename metal.00014.wav\n",
      "label metal\n",
      "track_id 00014.wav\n"
     ]
    },
    {
     "name": "stderr",
     "output_type": "stream",
     "text": [
      "It is strongly recommended to pass the ``sampling_rate`` argument to this function. Failing to do so can result in silent errors that might be hard to debug.\n"
     ]
    },
    {
     "name": "stdout",
     "output_type": "stream",
     "text": [
      "i 186\n",
      "filename metal.00000.wav\n",
      "label metal\n",
      "track_id 00000.wav\n"
     ]
    },
    {
     "name": "stderr",
     "output_type": "stream",
     "text": [
      "It is strongly recommended to pass the ``sampling_rate`` argument to this function. Failing to do so can result in silent errors that might be hard to debug.\n"
     ]
    },
    {
     "name": "stdout",
     "output_type": "stream",
     "text": [
      "i 187\n",
      "filename metal.00001.wav\n",
      "label metal\n",
      "track_id 00001.wav\n"
     ]
    },
    {
     "name": "stderr",
     "output_type": "stream",
     "text": [
      "It is strongly recommended to pass the ``sampling_rate`` argument to this function. Failing to do so can result in silent errors that might be hard to debug.\n"
     ]
    },
    {
     "name": "stdout",
     "output_type": "stream",
     "text": [
      "i 188\n",
      "filename metal.00015.wav\n",
      "label metal\n",
      "track_id 00015.wav\n"
     ]
    },
    {
     "name": "stderr",
     "output_type": "stream",
     "text": [
      "It is strongly recommended to pass the ``sampling_rate`` argument to this function. Failing to do so can result in silent errors that might be hard to debug.\n"
     ]
    },
    {
     "name": "stdout",
     "output_type": "stream",
     "text": [
      "i 189\n",
      "filename metal.00029.wav\n",
      "label metal\n",
      "track_id 00029.wav\n"
     ]
    },
    {
     "name": "stderr",
     "output_type": "stream",
     "text": [
      "It is strongly recommended to pass the ``sampling_rate`` argument to this function. Failing to do so can result in silent errors that might be hard to debug.\n"
     ]
    },
    {
     "name": "stdout",
     "output_type": "stream",
     "text": [
      "i 190\n",
      "filename metal.00011.wav\n",
      "label metal\n",
      "track_id 00011.wav\n"
     ]
    },
    {
     "name": "stderr",
     "output_type": "stream",
     "text": [
      "It is strongly recommended to pass the ``sampling_rate`` argument to this function. Failing to do so can result in silent errors that might be hard to debug.\n"
     ]
    },
    {
     "name": "stdout",
     "output_type": "stream",
     "text": [
      "i 191\n",
      "filename metal.00005.wav\n",
      "label metal\n",
      "track_id 00005.wav\n"
     ]
    },
    {
     "name": "stderr",
     "output_type": "stream",
     "text": [
      "It is strongly recommended to pass the ``sampling_rate`` argument to this function. Failing to do so can result in silent errors that might be hard to debug.\n"
     ]
    },
    {
     "name": "stdout",
     "output_type": "stream",
     "text": [
      "i 192\n",
      "filename metal.00039.wav\n",
      "label metal\n",
      "track_id 00039.wav\n"
     ]
    },
    {
     "name": "stderr",
     "output_type": "stream",
     "text": [
      "It is strongly recommended to pass the ``sampling_rate`` argument to this function. Failing to do so can result in silent errors that might be hard to debug.\n"
     ]
    },
    {
     "name": "stdout",
     "output_type": "stream",
     "text": [
      "i 193\n",
      "filename metal.00038.wav\n",
      "label metal\n",
      "track_id 00038.wav\n"
     ]
    },
    {
     "name": "stderr",
     "output_type": "stream",
     "text": [
      "It is strongly recommended to pass the ``sampling_rate`` argument to this function. Failing to do so can result in silent errors that might be hard to debug.\n"
     ]
    },
    {
     "name": "stdout",
     "output_type": "stream",
     "text": [
      "i 194\n",
      "filename metal.00004.wav\n",
      "label metal\n",
      "track_id 00004.wav\n"
     ]
    },
    {
     "name": "stderr",
     "output_type": "stream",
     "text": [
      "It is strongly recommended to pass the ``sampling_rate`` argument to this function. Failing to do so can result in silent errors that might be hard to debug.\n"
     ]
    },
    {
     "name": "stdout",
     "output_type": "stream",
     "text": [
      "i 195\n",
      "filename metal.00010.wav\n",
      "label metal\n",
      "track_id 00010.wav\n"
     ]
    },
    {
     "name": "stderr",
     "output_type": "stream",
     "text": [
      "It is strongly recommended to pass the ``sampling_rate`` argument to this function. Failing to do so can result in silent errors that might be hard to debug.\n"
     ]
    },
    {
     "name": "stdout",
     "output_type": "stream",
     "text": [
      "i 196\n",
      "filename metal.00006.wav\n",
      "label metal\n",
      "track_id 00006.wav\n"
     ]
    },
    {
     "name": "stderr",
     "output_type": "stream",
     "text": [
      "It is strongly recommended to pass the ``sampling_rate`` argument to this function. Failing to do so can result in silent errors that might be hard to debug.\n"
     ]
    },
    {
     "name": "stdout",
     "output_type": "stream",
     "text": [
      "i 197\n",
      "filename metal.00012.wav\n",
      "label metal\n",
      "track_id 00012.wav\n"
     ]
    },
    {
     "name": "stderr",
     "output_type": "stream",
     "text": [
      "It is strongly recommended to pass the ``sampling_rate`` argument to this function. Failing to do so can result in silent errors that might be hard to debug.\n"
     ]
    },
    {
     "name": "stdout",
     "output_type": "stream",
     "text": [
      "i 198\n",
      "filename metal.00013.wav\n",
      "label metal\n",
      "track_id 00013.wav\n"
     ]
    },
    {
     "name": "stderr",
     "output_type": "stream",
     "text": [
      "It is strongly recommended to pass the ``sampling_rate`` argument to this function. Failing to do so can result in silent errors that might be hard to debug.\n"
     ]
    },
    {
     "name": "stdout",
     "output_type": "stream",
     "text": [
      "i 199\n",
      "filename metal.00007.wav\n",
      "label metal\n",
      "track_id 00007.wav\n"
     ]
    },
    {
     "name": "stderr",
     "output_type": "stream",
     "text": [
      "3it [12:31, 266.53s/it]It is strongly recommended to pass the ``sampling_rate`` argument to this function. Failing to do so can result in silent errors that might be hard to debug.\n"
     ]
    },
    {
     "name": "stdout",
     "output_type": "stream",
     "text": [
      "i 200\n",
      "root ../audios/gtzan/disco\n",
      "dirs []\n",
      "files ['disco.00052.wav', 'disco.00046.wav', 'disco.00091.wav', 'disco.00085.wav', 'disco.00084.wav', 'disco.00090.wav', 'disco.00047.wav', 'disco.00053.wav', 'disco.00045.wav', 'disco.00051.wav', 'disco.00079.wav', 'disco.00086.wav', 'disco.00092.wav', 'disco.00093.wav', 'disco.00087.wav', 'disco.00078.wav', 'disco.00050.wav', 'disco.00044.wav', 'disco.00068.wav', 'disco.00040.wav', 'disco.00054.wav', 'disco.00083.wav', 'disco.00097.wav', 'disco.00096.wav', 'disco.00082.wav', 'disco.00055.wav', 'disco.00041.wav', 'disco.00069.wav', 'disco.00057.wav', 'disco.00043.wav', 'disco.00094.wav', 'disco.00080.wav', 'disco.00081.wav', 'disco.00095.wav', 'disco.00042.wav', 'disco.00056.wav', 'disco.00031.wav', 'disco.00025.wav', 'disco.00019.wav', 'disco.00018.wav', 'disco.00024.wav', 'disco.00030.wav', 'disco.00026.wav', 'disco.00032.wav', 'disco.00033.wav', 'disco.00027.wav', 'disco.00023.wav', 'disco.00037.wav', 'disco.00036.wav', 'disco.00022.wav', 'disco.00008.wav', 'disco.00034.wav', 'disco.00020.wav', 'disco.00021.wav', 'disco.00035.wav', 'disco.00009.wav', 'disco.00010.wav', 'disco.00004.wav', 'disco.00038.wav', 'disco.00039.wav', 'disco.00005.wav', 'disco.00011.wav', 'disco.00007.wav', 'disco.00013.wav', 'disco.00012.wav', 'disco.00006.wav', 'disco.00002.wav', 'disco.00016.wav', 'disco.00017.wav', 'disco.00003.wav', 'disco.00029.wav', 'disco.00015.wav', 'disco.00001.wav', 'disco.00000.wav', 'disco.00014.wav', 'disco.00028.wav', 'disco.00073.wav', 'disco.00067.wav', 'disco.00098.wav', 'disco.00099.wav', 'disco.00066.wav', 'disco.00072.wav', 'disco.00064.wav', 'disco.00070.wav', 'disco.00058.wav', 'disco.00059.wav', 'disco.00071.wav', 'disco.00065.wav', 'disco.00049.wav', 'disco.00061.wav', 'disco.00075.wav', 'disco.00074.wav', 'disco.00060.wav', 'disco.00048.wav', 'disco.00076.wav', 'disco.00062.wav', 'disco.00089.wav', 'disco.00088.wav', 'disco.00063.wav', 'disco.00077.wav']\n",
      "filename disco.00052.wav\n",
      "label disco\n",
      "track_id 00052.wav\n"
     ]
    },
    {
     "name": "stderr",
     "output_type": "stream",
     "text": [
      "It is strongly recommended to pass the ``sampling_rate`` argument to this function. Failing to do so can result in silent errors that might be hard to debug.\n"
     ]
    },
    {
     "name": "stdout",
     "output_type": "stream",
     "text": [
      "i 201\n",
      "filename disco.00046.wav\n",
      "label disco\n",
      "track_id 00046.wav\n"
     ]
    },
    {
     "name": "stderr",
     "output_type": "stream",
     "text": [
      "It is strongly recommended to pass the ``sampling_rate`` argument to this function. Failing to do so can result in silent errors that might be hard to debug.\n"
     ]
    },
    {
     "name": "stdout",
     "output_type": "stream",
     "text": [
      "i 202\n",
      "filename disco.00091.wav\n",
      "label disco\n",
      "track_id 00091.wav\n"
     ]
    },
    {
     "name": "stderr",
     "output_type": "stream",
     "text": [
      "It is strongly recommended to pass the ``sampling_rate`` argument to this function. Failing to do so can result in silent errors that might be hard to debug.\n"
     ]
    },
    {
     "name": "stdout",
     "output_type": "stream",
     "text": [
      "i 203\n",
      "filename disco.00085.wav\n",
      "label disco\n",
      "track_id 00085.wav\n"
     ]
    },
    {
     "name": "stderr",
     "output_type": "stream",
     "text": [
      "It is strongly recommended to pass the ``sampling_rate`` argument to this function. Failing to do so can result in silent errors that might be hard to debug.\n"
     ]
    },
    {
     "name": "stdout",
     "output_type": "stream",
     "text": [
      "i 204\n",
      "filename disco.00084.wav\n",
      "label disco\n",
      "track_id 00084.wav\n"
     ]
    },
    {
     "name": "stderr",
     "output_type": "stream",
     "text": [
      "It is strongly recommended to pass the ``sampling_rate`` argument to this function. Failing to do so can result in silent errors that might be hard to debug.\n"
     ]
    },
    {
     "name": "stdout",
     "output_type": "stream",
     "text": [
      "i 205\n",
      "filename disco.00090.wav\n",
      "label disco\n",
      "track_id 00090.wav\n"
     ]
    },
    {
     "name": "stderr",
     "output_type": "stream",
     "text": [
      "It is strongly recommended to pass the ``sampling_rate`` argument to this function. Failing to do so can result in silent errors that might be hard to debug.\n"
     ]
    },
    {
     "name": "stdout",
     "output_type": "stream",
     "text": [
      "i 206\n",
      "filename disco.00047.wav\n",
      "label disco\n",
      "track_id 00047.wav\n"
     ]
    },
    {
     "name": "stderr",
     "output_type": "stream",
     "text": [
      "It is strongly recommended to pass the ``sampling_rate`` argument to this function. Failing to do so can result in silent errors that might be hard to debug.\n"
     ]
    },
    {
     "name": "stdout",
     "output_type": "stream",
     "text": [
      "i 207\n",
      "filename disco.00053.wav\n",
      "label disco\n",
      "track_id 00053.wav\n"
     ]
    },
    {
     "name": "stderr",
     "output_type": "stream",
     "text": [
      "It is strongly recommended to pass the ``sampling_rate`` argument to this function. Failing to do so can result in silent errors that might be hard to debug.\n"
     ]
    },
    {
     "name": "stdout",
     "output_type": "stream",
     "text": [
      "i 208\n",
      "filename disco.00045.wav\n",
      "label disco\n",
      "track_id 00045.wav\n"
     ]
    },
    {
     "name": "stderr",
     "output_type": "stream",
     "text": [
      "It is strongly recommended to pass the ``sampling_rate`` argument to this function. Failing to do so can result in silent errors that might be hard to debug.\n"
     ]
    },
    {
     "name": "stdout",
     "output_type": "stream",
     "text": [
      "i 209\n",
      "filename disco.00051.wav\n",
      "label disco\n",
      "track_id 00051.wav\n"
     ]
    },
    {
     "name": "stderr",
     "output_type": "stream",
     "text": [
      "It is strongly recommended to pass the ``sampling_rate`` argument to this function. Failing to do so can result in silent errors that might be hard to debug.\n"
     ]
    },
    {
     "name": "stdout",
     "output_type": "stream",
     "text": [
      "i 210\n",
      "filename disco.00079.wav\n",
      "label disco\n",
      "track_id 00079.wav\n"
     ]
    },
    {
     "name": "stderr",
     "output_type": "stream",
     "text": [
      "It is strongly recommended to pass the ``sampling_rate`` argument to this function. Failing to do so can result in silent errors that might be hard to debug.\n"
     ]
    },
    {
     "name": "stdout",
     "output_type": "stream",
     "text": [
      "i 211\n",
      "filename disco.00086.wav\n",
      "label disco\n",
      "track_id 00086.wav\n"
     ]
    },
    {
     "name": "stderr",
     "output_type": "stream",
     "text": [
      "It is strongly recommended to pass the ``sampling_rate`` argument to this function. Failing to do so can result in silent errors that might be hard to debug.\n"
     ]
    },
    {
     "name": "stdout",
     "output_type": "stream",
     "text": [
      "i 212\n",
      "filename disco.00092.wav\n",
      "label disco\n",
      "track_id 00092.wav\n"
     ]
    },
    {
     "name": "stderr",
     "output_type": "stream",
     "text": [
      "It is strongly recommended to pass the ``sampling_rate`` argument to this function. Failing to do so can result in silent errors that might be hard to debug.\n"
     ]
    },
    {
     "name": "stdout",
     "output_type": "stream",
     "text": [
      "i 213\n",
      "filename disco.00093.wav\n",
      "label disco\n",
      "track_id 00093.wav\n"
     ]
    },
    {
     "name": "stderr",
     "output_type": "stream",
     "text": [
      "It is strongly recommended to pass the ``sampling_rate`` argument to this function. Failing to do so can result in silent errors that might be hard to debug.\n"
     ]
    },
    {
     "name": "stdout",
     "output_type": "stream",
     "text": [
      "i 214\n",
      "filename disco.00087.wav\n",
      "label disco\n",
      "track_id 00087.wav\n"
     ]
    },
    {
     "name": "stderr",
     "output_type": "stream",
     "text": [
      "It is strongly recommended to pass the ``sampling_rate`` argument to this function. Failing to do so can result in silent errors that might be hard to debug.\n"
     ]
    },
    {
     "name": "stdout",
     "output_type": "stream",
     "text": [
      "i 215\n",
      "filename disco.00078.wav\n",
      "label disco\n",
      "track_id 00078.wav\n"
     ]
    },
    {
     "name": "stderr",
     "output_type": "stream",
     "text": [
      "It is strongly recommended to pass the ``sampling_rate`` argument to this function. Failing to do so can result in silent errors that might be hard to debug.\n"
     ]
    },
    {
     "name": "stdout",
     "output_type": "stream",
     "text": [
      "i 216\n",
      "filename disco.00050.wav\n",
      "label disco\n",
      "track_id 00050.wav\n"
     ]
    },
    {
     "name": "stderr",
     "output_type": "stream",
     "text": [
      "It is strongly recommended to pass the ``sampling_rate`` argument to this function. Failing to do so can result in silent errors that might be hard to debug.\n"
     ]
    },
    {
     "name": "stdout",
     "output_type": "stream",
     "text": [
      "i 217\n",
      "filename disco.00044.wav\n",
      "label disco\n",
      "track_id 00044.wav\n"
     ]
    },
    {
     "name": "stderr",
     "output_type": "stream",
     "text": [
      "It is strongly recommended to pass the ``sampling_rate`` argument to this function. Failing to do so can result in silent errors that might be hard to debug.\n"
     ]
    },
    {
     "name": "stdout",
     "output_type": "stream",
     "text": [
      "i 218\n",
      "filename disco.00068.wav\n",
      "label disco\n",
      "track_id 00068.wav\n"
     ]
    },
    {
     "name": "stderr",
     "output_type": "stream",
     "text": [
      "It is strongly recommended to pass the ``sampling_rate`` argument to this function. Failing to do so can result in silent errors that might be hard to debug.\n"
     ]
    },
    {
     "name": "stdout",
     "output_type": "stream",
     "text": [
      "i 219\n",
      "filename disco.00040.wav\n",
      "label disco\n",
      "track_id 00040.wav\n"
     ]
    },
    {
     "name": "stderr",
     "output_type": "stream",
     "text": [
      "It is strongly recommended to pass the ``sampling_rate`` argument to this function. Failing to do so can result in silent errors that might be hard to debug.\n"
     ]
    },
    {
     "name": "stdout",
     "output_type": "stream",
     "text": [
      "i 220\n",
      "filename disco.00054.wav\n",
      "label disco\n",
      "track_id 00054.wav\n"
     ]
    },
    {
     "name": "stderr",
     "output_type": "stream",
     "text": [
      "It is strongly recommended to pass the ``sampling_rate`` argument to this function. Failing to do so can result in silent errors that might be hard to debug.\n"
     ]
    },
    {
     "name": "stdout",
     "output_type": "stream",
     "text": [
      "i 221\n",
      "filename disco.00083.wav\n",
      "label disco\n",
      "track_id 00083.wav\n"
     ]
    },
    {
     "name": "stderr",
     "output_type": "stream",
     "text": [
      "It is strongly recommended to pass the ``sampling_rate`` argument to this function. Failing to do so can result in silent errors that might be hard to debug.\n"
     ]
    },
    {
     "name": "stdout",
     "output_type": "stream",
     "text": [
      "i 222\n",
      "filename disco.00097.wav\n",
      "label disco\n",
      "track_id 00097.wav\n"
     ]
    },
    {
     "name": "stderr",
     "output_type": "stream",
     "text": [
      "It is strongly recommended to pass the ``sampling_rate`` argument to this function. Failing to do so can result in silent errors that might be hard to debug.\n"
     ]
    },
    {
     "name": "stdout",
     "output_type": "stream",
     "text": [
      "i 223\n",
      "filename disco.00096.wav\n",
      "label disco\n",
      "track_id 00096.wav\n"
     ]
    },
    {
     "name": "stderr",
     "output_type": "stream",
     "text": [
      "It is strongly recommended to pass the ``sampling_rate`` argument to this function. Failing to do so can result in silent errors that might be hard to debug.\n"
     ]
    },
    {
     "name": "stdout",
     "output_type": "stream",
     "text": [
      "i 224\n",
      "filename disco.00082.wav\n",
      "label disco\n",
      "track_id 00082.wav\n"
     ]
    },
    {
     "name": "stderr",
     "output_type": "stream",
     "text": [
      "It is strongly recommended to pass the ``sampling_rate`` argument to this function. Failing to do so can result in silent errors that might be hard to debug.\n"
     ]
    },
    {
     "name": "stdout",
     "output_type": "stream",
     "text": [
      "i 225\n",
      "filename disco.00055.wav\n",
      "label disco\n",
      "track_id 00055.wav\n"
     ]
    },
    {
     "name": "stderr",
     "output_type": "stream",
     "text": [
      "It is strongly recommended to pass the ``sampling_rate`` argument to this function. Failing to do so can result in silent errors that might be hard to debug.\n"
     ]
    },
    {
     "name": "stdout",
     "output_type": "stream",
     "text": [
      "i 226\n",
      "filename disco.00041.wav\n",
      "label disco\n",
      "track_id 00041.wav\n"
     ]
    },
    {
     "name": "stderr",
     "output_type": "stream",
     "text": [
      "It is strongly recommended to pass the ``sampling_rate`` argument to this function. Failing to do so can result in silent errors that might be hard to debug.\n"
     ]
    },
    {
     "name": "stdout",
     "output_type": "stream",
     "text": [
      "i 227\n",
      "filename disco.00069.wav\n",
      "label disco\n",
      "track_id 00069.wav\n"
     ]
    },
    {
     "name": "stderr",
     "output_type": "stream",
     "text": [
      "It is strongly recommended to pass the ``sampling_rate`` argument to this function. Failing to do so can result in silent errors that might be hard to debug.\n"
     ]
    },
    {
     "name": "stdout",
     "output_type": "stream",
     "text": [
      "i 228\n",
      "filename disco.00057.wav\n",
      "label disco\n",
      "track_id 00057.wav\n"
     ]
    },
    {
     "name": "stderr",
     "output_type": "stream",
     "text": [
      "It is strongly recommended to pass the ``sampling_rate`` argument to this function. Failing to do so can result in silent errors that might be hard to debug.\n"
     ]
    },
    {
     "name": "stdout",
     "output_type": "stream",
     "text": [
      "i 229\n",
      "filename disco.00043.wav\n",
      "label disco\n",
      "track_id 00043.wav\n"
     ]
    },
    {
     "name": "stderr",
     "output_type": "stream",
     "text": [
      "It is strongly recommended to pass the ``sampling_rate`` argument to this function. Failing to do so can result in silent errors that might be hard to debug.\n"
     ]
    },
    {
     "name": "stdout",
     "output_type": "stream",
     "text": [
      "i 230\n",
      "filename disco.00094.wav\n",
      "label disco\n",
      "track_id 00094.wav\n"
     ]
    },
    {
     "name": "stderr",
     "output_type": "stream",
     "text": [
      "It is strongly recommended to pass the ``sampling_rate`` argument to this function. Failing to do so can result in silent errors that might be hard to debug.\n"
     ]
    },
    {
     "name": "stdout",
     "output_type": "stream",
     "text": [
      "i 231\n",
      "filename disco.00080.wav\n",
      "label disco\n",
      "track_id 00080.wav\n"
     ]
    },
    {
     "name": "stderr",
     "output_type": "stream",
     "text": [
      "It is strongly recommended to pass the ``sampling_rate`` argument to this function. Failing to do so can result in silent errors that might be hard to debug.\n"
     ]
    },
    {
     "name": "stdout",
     "output_type": "stream",
     "text": [
      "i 232\n",
      "filename disco.00081.wav\n",
      "label disco\n",
      "track_id 00081.wav\n"
     ]
    },
    {
     "name": "stderr",
     "output_type": "stream",
     "text": [
      "It is strongly recommended to pass the ``sampling_rate`` argument to this function. Failing to do so can result in silent errors that might be hard to debug.\n"
     ]
    },
    {
     "name": "stdout",
     "output_type": "stream",
     "text": [
      "i 233\n",
      "filename disco.00095.wav\n",
      "label disco\n",
      "track_id 00095.wav\n"
     ]
    },
    {
     "name": "stderr",
     "output_type": "stream",
     "text": [
      "It is strongly recommended to pass the ``sampling_rate`` argument to this function. Failing to do so can result in silent errors that might be hard to debug.\n"
     ]
    },
    {
     "name": "stdout",
     "output_type": "stream",
     "text": [
      "i 234\n",
      "filename disco.00042.wav\n",
      "label disco\n",
      "track_id 00042.wav\n"
     ]
    },
    {
     "name": "stderr",
     "output_type": "stream",
     "text": [
      "It is strongly recommended to pass the ``sampling_rate`` argument to this function. Failing to do so can result in silent errors that might be hard to debug.\n"
     ]
    },
    {
     "name": "stdout",
     "output_type": "stream",
     "text": [
      "i 235\n",
      "filename disco.00056.wav\n",
      "label disco\n",
      "track_id 00056.wav\n"
     ]
    },
    {
     "name": "stderr",
     "output_type": "stream",
     "text": [
      "It is strongly recommended to pass the ``sampling_rate`` argument to this function. Failing to do so can result in silent errors that might be hard to debug.\n"
     ]
    },
    {
     "name": "stdout",
     "output_type": "stream",
     "text": [
      "i 236\n",
      "filename disco.00031.wav\n",
      "label disco\n",
      "track_id 00031.wav\n"
     ]
    },
    {
     "name": "stderr",
     "output_type": "stream",
     "text": [
      "It is strongly recommended to pass the ``sampling_rate`` argument to this function. Failing to do so can result in silent errors that might be hard to debug.\n"
     ]
    },
    {
     "name": "stdout",
     "output_type": "stream",
     "text": [
      "i 237\n",
      "filename disco.00025.wav\n",
      "label disco\n",
      "track_id 00025.wav\n"
     ]
    },
    {
     "name": "stderr",
     "output_type": "stream",
     "text": [
      "It is strongly recommended to pass the ``sampling_rate`` argument to this function. Failing to do so can result in silent errors that might be hard to debug.\n"
     ]
    },
    {
     "name": "stdout",
     "output_type": "stream",
     "text": [
      "i 238\n",
      "filename disco.00019.wav\n",
      "label disco\n",
      "track_id 00019.wav\n"
     ]
    },
    {
     "name": "stderr",
     "output_type": "stream",
     "text": [
      "It is strongly recommended to pass the ``sampling_rate`` argument to this function. Failing to do so can result in silent errors that might be hard to debug.\n"
     ]
    },
    {
     "name": "stdout",
     "output_type": "stream",
     "text": [
      "i 239\n",
      "filename disco.00018.wav\n",
      "label disco\n",
      "track_id 00018.wav\n"
     ]
    },
    {
     "name": "stderr",
     "output_type": "stream",
     "text": [
      "It is strongly recommended to pass the ``sampling_rate`` argument to this function. Failing to do so can result in silent errors that might be hard to debug.\n"
     ]
    },
    {
     "name": "stdout",
     "output_type": "stream",
     "text": [
      "i 240\n",
      "filename disco.00024.wav\n",
      "label disco\n",
      "track_id 00024.wav\n"
     ]
    },
    {
     "name": "stderr",
     "output_type": "stream",
     "text": [
      "It is strongly recommended to pass the ``sampling_rate`` argument to this function. Failing to do so can result in silent errors that might be hard to debug.\n"
     ]
    },
    {
     "name": "stdout",
     "output_type": "stream",
     "text": [
      "i 241\n",
      "filename disco.00030.wav\n",
      "label disco\n",
      "track_id 00030.wav\n"
     ]
    },
    {
     "name": "stderr",
     "output_type": "stream",
     "text": [
      "It is strongly recommended to pass the ``sampling_rate`` argument to this function. Failing to do so can result in silent errors that might be hard to debug.\n"
     ]
    },
    {
     "name": "stdout",
     "output_type": "stream",
     "text": [
      "i 242\n",
      "filename disco.00026.wav\n",
      "label disco\n",
      "track_id 00026.wav\n"
     ]
    },
    {
     "name": "stderr",
     "output_type": "stream",
     "text": [
      "It is strongly recommended to pass the ``sampling_rate`` argument to this function. Failing to do so can result in silent errors that might be hard to debug.\n"
     ]
    },
    {
     "name": "stdout",
     "output_type": "stream",
     "text": [
      "i 243\n",
      "filename disco.00032.wav\n",
      "label disco\n",
      "track_id 00032.wav\n"
     ]
    },
    {
     "name": "stderr",
     "output_type": "stream",
     "text": [
      "It is strongly recommended to pass the ``sampling_rate`` argument to this function. Failing to do so can result in silent errors that might be hard to debug.\n"
     ]
    },
    {
     "name": "stdout",
     "output_type": "stream",
     "text": [
      "i 244\n",
      "filename disco.00033.wav\n",
      "label disco\n",
      "track_id 00033.wav\n"
     ]
    },
    {
     "name": "stderr",
     "output_type": "stream",
     "text": [
      "It is strongly recommended to pass the ``sampling_rate`` argument to this function. Failing to do so can result in silent errors that might be hard to debug.\n"
     ]
    },
    {
     "name": "stdout",
     "output_type": "stream",
     "text": [
      "i 245\n",
      "filename disco.00027.wav\n",
      "label disco\n",
      "track_id 00027.wav\n"
     ]
    },
    {
     "name": "stderr",
     "output_type": "stream",
     "text": [
      "It is strongly recommended to pass the ``sampling_rate`` argument to this function. Failing to do so can result in silent errors that might be hard to debug.\n"
     ]
    },
    {
     "name": "stdout",
     "output_type": "stream",
     "text": [
      "i 246\n",
      "filename disco.00023.wav\n",
      "label disco\n",
      "track_id 00023.wav\n"
     ]
    },
    {
     "name": "stderr",
     "output_type": "stream",
     "text": [
      "It is strongly recommended to pass the ``sampling_rate`` argument to this function. Failing to do so can result in silent errors that might be hard to debug.\n"
     ]
    },
    {
     "name": "stdout",
     "output_type": "stream",
     "text": [
      "i 247\n",
      "filename disco.00037.wav\n",
      "label disco\n",
      "track_id 00037.wav\n"
     ]
    },
    {
     "name": "stderr",
     "output_type": "stream",
     "text": [
      "It is strongly recommended to pass the ``sampling_rate`` argument to this function. Failing to do so can result in silent errors that might be hard to debug.\n"
     ]
    },
    {
     "name": "stdout",
     "output_type": "stream",
     "text": [
      "i 248\n",
      "filename disco.00036.wav\n",
      "label disco\n",
      "track_id 00036.wav\n"
     ]
    },
    {
     "name": "stderr",
     "output_type": "stream",
     "text": [
      "It is strongly recommended to pass the ``sampling_rate`` argument to this function. Failing to do so can result in silent errors that might be hard to debug.\n"
     ]
    },
    {
     "name": "stdout",
     "output_type": "stream",
     "text": [
      "i 249\n",
      "filename disco.00022.wav\n",
      "label disco\n",
      "track_id 00022.wav\n"
     ]
    },
    {
     "name": "stderr",
     "output_type": "stream",
     "text": [
      "It is strongly recommended to pass the ``sampling_rate`` argument to this function. Failing to do so can result in silent errors that might be hard to debug.\n"
     ]
    },
    {
     "name": "stdout",
     "output_type": "stream",
     "text": [
      "i 250\n",
      "filename disco.00008.wav\n",
      "label disco\n",
      "track_id 00008.wav\n"
     ]
    },
    {
     "name": "stderr",
     "output_type": "stream",
     "text": [
      "It is strongly recommended to pass the ``sampling_rate`` argument to this function. Failing to do so can result in silent errors that might be hard to debug.\n"
     ]
    },
    {
     "name": "stdout",
     "output_type": "stream",
     "text": [
      "i 251\n",
      "filename disco.00034.wav\n",
      "label disco\n",
      "track_id 00034.wav\n"
     ]
    },
    {
     "name": "stderr",
     "output_type": "stream",
     "text": [
      "It is strongly recommended to pass the ``sampling_rate`` argument to this function. Failing to do so can result in silent errors that might be hard to debug.\n"
     ]
    },
    {
     "name": "stdout",
     "output_type": "stream",
     "text": [
      "i 252\n",
      "filename disco.00020.wav\n",
      "label disco\n",
      "track_id 00020.wav\n"
     ]
    },
    {
     "name": "stderr",
     "output_type": "stream",
     "text": [
      "It is strongly recommended to pass the ``sampling_rate`` argument to this function. Failing to do so can result in silent errors that might be hard to debug.\n"
     ]
    },
    {
     "name": "stdout",
     "output_type": "stream",
     "text": [
      "i 253\n",
      "filename disco.00021.wav\n",
      "label disco\n",
      "track_id 00021.wav\n"
     ]
    },
    {
     "name": "stderr",
     "output_type": "stream",
     "text": [
      "It is strongly recommended to pass the ``sampling_rate`` argument to this function. Failing to do so can result in silent errors that might be hard to debug.\n"
     ]
    },
    {
     "name": "stdout",
     "output_type": "stream",
     "text": [
      "i 254\n",
      "filename disco.00035.wav\n",
      "label disco\n",
      "track_id 00035.wav\n"
     ]
    },
    {
     "name": "stderr",
     "output_type": "stream",
     "text": [
      "It is strongly recommended to pass the ``sampling_rate`` argument to this function. Failing to do so can result in silent errors that might be hard to debug.\n"
     ]
    },
    {
     "name": "stdout",
     "output_type": "stream",
     "text": [
      "i 255\n",
      "filename disco.00009.wav\n",
      "label disco\n",
      "track_id 00009.wav\n"
     ]
    },
    {
     "name": "stderr",
     "output_type": "stream",
     "text": [
      "It is strongly recommended to pass the ``sampling_rate`` argument to this function. Failing to do so can result in silent errors that might be hard to debug.\n"
     ]
    },
    {
     "name": "stdout",
     "output_type": "stream",
     "text": [
      "i 256\n",
      "filename disco.00010.wav\n",
      "label disco\n",
      "track_id 00010.wav\n"
     ]
    },
    {
     "name": "stderr",
     "output_type": "stream",
     "text": [
      "It is strongly recommended to pass the ``sampling_rate`` argument to this function. Failing to do so can result in silent errors that might be hard to debug.\n"
     ]
    },
    {
     "name": "stdout",
     "output_type": "stream",
     "text": [
      "i 257\n",
      "filename disco.00004.wav\n",
      "label disco\n",
      "track_id 00004.wav\n"
     ]
    },
    {
     "name": "stderr",
     "output_type": "stream",
     "text": [
      "It is strongly recommended to pass the ``sampling_rate`` argument to this function. Failing to do so can result in silent errors that might be hard to debug.\n"
     ]
    },
    {
     "name": "stdout",
     "output_type": "stream",
     "text": [
      "i 258\n",
      "filename disco.00038.wav\n",
      "label disco\n",
      "track_id 00038.wav\n"
     ]
    },
    {
     "name": "stderr",
     "output_type": "stream",
     "text": [
      "It is strongly recommended to pass the ``sampling_rate`` argument to this function. Failing to do so can result in silent errors that might be hard to debug.\n"
     ]
    },
    {
     "name": "stdout",
     "output_type": "stream",
     "text": [
      "i 259\n",
      "filename disco.00039.wav\n",
      "label disco\n",
      "track_id 00039.wav\n"
     ]
    },
    {
     "name": "stderr",
     "output_type": "stream",
     "text": [
      "It is strongly recommended to pass the ``sampling_rate`` argument to this function. Failing to do so can result in silent errors that might be hard to debug.\n"
     ]
    },
    {
     "name": "stdout",
     "output_type": "stream",
     "text": [
      "i 260\n",
      "filename disco.00005.wav\n",
      "label disco\n",
      "track_id 00005.wav\n"
     ]
    },
    {
     "name": "stderr",
     "output_type": "stream",
     "text": [
      "It is strongly recommended to pass the ``sampling_rate`` argument to this function. Failing to do so can result in silent errors that might be hard to debug.\n"
     ]
    },
    {
     "name": "stdout",
     "output_type": "stream",
     "text": [
      "i 261\n",
      "filename disco.00011.wav\n",
      "label disco\n",
      "track_id 00011.wav\n"
     ]
    },
    {
     "name": "stderr",
     "output_type": "stream",
     "text": [
      "It is strongly recommended to pass the ``sampling_rate`` argument to this function. Failing to do so can result in silent errors that might be hard to debug.\n"
     ]
    },
    {
     "name": "stdout",
     "output_type": "stream",
     "text": [
      "i 262\n",
      "filename disco.00007.wav\n",
      "label disco\n",
      "track_id 00007.wav\n"
     ]
    },
    {
     "name": "stderr",
     "output_type": "stream",
     "text": [
      "It is strongly recommended to pass the ``sampling_rate`` argument to this function. Failing to do so can result in silent errors that might be hard to debug.\n"
     ]
    },
    {
     "name": "stdout",
     "output_type": "stream",
     "text": [
      "i 263\n",
      "filename disco.00013.wav\n",
      "label disco\n",
      "track_id 00013.wav\n"
     ]
    },
    {
     "name": "stderr",
     "output_type": "stream",
     "text": [
      "It is strongly recommended to pass the ``sampling_rate`` argument to this function. Failing to do so can result in silent errors that might be hard to debug.\n"
     ]
    },
    {
     "name": "stdout",
     "output_type": "stream",
     "text": [
      "i 264\n",
      "filename disco.00012.wav\n",
      "label disco\n",
      "track_id 00012.wav\n"
     ]
    },
    {
     "name": "stderr",
     "output_type": "stream",
     "text": [
      "It is strongly recommended to pass the ``sampling_rate`` argument to this function. Failing to do so can result in silent errors that might be hard to debug.\n"
     ]
    },
    {
     "name": "stdout",
     "output_type": "stream",
     "text": [
      "i 265\n",
      "filename disco.00006.wav\n",
      "label disco\n",
      "track_id 00006.wav\n"
     ]
    },
    {
     "name": "stderr",
     "output_type": "stream",
     "text": [
      "It is strongly recommended to pass the ``sampling_rate`` argument to this function. Failing to do so can result in silent errors that might be hard to debug.\n"
     ]
    },
    {
     "name": "stdout",
     "output_type": "stream",
     "text": [
      "i 266\n",
      "filename disco.00002.wav\n",
      "label disco\n",
      "track_id 00002.wav\n"
     ]
    },
    {
     "name": "stderr",
     "output_type": "stream",
     "text": [
      "It is strongly recommended to pass the ``sampling_rate`` argument to this function. Failing to do so can result in silent errors that might be hard to debug.\n"
     ]
    },
    {
     "name": "stdout",
     "output_type": "stream",
     "text": [
      "i 267\n",
      "filename disco.00016.wav\n",
      "label disco\n",
      "track_id 00016.wav\n"
     ]
    },
    {
     "name": "stderr",
     "output_type": "stream",
     "text": [
      "It is strongly recommended to pass the ``sampling_rate`` argument to this function. Failing to do so can result in silent errors that might be hard to debug.\n"
     ]
    },
    {
     "name": "stdout",
     "output_type": "stream",
     "text": [
      "i 268\n",
      "filename disco.00017.wav\n",
      "label disco\n",
      "track_id 00017.wav\n"
     ]
    },
    {
     "name": "stderr",
     "output_type": "stream",
     "text": [
      "It is strongly recommended to pass the ``sampling_rate`` argument to this function. Failing to do so can result in silent errors that might be hard to debug.\n"
     ]
    },
    {
     "name": "stdout",
     "output_type": "stream",
     "text": [
      "i 269\n",
      "filename disco.00003.wav\n",
      "label disco\n",
      "track_id 00003.wav\n"
     ]
    },
    {
     "name": "stderr",
     "output_type": "stream",
     "text": [
      "It is strongly recommended to pass the ``sampling_rate`` argument to this function. Failing to do so can result in silent errors that might be hard to debug.\n"
     ]
    },
    {
     "name": "stdout",
     "output_type": "stream",
     "text": [
      "i 270\n",
      "filename disco.00029.wav\n",
      "label disco\n",
      "track_id 00029.wav\n"
     ]
    },
    {
     "name": "stderr",
     "output_type": "stream",
     "text": [
      "It is strongly recommended to pass the ``sampling_rate`` argument to this function. Failing to do so can result in silent errors that might be hard to debug.\n"
     ]
    },
    {
     "name": "stdout",
     "output_type": "stream",
     "text": [
      "i 271\n",
      "filename disco.00015.wav\n",
      "label disco\n",
      "track_id 00015.wav\n"
     ]
    },
    {
     "name": "stderr",
     "output_type": "stream",
     "text": [
      "It is strongly recommended to pass the ``sampling_rate`` argument to this function. Failing to do so can result in silent errors that might be hard to debug.\n"
     ]
    },
    {
     "name": "stdout",
     "output_type": "stream",
     "text": [
      "i 272\n",
      "filename disco.00001.wav\n",
      "label disco\n",
      "track_id 00001.wav\n"
     ]
    },
    {
     "name": "stderr",
     "output_type": "stream",
     "text": [
      "It is strongly recommended to pass the ``sampling_rate`` argument to this function. Failing to do so can result in silent errors that might be hard to debug.\n"
     ]
    },
    {
     "name": "stdout",
     "output_type": "stream",
     "text": [
      "i 273\n",
      "filename disco.00000.wav\n",
      "label disco\n",
      "track_id 00000.wav\n"
     ]
    },
    {
     "name": "stderr",
     "output_type": "stream",
     "text": [
      "It is strongly recommended to pass the ``sampling_rate`` argument to this function. Failing to do so can result in silent errors that might be hard to debug.\n"
     ]
    },
    {
     "name": "stdout",
     "output_type": "stream",
     "text": [
      "i 274\n",
      "filename disco.00014.wav\n",
      "label disco\n",
      "track_id 00014.wav\n"
     ]
    },
    {
     "name": "stderr",
     "output_type": "stream",
     "text": [
      "It is strongly recommended to pass the ``sampling_rate`` argument to this function. Failing to do so can result in silent errors that might be hard to debug.\n"
     ]
    },
    {
     "name": "stdout",
     "output_type": "stream",
     "text": [
      "i 275\n",
      "filename disco.00028.wav\n",
      "label disco\n",
      "track_id 00028.wav\n"
     ]
    },
    {
     "name": "stderr",
     "output_type": "stream",
     "text": [
      "It is strongly recommended to pass the ``sampling_rate`` argument to this function. Failing to do so can result in silent errors that might be hard to debug.\n"
     ]
    },
    {
     "name": "stdout",
     "output_type": "stream",
     "text": [
      "i 276\n",
      "filename disco.00073.wav\n",
      "label disco\n",
      "track_id 00073.wav\n"
     ]
    },
    {
     "name": "stderr",
     "output_type": "stream",
     "text": [
      "It is strongly recommended to pass the ``sampling_rate`` argument to this function. Failing to do so can result in silent errors that might be hard to debug.\n"
     ]
    },
    {
     "name": "stdout",
     "output_type": "stream",
     "text": [
      "i 277\n",
      "filename disco.00067.wav\n",
      "label disco\n",
      "track_id 00067.wav\n"
     ]
    },
    {
     "name": "stderr",
     "output_type": "stream",
     "text": [
      "It is strongly recommended to pass the ``sampling_rate`` argument to this function. Failing to do so can result in silent errors that might be hard to debug.\n"
     ]
    },
    {
     "name": "stdout",
     "output_type": "stream",
     "text": [
      "i 278\n",
      "filename disco.00098.wav\n",
      "label disco\n",
      "track_id 00098.wav\n"
     ]
    },
    {
     "name": "stderr",
     "output_type": "stream",
     "text": [
      "It is strongly recommended to pass the ``sampling_rate`` argument to this function. Failing to do so can result in silent errors that might be hard to debug.\n"
     ]
    },
    {
     "name": "stdout",
     "output_type": "stream",
     "text": [
      "i 279\n",
      "filename disco.00099.wav\n",
      "label disco\n",
      "track_id 00099.wav\n"
     ]
    },
    {
     "name": "stderr",
     "output_type": "stream",
     "text": [
      "It is strongly recommended to pass the ``sampling_rate`` argument to this function. Failing to do so can result in silent errors that might be hard to debug.\n"
     ]
    },
    {
     "name": "stdout",
     "output_type": "stream",
     "text": [
      "i 280\n",
      "filename disco.00066.wav\n",
      "label disco\n",
      "track_id 00066.wav\n"
     ]
    },
    {
     "name": "stderr",
     "output_type": "stream",
     "text": [
      "It is strongly recommended to pass the ``sampling_rate`` argument to this function. Failing to do so can result in silent errors that might be hard to debug.\n"
     ]
    },
    {
     "name": "stdout",
     "output_type": "stream",
     "text": [
      "i 281\n",
      "filename disco.00072.wav\n",
      "label disco\n",
      "track_id 00072.wav\n"
     ]
    },
    {
     "name": "stderr",
     "output_type": "stream",
     "text": [
      "It is strongly recommended to pass the ``sampling_rate`` argument to this function. Failing to do so can result in silent errors that might be hard to debug.\n"
     ]
    },
    {
     "name": "stdout",
     "output_type": "stream",
     "text": [
      "i 282\n",
      "filename disco.00064.wav\n",
      "label disco\n",
      "track_id 00064.wav\n"
     ]
    },
    {
     "name": "stderr",
     "output_type": "stream",
     "text": [
      "It is strongly recommended to pass the ``sampling_rate`` argument to this function. Failing to do so can result in silent errors that might be hard to debug.\n"
     ]
    },
    {
     "name": "stdout",
     "output_type": "stream",
     "text": [
      "i 283\n",
      "filename disco.00070.wav\n",
      "label disco\n",
      "track_id 00070.wav\n"
     ]
    },
    {
     "name": "stderr",
     "output_type": "stream",
     "text": [
      "It is strongly recommended to pass the ``sampling_rate`` argument to this function. Failing to do so can result in silent errors that might be hard to debug.\n"
     ]
    },
    {
     "name": "stdout",
     "output_type": "stream",
     "text": [
      "i 284\n",
      "filename disco.00058.wav\n",
      "label disco\n",
      "track_id 00058.wav\n"
     ]
    },
    {
     "name": "stderr",
     "output_type": "stream",
     "text": [
      "It is strongly recommended to pass the ``sampling_rate`` argument to this function. Failing to do so can result in silent errors that might be hard to debug.\n"
     ]
    },
    {
     "name": "stdout",
     "output_type": "stream",
     "text": [
      "i 285\n",
      "filename disco.00059.wav\n",
      "label disco\n",
      "track_id 00059.wav\n"
     ]
    },
    {
     "name": "stderr",
     "output_type": "stream",
     "text": [
      "It is strongly recommended to pass the ``sampling_rate`` argument to this function. Failing to do so can result in silent errors that might be hard to debug.\n"
     ]
    },
    {
     "name": "stdout",
     "output_type": "stream",
     "text": [
      "i 286\n",
      "filename disco.00071.wav\n",
      "label disco\n",
      "track_id 00071.wav\n"
     ]
    },
    {
     "name": "stderr",
     "output_type": "stream",
     "text": [
      "It is strongly recommended to pass the ``sampling_rate`` argument to this function. Failing to do so can result in silent errors that might be hard to debug.\n"
     ]
    },
    {
     "name": "stdout",
     "output_type": "stream",
     "text": [
      "i 287\n",
      "filename disco.00065.wav\n",
      "label disco\n",
      "track_id 00065.wav\n"
     ]
    },
    {
     "name": "stderr",
     "output_type": "stream",
     "text": [
      "It is strongly recommended to pass the ``sampling_rate`` argument to this function. Failing to do so can result in silent errors that might be hard to debug.\n"
     ]
    },
    {
     "name": "stdout",
     "output_type": "stream",
     "text": [
      "i 288\n",
      "filename disco.00049.wav\n",
      "label disco\n",
      "track_id 00049.wav\n"
     ]
    },
    {
     "name": "stderr",
     "output_type": "stream",
     "text": [
      "It is strongly recommended to pass the ``sampling_rate`` argument to this function. Failing to do so can result in silent errors that might be hard to debug.\n"
     ]
    },
    {
     "name": "stdout",
     "output_type": "stream",
     "text": [
      "i 289\n",
      "filename disco.00061.wav\n",
      "label disco\n",
      "track_id 00061.wav\n"
     ]
    },
    {
     "name": "stderr",
     "output_type": "stream",
     "text": [
      "It is strongly recommended to pass the ``sampling_rate`` argument to this function. Failing to do so can result in silent errors that might be hard to debug.\n"
     ]
    },
    {
     "name": "stdout",
     "output_type": "stream",
     "text": [
      "i 290\n",
      "filename disco.00075.wav\n",
      "label disco\n",
      "track_id 00075.wav\n"
     ]
    },
    {
     "name": "stderr",
     "output_type": "stream",
     "text": [
      "It is strongly recommended to pass the ``sampling_rate`` argument to this function. Failing to do so can result in silent errors that might be hard to debug.\n"
     ]
    },
    {
     "name": "stdout",
     "output_type": "stream",
     "text": [
      "i 291\n",
      "filename disco.00074.wav\n",
      "label disco\n",
      "track_id 00074.wav\n"
     ]
    },
    {
     "name": "stderr",
     "output_type": "stream",
     "text": [
      "It is strongly recommended to pass the ``sampling_rate`` argument to this function. Failing to do so can result in silent errors that might be hard to debug.\n"
     ]
    },
    {
     "name": "stdout",
     "output_type": "stream",
     "text": [
      "i 292\n",
      "filename disco.00060.wav\n",
      "label disco\n",
      "track_id 00060.wav\n"
     ]
    },
    {
     "name": "stderr",
     "output_type": "stream",
     "text": [
      "It is strongly recommended to pass the ``sampling_rate`` argument to this function. Failing to do so can result in silent errors that might be hard to debug.\n"
     ]
    },
    {
     "name": "stdout",
     "output_type": "stream",
     "text": [
      "i 293\n",
      "filename disco.00048.wav\n",
      "label disco\n",
      "track_id 00048.wav\n"
     ]
    },
    {
     "name": "stderr",
     "output_type": "stream",
     "text": [
      "It is strongly recommended to pass the ``sampling_rate`` argument to this function. Failing to do so can result in silent errors that might be hard to debug.\n"
     ]
    },
    {
     "name": "stdout",
     "output_type": "stream",
     "text": [
      "i 294\n",
      "filename disco.00076.wav\n",
      "label disco\n",
      "track_id 00076.wav\n"
     ]
    },
    {
     "name": "stderr",
     "output_type": "stream",
     "text": [
      "It is strongly recommended to pass the ``sampling_rate`` argument to this function. Failing to do so can result in silent errors that might be hard to debug.\n"
     ]
    },
    {
     "name": "stdout",
     "output_type": "stream",
     "text": [
      "i 295\n",
      "filename disco.00062.wav\n",
      "label disco\n",
      "track_id 00062.wav\n"
     ]
    },
    {
     "name": "stderr",
     "output_type": "stream",
     "text": [
      "It is strongly recommended to pass the ``sampling_rate`` argument to this function. Failing to do so can result in silent errors that might be hard to debug.\n"
     ]
    },
    {
     "name": "stdout",
     "output_type": "stream",
     "text": [
      "i 296\n",
      "filename disco.00089.wav\n",
      "label disco\n",
      "track_id 00089.wav\n"
     ]
    },
    {
     "name": "stderr",
     "output_type": "stream",
     "text": [
      "It is strongly recommended to pass the ``sampling_rate`` argument to this function. Failing to do so can result in silent errors that might be hard to debug.\n"
     ]
    },
    {
     "name": "stdout",
     "output_type": "stream",
     "text": [
      "i 297\n",
      "filename disco.00088.wav\n",
      "label disco\n",
      "track_id 00088.wav\n"
     ]
    },
    {
     "name": "stderr",
     "output_type": "stream",
     "text": [
      "It is strongly recommended to pass the ``sampling_rate`` argument to this function. Failing to do so can result in silent errors that might be hard to debug.\n"
     ]
    },
    {
     "name": "stdout",
     "output_type": "stream",
     "text": [
      "i 298\n",
      "filename disco.00063.wav\n",
      "label disco\n",
      "track_id 00063.wav\n"
     ]
    },
    {
     "name": "stderr",
     "output_type": "stream",
     "text": [
      "It is strongly recommended to pass the ``sampling_rate`` argument to this function. Failing to do so can result in silent errors that might be hard to debug.\n"
     ]
    },
    {
     "name": "stdout",
     "output_type": "stream",
     "text": [
      "i 299\n",
      "filename disco.00077.wav\n",
      "label disco\n",
      "track_id 00077.wav\n"
     ]
    },
    {
     "name": "stderr",
     "output_type": "stream",
     "text": [
      "4it [19:07, 314.73s/it]It is strongly recommended to pass the ``sampling_rate`` argument to this function. Failing to do so can result in silent errors that might be hard to debug.\n"
     ]
    },
    {
     "name": "stdout",
     "output_type": "stream",
     "text": [
      "i 300\n",
      "root ../audios/gtzan/blues\n",
      "dirs []\n",
      "files ['blues.00093.wav', 'blues.00087.wav', 'blues.00050.wav', 'blues.00044.wav', 'blues.00078.wav', 'blues.00079.wav', 'blues.00045.wav', 'blues.00051.wav', 'blues.00086.wav', 'blues.00092.wav', 'blues.00084.wav', 'blues.00090.wav', 'blues.00047.wav', 'blues.00053.wav', 'blues.00052.wav', 'blues.00046.wav', 'blues.00091.wav', 'blues.00085.wav', 'blues.00081.wav', 'blues.00095.wav', 'blues.00042.wav', 'blues.00056.wav', 'blues.00057.wav', 'blues.00043.wav', 'blues.00094.wav', 'blues.00080.wav', 'blues.00096.wav', 'blues.00082.wav', 'blues.00069.wav', 'blues.00055.wav', 'blues.00041.wav', 'blues.00040.wav', 'blues.00054.wav', 'blues.00068.wav', 'blues.00083.wav', 'blues.00097.wav', 'blues.00033.wav', 'blues.00027.wav', 'blues.00026.wav', 'blues.00032.wav', 'blues.00024.wav', 'blues.00030.wav', 'blues.00018.wav', 'blues.00019.wav', 'blues.00031.wav', 'blues.00025.wav', 'blues.00009.wav', 'blues.00021.wav', 'blues.00035.wav', 'blues.00034.wav', 'blues.00020.wav', 'blues.00008.wav', 'blues.00036.wav', 'blues.00022.wav', 'blues.00023.wav', 'blues.00037.wav', 'blues.00012.wav', 'blues.00006.wav', 'blues.00007.wav', 'blues.00013.wav', 'blues.00005.wav', 'blues.00011.wav', 'blues.00039.wav', 'blues.00038.wav', 'blues.00010.wav', 'blues.00004.wav', 'blues.00028.wav', 'blues.00000.wav', 'blues.00014.wav', 'blues.00015.wav', 'blues.00001.wav', 'blues.00029.wav', 'blues.00017.wav', 'blues.00003.wav', 'blues.00002.wav', 'blues.00016.wav', 'blues.00071.wav', 'blues.00065.wav', 'blues.00059.wav', 'blues.00058.wav', 'blues.00064.wav', 'blues.00070.wav', 'blues.00099.wav', 'blues.00066.wav', 'blues.00072.wav', 'blues.00073.wav', 'blues.00067.wav', 'blues.00098.wav', 'blues.00088.wav', 'blues.00063.wav', 'blues.00077.wav', 'blues.00076.wav', 'blues.00062.wav', 'blues.00089.wav', 'blues.00048.wav', 'blues.00074.wav', 'blues.00060.wav', 'blues.00061.wav', 'blues.00075.wav', 'blues.00049.wav']\n",
      "filename blues.00093.wav\n",
      "label blues\n",
      "track_id 00093.wav\n"
     ]
    },
    {
     "name": "stderr",
     "output_type": "stream",
     "text": [
      "It is strongly recommended to pass the ``sampling_rate`` argument to this function. Failing to do so can result in silent errors that might be hard to debug.\n"
     ]
    },
    {
     "name": "stdout",
     "output_type": "stream",
     "text": [
      "i 301\n",
      "filename blues.00087.wav\n",
      "label blues\n",
      "track_id 00087.wav\n"
     ]
    },
    {
     "name": "stderr",
     "output_type": "stream",
     "text": [
      "It is strongly recommended to pass the ``sampling_rate`` argument to this function. Failing to do so can result in silent errors that might be hard to debug.\n"
     ]
    },
    {
     "name": "stdout",
     "output_type": "stream",
     "text": [
      "i 302\n",
      "filename blues.00050.wav\n",
      "label blues\n",
      "track_id 00050.wav\n"
     ]
    },
    {
     "name": "stderr",
     "output_type": "stream",
     "text": [
      "It is strongly recommended to pass the ``sampling_rate`` argument to this function. Failing to do so can result in silent errors that might be hard to debug.\n"
     ]
    },
    {
     "name": "stdout",
     "output_type": "stream",
     "text": [
      "i 303\n",
      "filename blues.00044.wav\n",
      "label blues\n",
      "track_id 00044.wav\n"
     ]
    },
    {
     "name": "stderr",
     "output_type": "stream",
     "text": [
      "It is strongly recommended to pass the ``sampling_rate`` argument to this function. Failing to do so can result in silent errors that might be hard to debug.\n"
     ]
    },
    {
     "name": "stdout",
     "output_type": "stream",
     "text": [
      "i 304\n",
      "filename blues.00078.wav\n",
      "label blues\n",
      "track_id 00078.wav\n"
     ]
    },
    {
     "name": "stderr",
     "output_type": "stream",
     "text": [
      "It is strongly recommended to pass the ``sampling_rate`` argument to this function. Failing to do so can result in silent errors that might be hard to debug.\n"
     ]
    },
    {
     "name": "stdout",
     "output_type": "stream",
     "text": [
      "i 305\n",
      "filename blues.00079.wav\n",
      "label blues\n",
      "track_id 00079.wav\n"
     ]
    },
    {
     "name": "stderr",
     "output_type": "stream",
     "text": [
      "It is strongly recommended to pass the ``sampling_rate`` argument to this function. Failing to do so can result in silent errors that might be hard to debug.\n"
     ]
    },
    {
     "name": "stdout",
     "output_type": "stream",
     "text": [
      "i 306\n",
      "filename blues.00045.wav\n",
      "label blues\n",
      "track_id 00045.wav\n"
     ]
    },
    {
     "name": "stderr",
     "output_type": "stream",
     "text": [
      "It is strongly recommended to pass the ``sampling_rate`` argument to this function. Failing to do so can result in silent errors that might be hard to debug.\n"
     ]
    },
    {
     "name": "stdout",
     "output_type": "stream",
     "text": [
      "i 307\n",
      "filename blues.00051.wav\n",
      "label blues\n",
      "track_id 00051.wav\n"
     ]
    },
    {
     "name": "stderr",
     "output_type": "stream",
     "text": [
      "It is strongly recommended to pass the ``sampling_rate`` argument to this function. Failing to do so can result in silent errors that might be hard to debug.\n"
     ]
    },
    {
     "name": "stdout",
     "output_type": "stream",
     "text": [
      "i 308\n",
      "filename blues.00086.wav\n",
      "label blues\n",
      "track_id 00086.wav\n"
     ]
    },
    {
     "name": "stderr",
     "output_type": "stream",
     "text": [
      "It is strongly recommended to pass the ``sampling_rate`` argument to this function. Failing to do so can result in silent errors that might be hard to debug.\n"
     ]
    },
    {
     "name": "stdout",
     "output_type": "stream",
     "text": [
      "i 309\n",
      "filename blues.00092.wav\n",
      "label blues\n",
      "track_id 00092.wav\n"
     ]
    },
    {
     "name": "stderr",
     "output_type": "stream",
     "text": [
      "It is strongly recommended to pass the ``sampling_rate`` argument to this function. Failing to do so can result in silent errors that might be hard to debug.\n"
     ]
    },
    {
     "name": "stdout",
     "output_type": "stream",
     "text": [
      "i 310\n",
      "filename blues.00084.wav\n",
      "label blues\n",
      "track_id 00084.wav\n"
     ]
    },
    {
     "name": "stderr",
     "output_type": "stream",
     "text": [
      "It is strongly recommended to pass the ``sampling_rate`` argument to this function. Failing to do so can result in silent errors that might be hard to debug.\n"
     ]
    },
    {
     "name": "stdout",
     "output_type": "stream",
     "text": [
      "i 311\n",
      "filename blues.00090.wav\n",
      "label blues\n",
      "track_id 00090.wav\n"
     ]
    },
    {
     "name": "stderr",
     "output_type": "stream",
     "text": [
      "It is strongly recommended to pass the ``sampling_rate`` argument to this function. Failing to do so can result in silent errors that might be hard to debug.\n"
     ]
    },
    {
     "name": "stdout",
     "output_type": "stream",
     "text": [
      "i 312\n",
      "filename blues.00047.wav\n",
      "label blues\n",
      "track_id 00047.wav\n"
     ]
    },
    {
     "name": "stderr",
     "output_type": "stream",
     "text": [
      "It is strongly recommended to pass the ``sampling_rate`` argument to this function. Failing to do so can result in silent errors that might be hard to debug.\n"
     ]
    },
    {
     "name": "stdout",
     "output_type": "stream",
     "text": [
      "i 313\n",
      "filename blues.00053.wav\n",
      "label blues\n",
      "track_id 00053.wav\n"
     ]
    },
    {
     "name": "stderr",
     "output_type": "stream",
     "text": [
      "It is strongly recommended to pass the ``sampling_rate`` argument to this function. Failing to do so can result in silent errors that might be hard to debug.\n"
     ]
    },
    {
     "name": "stdout",
     "output_type": "stream",
     "text": [
      "i 314\n",
      "filename blues.00052.wav\n",
      "label blues\n",
      "track_id 00052.wav\n"
     ]
    },
    {
     "name": "stderr",
     "output_type": "stream",
     "text": [
      "It is strongly recommended to pass the ``sampling_rate`` argument to this function. Failing to do so can result in silent errors that might be hard to debug.\n"
     ]
    },
    {
     "name": "stdout",
     "output_type": "stream",
     "text": [
      "i 315\n",
      "filename blues.00046.wav\n",
      "label blues\n",
      "track_id 00046.wav\n"
     ]
    },
    {
     "name": "stderr",
     "output_type": "stream",
     "text": [
      "It is strongly recommended to pass the ``sampling_rate`` argument to this function. Failing to do so can result in silent errors that might be hard to debug.\n"
     ]
    },
    {
     "name": "stdout",
     "output_type": "stream",
     "text": [
      "i 316\n",
      "filename blues.00091.wav\n",
      "label blues\n",
      "track_id 00091.wav\n"
     ]
    },
    {
     "name": "stderr",
     "output_type": "stream",
     "text": [
      "It is strongly recommended to pass the ``sampling_rate`` argument to this function. Failing to do so can result in silent errors that might be hard to debug.\n"
     ]
    },
    {
     "name": "stdout",
     "output_type": "stream",
     "text": [
      "i 317\n",
      "filename blues.00085.wav\n",
      "label blues\n",
      "track_id 00085.wav\n"
     ]
    },
    {
     "name": "stderr",
     "output_type": "stream",
     "text": [
      "It is strongly recommended to pass the ``sampling_rate`` argument to this function. Failing to do so can result in silent errors that might be hard to debug.\n"
     ]
    },
    {
     "name": "stdout",
     "output_type": "stream",
     "text": [
      "i 318\n",
      "filename blues.00081.wav\n",
      "label blues\n",
      "track_id 00081.wav\n"
     ]
    },
    {
     "name": "stderr",
     "output_type": "stream",
     "text": [
      "It is strongly recommended to pass the ``sampling_rate`` argument to this function. Failing to do so can result in silent errors that might be hard to debug.\n"
     ]
    },
    {
     "name": "stdout",
     "output_type": "stream",
     "text": [
      "i 319\n",
      "filename blues.00095.wav\n",
      "label blues\n",
      "track_id 00095.wav\n"
     ]
    },
    {
     "name": "stderr",
     "output_type": "stream",
     "text": [
      "It is strongly recommended to pass the ``sampling_rate`` argument to this function. Failing to do so can result in silent errors that might be hard to debug.\n"
     ]
    },
    {
     "name": "stdout",
     "output_type": "stream",
     "text": [
      "i 320\n",
      "filename blues.00042.wav\n",
      "label blues\n",
      "track_id 00042.wav\n"
     ]
    },
    {
     "name": "stderr",
     "output_type": "stream",
     "text": [
      "It is strongly recommended to pass the ``sampling_rate`` argument to this function. Failing to do so can result in silent errors that might be hard to debug.\n"
     ]
    },
    {
     "name": "stdout",
     "output_type": "stream",
     "text": [
      "i 321\n",
      "filename blues.00056.wav\n",
      "label blues\n",
      "track_id 00056.wav\n"
     ]
    },
    {
     "name": "stderr",
     "output_type": "stream",
     "text": [
      "It is strongly recommended to pass the ``sampling_rate`` argument to this function. Failing to do so can result in silent errors that might be hard to debug.\n"
     ]
    },
    {
     "name": "stdout",
     "output_type": "stream",
     "text": [
      "i 322\n",
      "filename blues.00057.wav\n",
      "label blues\n",
      "track_id 00057.wav\n"
     ]
    },
    {
     "name": "stderr",
     "output_type": "stream",
     "text": [
      "It is strongly recommended to pass the ``sampling_rate`` argument to this function. Failing to do so can result in silent errors that might be hard to debug.\n"
     ]
    },
    {
     "name": "stdout",
     "output_type": "stream",
     "text": [
      "i 323\n",
      "filename blues.00043.wav\n",
      "label blues\n",
      "track_id 00043.wav\n"
     ]
    },
    {
     "name": "stderr",
     "output_type": "stream",
     "text": [
      "It is strongly recommended to pass the ``sampling_rate`` argument to this function. Failing to do so can result in silent errors that might be hard to debug.\n"
     ]
    },
    {
     "name": "stdout",
     "output_type": "stream",
     "text": [
      "i 324\n",
      "filename blues.00094.wav\n",
      "label blues\n",
      "track_id 00094.wav\n"
     ]
    },
    {
     "name": "stderr",
     "output_type": "stream",
     "text": [
      "It is strongly recommended to pass the ``sampling_rate`` argument to this function. Failing to do so can result in silent errors that might be hard to debug.\n"
     ]
    },
    {
     "name": "stdout",
     "output_type": "stream",
     "text": [
      "i 325\n",
      "filename blues.00080.wav\n",
      "label blues\n",
      "track_id 00080.wav\n"
     ]
    },
    {
     "name": "stderr",
     "output_type": "stream",
     "text": [
      "It is strongly recommended to pass the ``sampling_rate`` argument to this function. Failing to do so can result in silent errors that might be hard to debug.\n"
     ]
    },
    {
     "name": "stdout",
     "output_type": "stream",
     "text": [
      "i 326\n",
      "filename blues.00096.wav\n",
      "label blues\n",
      "track_id 00096.wav\n"
     ]
    },
    {
     "name": "stderr",
     "output_type": "stream",
     "text": [
      "It is strongly recommended to pass the ``sampling_rate`` argument to this function. Failing to do so can result in silent errors that might be hard to debug.\n"
     ]
    },
    {
     "name": "stdout",
     "output_type": "stream",
     "text": [
      "i 327\n",
      "filename blues.00082.wav\n",
      "label blues\n",
      "track_id 00082.wav\n"
     ]
    },
    {
     "name": "stderr",
     "output_type": "stream",
     "text": [
      "It is strongly recommended to pass the ``sampling_rate`` argument to this function. Failing to do so can result in silent errors that might be hard to debug.\n"
     ]
    },
    {
     "name": "stdout",
     "output_type": "stream",
     "text": [
      "i 328\n",
      "filename blues.00069.wav\n",
      "label blues\n",
      "track_id 00069.wav\n"
     ]
    },
    {
     "name": "stderr",
     "output_type": "stream",
     "text": [
      "It is strongly recommended to pass the ``sampling_rate`` argument to this function. Failing to do so can result in silent errors that might be hard to debug.\n"
     ]
    },
    {
     "name": "stdout",
     "output_type": "stream",
     "text": [
      "i 329\n",
      "filename blues.00055.wav\n",
      "label blues\n",
      "track_id 00055.wav\n"
     ]
    },
    {
     "name": "stderr",
     "output_type": "stream",
     "text": [
      "It is strongly recommended to pass the ``sampling_rate`` argument to this function. Failing to do so can result in silent errors that might be hard to debug.\n"
     ]
    },
    {
     "name": "stdout",
     "output_type": "stream",
     "text": [
      "i 330\n",
      "filename blues.00041.wav\n",
      "label blues\n",
      "track_id 00041.wav\n"
     ]
    },
    {
     "name": "stderr",
     "output_type": "stream",
     "text": [
      "It is strongly recommended to pass the ``sampling_rate`` argument to this function. Failing to do so can result in silent errors that might be hard to debug.\n"
     ]
    },
    {
     "name": "stdout",
     "output_type": "stream",
     "text": [
      "i 331\n",
      "filename blues.00040.wav\n",
      "label blues\n",
      "track_id 00040.wav\n"
     ]
    },
    {
     "name": "stderr",
     "output_type": "stream",
     "text": [
      "It is strongly recommended to pass the ``sampling_rate`` argument to this function. Failing to do so can result in silent errors that might be hard to debug.\n"
     ]
    },
    {
     "name": "stdout",
     "output_type": "stream",
     "text": [
      "i 332\n",
      "filename blues.00054.wav\n",
      "label blues\n",
      "track_id 00054.wav\n"
     ]
    },
    {
     "name": "stderr",
     "output_type": "stream",
     "text": [
      "It is strongly recommended to pass the ``sampling_rate`` argument to this function. Failing to do so can result in silent errors that might be hard to debug.\n"
     ]
    },
    {
     "name": "stdout",
     "output_type": "stream",
     "text": [
      "i 333\n",
      "filename blues.00068.wav\n",
      "label blues\n",
      "track_id 00068.wav\n"
     ]
    },
    {
     "name": "stderr",
     "output_type": "stream",
     "text": [
      "It is strongly recommended to pass the ``sampling_rate`` argument to this function. Failing to do so can result in silent errors that might be hard to debug.\n"
     ]
    },
    {
     "name": "stdout",
     "output_type": "stream",
     "text": [
      "i 334\n",
      "filename blues.00083.wav\n",
      "label blues\n",
      "track_id 00083.wav\n"
     ]
    },
    {
     "name": "stderr",
     "output_type": "stream",
     "text": [
      "It is strongly recommended to pass the ``sampling_rate`` argument to this function. Failing to do so can result in silent errors that might be hard to debug.\n"
     ]
    },
    {
     "name": "stdout",
     "output_type": "stream",
     "text": [
      "i 335\n",
      "filename blues.00097.wav\n",
      "label blues\n",
      "track_id 00097.wav\n"
     ]
    },
    {
     "name": "stderr",
     "output_type": "stream",
     "text": [
      "It is strongly recommended to pass the ``sampling_rate`` argument to this function. Failing to do so can result in silent errors that might be hard to debug.\n"
     ]
    },
    {
     "name": "stdout",
     "output_type": "stream",
     "text": [
      "i 336\n",
      "filename blues.00033.wav\n",
      "label blues\n",
      "track_id 00033.wav\n"
     ]
    },
    {
     "name": "stderr",
     "output_type": "stream",
     "text": [
      "It is strongly recommended to pass the ``sampling_rate`` argument to this function. Failing to do so can result in silent errors that might be hard to debug.\n"
     ]
    },
    {
     "name": "stdout",
     "output_type": "stream",
     "text": [
      "i 337\n",
      "filename blues.00027.wav\n",
      "label blues\n",
      "track_id 00027.wav\n"
     ]
    },
    {
     "name": "stderr",
     "output_type": "stream",
     "text": [
      "It is strongly recommended to pass the ``sampling_rate`` argument to this function. Failing to do so can result in silent errors that might be hard to debug.\n"
     ]
    },
    {
     "name": "stdout",
     "output_type": "stream",
     "text": [
      "i 338\n",
      "filename blues.00026.wav\n",
      "label blues\n",
      "track_id 00026.wav\n"
     ]
    },
    {
     "name": "stderr",
     "output_type": "stream",
     "text": [
      "It is strongly recommended to pass the ``sampling_rate`` argument to this function. Failing to do so can result in silent errors that might be hard to debug.\n"
     ]
    },
    {
     "name": "stdout",
     "output_type": "stream",
     "text": [
      "i 339\n",
      "filename blues.00032.wav\n",
      "label blues\n",
      "track_id 00032.wav\n"
     ]
    },
    {
     "name": "stderr",
     "output_type": "stream",
     "text": [
      "It is strongly recommended to pass the ``sampling_rate`` argument to this function. Failing to do so can result in silent errors that might be hard to debug.\n"
     ]
    },
    {
     "name": "stdout",
     "output_type": "stream",
     "text": [
      "i 340\n",
      "filename blues.00024.wav\n",
      "label blues\n",
      "track_id 00024.wav\n"
     ]
    },
    {
     "name": "stderr",
     "output_type": "stream",
     "text": [
      "It is strongly recommended to pass the ``sampling_rate`` argument to this function. Failing to do so can result in silent errors that might be hard to debug.\n"
     ]
    },
    {
     "name": "stdout",
     "output_type": "stream",
     "text": [
      "i 341\n",
      "filename blues.00030.wav\n",
      "label blues\n",
      "track_id 00030.wav\n"
     ]
    },
    {
     "name": "stderr",
     "output_type": "stream",
     "text": [
      "It is strongly recommended to pass the ``sampling_rate`` argument to this function. Failing to do so can result in silent errors that might be hard to debug.\n"
     ]
    },
    {
     "name": "stdout",
     "output_type": "stream",
     "text": [
      "i 342\n",
      "filename blues.00018.wav\n",
      "label blues\n",
      "track_id 00018.wav\n"
     ]
    },
    {
     "name": "stderr",
     "output_type": "stream",
     "text": [
      "It is strongly recommended to pass the ``sampling_rate`` argument to this function. Failing to do so can result in silent errors that might be hard to debug.\n"
     ]
    },
    {
     "name": "stdout",
     "output_type": "stream",
     "text": [
      "i 343\n",
      "filename blues.00019.wav\n",
      "label blues\n",
      "track_id 00019.wav\n"
     ]
    },
    {
     "name": "stderr",
     "output_type": "stream",
     "text": [
      "It is strongly recommended to pass the ``sampling_rate`` argument to this function. Failing to do so can result in silent errors that might be hard to debug.\n"
     ]
    },
    {
     "name": "stdout",
     "output_type": "stream",
     "text": [
      "i 344\n",
      "filename blues.00031.wav\n",
      "label blues\n",
      "track_id 00031.wav\n"
     ]
    },
    {
     "name": "stderr",
     "output_type": "stream",
     "text": [
      "It is strongly recommended to pass the ``sampling_rate`` argument to this function. Failing to do so can result in silent errors that might be hard to debug.\n"
     ]
    },
    {
     "name": "stdout",
     "output_type": "stream",
     "text": [
      "i 345\n",
      "filename blues.00025.wav\n",
      "label blues\n",
      "track_id 00025.wav\n"
     ]
    },
    {
     "name": "stderr",
     "output_type": "stream",
     "text": [
      "It is strongly recommended to pass the ``sampling_rate`` argument to this function. Failing to do so can result in silent errors that might be hard to debug.\n"
     ]
    },
    {
     "name": "stdout",
     "output_type": "stream",
     "text": [
      "i 346\n",
      "filename blues.00009.wav\n",
      "label blues\n",
      "track_id 00009.wav\n"
     ]
    },
    {
     "name": "stderr",
     "output_type": "stream",
     "text": [
      "It is strongly recommended to pass the ``sampling_rate`` argument to this function. Failing to do so can result in silent errors that might be hard to debug.\n"
     ]
    },
    {
     "name": "stdout",
     "output_type": "stream",
     "text": [
      "i 347\n",
      "filename blues.00021.wav\n",
      "label blues\n",
      "track_id 00021.wav\n"
     ]
    },
    {
     "name": "stderr",
     "output_type": "stream",
     "text": [
      "It is strongly recommended to pass the ``sampling_rate`` argument to this function. Failing to do so can result in silent errors that might be hard to debug.\n"
     ]
    },
    {
     "name": "stdout",
     "output_type": "stream",
     "text": [
      "i 348\n",
      "filename blues.00035.wav\n",
      "label blues\n",
      "track_id 00035.wav\n"
     ]
    },
    {
     "name": "stderr",
     "output_type": "stream",
     "text": [
      "It is strongly recommended to pass the ``sampling_rate`` argument to this function. Failing to do so can result in silent errors that might be hard to debug.\n"
     ]
    },
    {
     "name": "stdout",
     "output_type": "stream",
     "text": [
      "i 349\n",
      "filename blues.00034.wav\n",
      "label blues\n",
      "track_id 00034.wav\n"
     ]
    },
    {
     "name": "stderr",
     "output_type": "stream",
     "text": [
      "It is strongly recommended to pass the ``sampling_rate`` argument to this function. Failing to do so can result in silent errors that might be hard to debug.\n"
     ]
    },
    {
     "name": "stdout",
     "output_type": "stream",
     "text": [
      "i 350\n",
      "filename blues.00020.wav\n",
      "label blues\n",
      "track_id 00020.wav\n"
     ]
    },
    {
     "name": "stderr",
     "output_type": "stream",
     "text": [
      "It is strongly recommended to pass the ``sampling_rate`` argument to this function. Failing to do so can result in silent errors that might be hard to debug.\n"
     ]
    },
    {
     "name": "stdout",
     "output_type": "stream",
     "text": [
      "i 351\n",
      "filename blues.00008.wav\n",
      "label blues\n",
      "track_id 00008.wav\n"
     ]
    },
    {
     "name": "stderr",
     "output_type": "stream",
     "text": [
      "It is strongly recommended to pass the ``sampling_rate`` argument to this function. Failing to do so can result in silent errors that might be hard to debug.\n"
     ]
    },
    {
     "name": "stdout",
     "output_type": "stream",
     "text": [
      "i 352\n",
      "filename blues.00036.wav\n",
      "label blues\n",
      "track_id 00036.wav\n"
     ]
    },
    {
     "name": "stderr",
     "output_type": "stream",
     "text": [
      "It is strongly recommended to pass the ``sampling_rate`` argument to this function. Failing to do so can result in silent errors that might be hard to debug.\n"
     ]
    },
    {
     "name": "stdout",
     "output_type": "stream",
     "text": [
      "i 353\n",
      "filename blues.00022.wav\n",
      "label blues\n",
      "track_id 00022.wav\n"
     ]
    },
    {
     "name": "stderr",
     "output_type": "stream",
     "text": [
      "It is strongly recommended to pass the ``sampling_rate`` argument to this function. Failing to do so can result in silent errors that might be hard to debug.\n"
     ]
    },
    {
     "name": "stdout",
     "output_type": "stream",
     "text": [
      "i 354\n",
      "filename blues.00023.wav\n",
      "label blues\n",
      "track_id 00023.wav\n"
     ]
    },
    {
     "name": "stderr",
     "output_type": "stream",
     "text": [
      "It is strongly recommended to pass the ``sampling_rate`` argument to this function. Failing to do so can result in silent errors that might be hard to debug.\n"
     ]
    },
    {
     "name": "stdout",
     "output_type": "stream",
     "text": [
      "i 355\n",
      "filename blues.00037.wav\n",
      "label blues\n",
      "track_id 00037.wav\n"
     ]
    },
    {
     "name": "stderr",
     "output_type": "stream",
     "text": [
      "It is strongly recommended to pass the ``sampling_rate`` argument to this function. Failing to do so can result in silent errors that might be hard to debug.\n"
     ]
    },
    {
     "name": "stdout",
     "output_type": "stream",
     "text": [
      "i 356\n",
      "filename blues.00012.wav\n",
      "label blues\n",
      "track_id 00012.wav\n"
     ]
    },
    {
     "name": "stderr",
     "output_type": "stream",
     "text": [
      "It is strongly recommended to pass the ``sampling_rate`` argument to this function. Failing to do so can result in silent errors that might be hard to debug.\n"
     ]
    },
    {
     "name": "stdout",
     "output_type": "stream",
     "text": [
      "i 357\n",
      "filename blues.00006.wav\n",
      "label blues\n",
      "track_id 00006.wav\n"
     ]
    },
    {
     "name": "stderr",
     "output_type": "stream",
     "text": [
      "It is strongly recommended to pass the ``sampling_rate`` argument to this function. Failing to do so can result in silent errors that might be hard to debug.\n"
     ]
    },
    {
     "name": "stdout",
     "output_type": "stream",
     "text": [
      "i 358\n",
      "filename blues.00007.wav\n",
      "label blues\n",
      "track_id 00007.wav\n"
     ]
    },
    {
     "name": "stderr",
     "output_type": "stream",
     "text": [
      "It is strongly recommended to pass the ``sampling_rate`` argument to this function. Failing to do so can result in silent errors that might be hard to debug.\n"
     ]
    },
    {
     "name": "stdout",
     "output_type": "stream",
     "text": [
      "i 359\n",
      "filename blues.00013.wav\n",
      "label blues\n",
      "track_id 00013.wav\n"
     ]
    },
    {
     "name": "stderr",
     "output_type": "stream",
     "text": [
      "It is strongly recommended to pass the ``sampling_rate`` argument to this function. Failing to do so can result in silent errors that might be hard to debug.\n"
     ]
    },
    {
     "name": "stdout",
     "output_type": "stream",
     "text": [
      "i 360\n",
      "filename blues.00005.wav\n",
      "label blues\n",
      "track_id 00005.wav\n"
     ]
    },
    {
     "name": "stderr",
     "output_type": "stream",
     "text": [
      "It is strongly recommended to pass the ``sampling_rate`` argument to this function. Failing to do so can result in silent errors that might be hard to debug.\n"
     ]
    },
    {
     "name": "stdout",
     "output_type": "stream",
     "text": [
      "i 361\n",
      "filename blues.00011.wav\n",
      "label blues\n",
      "track_id 00011.wav\n"
     ]
    },
    {
     "name": "stderr",
     "output_type": "stream",
     "text": [
      "It is strongly recommended to pass the ``sampling_rate`` argument to this function. Failing to do so can result in silent errors that might be hard to debug.\n"
     ]
    },
    {
     "name": "stdout",
     "output_type": "stream",
     "text": [
      "i 362\n",
      "filename blues.00039.wav\n",
      "label blues\n",
      "track_id 00039.wav\n"
     ]
    },
    {
     "name": "stderr",
     "output_type": "stream",
     "text": [
      "It is strongly recommended to pass the ``sampling_rate`` argument to this function. Failing to do so can result in silent errors that might be hard to debug.\n"
     ]
    },
    {
     "name": "stdout",
     "output_type": "stream",
     "text": [
      "i 363\n",
      "filename blues.00038.wav\n",
      "label blues\n",
      "track_id 00038.wav\n"
     ]
    },
    {
     "name": "stderr",
     "output_type": "stream",
     "text": [
      "It is strongly recommended to pass the ``sampling_rate`` argument to this function. Failing to do so can result in silent errors that might be hard to debug.\n"
     ]
    },
    {
     "name": "stdout",
     "output_type": "stream",
     "text": [
      "i 364\n",
      "filename blues.00010.wav\n",
      "label blues\n",
      "track_id 00010.wav\n"
     ]
    },
    {
     "name": "stderr",
     "output_type": "stream",
     "text": [
      "It is strongly recommended to pass the ``sampling_rate`` argument to this function. Failing to do so can result in silent errors that might be hard to debug.\n"
     ]
    },
    {
     "name": "stdout",
     "output_type": "stream",
     "text": [
      "i 365\n",
      "filename blues.00004.wav\n",
      "label blues\n",
      "track_id 00004.wav\n"
     ]
    },
    {
     "name": "stderr",
     "output_type": "stream",
     "text": [
      "It is strongly recommended to pass the ``sampling_rate`` argument to this function. Failing to do so can result in silent errors that might be hard to debug.\n"
     ]
    },
    {
     "name": "stdout",
     "output_type": "stream",
     "text": [
      "i 366\n",
      "filename blues.00028.wav\n",
      "label blues\n",
      "track_id 00028.wav\n"
     ]
    },
    {
     "name": "stderr",
     "output_type": "stream",
     "text": [
      "It is strongly recommended to pass the ``sampling_rate`` argument to this function. Failing to do so can result in silent errors that might be hard to debug.\n"
     ]
    },
    {
     "name": "stdout",
     "output_type": "stream",
     "text": [
      "i 367\n",
      "filename blues.00000.wav\n",
      "label blues\n",
      "track_id 00000.wav\n"
     ]
    },
    {
     "name": "stderr",
     "output_type": "stream",
     "text": [
      "It is strongly recommended to pass the ``sampling_rate`` argument to this function. Failing to do so can result in silent errors that might be hard to debug.\n"
     ]
    },
    {
     "name": "stdout",
     "output_type": "stream",
     "text": [
      "i 368\n",
      "filename blues.00014.wav\n",
      "label blues\n",
      "track_id 00014.wav\n"
     ]
    },
    {
     "name": "stderr",
     "output_type": "stream",
     "text": [
      "It is strongly recommended to pass the ``sampling_rate`` argument to this function. Failing to do so can result in silent errors that might be hard to debug.\n"
     ]
    },
    {
     "name": "stdout",
     "output_type": "stream",
     "text": [
      "i 369\n",
      "filename blues.00015.wav\n",
      "label blues\n",
      "track_id 00015.wav\n"
     ]
    },
    {
     "name": "stderr",
     "output_type": "stream",
     "text": [
      "It is strongly recommended to pass the ``sampling_rate`` argument to this function. Failing to do so can result in silent errors that might be hard to debug.\n"
     ]
    },
    {
     "name": "stdout",
     "output_type": "stream",
     "text": [
      "i 370\n",
      "filename blues.00001.wav\n",
      "label blues\n",
      "track_id 00001.wav\n"
     ]
    },
    {
     "name": "stderr",
     "output_type": "stream",
     "text": [
      "It is strongly recommended to pass the ``sampling_rate`` argument to this function. Failing to do so can result in silent errors that might be hard to debug.\n"
     ]
    },
    {
     "name": "stdout",
     "output_type": "stream",
     "text": [
      "i 371\n",
      "filename blues.00029.wav\n",
      "label blues\n",
      "track_id 00029.wav\n"
     ]
    },
    {
     "name": "stderr",
     "output_type": "stream",
     "text": [
      "It is strongly recommended to pass the ``sampling_rate`` argument to this function. Failing to do so can result in silent errors that might be hard to debug.\n"
     ]
    },
    {
     "name": "stdout",
     "output_type": "stream",
     "text": [
      "i 372\n",
      "filename blues.00017.wav\n",
      "label blues\n",
      "track_id 00017.wav\n"
     ]
    },
    {
     "name": "stderr",
     "output_type": "stream",
     "text": [
      "It is strongly recommended to pass the ``sampling_rate`` argument to this function. Failing to do so can result in silent errors that might be hard to debug.\n"
     ]
    },
    {
     "name": "stdout",
     "output_type": "stream",
     "text": [
      "i 373\n",
      "filename blues.00003.wav\n",
      "label blues\n",
      "track_id 00003.wav\n"
     ]
    },
    {
     "name": "stderr",
     "output_type": "stream",
     "text": [
      "It is strongly recommended to pass the ``sampling_rate`` argument to this function. Failing to do so can result in silent errors that might be hard to debug.\n"
     ]
    },
    {
     "name": "stdout",
     "output_type": "stream",
     "text": [
      "i 374\n",
      "filename blues.00002.wav\n",
      "label blues\n",
      "track_id 00002.wav\n"
     ]
    },
    {
     "name": "stderr",
     "output_type": "stream",
     "text": [
      "It is strongly recommended to pass the ``sampling_rate`` argument to this function. Failing to do so can result in silent errors that might be hard to debug.\n"
     ]
    },
    {
     "name": "stdout",
     "output_type": "stream",
     "text": [
      "i 375\n",
      "filename blues.00016.wav\n",
      "label blues\n",
      "track_id 00016.wav\n"
     ]
    },
    {
     "name": "stderr",
     "output_type": "stream",
     "text": [
      "It is strongly recommended to pass the ``sampling_rate`` argument to this function. Failing to do so can result in silent errors that might be hard to debug.\n"
     ]
    },
    {
     "name": "stdout",
     "output_type": "stream",
     "text": [
      "i 376\n",
      "filename blues.00071.wav\n",
      "label blues\n",
      "track_id 00071.wav\n"
     ]
    },
    {
     "name": "stderr",
     "output_type": "stream",
     "text": [
      "It is strongly recommended to pass the ``sampling_rate`` argument to this function. Failing to do so can result in silent errors that might be hard to debug.\n"
     ]
    },
    {
     "name": "stdout",
     "output_type": "stream",
     "text": [
      "i 377\n",
      "filename blues.00065.wav\n",
      "label blues\n",
      "track_id 00065.wav\n"
     ]
    },
    {
     "name": "stderr",
     "output_type": "stream",
     "text": [
      "It is strongly recommended to pass the ``sampling_rate`` argument to this function. Failing to do so can result in silent errors that might be hard to debug.\n"
     ]
    },
    {
     "name": "stdout",
     "output_type": "stream",
     "text": [
      "i 378\n",
      "filename blues.00059.wav\n",
      "label blues\n",
      "track_id 00059.wav\n"
     ]
    },
    {
     "name": "stderr",
     "output_type": "stream",
     "text": [
      "It is strongly recommended to pass the ``sampling_rate`` argument to this function. Failing to do so can result in silent errors that might be hard to debug.\n"
     ]
    },
    {
     "name": "stdout",
     "output_type": "stream",
     "text": [
      "i 379\n",
      "filename blues.00058.wav\n",
      "label blues\n",
      "track_id 00058.wav\n"
     ]
    },
    {
     "name": "stderr",
     "output_type": "stream",
     "text": [
      "It is strongly recommended to pass the ``sampling_rate`` argument to this function. Failing to do so can result in silent errors that might be hard to debug.\n"
     ]
    },
    {
     "name": "stdout",
     "output_type": "stream",
     "text": [
      "i 380\n",
      "filename blues.00064.wav\n",
      "label blues\n",
      "track_id 00064.wav\n"
     ]
    },
    {
     "name": "stderr",
     "output_type": "stream",
     "text": [
      "It is strongly recommended to pass the ``sampling_rate`` argument to this function. Failing to do so can result in silent errors that might be hard to debug.\n"
     ]
    },
    {
     "name": "stdout",
     "output_type": "stream",
     "text": [
      "i 381\n",
      "filename blues.00070.wav\n",
      "label blues\n",
      "track_id 00070.wav\n"
     ]
    },
    {
     "name": "stderr",
     "output_type": "stream",
     "text": [
      "It is strongly recommended to pass the ``sampling_rate`` argument to this function. Failing to do so can result in silent errors that might be hard to debug.\n"
     ]
    },
    {
     "name": "stdout",
     "output_type": "stream",
     "text": [
      "i 382\n",
      "filename blues.00099.wav\n",
      "label blues\n",
      "track_id 00099.wav\n"
     ]
    },
    {
     "name": "stderr",
     "output_type": "stream",
     "text": [
      "It is strongly recommended to pass the ``sampling_rate`` argument to this function. Failing to do so can result in silent errors that might be hard to debug.\n"
     ]
    },
    {
     "name": "stdout",
     "output_type": "stream",
     "text": [
      "i 383\n",
      "filename blues.00066.wav\n",
      "label blues\n",
      "track_id 00066.wav\n"
     ]
    },
    {
     "name": "stderr",
     "output_type": "stream",
     "text": [
      "It is strongly recommended to pass the ``sampling_rate`` argument to this function. Failing to do so can result in silent errors that might be hard to debug.\n"
     ]
    },
    {
     "name": "stdout",
     "output_type": "stream",
     "text": [
      "i 384\n",
      "filename blues.00072.wav\n",
      "label blues\n",
      "track_id 00072.wav\n"
     ]
    },
    {
     "name": "stderr",
     "output_type": "stream",
     "text": [
      "It is strongly recommended to pass the ``sampling_rate`` argument to this function. Failing to do so can result in silent errors that might be hard to debug.\n"
     ]
    },
    {
     "name": "stdout",
     "output_type": "stream",
     "text": [
      "i 385\n",
      "filename blues.00073.wav\n",
      "label blues\n",
      "track_id 00073.wav\n"
     ]
    },
    {
     "name": "stderr",
     "output_type": "stream",
     "text": [
      "It is strongly recommended to pass the ``sampling_rate`` argument to this function. Failing to do so can result in silent errors that might be hard to debug.\n"
     ]
    },
    {
     "name": "stdout",
     "output_type": "stream",
     "text": [
      "i 386\n",
      "filename blues.00067.wav\n",
      "label blues\n",
      "track_id 00067.wav\n"
     ]
    },
    {
     "name": "stderr",
     "output_type": "stream",
     "text": [
      "It is strongly recommended to pass the ``sampling_rate`` argument to this function. Failing to do so can result in silent errors that might be hard to debug.\n"
     ]
    },
    {
     "name": "stdout",
     "output_type": "stream",
     "text": [
      "i 387\n",
      "filename blues.00098.wav\n",
      "label blues\n",
      "track_id 00098.wav\n"
     ]
    },
    {
     "name": "stderr",
     "output_type": "stream",
     "text": [
      "It is strongly recommended to pass the ``sampling_rate`` argument to this function. Failing to do so can result in silent errors that might be hard to debug.\n"
     ]
    },
    {
     "name": "stdout",
     "output_type": "stream",
     "text": [
      "i 388\n",
      "filename blues.00088.wav\n",
      "label blues\n",
      "track_id 00088.wav\n"
     ]
    },
    {
     "name": "stderr",
     "output_type": "stream",
     "text": [
      "It is strongly recommended to pass the ``sampling_rate`` argument to this function. Failing to do so can result in silent errors that might be hard to debug.\n"
     ]
    },
    {
     "name": "stdout",
     "output_type": "stream",
     "text": [
      "i 389\n",
      "filename blues.00063.wav\n",
      "label blues\n",
      "track_id 00063.wav\n"
     ]
    },
    {
     "name": "stderr",
     "output_type": "stream",
     "text": [
      "It is strongly recommended to pass the ``sampling_rate`` argument to this function. Failing to do so can result in silent errors that might be hard to debug.\n"
     ]
    },
    {
     "name": "stdout",
     "output_type": "stream",
     "text": [
      "i 390\n",
      "filename blues.00077.wav\n",
      "label blues\n",
      "track_id 00077.wav\n"
     ]
    },
    {
     "name": "stderr",
     "output_type": "stream",
     "text": [
      "It is strongly recommended to pass the ``sampling_rate`` argument to this function. Failing to do so can result in silent errors that might be hard to debug.\n"
     ]
    },
    {
     "name": "stdout",
     "output_type": "stream",
     "text": [
      "i 391\n",
      "filename blues.00076.wav\n",
      "label blues\n",
      "track_id 00076.wav\n"
     ]
    },
    {
     "name": "stderr",
     "output_type": "stream",
     "text": [
      "It is strongly recommended to pass the ``sampling_rate`` argument to this function. Failing to do so can result in silent errors that might be hard to debug.\n"
     ]
    },
    {
     "name": "stdout",
     "output_type": "stream",
     "text": [
      "i 392\n",
      "filename blues.00062.wav\n",
      "label blues\n",
      "track_id 00062.wav\n"
     ]
    },
    {
     "name": "stderr",
     "output_type": "stream",
     "text": [
      "It is strongly recommended to pass the ``sampling_rate`` argument to this function. Failing to do so can result in silent errors that might be hard to debug.\n"
     ]
    },
    {
     "name": "stdout",
     "output_type": "stream",
     "text": [
      "i 393\n",
      "filename blues.00089.wav\n",
      "label blues\n",
      "track_id 00089.wav\n"
     ]
    },
    {
     "name": "stderr",
     "output_type": "stream",
     "text": [
      "It is strongly recommended to pass the ``sampling_rate`` argument to this function. Failing to do so can result in silent errors that might be hard to debug.\n"
     ]
    },
    {
     "name": "stdout",
     "output_type": "stream",
     "text": [
      "i 394\n",
      "filename blues.00048.wav\n",
      "label blues\n",
      "track_id 00048.wav\n"
     ]
    },
    {
     "name": "stderr",
     "output_type": "stream",
     "text": [
      "It is strongly recommended to pass the ``sampling_rate`` argument to this function. Failing to do so can result in silent errors that might be hard to debug.\n"
     ]
    },
    {
     "name": "stdout",
     "output_type": "stream",
     "text": [
      "i 395\n",
      "filename blues.00074.wav\n",
      "label blues\n",
      "track_id 00074.wav\n"
     ]
    },
    {
     "name": "stderr",
     "output_type": "stream",
     "text": [
      "It is strongly recommended to pass the ``sampling_rate`` argument to this function. Failing to do so can result in silent errors that might be hard to debug.\n"
     ]
    },
    {
     "name": "stdout",
     "output_type": "stream",
     "text": [
      "i 396\n",
      "filename blues.00060.wav\n",
      "label blues\n",
      "track_id 00060.wav\n"
     ]
    },
    {
     "name": "stderr",
     "output_type": "stream",
     "text": [
      "It is strongly recommended to pass the ``sampling_rate`` argument to this function. Failing to do so can result in silent errors that might be hard to debug.\n"
     ]
    },
    {
     "name": "stdout",
     "output_type": "stream",
     "text": [
      "i 397\n",
      "filename blues.00061.wav\n",
      "label blues\n",
      "track_id 00061.wav\n"
     ]
    },
    {
     "name": "stderr",
     "output_type": "stream",
     "text": [
      "It is strongly recommended to pass the ``sampling_rate`` argument to this function. Failing to do so can result in silent errors that might be hard to debug.\n"
     ]
    },
    {
     "name": "stdout",
     "output_type": "stream",
     "text": [
      "i 398\n",
      "filename blues.00075.wav\n",
      "label blues\n",
      "track_id 00075.wav\n"
     ]
    },
    {
     "name": "stderr",
     "output_type": "stream",
     "text": [
      "It is strongly recommended to pass the ``sampling_rate`` argument to this function. Failing to do so can result in silent errors that might be hard to debug.\n"
     ]
    },
    {
     "name": "stdout",
     "output_type": "stream",
     "text": [
      "i 399\n",
      "filename blues.00049.wav\n",
      "label blues\n",
      "track_id 00049.wav\n"
     ]
    },
    {
     "name": "stderr",
     "output_type": "stream",
     "text": [
      "5it [25:19, 334.94s/it]It is strongly recommended to pass the ``sampling_rate`` argument to this function. Failing to do so can result in silent errors that might be hard to debug.\n"
     ]
    },
    {
     "name": "stdout",
     "output_type": "stream",
     "text": [
      "i 400\n",
      "root ../audios/gtzan/reggae\n",
      "dirs []\n",
      "files ['reggae.00080.wav', 'reggae.00094.wav', 'reggae.00043.wav', 'reggae.00057.wav', 'reggae.00056.wav', 'reggae.00042.wav', 'reggae.00095.wav', 'reggae.00081.wav', 'reggae.00097.wav', 'reggae.00083.wav', 'reggae.00054.wav', 'reggae.00040.wav', 'reggae.00068.wav', 'reggae.00069.wav', 'reggae.00041.wav', 'reggae.00055.wav', 'reggae.00082.wav', 'reggae.00096.wav', 'reggae.00092.wav', 'reggae.00086.wav', 'reggae.00079.wav', 'reggae.00051.wav', 'reggae.00045.wav', 'reggae.00044.wav', 'reggae.00050.wav', 'reggae.00078.wav', 'reggae.00087.wav', 'reggae.00093.wav', 'reggae.00085.wav', 'reggae.00091.wav', 'reggae.00046.wav', 'reggae.00052.wav', 'reggae.00053.wav', 'reggae.00047.wav', 'reggae.00090.wav', 'reggae.00084.wav', 'reggae.00020.wav', 'reggae.00034.wav', 'reggae.00008.wav', 'reggae.00009.wav', 'reggae.00035.wav', 'reggae.00021.wav', 'reggae.00037.wav', 'reggae.00023.wav', 'reggae.00022.wav', 'reggae.00036.wav', 'reggae.00032.wav', 'reggae.00026.wav', 'reggae.00027.wav', 'reggae.00033.wav', 'reggae.00019.wav', 'reggae.00025.wav', 'reggae.00031.wav', 'reggae.00030.wav', 'reggae.00024.wav', 'reggae.00018.wav', 'reggae.00001.wav', 'reggae.00015.wav', 'reggae.00029.wav', 'reggae.00028.wav', 'reggae.00014.wav', 'reggae.00000.wav', 'reggae.00016.wav', 'reggae.00002.wav', 'reggae.00003.wav', 'reggae.00017.wav', 'reggae.00013.wav', 'reggae.00007.wav', 'reggae.00006.wav', 'reggae.00012.wav', 'reggae.00038.wav', 'reggae.00004.wav', 'reggae.00010.wav', 'reggae.00011.wav', 'reggae.00005.wav', 'reggae.00039.wav', 'reggae.00089.wav', 'reggae.00062.wav', 'reggae.00076.wav', 'reggae.00077.wav', 'reggae.00063.wav', 'reggae.00088.wav', 'reggae.00075.wav', 'reggae.00061.wav', 'reggae.00049.wav', 'reggae.00048.wav', 'reggae.00060.wav', 'reggae.00074.wav', 'reggae.00058.wav', 'reggae.00070.wav', 'reggae.00064.wav', 'reggae.00065.wav', 'reggae.00071.wav', 'reggae.00059.wav', 'reggae.00098.wav', 'reggae.00067.wav', 'reggae.00073.wav', 'reggae.00072.wav', 'reggae.00066.wav', 'reggae.00099.wav']\n",
      "filename reggae.00080.wav\n",
      "label reggae\n",
      "track_id 00080.wav\n"
     ]
    },
    {
     "name": "stderr",
     "output_type": "stream",
     "text": [
      "It is strongly recommended to pass the ``sampling_rate`` argument to this function. Failing to do so can result in silent errors that might be hard to debug.\n"
     ]
    },
    {
     "name": "stdout",
     "output_type": "stream",
     "text": [
      "i 401\n",
      "filename reggae.00094.wav\n",
      "label reggae\n",
      "track_id 00094.wav\n"
     ]
    },
    {
     "name": "stderr",
     "output_type": "stream",
     "text": [
      "It is strongly recommended to pass the ``sampling_rate`` argument to this function. Failing to do so can result in silent errors that might be hard to debug.\n"
     ]
    },
    {
     "name": "stdout",
     "output_type": "stream",
     "text": [
      "i 402\n",
      "filename reggae.00043.wav\n",
      "label reggae\n",
      "track_id 00043.wav\n"
     ]
    },
    {
     "name": "stderr",
     "output_type": "stream",
     "text": [
      "It is strongly recommended to pass the ``sampling_rate`` argument to this function. Failing to do so can result in silent errors that might be hard to debug.\n"
     ]
    },
    {
     "name": "stdout",
     "output_type": "stream",
     "text": [
      "i 403\n",
      "filename reggae.00057.wav\n",
      "label reggae\n",
      "track_id 00057.wav\n"
     ]
    },
    {
     "name": "stderr",
     "output_type": "stream",
     "text": [
      "It is strongly recommended to pass the ``sampling_rate`` argument to this function. Failing to do so can result in silent errors that might be hard to debug.\n"
     ]
    },
    {
     "name": "stdout",
     "output_type": "stream",
     "text": [
      "i 404\n",
      "filename reggae.00056.wav\n",
      "label reggae\n",
      "track_id 00056.wav\n"
     ]
    },
    {
     "name": "stderr",
     "output_type": "stream",
     "text": [
      "It is strongly recommended to pass the ``sampling_rate`` argument to this function. Failing to do so can result in silent errors that might be hard to debug.\n"
     ]
    },
    {
     "name": "stdout",
     "output_type": "stream",
     "text": [
      "i 405\n",
      "filename reggae.00042.wav\n",
      "label reggae\n",
      "track_id 00042.wav\n"
     ]
    },
    {
     "name": "stderr",
     "output_type": "stream",
     "text": [
      "It is strongly recommended to pass the ``sampling_rate`` argument to this function. Failing to do so can result in silent errors that might be hard to debug.\n"
     ]
    },
    {
     "name": "stdout",
     "output_type": "stream",
     "text": [
      "i 406\n",
      "filename reggae.00095.wav\n",
      "label reggae\n",
      "track_id 00095.wav\n"
     ]
    },
    {
     "name": "stderr",
     "output_type": "stream",
     "text": [
      "It is strongly recommended to pass the ``sampling_rate`` argument to this function. Failing to do so can result in silent errors that might be hard to debug.\n"
     ]
    },
    {
     "name": "stdout",
     "output_type": "stream",
     "text": [
      "i 407\n",
      "filename reggae.00081.wav\n",
      "label reggae\n",
      "track_id 00081.wav\n"
     ]
    },
    {
     "name": "stderr",
     "output_type": "stream",
     "text": [
      "It is strongly recommended to pass the ``sampling_rate`` argument to this function. Failing to do so can result in silent errors that might be hard to debug.\n"
     ]
    },
    {
     "name": "stdout",
     "output_type": "stream",
     "text": [
      "i 408\n",
      "filename reggae.00097.wav\n",
      "label reggae\n",
      "track_id 00097.wav\n"
     ]
    },
    {
     "name": "stderr",
     "output_type": "stream",
     "text": [
      "It is strongly recommended to pass the ``sampling_rate`` argument to this function. Failing to do so can result in silent errors that might be hard to debug.\n"
     ]
    },
    {
     "name": "stdout",
     "output_type": "stream",
     "text": [
      "i 409\n",
      "filename reggae.00083.wav\n",
      "label reggae\n",
      "track_id 00083.wav\n"
     ]
    },
    {
     "name": "stderr",
     "output_type": "stream",
     "text": [
      "It is strongly recommended to pass the ``sampling_rate`` argument to this function. Failing to do so can result in silent errors that might be hard to debug.\n"
     ]
    },
    {
     "name": "stdout",
     "output_type": "stream",
     "text": [
      "i 410\n",
      "filename reggae.00054.wav\n",
      "label reggae\n",
      "track_id 00054.wav\n"
     ]
    },
    {
     "name": "stderr",
     "output_type": "stream",
     "text": [
      "It is strongly recommended to pass the ``sampling_rate`` argument to this function. Failing to do so can result in silent errors that might be hard to debug.\n"
     ]
    },
    {
     "name": "stdout",
     "output_type": "stream",
     "text": [
      "i 411\n",
      "filename reggae.00040.wav\n",
      "label reggae\n",
      "track_id 00040.wav\n"
     ]
    },
    {
     "name": "stderr",
     "output_type": "stream",
     "text": [
      "It is strongly recommended to pass the ``sampling_rate`` argument to this function. Failing to do so can result in silent errors that might be hard to debug.\n"
     ]
    },
    {
     "name": "stdout",
     "output_type": "stream",
     "text": [
      "i 412\n",
      "filename reggae.00068.wav\n",
      "label reggae\n",
      "track_id 00068.wav\n"
     ]
    },
    {
     "name": "stderr",
     "output_type": "stream",
     "text": [
      "It is strongly recommended to pass the ``sampling_rate`` argument to this function. Failing to do so can result in silent errors that might be hard to debug.\n"
     ]
    },
    {
     "name": "stdout",
     "output_type": "stream",
     "text": [
      "i 413\n",
      "filename reggae.00069.wav\n",
      "label reggae\n",
      "track_id 00069.wav\n"
     ]
    },
    {
     "name": "stderr",
     "output_type": "stream",
     "text": [
      "It is strongly recommended to pass the ``sampling_rate`` argument to this function. Failing to do so can result in silent errors that might be hard to debug.\n"
     ]
    },
    {
     "name": "stdout",
     "output_type": "stream",
     "text": [
      "i 414\n",
      "filename reggae.00041.wav\n",
      "label reggae\n",
      "track_id 00041.wav\n"
     ]
    },
    {
     "name": "stderr",
     "output_type": "stream",
     "text": [
      "It is strongly recommended to pass the ``sampling_rate`` argument to this function. Failing to do so can result in silent errors that might be hard to debug.\n"
     ]
    },
    {
     "name": "stdout",
     "output_type": "stream",
     "text": [
      "i 415\n",
      "filename reggae.00055.wav\n",
      "label reggae\n",
      "track_id 00055.wav\n"
     ]
    },
    {
     "name": "stderr",
     "output_type": "stream",
     "text": [
      "It is strongly recommended to pass the ``sampling_rate`` argument to this function. Failing to do so can result in silent errors that might be hard to debug.\n"
     ]
    },
    {
     "name": "stdout",
     "output_type": "stream",
     "text": [
      "i 416\n",
      "filename reggae.00082.wav\n",
      "label reggae\n",
      "track_id 00082.wav\n"
     ]
    },
    {
     "name": "stderr",
     "output_type": "stream",
     "text": [
      "It is strongly recommended to pass the ``sampling_rate`` argument to this function. Failing to do so can result in silent errors that might be hard to debug.\n"
     ]
    },
    {
     "name": "stdout",
     "output_type": "stream",
     "text": [
      "i 417\n",
      "filename reggae.00096.wav\n",
      "label reggae\n",
      "track_id 00096.wav\n"
     ]
    },
    {
     "name": "stderr",
     "output_type": "stream",
     "text": [
      "It is strongly recommended to pass the ``sampling_rate`` argument to this function. Failing to do so can result in silent errors that might be hard to debug.\n"
     ]
    },
    {
     "name": "stdout",
     "output_type": "stream",
     "text": [
      "i 418\n",
      "filename reggae.00092.wav\n",
      "label reggae\n",
      "track_id 00092.wav\n"
     ]
    },
    {
     "name": "stderr",
     "output_type": "stream",
     "text": [
      "It is strongly recommended to pass the ``sampling_rate`` argument to this function. Failing to do so can result in silent errors that might be hard to debug.\n"
     ]
    },
    {
     "name": "stdout",
     "output_type": "stream",
     "text": [
      "i 419\n",
      "filename reggae.00086.wav\n",
      "label reggae\n",
      "track_id 00086.wav\n"
     ]
    },
    {
     "name": "stderr",
     "output_type": "stream",
     "text": [
      "It is strongly recommended to pass the ``sampling_rate`` argument to this function. Failing to do so can result in silent errors that might be hard to debug.\n"
     ]
    },
    {
     "name": "stdout",
     "output_type": "stream",
     "text": [
      "i 420\n",
      "filename reggae.00079.wav\n",
      "label reggae\n",
      "track_id 00079.wav\n"
     ]
    },
    {
     "name": "stderr",
     "output_type": "stream",
     "text": [
      "It is strongly recommended to pass the ``sampling_rate`` argument to this function. Failing to do so can result in silent errors that might be hard to debug.\n"
     ]
    },
    {
     "name": "stdout",
     "output_type": "stream",
     "text": [
      "i 421\n",
      "filename reggae.00051.wav\n",
      "label reggae\n",
      "track_id 00051.wav\n"
     ]
    },
    {
     "name": "stderr",
     "output_type": "stream",
     "text": [
      "It is strongly recommended to pass the ``sampling_rate`` argument to this function. Failing to do so can result in silent errors that might be hard to debug.\n"
     ]
    },
    {
     "name": "stdout",
     "output_type": "stream",
     "text": [
      "i 422\n",
      "filename reggae.00045.wav\n",
      "label reggae\n",
      "track_id 00045.wav\n"
     ]
    },
    {
     "name": "stderr",
     "output_type": "stream",
     "text": [
      "It is strongly recommended to pass the ``sampling_rate`` argument to this function. Failing to do so can result in silent errors that might be hard to debug.\n"
     ]
    },
    {
     "name": "stdout",
     "output_type": "stream",
     "text": [
      "i 423\n",
      "filename reggae.00044.wav\n",
      "label reggae\n",
      "track_id 00044.wav\n"
     ]
    },
    {
     "name": "stderr",
     "output_type": "stream",
     "text": [
      "It is strongly recommended to pass the ``sampling_rate`` argument to this function. Failing to do so can result in silent errors that might be hard to debug.\n"
     ]
    },
    {
     "name": "stdout",
     "output_type": "stream",
     "text": [
      "i 424\n",
      "filename reggae.00050.wav\n",
      "label reggae\n",
      "track_id 00050.wav\n"
     ]
    },
    {
     "name": "stderr",
     "output_type": "stream",
     "text": [
      "It is strongly recommended to pass the ``sampling_rate`` argument to this function. Failing to do so can result in silent errors that might be hard to debug.\n"
     ]
    },
    {
     "name": "stdout",
     "output_type": "stream",
     "text": [
      "i 425\n",
      "filename reggae.00078.wav\n",
      "label reggae\n",
      "track_id 00078.wav\n"
     ]
    },
    {
     "name": "stderr",
     "output_type": "stream",
     "text": [
      "It is strongly recommended to pass the ``sampling_rate`` argument to this function. Failing to do so can result in silent errors that might be hard to debug.\n"
     ]
    },
    {
     "name": "stdout",
     "output_type": "stream",
     "text": [
      "i 426\n",
      "filename reggae.00087.wav\n",
      "label reggae\n",
      "track_id 00087.wav\n"
     ]
    },
    {
     "name": "stderr",
     "output_type": "stream",
     "text": [
      "It is strongly recommended to pass the ``sampling_rate`` argument to this function. Failing to do so can result in silent errors that might be hard to debug.\n"
     ]
    },
    {
     "name": "stdout",
     "output_type": "stream",
     "text": [
      "i 427\n",
      "filename reggae.00093.wav\n",
      "label reggae\n",
      "track_id 00093.wav\n"
     ]
    },
    {
     "name": "stderr",
     "output_type": "stream",
     "text": [
      "It is strongly recommended to pass the ``sampling_rate`` argument to this function. Failing to do so can result in silent errors that might be hard to debug.\n"
     ]
    },
    {
     "name": "stdout",
     "output_type": "stream",
     "text": [
      "i 428\n",
      "filename reggae.00085.wav\n",
      "label reggae\n",
      "track_id 00085.wav\n"
     ]
    },
    {
     "name": "stderr",
     "output_type": "stream",
     "text": [
      "It is strongly recommended to pass the ``sampling_rate`` argument to this function. Failing to do so can result in silent errors that might be hard to debug.\n"
     ]
    },
    {
     "name": "stdout",
     "output_type": "stream",
     "text": [
      "i 429\n",
      "filename reggae.00091.wav\n",
      "label reggae\n",
      "track_id 00091.wav\n"
     ]
    },
    {
     "name": "stderr",
     "output_type": "stream",
     "text": [
      "It is strongly recommended to pass the ``sampling_rate`` argument to this function. Failing to do so can result in silent errors that might be hard to debug.\n"
     ]
    },
    {
     "name": "stdout",
     "output_type": "stream",
     "text": [
      "i 430\n",
      "filename reggae.00046.wav\n",
      "label reggae\n",
      "track_id 00046.wav\n"
     ]
    },
    {
     "name": "stderr",
     "output_type": "stream",
     "text": [
      "It is strongly recommended to pass the ``sampling_rate`` argument to this function. Failing to do so can result in silent errors that might be hard to debug.\n"
     ]
    },
    {
     "name": "stdout",
     "output_type": "stream",
     "text": [
      "i 431\n",
      "filename reggae.00052.wav\n",
      "label reggae\n",
      "track_id 00052.wav\n"
     ]
    },
    {
     "name": "stderr",
     "output_type": "stream",
     "text": [
      "It is strongly recommended to pass the ``sampling_rate`` argument to this function. Failing to do so can result in silent errors that might be hard to debug.\n"
     ]
    },
    {
     "name": "stdout",
     "output_type": "stream",
     "text": [
      "i 432\n",
      "filename reggae.00053.wav\n",
      "label reggae\n",
      "track_id 00053.wav\n"
     ]
    },
    {
     "name": "stderr",
     "output_type": "stream",
     "text": [
      "It is strongly recommended to pass the ``sampling_rate`` argument to this function. Failing to do so can result in silent errors that might be hard to debug.\n"
     ]
    },
    {
     "name": "stdout",
     "output_type": "stream",
     "text": [
      "i 433\n",
      "filename reggae.00047.wav\n",
      "label reggae\n",
      "track_id 00047.wav\n"
     ]
    },
    {
     "name": "stderr",
     "output_type": "stream",
     "text": [
      "It is strongly recommended to pass the ``sampling_rate`` argument to this function. Failing to do so can result in silent errors that might be hard to debug.\n"
     ]
    },
    {
     "name": "stdout",
     "output_type": "stream",
     "text": [
      "i 434\n",
      "filename reggae.00090.wav\n",
      "label reggae\n",
      "track_id 00090.wav\n"
     ]
    },
    {
     "name": "stderr",
     "output_type": "stream",
     "text": [
      "It is strongly recommended to pass the ``sampling_rate`` argument to this function. Failing to do so can result in silent errors that might be hard to debug.\n"
     ]
    },
    {
     "name": "stdout",
     "output_type": "stream",
     "text": [
      "i 435\n",
      "filename reggae.00084.wav\n",
      "label reggae\n",
      "track_id 00084.wav\n"
     ]
    },
    {
     "name": "stderr",
     "output_type": "stream",
     "text": [
      "It is strongly recommended to pass the ``sampling_rate`` argument to this function. Failing to do so can result in silent errors that might be hard to debug.\n"
     ]
    },
    {
     "name": "stdout",
     "output_type": "stream",
     "text": [
      "i 436\n",
      "filename reggae.00020.wav\n",
      "label reggae\n",
      "track_id 00020.wav\n"
     ]
    },
    {
     "name": "stderr",
     "output_type": "stream",
     "text": [
      "It is strongly recommended to pass the ``sampling_rate`` argument to this function. Failing to do so can result in silent errors that might be hard to debug.\n"
     ]
    },
    {
     "name": "stdout",
     "output_type": "stream",
     "text": [
      "i 437\n",
      "filename reggae.00034.wav\n",
      "label reggae\n",
      "track_id 00034.wav\n"
     ]
    },
    {
     "name": "stderr",
     "output_type": "stream",
     "text": [
      "It is strongly recommended to pass the ``sampling_rate`` argument to this function. Failing to do so can result in silent errors that might be hard to debug.\n"
     ]
    },
    {
     "name": "stdout",
     "output_type": "stream",
     "text": [
      "i 438\n",
      "filename reggae.00008.wav\n",
      "label reggae\n",
      "track_id 00008.wav\n"
     ]
    },
    {
     "name": "stderr",
     "output_type": "stream",
     "text": [
      "It is strongly recommended to pass the ``sampling_rate`` argument to this function. Failing to do so can result in silent errors that might be hard to debug.\n"
     ]
    },
    {
     "name": "stdout",
     "output_type": "stream",
     "text": [
      "i 439\n",
      "filename reggae.00009.wav\n",
      "label reggae\n",
      "track_id 00009.wav\n"
     ]
    },
    {
     "name": "stderr",
     "output_type": "stream",
     "text": [
      "It is strongly recommended to pass the ``sampling_rate`` argument to this function. Failing to do so can result in silent errors that might be hard to debug.\n"
     ]
    },
    {
     "name": "stdout",
     "output_type": "stream",
     "text": [
      "i 440\n",
      "filename reggae.00035.wav\n",
      "label reggae\n",
      "track_id 00035.wav\n"
     ]
    },
    {
     "name": "stderr",
     "output_type": "stream",
     "text": [
      "It is strongly recommended to pass the ``sampling_rate`` argument to this function. Failing to do so can result in silent errors that might be hard to debug.\n"
     ]
    },
    {
     "name": "stdout",
     "output_type": "stream",
     "text": [
      "i 441\n",
      "filename reggae.00021.wav\n",
      "label reggae\n",
      "track_id 00021.wav\n"
     ]
    },
    {
     "name": "stderr",
     "output_type": "stream",
     "text": [
      "It is strongly recommended to pass the ``sampling_rate`` argument to this function. Failing to do so can result in silent errors that might be hard to debug.\n"
     ]
    },
    {
     "name": "stdout",
     "output_type": "stream",
     "text": [
      "i 442\n",
      "filename reggae.00037.wav\n",
      "label reggae\n",
      "track_id 00037.wav\n"
     ]
    },
    {
     "name": "stderr",
     "output_type": "stream",
     "text": [
      "It is strongly recommended to pass the ``sampling_rate`` argument to this function. Failing to do so can result in silent errors that might be hard to debug.\n"
     ]
    },
    {
     "name": "stdout",
     "output_type": "stream",
     "text": [
      "i 443\n",
      "filename reggae.00023.wav\n",
      "label reggae\n",
      "track_id 00023.wav\n"
     ]
    },
    {
     "name": "stderr",
     "output_type": "stream",
     "text": [
      "It is strongly recommended to pass the ``sampling_rate`` argument to this function. Failing to do so can result in silent errors that might be hard to debug.\n"
     ]
    },
    {
     "name": "stdout",
     "output_type": "stream",
     "text": [
      "i 444\n",
      "filename reggae.00022.wav\n",
      "label reggae\n",
      "track_id 00022.wav\n"
     ]
    },
    {
     "name": "stderr",
     "output_type": "stream",
     "text": [
      "It is strongly recommended to pass the ``sampling_rate`` argument to this function. Failing to do so can result in silent errors that might be hard to debug.\n"
     ]
    },
    {
     "name": "stdout",
     "output_type": "stream",
     "text": [
      "i 445\n",
      "filename reggae.00036.wav\n",
      "label reggae\n",
      "track_id 00036.wav\n"
     ]
    },
    {
     "name": "stderr",
     "output_type": "stream",
     "text": [
      "It is strongly recommended to pass the ``sampling_rate`` argument to this function. Failing to do so can result in silent errors that might be hard to debug.\n"
     ]
    },
    {
     "name": "stdout",
     "output_type": "stream",
     "text": [
      "i 446\n",
      "filename reggae.00032.wav\n",
      "label reggae\n",
      "track_id 00032.wav\n"
     ]
    },
    {
     "name": "stderr",
     "output_type": "stream",
     "text": [
      "It is strongly recommended to pass the ``sampling_rate`` argument to this function. Failing to do so can result in silent errors that might be hard to debug.\n"
     ]
    },
    {
     "name": "stdout",
     "output_type": "stream",
     "text": [
      "i 447\n",
      "filename reggae.00026.wav\n",
      "label reggae\n",
      "track_id 00026.wav\n"
     ]
    },
    {
     "name": "stderr",
     "output_type": "stream",
     "text": [
      "It is strongly recommended to pass the ``sampling_rate`` argument to this function. Failing to do so can result in silent errors that might be hard to debug.\n"
     ]
    },
    {
     "name": "stdout",
     "output_type": "stream",
     "text": [
      "i 448\n",
      "filename reggae.00027.wav\n",
      "label reggae\n",
      "track_id 00027.wav\n"
     ]
    },
    {
     "name": "stderr",
     "output_type": "stream",
     "text": [
      "It is strongly recommended to pass the ``sampling_rate`` argument to this function. Failing to do so can result in silent errors that might be hard to debug.\n"
     ]
    },
    {
     "name": "stdout",
     "output_type": "stream",
     "text": [
      "i 449\n",
      "filename reggae.00033.wav\n",
      "label reggae\n",
      "track_id 00033.wav\n"
     ]
    },
    {
     "name": "stderr",
     "output_type": "stream",
     "text": [
      "It is strongly recommended to pass the ``sampling_rate`` argument to this function. Failing to do so can result in silent errors that might be hard to debug.\n"
     ]
    },
    {
     "name": "stdout",
     "output_type": "stream",
     "text": [
      "i 450\n",
      "filename reggae.00019.wav\n",
      "label reggae\n",
      "track_id 00019.wav\n"
     ]
    },
    {
     "name": "stderr",
     "output_type": "stream",
     "text": [
      "It is strongly recommended to pass the ``sampling_rate`` argument to this function. Failing to do so can result in silent errors that might be hard to debug.\n"
     ]
    },
    {
     "name": "stdout",
     "output_type": "stream",
     "text": [
      "i 451\n",
      "filename reggae.00025.wav\n",
      "label reggae\n",
      "track_id 00025.wav\n"
     ]
    },
    {
     "name": "stderr",
     "output_type": "stream",
     "text": [
      "It is strongly recommended to pass the ``sampling_rate`` argument to this function. Failing to do so can result in silent errors that might be hard to debug.\n"
     ]
    },
    {
     "name": "stdout",
     "output_type": "stream",
     "text": [
      "i 452\n",
      "filename reggae.00031.wav\n",
      "label reggae\n",
      "track_id 00031.wav\n"
     ]
    },
    {
     "name": "stderr",
     "output_type": "stream",
     "text": [
      "It is strongly recommended to pass the ``sampling_rate`` argument to this function. Failing to do so can result in silent errors that might be hard to debug.\n"
     ]
    },
    {
     "name": "stdout",
     "output_type": "stream",
     "text": [
      "i 453\n",
      "filename reggae.00030.wav\n",
      "label reggae\n",
      "track_id 00030.wav\n"
     ]
    },
    {
     "name": "stderr",
     "output_type": "stream",
     "text": [
      "It is strongly recommended to pass the ``sampling_rate`` argument to this function. Failing to do so can result in silent errors that might be hard to debug.\n"
     ]
    },
    {
     "name": "stdout",
     "output_type": "stream",
     "text": [
      "i 454\n",
      "filename reggae.00024.wav\n",
      "label reggae\n",
      "track_id 00024.wav\n"
     ]
    },
    {
     "name": "stderr",
     "output_type": "stream",
     "text": [
      "It is strongly recommended to pass the ``sampling_rate`` argument to this function. Failing to do so can result in silent errors that might be hard to debug.\n"
     ]
    },
    {
     "name": "stdout",
     "output_type": "stream",
     "text": [
      "i 455\n",
      "filename reggae.00018.wav\n",
      "label reggae\n",
      "track_id 00018.wav\n"
     ]
    },
    {
     "name": "stderr",
     "output_type": "stream",
     "text": [
      "It is strongly recommended to pass the ``sampling_rate`` argument to this function. Failing to do so can result in silent errors that might be hard to debug.\n"
     ]
    },
    {
     "name": "stdout",
     "output_type": "stream",
     "text": [
      "i 456\n",
      "filename reggae.00001.wav\n",
      "label reggae\n",
      "track_id 00001.wav\n"
     ]
    },
    {
     "name": "stderr",
     "output_type": "stream",
     "text": [
      "It is strongly recommended to pass the ``sampling_rate`` argument to this function. Failing to do so can result in silent errors that might be hard to debug.\n"
     ]
    },
    {
     "name": "stdout",
     "output_type": "stream",
     "text": [
      "i 457\n",
      "filename reggae.00015.wav\n",
      "label reggae\n",
      "track_id 00015.wav\n"
     ]
    },
    {
     "name": "stderr",
     "output_type": "stream",
     "text": [
      "It is strongly recommended to pass the ``sampling_rate`` argument to this function. Failing to do so can result in silent errors that might be hard to debug.\n"
     ]
    },
    {
     "name": "stdout",
     "output_type": "stream",
     "text": [
      "i 458\n",
      "filename reggae.00029.wav\n",
      "label reggae\n",
      "track_id 00029.wav\n"
     ]
    },
    {
     "name": "stderr",
     "output_type": "stream",
     "text": [
      "It is strongly recommended to pass the ``sampling_rate`` argument to this function. Failing to do so can result in silent errors that might be hard to debug.\n"
     ]
    },
    {
     "name": "stdout",
     "output_type": "stream",
     "text": [
      "i 459\n",
      "filename reggae.00028.wav\n",
      "label reggae\n",
      "track_id 00028.wav\n"
     ]
    },
    {
     "name": "stderr",
     "output_type": "stream",
     "text": [
      "It is strongly recommended to pass the ``sampling_rate`` argument to this function. Failing to do so can result in silent errors that might be hard to debug.\n"
     ]
    },
    {
     "name": "stdout",
     "output_type": "stream",
     "text": [
      "i 460\n",
      "filename reggae.00014.wav\n",
      "label reggae\n",
      "track_id 00014.wav\n"
     ]
    },
    {
     "name": "stderr",
     "output_type": "stream",
     "text": [
      "It is strongly recommended to pass the ``sampling_rate`` argument to this function. Failing to do so can result in silent errors that might be hard to debug.\n"
     ]
    },
    {
     "name": "stdout",
     "output_type": "stream",
     "text": [
      "i 461\n",
      "filename reggae.00000.wav\n",
      "label reggae\n",
      "track_id 00000.wav\n"
     ]
    },
    {
     "name": "stderr",
     "output_type": "stream",
     "text": [
      "It is strongly recommended to pass the ``sampling_rate`` argument to this function. Failing to do so can result in silent errors that might be hard to debug.\n"
     ]
    },
    {
     "name": "stdout",
     "output_type": "stream",
     "text": [
      "i 462\n",
      "filename reggae.00016.wav\n",
      "label reggae\n",
      "track_id 00016.wav\n"
     ]
    },
    {
     "name": "stderr",
     "output_type": "stream",
     "text": [
      "It is strongly recommended to pass the ``sampling_rate`` argument to this function. Failing to do so can result in silent errors that might be hard to debug.\n"
     ]
    },
    {
     "name": "stdout",
     "output_type": "stream",
     "text": [
      "i 463\n",
      "filename reggae.00002.wav\n",
      "label reggae\n",
      "track_id 00002.wav\n"
     ]
    },
    {
     "name": "stderr",
     "output_type": "stream",
     "text": [
      "It is strongly recommended to pass the ``sampling_rate`` argument to this function. Failing to do so can result in silent errors that might be hard to debug.\n"
     ]
    },
    {
     "name": "stdout",
     "output_type": "stream",
     "text": [
      "i 464\n",
      "filename reggae.00003.wav\n",
      "label reggae\n",
      "track_id 00003.wav\n"
     ]
    },
    {
     "name": "stderr",
     "output_type": "stream",
     "text": [
      "It is strongly recommended to pass the ``sampling_rate`` argument to this function. Failing to do so can result in silent errors that might be hard to debug.\n"
     ]
    },
    {
     "name": "stdout",
     "output_type": "stream",
     "text": [
      "i 465\n",
      "filename reggae.00017.wav\n",
      "label reggae\n",
      "track_id 00017.wav\n"
     ]
    },
    {
     "name": "stderr",
     "output_type": "stream",
     "text": [
      "It is strongly recommended to pass the ``sampling_rate`` argument to this function. Failing to do so can result in silent errors that might be hard to debug.\n"
     ]
    },
    {
     "name": "stdout",
     "output_type": "stream",
     "text": [
      "i 466\n",
      "filename reggae.00013.wav\n",
      "label reggae\n",
      "track_id 00013.wav\n"
     ]
    },
    {
     "name": "stderr",
     "output_type": "stream",
     "text": [
      "It is strongly recommended to pass the ``sampling_rate`` argument to this function. Failing to do so can result in silent errors that might be hard to debug.\n"
     ]
    },
    {
     "name": "stdout",
     "output_type": "stream",
     "text": [
      "i 467\n",
      "filename reggae.00007.wav\n",
      "label reggae\n",
      "track_id 00007.wav\n"
     ]
    },
    {
     "name": "stderr",
     "output_type": "stream",
     "text": [
      "It is strongly recommended to pass the ``sampling_rate`` argument to this function. Failing to do so can result in silent errors that might be hard to debug.\n"
     ]
    },
    {
     "name": "stdout",
     "output_type": "stream",
     "text": [
      "i 468\n",
      "filename reggae.00006.wav\n",
      "label reggae\n",
      "track_id 00006.wav\n"
     ]
    },
    {
     "name": "stderr",
     "output_type": "stream",
     "text": [
      "It is strongly recommended to pass the ``sampling_rate`` argument to this function. Failing to do so can result in silent errors that might be hard to debug.\n"
     ]
    },
    {
     "name": "stdout",
     "output_type": "stream",
     "text": [
      "i 469\n",
      "filename reggae.00012.wav\n",
      "label reggae\n",
      "track_id 00012.wav\n"
     ]
    },
    {
     "name": "stderr",
     "output_type": "stream",
     "text": [
      "It is strongly recommended to pass the ``sampling_rate`` argument to this function. Failing to do so can result in silent errors that might be hard to debug.\n"
     ]
    },
    {
     "name": "stdout",
     "output_type": "stream",
     "text": [
      "i 470\n",
      "filename reggae.00038.wav\n",
      "label reggae\n",
      "track_id 00038.wav\n"
     ]
    },
    {
     "name": "stderr",
     "output_type": "stream",
     "text": [
      "It is strongly recommended to pass the ``sampling_rate`` argument to this function. Failing to do so can result in silent errors that might be hard to debug.\n"
     ]
    },
    {
     "name": "stdout",
     "output_type": "stream",
     "text": [
      "i 471\n",
      "filename reggae.00004.wav\n",
      "label reggae\n",
      "track_id 00004.wav\n"
     ]
    },
    {
     "name": "stderr",
     "output_type": "stream",
     "text": [
      "It is strongly recommended to pass the ``sampling_rate`` argument to this function. Failing to do so can result in silent errors that might be hard to debug.\n"
     ]
    },
    {
     "name": "stdout",
     "output_type": "stream",
     "text": [
      "i 472\n",
      "filename reggae.00010.wav\n",
      "label reggae\n",
      "track_id 00010.wav\n"
     ]
    },
    {
     "name": "stderr",
     "output_type": "stream",
     "text": [
      "It is strongly recommended to pass the ``sampling_rate`` argument to this function. Failing to do so can result in silent errors that might be hard to debug.\n"
     ]
    },
    {
     "name": "stdout",
     "output_type": "stream",
     "text": [
      "i 473\n",
      "filename reggae.00011.wav\n",
      "label reggae\n",
      "track_id 00011.wav\n"
     ]
    },
    {
     "name": "stderr",
     "output_type": "stream",
     "text": [
      "It is strongly recommended to pass the ``sampling_rate`` argument to this function. Failing to do so can result in silent errors that might be hard to debug.\n"
     ]
    },
    {
     "name": "stdout",
     "output_type": "stream",
     "text": [
      "i 474\n",
      "filename reggae.00005.wav\n",
      "label reggae\n",
      "track_id 00005.wav\n"
     ]
    },
    {
     "name": "stderr",
     "output_type": "stream",
     "text": [
      "It is strongly recommended to pass the ``sampling_rate`` argument to this function. Failing to do so can result in silent errors that might be hard to debug.\n"
     ]
    },
    {
     "name": "stdout",
     "output_type": "stream",
     "text": [
      "i 475\n",
      "filename reggae.00039.wav\n",
      "label reggae\n",
      "track_id 00039.wav\n"
     ]
    },
    {
     "name": "stderr",
     "output_type": "stream",
     "text": [
      "It is strongly recommended to pass the ``sampling_rate`` argument to this function. Failing to do so can result in silent errors that might be hard to debug.\n"
     ]
    },
    {
     "name": "stdout",
     "output_type": "stream",
     "text": [
      "i 476\n",
      "filename reggae.00089.wav\n",
      "label reggae\n",
      "track_id 00089.wav\n"
     ]
    },
    {
     "name": "stderr",
     "output_type": "stream",
     "text": [
      "It is strongly recommended to pass the ``sampling_rate`` argument to this function. Failing to do so can result in silent errors that might be hard to debug.\n"
     ]
    },
    {
     "name": "stdout",
     "output_type": "stream",
     "text": [
      "i 477\n",
      "filename reggae.00062.wav\n",
      "label reggae\n",
      "track_id 00062.wav\n"
     ]
    },
    {
     "name": "stderr",
     "output_type": "stream",
     "text": [
      "It is strongly recommended to pass the ``sampling_rate`` argument to this function. Failing to do so can result in silent errors that might be hard to debug.\n"
     ]
    },
    {
     "name": "stdout",
     "output_type": "stream",
     "text": [
      "i 478\n",
      "filename reggae.00076.wav\n",
      "label reggae\n",
      "track_id 00076.wav\n"
     ]
    },
    {
     "name": "stderr",
     "output_type": "stream",
     "text": [
      "It is strongly recommended to pass the ``sampling_rate`` argument to this function. Failing to do so can result in silent errors that might be hard to debug.\n"
     ]
    },
    {
     "name": "stdout",
     "output_type": "stream",
     "text": [
      "i 479\n",
      "filename reggae.00077.wav\n",
      "label reggae\n",
      "track_id 00077.wav\n"
     ]
    },
    {
     "name": "stderr",
     "output_type": "stream",
     "text": [
      "It is strongly recommended to pass the ``sampling_rate`` argument to this function. Failing to do so can result in silent errors that might be hard to debug.\n"
     ]
    },
    {
     "name": "stdout",
     "output_type": "stream",
     "text": [
      "i 480\n",
      "filename reggae.00063.wav\n",
      "label reggae\n",
      "track_id 00063.wav\n"
     ]
    },
    {
     "name": "stderr",
     "output_type": "stream",
     "text": [
      "It is strongly recommended to pass the ``sampling_rate`` argument to this function. Failing to do so can result in silent errors that might be hard to debug.\n"
     ]
    },
    {
     "name": "stdout",
     "output_type": "stream",
     "text": [
      "i 481\n",
      "filename reggae.00088.wav\n",
      "label reggae\n",
      "track_id 00088.wav\n"
     ]
    },
    {
     "name": "stderr",
     "output_type": "stream",
     "text": [
      "It is strongly recommended to pass the ``sampling_rate`` argument to this function. Failing to do so can result in silent errors that might be hard to debug.\n"
     ]
    },
    {
     "name": "stdout",
     "output_type": "stream",
     "text": [
      "i 482\n",
      "filename reggae.00075.wav\n",
      "label reggae\n",
      "track_id 00075.wav\n"
     ]
    },
    {
     "name": "stderr",
     "output_type": "stream",
     "text": [
      "It is strongly recommended to pass the ``sampling_rate`` argument to this function. Failing to do so can result in silent errors that might be hard to debug.\n"
     ]
    },
    {
     "name": "stdout",
     "output_type": "stream",
     "text": [
      "i 483\n",
      "filename reggae.00061.wav\n",
      "label reggae\n",
      "track_id 00061.wav\n"
     ]
    },
    {
     "name": "stderr",
     "output_type": "stream",
     "text": [
      "It is strongly recommended to pass the ``sampling_rate`` argument to this function. Failing to do so can result in silent errors that might be hard to debug.\n"
     ]
    },
    {
     "name": "stdout",
     "output_type": "stream",
     "text": [
      "i 484\n",
      "filename reggae.00049.wav\n",
      "label reggae\n",
      "track_id 00049.wav\n"
     ]
    },
    {
     "name": "stderr",
     "output_type": "stream",
     "text": [
      "It is strongly recommended to pass the ``sampling_rate`` argument to this function. Failing to do so can result in silent errors that might be hard to debug.\n"
     ]
    },
    {
     "name": "stdout",
     "output_type": "stream",
     "text": [
      "i 485\n",
      "filename reggae.00048.wav\n",
      "label reggae\n",
      "track_id 00048.wav\n"
     ]
    },
    {
     "name": "stderr",
     "output_type": "stream",
     "text": [
      "It is strongly recommended to pass the ``sampling_rate`` argument to this function. Failing to do so can result in silent errors that might be hard to debug.\n"
     ]
    },
    {
     "name": "stdout",
     "output_type": "stream",
     "text": [
      "i 486\n",
      "filename reggae.00060.wav\n",
      "label reggae\n",
      "track_id 00060.wav\n"
     ]
    },
    {
     "name": "stderr",
     "output_type": "stream",
     "text": [
      "It is strongly recommended to pass the ``sampling_rate`` argument to this function. Failing to do so can result in silent errors that might be hard to debug.\n"
     ]
    },
    {
     "name": "stdout",
     "output_type": "stream",
     "text": [
      "i 487\n",
      "filename reggae.00074.wav\n",
      "label reggae\n",
      "track_id 00074.wav\n"
     ]
    },
    {
     "name": "stderr",
     "output_type": "stream",
     "text": [
      "It is strongly recommended to pass the ``sampling_rate`` argument to this function. Failing to do so can result in silent errors that might be hard to debug.\n"
     ]
    },
    {
     "name": "stdout",
     "output_type": "stream",
     "text": [
      "i 488\n",
      "filename reggae.00058.wav\n",
      "label reggae\n",
      "track_id 00058.wav\n"
     ]
    },
    {
     "name": "stderr",
     "output_type": "stream",
     "text": [
      "It is strongly recommended to pass the ``sampling_rate`` argument to this function. Failing to do so can result in silent errors that might be hard to debug.\n"
     ]
    },
    {
     "name": "stdout",
     "output_type": "stream",
     "text": [
      "i 489\n",
      "filename reggae.00070.wav\n",
      "label reggae\n",
      "track_id 00070.wav\n"
     ]
    },
    {
     "name": "stderr",
     "output_type": "stream",
     "text": [
      "It is strongly recommended to pass the ``sampling_rate`` argument to this function. Failing to do so can result in silent errors that might be hard to debug.\n"
     ]
    },
    {
     "name": "stdout",
     "output_type": "stream",
     "text": [
      "i 490\n",
      "filename reggae.00064.wav\n",
      "label reggae\n",
      "track_id 00064.wav\n"
     ]
    },
    {
     "name": "stderr",
     "output_type": "stream",
     "text": [
      "It is strongly recommended to pass the ``sampling_rate`` argument to this function. Failing to do so can result in silent errors that might be hard to debug.\n"
     ]
    },
    {
     "name": "stdout",
     "output_type": "stream",
     "text": [
      "i 491\n",
      "filename reggae.00065.wav\n",
      "label reggae\n",
      "track_id 00065.wav\n"
     ]
    },
    {
     "name": "stderr",
     "output_type": "stream",
     "text": [
      "It is strongly recommended to pass the ``sampling_rate`` argument to this function. Failing to do so can result in silent errors that might be hard to debug.\n"
     ]
    },
    {
     "name": "stdout",
     "output_type": "stream",
     "text": [
      "i 492\n",
      "filename reggae.00071.wav\n",
      "label reggae\n",
      "track_id 00071.wav\n"
     ]
    },
    {
     "name": "stderr",
     "output_type": "stream",
     "text": [
      "It is strongly recommended to pass the ``sampling_rate`` argument to this function. Failing to do so can result in silent errors that might be hard to debug.\n"
     ]
    },
    {
     "name": "stdout",
     "output_type": "stream",
     "text": [
      "i 493\n",
      "filename reggae.00059.wav\n",
      "label reggae\n",
      "track_id 00059.wav\n"
     ]
    },
    {
     "name": "stderr",
     "output_type": "stream",
     "text": [
      "It is strongly recommended to pass the ``sampling_rate`` argument to this function. Failing to do so can result in silent errors that might be hard to debug.\n"
     ]
    },
    {
     "name": "stdout",
     "output_type": "stream",
     "text": [
      "i 494\n",
      "filename reggae.00098.wav\n",
      "label reggae\n",
      "track_id 00098.wav\n"
     ]
    },
    {
     "name": "stderr",
     "output_type": "stream",
     "text": [
      "It is strongly recommended to pass the ``sampling_rate`` argument to this function. Failing to do so can result in silent errors that might be hard to debug.\n"
     ]
    },
    {
     "name": "stdout",
     "output_type": "stream",
     "text": [
      "i 495\n",
      "filename reggae.00067.wav\n",
      "label reggae\n",
      "track_id 00067.wav\n"
     ]
    },
    {
     "name": "stderr",
     "output_type": "stream",
     "text": [
      "It is strongly recommended to pass the ``sampling_rate`` argument to this function. Failing to do so can result in silent errors that might be hard to debug.\n"
     ]
    },
    {
     "name": "stdout",
     "output_type": "stream",
     "text": [
      "i 496\n",
      "filename reggae.00073.wav\n",
      "label reggae\n",
      "track_id 00073.wav\n"
     ]
    },
    {
     "name": "stderr",
     "output_type": "stream",
     "text": [
      "It is strongly recommended to pass the ``sampling_rate`` argument to this function. Failing to do so can result in silent errors that might be hard to debug.\n"
     ]
    },
    {
     "name": "stdout",
     "output_type": "stream",
     "text": [
      "i 497\n",
      "filename reggae.00072.wav\n",
      "label reggae\n",
      "track_id 00072.wav\n"
     ]
    },
    {
     "name": "stderr",
     "output_type": "stream",
     "text": [
      "It is strongly recommended to pass the ``sampling_rate`` argument to this function. Failing to do so can result in silent errors that might be hard to debug.\n"
     ]
    },
    {
     "name": "stdout",
     "output_type": "stream",
     "text": [
      "i 498\n",
      "filename reggae.00066.wav\n",
      "label reggae\n",
      "track_id 00066.wav\n"
     ]
    },
    {
     "name": "stderr",
     "output_type": "stream",
     "text": [
      "It is strongly recommended to pass the ``sampling_rate`` argument to this function. Failing to do so can result in silent errors that might be hard to debug.\n"
     ]
    },
    {
     "name": "stdout",
     "output_type": "stream",
     "text": [
      "i 499\n",
      "filename reggae.00099.wav\n",
      "label reggae\n",
      "track_id 00099.wav\n"
     ]
    },
    {
     "name": "stderr",
     "output_type": "stream",
     "text": [
      "6it [31:39, 349.62s/it]It is strongly recommended to pass the ``sampling_rate`` argument to this function. Failing to do so can result in silent errors that might be hard to debug.\n"
     ]
    },
    {
     "name": "stdout",
     "output_type": "stream",
     "text": [
      "i 500\n",
      "root ../audios/gtzan/classical\n",
      "dirs []\n",
      "files ['classical.00079.wav', 'classical.00045.wav', 'classical.00051.wav', 'classical.00086.wav', 'classical.00092.wav', 'classical.00093.wav', 'classical.00087.wav', 'classical.00050.wav', 'classical.00044.wav', 'classical.00078.wav', 'classical.00052.wav', 'classical.00046.wav', 'classical.00091.wav', 'classical.00085.wav', 'classical.00084.wav', 'classical.00090.wav', 'classical.00047.wav', 'classical.00053.wav', 'classical.00057.wav', 'classical.00043.wav', 'classical.00094.wav', 'classical.00080.wav', 'classical.00081.wav', 'classical.00095.wav', 'classical.00042.wav', 'classical.00056.wav', 'classical.00040.wav', 'classical.00054.wav', 'classical.00068.wav', 'classical.00083.wav', 'classical.00097.wav', 'classical.00096.wav', 'classical.00082.wav', 'classical.00069.wav', 'classical.00055.wav', 'classical.00041.wav', 'classical.00026.wav', 'classical.00032.wav', 'classical.00033.wav', 'classical.00027.wav', 'classical.00019.wav', 'classical.00031.wav', 'classical.00025.wav', 'classical.00024.wav', 'classical.00030.wav', 'classical.00018.wav', 'classical.00034.wav', 'classical.00020.wav', 'classical.00008.wav', 'classical.00009.wav', 'classical.00021.wav', 'classical.00035.wav', 'classical.00023.wav', 'classical.00037.wav', 'classical.00036.wav', 'classical.00022.wav', 'classical.00007.wav', 'classical.00013.wav', 'classical.00012.wav', 'classical.00006.wav', 'classical.00038.wav', 'classical.00010.wav', 'classical.00004.wav', 'classical.00005.wav', 'classical.00011.wav', 'classical.00039.wav', 'classical.00015.wav', 'classical.00001.wav', 'classical.00029.wav', 'classical.00028.wav', 'classical.00000.wav', 'classical.00014.wav', 'classical.00002.wav', 'classical.00016.wav', 'classical.00017.wav', 'classical.00003.wav', 'classical.00058.wav', 'classical.00064.wav', 'classical.00070.wav', 'classical.00071.wav', 'classical.00065.wav', 'classical.00059.wav', 'classical.00073.wav', 'classical.00067.wav', 'classical.00098.wav', 'classical.00099.wav', 'classical.00066.wav', 'classical.00072.wav', 'classical.00076.wav', 'classical.00062.wav', 'classical.00089.wav', 'classical.00088.wav', 'classical.00063.wav', 'classical.00077.wav', 'classical.00061.wav', 'classical.00075.wav', 'classical.00049.wav', 'classical.00048.wav', 'classical.00074.wav', 'classical.00060.wav']\n",
      "filename classical.00079.wav\n",
      "label classical\n",
      "track_id 00079.wav\n"
     ]
    },
    {
     "name": "stderr",
     "output_type": "stream",
     "text": [
      "It is strongly recommended to pass the ``sampling_rate`` argument to this function. Failing to do so can result in silent errors that might be hard to debug.\n"
     ]
    },
    {
     "name": "stdout",
     "output_type": "stream",
     "text": [
      "i 501\n",
      "filename classical.00045.wav\n",
      "label classical\n",
      "track_id 00045.wav\n"
     ]
    },
    {
     "name": "stderr",
     "output_type": "stream",
     "text": [
      "It is strongly recommended to pass the ``sampling_rate`` argument to this function. Failing to do so can result in silent errors that might be hard to debug.\n"
     ]
    },
    {
     "name": "stdout",
     "output_type": "stream",
     "text": [
      "i 502\n",
      "filename classical.00051.wav\n",
      "label classical\n",
      "track_id 00051.wav\n"
     ]
    },
    {
     "name": "stderr",
     "output_type": "stream",
     "text": [
      "It is strongly recommended to pass the ``sampling_rate`` argument to this function. Failing to do so can result in silent errors that might be hard to debug.\n"
     ]
    },
    {
     "name": "stdout",
     "output_type": "stream",
     "text": [
      "i 503\n",
      "filename classical.00086.wav\n",
      "label classical\n",
      "track_id 00086.wav\n"
     ]
    },
    {
     "name": "stderr",
     "output_type": "stream",
     "text": [
      "It is strongly recommended to pass the ``sampling_rate`` argument to this function. Failing to do so can result in silent errors that might be hard to debug.\n"
     ]
    },
    {
     "name": "stdout",
     "output_type": "stream",
     "text": [
      "i 504\n",
      "filename classical.00092.wav\n",
      "label classical\n",
      "track_id 00092.wav\n"
     ]
    },
    {
     "name": "stderr",
     "output_type": "stream",
     "text": [
      "It is strongly recommended to pass the ``sampling_rate`` argument to this function. Failing to do so can result in silent errors that might be hard to debug.\n"
     ]
    },
    {
     "name": "stdout",
     "output_type": "stream",
     "text": [
      "i 505\n",
      "filename classical.00093.wav\n",
      "label classical\n",
      "track_id 00093.wav\n"
     ]
    },
    {
     "name": "stderr",
     "output_type": "stream",
     "text": [
      "It is strongly recommended to pass the ``sampling_rate`` argument to this function. Failing to do so can result in silent errors that might be hard to debug.\n"
     ]
    },
    {
     "name": "stdout",
     "output_type": "stream",
     "text": [
      "i 506\n",
      "filename classical.00087.wav\n",
      "label classical\n",
      "track_id 00087.wav\n"
     ]
    },
    {
     "name": "stderr",
     "output_type": "stream",
     "text": [
      "It is strongly recommended to pass the ``sampling_rate`` argument to this function. Failing to do so can result in silent errors that might be hard to debug.\n"
     ]
    },
    {
     "name": "stdout",
     "output_type": "stream",
     "text": [
      "i 507\n",
      "filename classical.00050.wav\n",
      "label classical\n",
      "track_id 00050.wav\n"
     ]
    },
    {
     "name": "stderr",
     "output_type": "stream",
     "text": [
      "It is strongly recommended to pass the ``sampling_rate`` argument to this function. Failing to do so can result in silent errors that might be hard to debug.\n"
     ]
    },
    {
     "name": "stdout",
     "output_type": "stream",
     "text": [
      "i 508\n",
      "filename classical.00044.wav\n",
      "label classical\n",
      "track_id 00044.wav\n"
     ]
    },
    {
     "name": "stderr",
     "output_type": "stream",
     "text": [
      "It is strongly recommended to pass the ``sampling_rate`` argument to this function. Failing to do so can result in silent errors that might be hard to debug.\n"
     ]
    },
    {
     "name": "stdout",
     "output_type": "stream",
     "text": [
      "i 509\n",
      "filename classical.00078.wav\n",
      "label classical\n",
      "track_id 00078.wav\n"
     ]
    },
    {
     "name": "stderr",
     "output_type": "stream",
     "text": [
      "It is strongly recommended to pass the ``sampling_rate`` argument to this function. Failing to do so can result in silent errors that might be hard to debug.\n"
     ]
    },
    {
     "name": "stdout",
     "output_type": "stream",
     "text": [
      "i 510\n",
      "filename classical.00052.wav\n",
      "label classical\n",
      "track_id 00052.wav\n"
     ]
    },
    {
     "name": "stderr",
     "output_type": "stream",
     "text": [
      "It is strongly recommended to pass the ``sampling_rate`` argument to this function. Failing to do so can result in silent errors that might be hard to debug.\n"
     ]
    },
    {
     "name": "stdout",
     "output_type": "stream",
     "text": [
      "i 511\n",
      "filename classical.00046.wav\n",
      "label classical\n",
      "track_id 00046.wav\n"
     ]
    },
    {
     "name": "stderr",
     "output_type": "stream",
     "text": [
      "It is strongly recommended to pass the ``sampling_rate`` argument to this function. Failing to do so can result in silent errors that might be hard to debug.\n"
     ]
    },
    {
     "name": "stdout",
     "output_type": "stream",
     "text": [
      "i 512\n",
      "filename classical.00091.wav\n",
      "label classical\n",
      "track_id 00091.wav\n"
     ]
    },
    {
     "name": "stderr",
     "output_type": "stream",
     "text": [
      "It is strongly recommended to pass the ``sampling_rate`` argument to this function. Failing to do so can result in silent errors that might be hard to debug.\n"
     ]
    },
    {
     "name": "stdout",
     "output_type": "stream",
     "text": [
      "i 513\n",
      "filename classical.00085.wav\n",
      "label classical\n",
      "track_id 00085.wav\n"
     ]
    },
    {
     "name": "stderr",
     "output_type": "stream",
     "text": [
      "It is strongly recommended to pass the ``sampling_rate`` argument to this function. Failing to do so can result in silent errors that might be hard to debug.\n"
     ]
    },
    {
     "name": "stdout",
     "output_type": "stream",
     "text": [
      "i 514\n",
      "filename classical.00084.wav\n",
      "label classical\n",
      "track_id 00084.wav\n"
     ]
    },
    {
     "name": "stderr",
     "output_type": "stream",
     "text": [
      "It is strongly recommended to pass the ``sampling_rate`` argument to this function. Failing to do so can result in silent errors that might be hard to debug.\n"
     ]
    },
    {
     "name": "stdout",
     "output_type": "stream",
     "text": [
      "i 515\n",
      "filename classical.00090.wav\n",
      "label classical\n",
      "track_id 00090.wav\n"
     ]
    },
    {
     "name": "stderr",
     "output_type": "stream",
     "text": [
      "It is strongly recommended to pass the ``sampling_rate`` argument to this function. Failing to do so can result in silent errors that might be hard to debug.\n"
     ]
    },
    {
     "name": "stdout",
     "output_type": "stream",
     "text": [
      "i 516\n",
      "filename classical.00047.wav\n",
      "label classical\n",
      "track_id 00047.wav\n"
     ]
    },
    {
     "name": "stderr",
     "output_type": "stream",
     "text": [
      "It is strongly recommended to pass the ``sampling_rate`` argument to this function. Failing to do so can result in silent errors that might be hard to debug.\n"
     ]
    },
    {
     "name": "stdout",
     "output_type": "stream",
     "text": [
      "i 517\n",
      "filename classical.00053.wav\n",
      "label classical\n",
      "track_id 00053.wav\n"
     ]
    },
    {
     "name": "stderr",
     "output_type": "stream",
     "text": [
      "It is strongly recommended to pass the ``sampling_rate`` argument to this function. Failing to do so can result in silent errors that might be hard to debug.\n"
     ]
    },
    {
     "name": "stdout",
     "output_type": "stream",
     "text": [
      "i 518\n",
      "filename classical.00057.wav\n",
      "label classical\n",
      "track_id 00057.wav\n"
     ]
    },
    {
     "name": "stderr",
     "output_type": "stream",
     "text": [
      "It is strongly recommended to pass the ``sampling_rate`` argument to this function. Failing to do so can result in silent errors that might be hard to debug.\n"
     ]
    },
    {
     "name": "stdout",
     "output_type": "stream",
     "text": [
      "i 519\n",
      "filename classical.00043.wav\n",
      "label classical\n",
      "track_id 00043.wav\n"
     ]
    },
    {
     "name": "stderr",
     "output_type": "stream",
     "text": [
      "It is strongly recommended to pass the ``sampling_rate`` argument to this function. Failing to do so can result in silent errors that might be hard to debug.\n"
     ]
    },
    {
     "name": "stdout",
     "output_type": "stream",
     "text": [
      "i 520\n",
      "filename classical.00094.wav\n",
      "label classical\n",
      "track_id 00094.wav\n"
     ]
    },
    {
     "name": "stderr",
     "output_type": "stream",
     "text": [
      "It is strongly recommended to pass the ``sampling_rate`` argument to this function. Failing to do so can result in silent errors that might be hard to debug.\n"
     ]
    },
    {
     "name": "stdout",
     "output_type": "stream",
     "text": [
      "i 521\n",
      "filename classical.00080.wav\n",
      "label classical\n",
      "track_id 00080.wav\n"
     ]
    },
    {
     "name": "stderr",
     "output_type": "stream",
     "text": [
      "It is strongly recommended to pass the ``sampling_rate`` argument to this function. Failing to do so can result in silent errors that might be hard to debug.\n"
     ]
    },
    {
     "name": "stdout",
     "output_type": "stream",
     "text": [
      "i 522\n",
      "filename classical.00081.wav\n",
      "label classical\n",
      "track_id 00081.wav\n"
     ]
    },
    {
     "name": "stderr",
     "output_type": "stream",
     "text": [
      "It is strongly recommended to pass the ``sampling_rate`` argument to this function. Failing to do so can result in silent errors that might be hard to debug.\n"
     ]
    },
    {
     "name": "stdout",
     "output_type": "stream",
     "text": [
      "i 523\n",
      "filename classical.00095.wav\n",
      "label classical\n",
      "track_id 00095.wav\n"
     ]
    },
    {
     "name": "stderr",
     "output_type": "stream",
     "text": [
      "It is strongly recommended to pass the ``sampling_rate`` argument to this function. Failing to do so can result in silent errors that might be hard to debug.\n"
     ]
    },
    {
     "name": "stdout",
     "output_type": "stream",
     "text": [
      "i 524\n",
      "filename classical.00042.wav\n",
      "label classical\n",
      "track_id 00042.wav\n"
     ]
    },
    {
     "name": "stderr",
     "output_type": "stream",
     "text": [
      "It is strongly recommended to pass the ``sampling_rate`` argument to this function. Failing to do so can result in silent errors that might be hard to debug.\n"
     ]
    },
    {
     "name": "stdout",
     "output_type": "stream",
     "text": [
      "i 525\n",
      "filename classical.00056.wav\n",
      "label classical\n",
      "track_id 00056.wav\n"
     ]
    },
    {
     "name": "stderr",
     "output_type": "stream",
     "text": [
      "It is strongly recommended to pass the ``sampling_rate`` argument to this function. Failing to do so can result in silent errors that might be hard to debug.\n"
     ]
    },
    {
     "name": "stdout",
     "output_type": "stream",
     "text": [
      "i 526\n",
      "filename classical.00040.wav\n",
      "label classical\n",
      "track_id 00040.wav\n"
     ]
    },
    {
     "name": "stderr",
     "output_type": "stream",
     "text": [
      "It is strongly recommended to pass the ``sampling_rate`` argument to this function. Failing to do so can result in silent errors that might be hard to debug.\n"
     ]
    },
    {
     "name": "stdout",
     "output_type": "stream",
     "text": [
      "i 527\n",
      "filename classical.00054.wav\n",
      "label classical\n",
      "track_id 00054.wav\n"
     ]
    },
    {
     "name": "stderr",
     "output_type": "stream",
     "text": [
      "It is strongly recommended to pass the ``sampling_rate`` argument to this function. Failing to do so can result in silent errors that might be hard to debug.\n"
     ]
    },
    {
     "name": "stdout",
     "output_type": "stream",
     "text": [
      "i 528\n",
      "filename classical.00068.wav\n",
      "label classical\n",
      "track_id 00068.wav\n"
     ]
    },
    {
     "name": "stderr",
     "output_type": "stream",
     "text": [
      "It is strongly recommended to pass the ``sampling_rate`` argument to this function. Failing to do so can result in silent errors that might be hard to debug.\n"
     ]
    },
    {
     "name": "stdout",
     "output_type": "stream",
     "text": [
      "i 529\n",
      "filename classical.00083.wav\n",
      "label classical\n",
      "track_id 00083.wav\n"
     ]
    },
    {
     "name": "stderr",
     "output_type": "stream",
     "text": [
      "It is strongly recommended to pass the ``sampling_rate`` argument to this function. Failing to do so can result in silent errors that might be hard to debug.\n"
     ]
    },
    {
     "name": "stdout",
     "output_type": "stream",
     "text": [
      "i 530\n",
      "filename classical.00097.wav\n",
      "label classical\n",
      "track_id 00097.wav\n"
     ]
    },
    {
     "name": "stderr",
     "output_type": "stream",
     "text": [
      "It is strongly recommended to pass the ``sampling_rate`` argument to this function. Failing to do so can result in silent errors that might be hard to debug.\n"
     ]
    },
    {
     "name": "stdout",
     "output_type": "stream",
     "text": [
      "i 531\n",
      "filename classical.00096.wav\n",
      "label classical\n",
      "track_id 00096.wav\n"
     ]
    },
    {
     "name": "stderr",
     "output_type": "stream",
     "text": [
      "It is strongly recommended to pass the ``sampling_rate`` argument to this function. Failing to do so can result in silent errors that might be hard to debug.\n"
     ]
    },
    {
     "name": "stdout",
     "output_type": "stream",
     "text": [
      "i 532\n",
      "filename classical.00082.wav\n",
      "label classical\n",
      "track_id 00082.wav\n"
     ]
    },
    {
     "name": "stderr",
     "output_type": "stream",
     "text": [
      "It is strongly recommended to pass the ``sampling_rate`` argument to this function. Failing to do so can result in silent errors that might be hard to debug.\n"
     ]
    },
    {
     "name": "stdout",
     "output_type": "stream",
     "text": [
      "i 533\n",
      "filename classical.00069.wav\n",
      "label classical\n",
      "track_id 00069.wav\n"
     ]
    },
    {
     "name": "stderr",
     "output_type": "stream",
     "text": [
      "It is strongly recommended to pass the ``sampling_rate`` argument to this function. Failing to do so can result in silent errors that might be hard to debug.\n"
     ]
    },
    {
     "name": "stdout",
     "output_type": "stream",
     "text": [
      "i 534\n",
      "filename classical.00055.wav\n",
      "label classical\n",
      "track_id 00055.wav\n"
     ]
    },
    {
     "name": "stderr",
     "output_type": "stream",
     "text": [
      "It is strongly recommended to pass the ``sampling_rate`` argument to this function. Failing to do so can result in silent errors that might be hard to debug.\n"
     ]
    },
    {
     "name": "stdout",
     "output_type": "stream",
     "text": [
      "i 535\n",
      "filename classical.00041.wav\n",
      "label classical\n",
      "track_id 00041.wav\n"
     ]
    },
    {
     "name": "stderr",
     "output_type": "stream",
     "text": [
      "It is strongly recommended to pass the ``sampling_rate`` argument to this function. Failing to do so can result in silent errors that might be hard to debug.\n"
     ]
    },
    {
     "name": "stdout",
     "output_type": "stream",
     "text": [
      "i 536\n",
      "filename classical.00026.wav\n",
      "label classical\n",
      "track_id 00026.wav\n"
     ]
    },
    {
     "name": "stderr",
     "output_type": "stream",
     "text": [
      "It is strongly recommended to pass the ``sampling_rate`` argument to this function. Failing to do so can result in silent errors that might be hard to debug.\n"
     ]
    },
    {
     "name": "stdout",
     "output_type": "stream",
     "text": [
      "i 537\n",
      "filename classical.00032.wav\n",
      "label classical\n",
      "track_id 00032.wav\n"
     ]
    },
    {
     "name": "stderr",
     "output_type": "stream",
     "text": [
      "It is strongly recommended to pass the ``sampling_rate`` argument to this function. Failing to do so can result in silent errors that might be hard to debug.\n"
     ]
    },
    {
     "name": "stdout",
     "output_type": "stream",
     "text": [
      "i 538\n",
      "filename classical.00033.wav\n",
      "label classical\n",
      "track_id 00033.wav\n"
     ]
    },
    {
     "name": "stderr",
     "output_type": "stream",
     "text": [
      "It is strongly recommended to pass the ``sampling_rate`` argument to this function. Failing to do so can result in silent errors that might be hard to debug.\n"
     ]
    },
    {
     "name": "stdout",
     "output_type": "stream",
     "text": [
      "i 539\n",
      "filename classical.00027.wav\n",
      "label classical\n",
      "track_id 00027.wav\n"
     ]
    },
    {
     "name": "stderr",
     "output_type": "stream",
     "text": [
      "It is strongly recommended to pass the ``sampling_rate`` argument to this function. Failing to do so can result in silent errors that might be hard to debug.\n"
     ]
    },
    {
     "name": "stdout",
     "output_type": "stream",
     "text": [
      "i 540\n",
      "filename classical.00019.wav\n",
      "label classical\n",
      "track_id 00019.wav\n"
     ]
    },
    {
     "name": "stderr",
     "output_type": "stream",
     "text": [
      "It is strongly recommended to pass the ``sampling_rate`` argument to this function. Failing to do so can result in silent errors that might be hard to debug.\n"
     ]
    },
    {
     "name": "stdout",
     "output_type": "stream",
     "text": [
      "i 541\n",
      "filename classical.00031.wav\n",
      "label classical\n",
      "track_id 00031.wav\n"
     ]
    },
    {
     "name": "stderr",
     "output_type": "stream",
     "text": [
      "It is strongly recommended to pass the ``sampling_rate`` argument to this function. Failing to do so can result in silent errors that might be hard to debug.\n"
     ]
    },
    {
     "name": "stdout",
     "output_type": "stream",
     "text": [
      "i 542\n",
      "filename classical.00025.wav\n",
      "label classical\n",
      "track_id 00025.wav\n"
     ]
    },
    {
     "name": "stderr",
     "output_type": "stream",
     "text": [
      "It is strongly recommended to pass the ``sampling_rate`` argument to this function. Failing to do so can result in silent errors that might be hard to debug.\n"
     ]
    },
    {
     "name": "stdout",
     "output_type": "stream",
     "text": [
      "i 543\n",
      "filename classical.00024.wav\n",
      "label classical\n",
      "track_id 00024.wav\n"
     ]
    },
    {
     "name": "stderr",
     "output_type": "stream",
     "text": [
      "It is strongly recommended to pass the ``sampling_rate`` argument to this function. Failing to do so can result in silent errors that might be hard to debug.\n"
     ]
    },
    {
     "name": "stdout",
     "output_type": "stream",
     "text": [
      "i 544\n",
      "filename classical.00030.wav\n",
      "label classical\n",
      "track_id 00030.wav\n"
     ]
    },
    {
     "name": "stderr",
     "output_type": "stream",
     "text": [
      "It is strongly recommended to pass the ``sampling_rate`` argument to this function. Failing to do so can result in silent errors that might be hard to debug.\n"
     ]
    },
    {
     "name": "stdout",
     "output_type": "stream",
     "text": [
      "i 545\n",
      "filename classical.00018.wav\n",
      "label classical\n",
      "track_id 00018.wav\n"
     ]
    },
    {
     "name": "stderr",
     "output_type": "stream",
     "text": [
      "It is strongly recommended to pass the ``sampling_rate`` argument to this function. Failing to do so can result in silent errors that might be hard to debug.\n"
     ]
    },
    {
     "name": "stdout",
     "output_type": "stream",
     "text": [
      "i 546\n",
      "filename classical.00034.wav\n",
      "label classical\n",
      "track_id 00034.wav\n"
     ]
    },
    {
     "name": "stderr",
     "output_type": "stream",
     "text": [
      "It is strongly recommended to pass the ``sampling_rate`` argument to this function. Failing to do so can result in silent errors that might be hard to debug.\n"
     ]
    },
    {
     "name": "stdout",
     "output_type": "stream",
     "text": [
      "i 547\n",
      "filename classical.00020.wav\n",
      "label classical\n",
      "track_id 00020.wav\n"
     ]
    },
    {
     "name": "stderr",
     "output_type": "stream",
     "text": [
      "It is strongly recommended to pass the ``sampling_rate`` argument to this function. Failing to do so can result in silent errors that might be hard to debug.\n"
     ]
    },
    {
     "name": "stdout",
     "output_type": "stream",
     "text": [
      "i 548\n",
      "filename classical.00008.wav\n",
      "label classical\n",
      "track_id 00008.wav\n"
     ]
    },
    {
     "name": "stderr",
     "output_type": "stream",
     "text": [
      "It is strongly recommended to pass the ``sampling_rate`` argument to this function. Failing to do so can result in silent errors that might be hard to debug.\n"
     ]
    },
    {
     "name": "stdout",
     "output_type": "stream",
     "text": [
      "i 549\n",
      "filename classical.00009.wav\n",
      "label classical\n",
      "track_id 00009.wav\n"
     ]
    },
    {
     "name": "stderr",
     "output_type": "stream",
     "text": [
      "It is strongly recommended to pass the ``sampling_rate`` argument to this function. Failing to do so can result in silent errors that might be hard to debug.\n"
     ]
    },
    {
     "name": "stdout",
     "output_type": "stream",
     "text": [
      "i 550\n",
      "filename classical.00021.wav\n",
      "label classical\n",
      "track_id 00021.wav\n"
     ]
    },
    {
     "name": "stderr",
     "output_type": "stream",
     "text": [
      "It is strongly recommended to pass the ``sampling_rate`` argument to this function. Failing to do so can result in silent errors that might be hard to debug.\n"
     ]
    },
    {
     "name": "stdout",
     "output_type": "stream",
     "text": [
      "i 551\n",
      "filename classical.00035.wav\n",
      "label classical\n",
      "track_id 00035.wav\n"
     ]
    },
    {
     "name": "stderr",
     "output_type": "stream",
     "text": [
      "It is strongly recommended to pass the ``sampling_rate`` argument to this function. Failing to do so can result in silent errors that might be hard to debug.\n"
     ]
    },
    {
     "name": "stdout",
     "output_type": "stream",
     "text": [
      "i 552\n",
      "filename classical.00023.wav\n",
      "label classical\n",
      "track_id 00023.wav\n"
     ]
    },
    {
     "name": "stderr",
     "output_type": "stream",
     "text": [
      "It is strongly recommended to pass the ``sampling_rate`` argument to this function. Failing to do so can result in silent errors that might be hard to debug.\n"
     ]
    },
    {
     "name": "stdout",
     "output_type": "stream",
     "text": [
      "i 553\n",
      "filename classical.00037.wav\n",
      "label classical\n",
      "track_id 00037.wav\n"
     ]
    },
    {
     "name": "stderr",
     "output_type": "stream",
     "text": [
      "It is strongly recommended to pass the ``sampling_rate`` argument to this function. Failing to do so can result in silent errors that might be hard to debug.\n"
     ]
    },
    {
     "name": "stdout",
     "output_type": "stream",
     "text": [
      "i 554\n",
      "filename classical.00036.wav\n",
      "label classical\n",
      "track_id 00036.wav\n"
     ]
    },
    {
     "name": "stderr",
     "output_type": "stream",
     "text": [
      "It is strongly recommended to pass the ``sampling_rate`` argument to this function. Failing to do so can result in silent errors that might be hard to debug.\n"
     ]
    },
    {
     "name": "stdout",
     "output_type": "stream",
     "text": [
      "i 555\n",
      "filename classical.00022.wav\n",
      "label classical\n",
      "track_id 00022.wav\n"
     ]
    },
    {
     "name": "stderr",
     "output_type": "stream",
     "text": [
      "It is strongly recommended to pass the ``sampling_rate`` argument to this function. Failing to do so can result in silent errors that might be hard to debug.\n"
     ]
    },
    {
     "name": "stdout",
     "output_type": "stream",
     "text": [
      "i 556\n",
      "filename classical.00007.wav\n",
      "label classical\n",
      "track_id 00007.wav\n"
     ]
    },
    {
     "name": "stderr",
     "output_type": "stream",
     "text": [
      "It is strongly recommended to pass the ``sampling_rate`` argument to this function. Failing to do so can result in silent errors that might be hard to debug.\n"
     ]
    },
    {
     "name": "stdout",
     "output_type": "stream",
     "text": [
      "i 557\n",
      "filename classical.00013.wav\n",
      "label classical\n",
      "track_id 00013.wav\n"
     ]
    },
    {
     "name": "stderr",
     "output_type": "stream",
     "text": [
      "It is strongly recommended to pass the ``sampling_rate`` argument to this function. Failing to do so can result in silent errors that might be hard to debug.\n"
     ]
    },
    {
     "name": "stdout",
     "output_type": "stream",
     "text": [
      "i 558\n",
      "filename classical.00012.wav\n",
      "label classical\n",
      "track_id 00012.wav\n"
     ]
    },
    {
     "name": "stderr",
     "output_type": "stream",
     "text": [
      "It is strongly recommended to pass the ``sampling_rate`` argument to this function. Failing to do so can result in silent errors that might be hard to debug.\n"
     ]
    },
    {
     "name": "stdout",
     "output_type": "stream",
     "text": [
      "i 559\n",
      "filename classical.00006.wav\n",
      "label classical\n",
      "track_id 00006.wav\n"
     ]
    },
    {
     "name": "stderr",
     "output_type": "stream",
     "text": [
      "It is strongly recommended to pass the ``sampling_rate`` argument to this function. Failing to do so can result in silent errors that might be hard to debug.\n"
     ]
    },
    {
     "name": "stdout",
     "output_type": "stream",
     "text": [
      "i 560\n",
      "filename classical.00038.wav\n",
      "label classical\n",
      "track_id 00038.wav\n"
     ]
    },
    {
     "name": "stderr",
     "output_type": "stream",
     "text": [
      "It is strongly recommended to pass the ``sampling_rate`` argument to this function. Failing to do so can result in silent errors that might be hard to debug.\n"
     ]
    },
    {
     "name": "stdout",
     "output_type": "stream",
     "text": [
      "i 561\n",
      "filename classical.00010.wav\n",
      "label classical\n",
      "track_id 00010.wav\n"
     ]
    },
    {
     "name": "stderr",
     "output_type": "stream",
     "text": [
      "It is strongly recommended to pass the ``sampling_rate`` argument to this function. Failing to do so can result in silent errors that might be hard to debug.\n"
     ]
    },
    {
     "name": "stdout",
     "output_type": "stream",
     "text": [
      "i 562\n",
      "filename classical.00004.wav\n",
      "label classical\n",
      "track_id 00004.wav\n"
     ]
    },
    {
     "name": "stderr",
     "output_type": "stream",
     "text": [
      "It is strongly recommended to pass the ``sampling_rate`` argument to this function. Failing to do so can result in silent errors that might be hard to debug.\n"
     ]
    },
    {
     "name": "stdout",
     "output_type": "stream",
     "text": [
      "i 563\n",
      "filename classical.00005.wav\n",
      "label classical\n",
      "track_id 00005.wav\n"
     ]
    },
    {
     "name": "stderr",
     "output_type": "stream",
     "text": [
      "It is strongly recommended to pass the ``sampling_rate`` argument to this function. Failing to do so can result in silent errors that might be hard to debug.\n"
     ]
    },
    {
     "name": "stdout",
     "output_type": "stream",
     "text": [
      "i 564\n",
      "filename classical.00011.wav\n",
      "label classical\n",
      "track_id 00011.wav\n"
     ]
    },
    {
     "name": "stderr",
     "output_type": "stream",
     "text": [
      "It is strongly recommended to pass the ``sampling_rate`` argument to this function. Failing to do so can result in silent errors that might be hard to debug.\n"
     ]
    },
    {
     "name": "stdout",
     "output_type": "stream",
     "text": [
      "i 565\n",
      "filename classical.00039.wav\n",
      "label classical\n",
      "track_id 00039.wav\n"
     ]
    },
    {
     "name": "stderr",
     "output_type": "stream",
     "text": [
      "It is strongly recommended to pass the ``sampling_rate`` argument to this function. Failing to do so can result in silent errors that might be hard to debug.\n"
     ]
    },
    {
     "name": "stdout",
     "output_type": "stream",
     "text": [
      "i 566\n",
      "filename classical.00015.wav\n",
      "label classical\n",
      "track_id 00015.wav\n"
     ]
    },
    {
     "name": "stderr",
     "output_type": "stream",
     "text": [
      "It is strongly recommended to pass the ``sampling_rate`` argument to this function. Failing to do so can result in silent errors that might be hard to debug.\n"
     ]
    },
    {
     "name": "stdout",
     "output_type": "stream",
     "text": [
      "i 567\n",
      "filename classical.00001.wav\n",
      "label classical\n",
      "track_id 00001.wav\n"
     ]
    },
    {
     "name": "stderr",
     "output_type": "stream",
     "text": [
      "It is strongly recommended to pass the ``sampling_rate`` argument to this function. Failing to do so can result in silent errors that might be hard to debug.\n"
     ]
    },
    {
     "name": "stdout",
     "output_type": "stream",
     "text": [
      "i 568\n",
      "filename classical.00029.wav\n",
      "label classical\n",
      "track_id 00029.wav\n"
     ]
    },
    {
     "name": "stderr",
     "output_type": "stream",
     "text": [
      "It is strongly recommended to pass the ``sampling_rate`` argument to this function. Failing to do so can result in silent errors that might be hard to debug.\n"
     ]
    },
    {
     "name": "stdout",
     "output_type": "stream",
     "text": [
      "i 569\n",
      "filename classical.00028.wav\n",
      "label classical\n",
      "track_id 00028.wav\n"
     ]
    },
    {
     "name": "stderr",
     "output_type": "stream",
     "text": [
      "It is strongly recommended to pass the ``sampling_rate`` argument to this function. Failing to do so can result in silent errors that might be hard to debug.\n"
     ]
    },
    {
     "name": "stdout",
     "output_type": "stream",
     "text": [
      "i 570\n",
      "filename classical.00000.wav\n",
      "label classical\n",
      "track_id 00000.wav\n"
     ]
    },
    {
     "name": "stderr",
     "output_type": "stream",
     "text": [
      "It is strongly recommended to pass the ``sampling_rate`` argument to this function. Failing to do so can result in silent errors that might be hard to debug.\n"
     ]
    },
    {
     "name": "stdout",
     "output_type": "stream",
     "text": [
      "i 571\n",
      "filename classical.00014.wav\n",
      "label classical\n",
      "track_id 00014.wav\n"
     ]
    },
    {
     "name": "stderr",
     "output_type": "stream",
     "text": [
      "It is strongly recommended to pass the ``sampling_rate`` argument to this function. Failing to do so can result in silent errors that might be hard to debug.\n"
     ]
    },
    {
     "name": "stdout",
     "output_type": "stream",
     "text": [
      "i 572\n",
      "filename classical.00002.wav\n",
      "label classical\n",
      "track_id 00002.wav\n"
     ]
    },
    {
     "name": "stderr",
     "output_type": "stream",
     "text": [
      "It is strongly recommended to pass the ``sampling_rate`` argument to this function. Failing to do so can result in silent errors that might be hard to debug.\n"
     ]
    },
    {
     "name": "stdout",
     "output_type": "stream",
     "text": [
      "i 573\n",
      "filename classical.00016.wav\n",
      "label classical\n",
      "track_id 00016.wav\n"
     ]
    },
    {
     "name": "stderr",
     "output_type": "stream",
     "text": [
      "It is strongly recommended to pass the ``sampling_rate`` argument to this function. Failing to do so can result in silent errors that might be hard to debug.\n"
     ]
    },
    {
     "name": "stdout",
     "output_type": "stream",
     "text": [
      "i 574\n",
      "filename classical.00017.wav\n",
      "label classical\n",
      "track_id 00017.wav\n"
     ]
    },
    {
     "name": "stderr",
     "output_type": "stream",
     "text": [
      "It is strongly recommended to pass the ``sampling_rate`` argument to this function. Failing to do so can result in silent errors that might be hard to debug.\n"
     ]
    },
    {
     "name": "stdout",
     "output_type": "stream",
     "text": [
      "i 575\n",
      "filename classical.00003.wav\n",
      "label classical\n",
      "track_id 00003.wav\n"
     ]
    },
    {
     "name": "stderr",
     "output_type": "stream",
     "text": [
      "It is strongly recommended to pass the ``sampling_rate`` argument to this function. Failing to do so can result in silent errors that might be hard to debug.\n"
     ]
    },
    {
     "name": "stdout",
     "output_type": "stream",
     "text": [
      "i 576\n",
      "filename classical.00058.wav\n",
      "label classical\n",
      "track_id 00058.wav\n"
     ]
    },
    {
     "name": "stderr",
     "output_type": "stream",
     "text": [
      "It is strongly recommended to pass the ``sampling_rate`` argument to this function. Failing to do so can result in silent errors that might be hard to debug.\n"
     ]
    },
    {
     "name": "stdout",
     "output_type": "stream",
     "text": [
      "i 577\n",
      "filename classical.00064.wav\n",
      "label classical\n",
      "track_id 00064.wav\n"
     ]
    },
    {
     "name": "stderr",
     "output_type": "stream",
     "text": [
      "It is strongly recommended to pass the ``sampling_rate`` argument to this function. Failing to do so can result in silent errors that might be hard to debug.\n"
     ]
    },
    {
     "name": "stdout",
     "output_type": "stream",
     "text": [
      "i 578\n",
      "filename classical.00070.wav\n",
      "label classical\n",
      "track_id 00070.wav\n"
     ]
    },
    {
     "name": "stderr",
     "output_type": "stream",
     "text": [
      "It is strongly recommended to pass the ``sampling_rate`` argument to this function. Failing to do so can result in silent errors that might be hard to debug.\n"
     ]
    },
    {
     "name": "stdout",
     "output_type": "stream",
     "text": [
      "i 579\n",
      "filename classical.00071.wav\n",
      "label classical\n",
      "track_id 00071.wav\n"
     ]
    },
    {
     "name": "stderr",
     "output_type": "stream",
     "text": [
      "It is strongly recommended to pass the ``sampling_rate`` argument to this function. Failing to do so can result in silent errors that might be hard to debug.\n"
     ]
    },
    {
     "name": "stdout",
     "output_type": "stream",
     "text": [
      "i 580\n",
      "filename classical.00065.wav\n",
      "label classical\n",
      "track_id 00065.wav\n"
     ]
    },
    {
     "name": "stderr",
     "output_type": "stream",
     "text": [
      "It is strongly recommended to pass the ``sampling_rate`` argument to this function. Failing to do so can result in silent errors that might be hard to debug.\n"
     ]
    },
    {
     "name": "stdout",
     "output_type": "stream",
     "text": [
      "i 581\n",
      "filename classical.00059.wav\n",
      "label classical\n",
      "track_id 00059.wav\n"
     ]
    },
    {
     "name": "stderr",
     "output_type": "stream",
     "text": [
      "It is strongly recommended to pass the ``sampling_rate`` argument to this function. Failing to do so can result in silent errors that might be hard to debug.\n"
     ]
    },
    {
     "name": "stdout",
     "output_type": "stream",
     "text": [
      "i 582\n",
      "filename classical.00073.wav\n",
      "label classical\n",
      "track_id 00073.wav\n"
     ]
    },
    {
     "name": "stderr",
     "output_type": "stream",
     "text": [
      "It is strongly recommended to pass the ``sampling_rate`` argument to this function. Failing to do so can result in silent errors that might be hard to debug.\n"
     ]
    },
    {
     "name": "stdout",
     "output_type": "stream",
     "text": [
      "i 583\n",
      "filename classical.00067.wav\n",
      "label classical\n",
      "track_id 00067.wav\n"
     ]
    },
    {
     "name": "stderr",
     "output_type": "stream",
     "text": [
      "It is strongly recommended to pass the ``sampling_rate`` argument to this function. Failing to do so can result in silent errors that might be hard to debug.\n"
     ]
    },
    {
     "name": "stdout",
     "output_type": "stream",
     "text": [
      "i 584\n",
      "filename classical.00098.wav\n",
      "label classical\n",
      "track_id 00098.wav\n"
     ]
    },
    {
     "name": "stderr",
     "output_type": "stream",
     "text": [
      "It is strongly recommended to pass the ``sampling_rate`` argument to this function. Failing to do so can result in silent errors that might be hard to debug.\n"
     ]
    },
    {
     "name": "stdout",
     "output_type": "stream",
     "text": [
      "i 585\n",
      "filename classical.00099.wav\n",
      "label classical\n",
      "track_id 00099.wav\n"
     ]
    },
    {
     "name": "stderr",
     "output_type": "stream",
     "text": [
      "It is strongly recommended to pass the ``sampling_rate`` argument to this function. Failing to do so can result in silent errors that might be hard to debug.\n"
     ]
    },
    {
     "name": "stdout",
     "output_type": "stream",
     "text": [
      "i 586\n",
      "filename classical.00066.wav\n",
      "label classical\n",
      "track_id 00066.wav\n"
     ]
    },
    {
     "name": "stderr",
     "output_type": "stream",
     "text": [
      "It is strongly recommended to pass the ``sampling_rate`` argument to this function. Failing to do so can result in silent errors that might be hard to debug.\n"
     ]
    },
    {
     "name": "stdout",
     "output_type": "stream",
     "text": [
      "i 587\n",
      "filename classical.00072.wav\n",
      "label classical\n",
      "track_id 00072.wav\n"
     ]
    },
    {
     "name": "stderr",
     "output_type": "stream",
     "text": [
      "It is strongly recommended to pass the ``sampling_rate`` argument to this function. Failing to do so can result in silent errors that might be hard to debug.\n"
     ]
    },
    {
     "name": "stdout",
     "output_type": "stream",
     "text": [
      "i 588\n",
      "filename classical.00076.wav\n",
      "label classical\n",
      "track_id 00076.wav\n"
     ]
    },
    {
     "name": "stderr",
     "output_type": "stream",
     "text": [
      "It is strongly recommended to pass the ``sampling_rate`` argument to this function. Failing to do so can result in silent errors that might be hard to debug.\n"
     ]
    },
    {
     "name": "stdout",
     "output_type": "stream",
     "text": [
      "i 589\n",
      "filename classical.00062.wav\n",
      "label classical\n",
      "track_id 00062.wav\n"
     ]
    },
    {
     "name": "stderr",
     "output_type": "stream",
     "text": [
      "It is strongly recommended to pass the ``sampling_rate`` argument to this function. Failing to do so can result in silent errors that might be hard to debug.\n"
     ]
    },
    {
     "name": "stdout",
     "output_type": "stream",
     "text": [
      "i 590\n",
      "filename classical.00089.wav\n",
      "label classical\n",
      "track_id 00089.wav\n"
     ]
    },
    {
     "name": "stderr",
     "output_type": "stream",
     "text": [
      "It is strongly recommended to pass the ``sampling_rate`` argument to this function. Failing to do so can result in silent errors that might be hard to debug.\n"
     ]
    },
    {
     "name": "stdout",
     "output_type": "stream",
     "text": [
      "i 591\n",
      "filename classical.00088.wav\n",
      "label classical\n",
      "track_id 00088.wav\n"
     ]
    },
    {
     "name": "stderr",
     "output_type": "stream",
     "text": [
      "It is strongly recommended to pass the ``sampling_rate`` argument to this function. Failing to do so can result in silent errors that might be hard to debug.\n"
     ]
    },
    {
     "name": "stdout",
     "output_type": "stream",
     "text": [
      "i 592\n",
      "filename classical.00063.wav\n",
      "label classical\n",
      "track_id 00063.wav\n"
     ]
    },
    {
     "name": "stderr",
     "output_type": "stream",
     "text": [
      "It is strongly recommended to pass the ``sampling_rate`` argument to this function. Failing to do so can result in silent errors that might be hard to debug.\n"
     ]
    },
    {
     "name": "stdout",
     "output_type": "stream",
     "text": [
      "i 593\n",
      "filename classical.00077.wav\n",
      "label classical\n",
      "track_id 00077.wav\n"
     ]
    },
    {
     "name": "stderr",
     "output_type": "stream",
     "text": [
      "It is strongly recommended to pass the ``sampling_rate`` argument to this function. Failing to do so can result in silent errors that might be hard to debug.\n"
     ]
    },
    {
     "name": "stdout",
     "output_type": "stream",
     "text": [
      "i 594\n",
      "filename classical.00061.wav\n",
      "label classical\n",
      "track_id 00061.wav\n"
     ]
    },
    {
     "name": "stderr",
     "output_type": "stream",
     "text": [
      "It is strongly recommended to pass the ``sampling_rate`` argument to this function. Failing to do so can result in silent errors that might be hard to debug.\n"
     ]
    },
    {
     "name": "stdout",
     "output_type": "stream",
     "text": [
      "i 595\n",
      "filename classical.00075.wav\n",
      "label classical\n",
      "track_id 00075.wav\n"
     ]
    },
    {
     "name": "stderr",
     "output_type": "stream",
     "text": [
      "It is strongly recommended to pass the ``sampling_rate`` argument to this function. Failing to do so can result in silent errors that might be hard to debug.\n"
     ]
    },
    {
     "name": "stdout",
     "output_type": "stream",
     "text": [
      "i 596\n",
      "filename classical.00049.wav\n",
      "label classical\n",
      "track_id 00049.wav\n"
     ]
    },
    {
     "name": "stderr",
     "output_type": "stream",
     "text": [
      "It is strongly recommended to pass the ``sampling_rate`` argument to this function. Failing to do so can result in silent errors that might be hard to debug.\n"
     ]
    },
    {
     "name": "stdout",
     "output_type": "stream",
     "text": [
      "i 597\n",
      "filename classical.00048.wav\n",
      "label classical\n",
      "track_id 00048.wav\n"
     ]
    },
    {
     "name": "stderr",
     "output_type": "stream",
     "text": [
      "It is strongly recommended to pass the ``sampling_rate`` argument to this function. Failing to do so can result in silent errors that might be hard to debug.\n"
     ]
    },
    {
     "name": "stdout",
     "output_type": "stream",
     "text": [
      "i 598\n",
      "filename classical.00074.wav\n",
      "label classical\n",
      "track_id 00074.wav\n"
     ]
    },
    {
     "name": "stderr",
     "output_type": "stream",
     "text": [
      "It is strongly recommended to pass the ``sampling_rate`` argument to this function. Failing to do so can result in silent errors that might be hard to debug.\n"
     ]
    },
    {
     "name": "stdout",
     "output_type": "stream",
     "text": [
      "i 599\n",
      "filename classical.00060.wav\n",
      "label classical\n",
      "track_id 00060.wav\n"
     ]
    },
    {
     "name": "stderr",
     "output_type": "stream",
     "text": [
      "7it [37:47, 355.77s/it]It is strongly recommended to pass the ``sampling_rate`` argument to this function. Failing to do so can result in silent errors that might be hard to debug.\n"
     ]
    },
    {
     "name": "stdout",
     "output_type": "stream",
     "text": [
      "i 600\n",
      "root ../audios/gtzan/rock\n",
      "dirs []\n",
      "files ['rock.00011.wav', 'rock.00005.wav', 'rock.00039.wav', 'rock.00038.wav', 'rock.00004.wav', 'rock.00010.wav', 'rock.00006.wav', 'rock.00012.wav', 'rock.00013.wav', 'rock.00007.wav', 'rock.00003.wav', 'rock.00017.wav', 'rock.00016.wav', 'rock.00002.wav', 'rock.00028.wav', 'rock.00014.wav', 'rock.00000.wav', 'rock.00001.wav', 'rock.00015.wav', 'rock.00029.wav', 'rock.00099.wav', 'rock.00072.wav', 'rock.00066.wav', 'rock.00067.wav', 'rock.00073.wav', 'rock.00098.wav', 'rock.00065.wav', 'rock.00071.wav', 'rock.00059.wav', 'rock.00058.wav', 'rock.00070.wav', 'rock.00064.wav', 'rock.00048.wav', 'rock.00060.wav', 'rock.00074.wav', 'rock.00075.wav', 'rock.00061.wav', 'rock.00049.wav', 'rock.00088.wav', 'rock.00077.wav', 'rock.00063.wav', 'rock.00062.wav', 'rock.00076.wav', 'rock.00089.wav', 'rock.00090.wav', 'rock.00084.wav', 'rock.00053.wav', 'rock.00047.wav', 'rock.00046.wav', 'rock.00052.wav', 'rock.00085.wav', 'rock.00091.wav', 'rock.00087.wav', 'rock.00093.wav', 'rock.00044.wav', 'rock.00050.wav', 'rock.00078.wav', 'rock.00079.wav', 'rock.00051.wav', 'rock.00045.wav', 'rock.00092.wav', 'rock.00086.wav', 'rock.00082.wav', 'rock.00096.wav', 'rock.00069.wav', 'rock.00041.wav', 'rock.00055.wav', 'rock.00054.wav', 'rock.00040.wav', 'rock.00068.wav', 'rock.00097.wav', 'rock.00083.wav', 'rock.00095.wav', 'rock.00081.wav', 'rock.00056.wav', 'rock.00042.wav', 'rock.00043.wav', 'rock.00057.wav', 'rock.00080.wav', 'rock.00094.wav', 'rock.00030.wav', 'rock.00024.wav', 'rock.00018.wav', 'rock.00019.wav', 'rock.00025.wav', 'rock.00031.wav', 'rock.00027.wav', 'rock.00033.wav', 'rock.00032.wav', 'rock.00026.wav', 'rock.00022.wav', 'rock.00036.wav', 'rock.00037.wav', 'rock.00023.wav', 'rock.00009.wav', 'rock.00035.wav', 'rock.00021.wav', 'rock.00020.wav', 'rock.00034.wav', 'rock.00008.wav']\n",
      "filename rock.00011.wav\n",
      "label rock\n",
      "track_id 00011.wav\n"
     ]
    },
    {
     "name": "stderr",
     "output_type": "stream",
     "text": [
      "It is strongly recommended to pass the ``sampling_rate`` argument to this function. Failing to do so can result in silent errors that might be hard to debug.\n"
     ]
    },
    {
     "name": "stdout",
     "output_type": "stream",
     "text": [
      "i 601\n",
      "filename rock.00005.wav\n",
      "label rock\n",
      "track_id 00005.wav\n"
     ]
    },
    {
     "name": "stderr",
     "output_type": "stream",
     "text": [
      "It is strongly recommended to pass the ``sampling_rate`` argument to this function. Failing to do so can result in silent errors that might be hard to debug.\n"
     ]
    },
    {
     "name": "stdout",
     "output_type": "stream",
     "text": [
      "i 602\n",
      "filename rock.00039.wav\n",
      "label rock\n",
      "track_id 00039.wav\n"
     ]
    },
    {
     "name": "stderr",
     "output_type": "stream",
     "text": [
      "It is strongly recommended to pass the ``sampling_rate`` argument to this function. Failing to do so can result in silent errors that might be hard to debug.\n"
     ]
    },
    {
     "name": "stdout",
     "output_type": "stream",
     "text": [
      "i 603\n",
      "filename rock.00038.wav\n",
      "label rock\n",
      "track_id 00038.wav\n"
     ]
    },
    {
     "name": "stderr",
     "output_type": "stream",
     "text": [
      "It is strongly recommended to pass the ``sampling_rate`` argument to this function. Failing to do so can result in silent errors that might be hard to debug.\n"
     ]
    },
    {
     "name": "stdout",
     "output_type": "stream",
     "text": [
      "i 604\n",
      "filename rock.00004.wav\n",
      "label rock\n",
      "track_id 00004.wav\n"
     ]
    },
    {
     "name": "stderr",
     "output_type": "stream",
     "text": [
      "It is strongly recommended to pass the ``sampling_rate`` argument to this function. Failing to do so can result in silent errors that might be hard to debug.\n"
     ]
    },
    {
     "name": "stdout",
     "output_type": "stream",
     "text": [
      "i 605\n",
      "filename rock.00010.wav\n",
      "label rock\n",
      "track_id 00010.wav\n"
     ]
    },
    {
     "name": "stderr",
     "output_type": "stream",
     "text": [
      "It is strongly recommended to pass the ``sampling_rate`` argument to this function. Failing to do so can result in silent errors that might be hard to debug.\n"
     ]
    },
    {
     "name": "stdout",
     "output_type": "stream",
     "text": [
      "i 606\n",
      "filename rock.00006.wav\n",
      "label rock\n",
      "track_id 00006.wav\n"
     ]
    },
    {
     "name": "stderr",
     "output_type": "stream",
     "text": [
      "It is strongly recommended to pass the ``sampling_rate`` argument to this function. Failing to do so can result in silent errors that might be hard to debug.\n"
     ]
    },
    {
     "name": "stdout",
     "output_type": "stream",
     "text": [
      "i 607\n",
      "filename rock.00012.wav\n",
      "label rock\n",
      "track_id 00012.wav\n"
     ]
    },
    {
     "name": "stderr",
     "output_type": "stream",
     "text": [
      "It is strongly recommended to pass the ``sampling_rate`` argument to this function. Failing to do so can result in silent errors that might be hard to debug.\n"
     ]
    },
    {
     "name": "stdout",
     "output_type": "stream",
     "text": [
      "i 608\n",
      "filename rock.00013.wav\n",
      "label rock\n",
      "track_id 00013.wav\n"
     ]
    },
    {
     "name": "stderr",
     "output_type": "stream",
     "text": [
      "It is strongly recommended to pass the ``sampling_rate`` argument to this function. Failing to do so can result in silent errors that might be hard to debug.\n"
     ]
    },
    {
     "name": "stdout",
     "output_type": "stream",
     "text": [
      "i 609\n",
      "filename rock.00007.wav\n",
      "label rock\n",
      "track_id 00007.wav\n"
     ]
    },
    {
     "name": "stderr",
     "output_type": "stream",
     "text": [
      "It is strongly recommended to pass the ``sampling_rate`` argument to this function. Failing to do so can result in silent errors that might be hard to debug.\n"
     ]
    },
    {
     "name": "stdout",
     "output_type": "stream",
     "text": [
      "i 610\n",
      "filename rock.00003.wav\n",
      "label rock\n",
      "track_id 00003.wav\n"
     ]
    },
    {
     "name": "stderr",
     "output_type": "stream",
     "text": [
      "It is strongly recommended to pass the ``sampling_rate`` argument to this function. Failing to do so can result in silent errors that might be hard to debug.\n"
     ]
    },
    {
     "name": "stdout",
     "output_type": "stream",
     "text": [
      "i 611\n",
      "filename rock.00017.wav\n",
      "label rock\n",
      "track_id 00017.wav\n"
     ]
    },
    {
     "name": "stderr",
     "output_type": "stream",
     "text": [
      "It is strongly recommended to pass the ``sampling_rate`` argument to this function. Failing to do so can result in silent errors that might be hard to debug.\n"
     ]
    },
    {
     "name": "stdout",
     "output_type": "stream",
     "text": [
      "i 612\n",
      "filename rock.00016.wav\n",
      "label rock\n",
      "track_id 00016.wav\n"
     ]
    },
    {
     "name": "stderr",
     "output_type": "stream",
     "text": [
      "It is strongly recommended to pass the ``sampling_rate`` argument to this function. Failing to do so can result in silent errors that might be hard to debug.\n"
     ]
    },
    {
     "name": "stdout",
     "output_type": "stream",
     "text": [
      "i 613\n",
      "filename rock.00002.wav\n",
      "label rock\n",
      "track_id 00002.wav\n"
     ]
    },
    {
     "name": "stderr",
     "output_type": "stream",
     "text": [
      "It is strongly recommended to pass the ``sampling_rate`` argument to this function. Failing to do so can result in silent errors that might be hard to debug.\n"
     ]
    },
    {
     "name": "stdout",
     "output_type": "stream",
     "text": [
      "i 614\n",
      "filename rock.00028.wav\n",
      "label rock\n",
      "track_id 00028.wav\n"
     ]
    },
    {
     "name": "stderr",
     "output_type": "stream",
     "text": [
      "It is strongly recommended to pass the ``sampling_rate`` argument to this function. Failing to do so can result in silent errors that might be hard to debug.\n"
     ]
    },
    {
     "name": "stdout",
     "output_type": "stream",
     "text": [
      "i 615\n",
      "filename rock.00014.wav\n",
      "label rock\n",
      "track_id 00014.wav\n"
     ]
    },
    {
     "name": "stderr",
     "output_type": "stream",
     "text": [
      "It is strongly recommended to pass the ``sampling_rate`` argument to this function. Failing to do so can result in silent errors that might be hard to debug.\n"
     ]
    },
    {
     "name": "stdout",
     "output_type": "stream",
     "text": [
      "i 616\n",
      "filename rock.00000.wav\n",
      "label rock\n",
      "track_id 00000.wav\n"
     ]
    },
    {
     "name": "stderr",
     "output_type": "stream",
     "text": [
      "It is strongly recommended to pass the ``sampling_rate`` argument to this function. Failing to do so can result in silent errors that might be hard to debug.\n"
     ]
    },
    {
     "name": "stdout",
     "output_type": "stream",
     "text": [
      "i 617\n",
      "filename rock.00001.wav\n",
      "label rock\n",
      "track_id 00001.wav\n"
     ]
    },
    {
     "name": "stderr",
     "output_type": "stream",
     "text": [
      "It is strongly recommended to pass the ``sampling_rate`` argument to this function. Failing to do so can result in silent errors that might be hard to debug.\n"
     ]
    },
    {
     "name": "stdout",
     "output_type": "stream",
     "text": [
      "i 618\n",
      "filename rock.00015.wav\n",
      "label rock\n",
      "track_id 00015.wav\n"
     ]
    },
    {
     "name": "stderr",
     "output_type": "stream",
     "text": [
      "It is strongly recommended to pass the ``sampling_rate`` argument to this function. Failing to do so can result in silent errors that might be hard to debug.\n"
     ]
    },
    {
     "name": "stdout",
     "output_type": "stream",
     "text": [
      "i 619\n",
      "filename rock.00029.wav\n",
      "label rock\n",
      "track_id 00029.wav\n"
     ]
    },
    {
     "name": "stderr",
     "output_type": "stream",
     "text": [
      "It is strongly recommended to pass the ``sampling_rate`` argument to this function. Failing to do so can result in silent errors that might be hard to debug.\n"
     ]
    },
    {
     "name": "stdout",
     "output_type": "stream",
     "text": [
      "i 620\n",
      "filename rock.00099.wav\n",
      "label rock\n",
      "track_id 00099.wav\n"
     ]
    },
    {
     "name": "stderr",
     "output_type": "stream",
     "text": [
      "It is strongly recommended to pass the ``sampling_rate`` argument to this function. Failing to do so can result in silent errors that might be hard to debug.\n"
     ]
    },
    {
     "name": "stdout",
     "output_type": "stream",
     "text": [
      "i 621\n",
      "filename rock.00072.wav\n",
      "label rock\n",
      "track_id 00072.wav\n"
     ]
    },
    {
     "name": "stderr",
     "output_type": "stream",
     "text": [
      "It is strongly recommended to pass the ``sampling_rate`` argument to this function. Failing to do so can result in silent errors that might be hard to debug.\n"
     ]
    },
    {
     "name": "stdout",
     "output_type": "stream",
     "text": [
      "i 622\n",
      "filename rock.00066.wav\n",
      "label rock\n",
      "track_id 00066.wav\n"
     ]
    },
    {
     "name": "stderr",
     "output_type": "stream",
     "text": [
      "It is strongly recommended to pass the ``sampling_rate`` argument to this function. Failing to do so can result in silent errors that might be hard to debug.\n"
     ]
    },
    {
     "name": "stdout",
     "output_type": "stream",
     "text": [
      "i 623\n",
      "filename rock.00067.wav\n",
      "label rock\n",
      "track_id 00067.wav\n"
     ]
    },
    {
     "name": "stderr",
     "output_type": "stream",
     "text": [
      "It is strongly recommended to pass the ``sampling_rate`` argument to this function. Failing to do so can result in silent errors that might be hard to debug.\n"
     ]
    },
    {
     "name": "stdout",
     "output_type": "stream",
     "text": [
      "i 624\n",
      "filename rock.00073.wav\n",
      "label rock\n",
      "track_id 00073.wav\n"
     ]
    },
    {
     "name": "stderr",
     "output_type": "stream",
     "text": [
      "It is strongly recommended to pass the ``sampling_rate`` argument to this function. Failing to do so can result in silent errors that might be hard to debug.\n"
     ]
    },
    {
     "name": "stdout",
     "output_type": "stream",
     "text": [
      "i 625\n",
      "filename rock.00098.wav\n",
      "label rock\n",
      "track_id 00098.wav\n"
     ]
    },
    {
     "name": "stderr",
     "output_type": "stream",
     "text": [
      "It is strongly recommended to pass the ``sampling_rate`` argument to this function. Failing to do so can result in silent errors that might be hard to debug.\n"
     ]
    },
    {
     "name": "stdout",
     "output_type": "stream",
     "text": [
      "i 626\n",
      "filename rock.00065.wav\n",
      "label rock\n",
      "track_id 00065.wav\n"
     ]
    },
    {
     "name": "stderr",
     "output_type": "stream",
     "text": [
      "It is strongly recommended to pass the ``sampling_rate`` argument to this function. Failing to do so can result in silent errors that might be hard to debug.\n"
     ]
    },
    {
     "name": "stdout",
     "output_type": "stream",
     "text": [
      "i 627\n",
      "filename rock.00071.wav\n",
      "label rock\n",
      "track_id 00071.wav\n"
     ]
    },
    {
     "name": "stderr",
     "output_type": "stream",
     "text": [
      "It is strongly recommended to pass the ``sampling_rate`` argument to this function. Failing to do so can result in silent errors that might be hard to debug.\n"
     ]
    },
    {
     "name": "stdout",
     "output_type": "stream",
     "text": [
      "i 628\n",
      "filename rock.00059.wav\n",
      "label rock\n",
      "track_id 00059.wav\n"
     ]
    },
    {
     "name": "stderr",
     "output_type": "stream",
     "text": [
      "It is strongly recommended to pass the ``sampling_rate`` argument to this function. Failing to do so can result in silent errors that might be hard to debug.\n"
     ]
    },
    {
     "name": "stdout",
     "output_type": "stream",
     "text": [
      "i 629\n",
      "filename rock.00058.wav\n",
      "label rock\n",
      "track_id 00058.wav\n"
     ]
    },
    {
     "name": "stderr",
     "output_type": "stream",
     "text": [
      "It is strongly recommended to pass the ``sampling_rate`` argument to this function. Failing to do so can result in silent errors that might be hard to debug.\n"
     ]
    },
    {
     "name": "stdout",
     "output_type": "stream",
     "text": [
      "i 630\n",
      "filename rock.00070.wav\n",
      "label rock\n",
      "track_id 00070.wav\n"
     ]
    },
    {
     "name": "stderr",
     "output_type": "stream",
     "text": [
      "It is strongly recommended to pass the ``sampling_rate`` argument to this function. Failing to do so can result in silent errors that might be hard to debug.\n"
     ]
    },
    {
     "name": "stdout",
     "output_type": "stream",
     "text": [
      "i 631\n",
      "filename rock.00064.wav\n",
      "label rock\n",
      "track_id 00064.wav\n"
     ]
    },
    {
     "name": "stderr",
     "output_type": "stream",
     "text": [
      "It is strongly recommended to pass the ``sampling_rate`` argument to this function. Failing to do so can result in silent errors that might be hard to debug.\n"
     ]
    },
    {
     "name": "stdout",
     "output_type": "stream",
     "text": [
      "i 632\n",
      "filename rock.00048.wav\n",
      "label rock\n",
      "track_id 00048.wav\n"
     ]
    },
    {
     "name": "stderr",
     "output_type": "stream",
     "text": [
      "It is strongly recommended to pass the ``sampling_rate`` argument to this function. Failing to do so can result in silent errors that might be hard to debug.\n"
     ]
    },
    {
     "name": "stdout",
     "output_type": "stream",
     "text": [
      "i 633\n",
      "filename rock.00060.wav\n",
      "label rock\n",
      "track_id 00060.wav\n"
     ]
    },
    {
     "name": "stderr",
     "output_type": "stream",
     "text": [
      "It is strongly recommended to pass the ``sampling_rate`` argument to this function. Failing to do so can result in silent errors that might be hard to debug.\n"
     ]
    },
    {
     "name": "stdout",
     "output_type": "stream",
     "text": [
      "i 634\n",
      "filename rock.00074.wav\n",
      "label rock\n",
      "track_id 00074.wav\n"
     ]
    },
    {
     "name": "stderr",
     "output_type": "stream",
     "text": [
      "It is strongly recommended to pass the ``sampling_rate`` argument to this function. Failing to do so can result in silent errors that might be hard to debug.\n"
     ]
    },
    {
     "name": "stdout",
     "output_type": "stream",
     "text": [
      "i 635\n",
      "filename rock.00075.wav\n",
      "label rock\n",
      "track_id 00075.wav\n"
     ]
    },
    {
     "name": "stderr",
     "output_type": "stream",
     "text": [
      "It is strongly recommended to pass the ``sampling_rate`` argument to this function. Failing to do so can result in silent errors that might be hard to debug.\n"
     ]
    },
    {
     "name": "stdout",
     "output_type": "stream",
     "text": [
      "i 636\n",
      "filename rock.00061.wav\n",
      "label rock\n",
      "track_id 00061.wav\n"
     ]
    },
    {
     "name": "stderr",
     "output_type": "stream",
     "text": [
      "It is strongly recommended to pass the ``sampling_rate`` argument to this function. Failing to do so can result in silent errors that might be hard to debug.\n"
     ]
    },
    {
     "name": "stdout",
     "output_type": "stream",
     "text": [
      "i 637\n",
      "filename rock.00049.wav\n",
      "label rock\n",
      "track_id 00049.wav\n"
     ]
    },
    {
     "name": "stderr",
     "output_type": "stream",
     "text": [
      "It is strongly recommended to pass the ``sampling_rate`` argument to this function. Failing to do so can result in silent errors that might be hard to debug.\n"
     ]
    },
    {
     "name": "stdout",
     "output_type": "stream",
     "text": [
      "i 638\n",
      "filename rock.00088.wav\n",
      "label rock\n",
      "track_id 00088.wav\n"
     ]
    },
    {
     "name": "stderr",
     "output_type": "stream",
     "text": [
      "It is strongly recommended to pass the ``sampling_rate`` argument to this function. Failing to do so can result in silent errors that might be hard to debug.\n"
     ]
    },
    {
     "name": "stdout",
     "output_type": "stream",
     "text": [
      "i 639\n",
      "filename rock.00077.wav\n",
      "label rock\n",
      "track_id 00077.wav\n"
     ]
    },
    {
     "name": "stderr",
     "output_type": "stream",
     "text": [
      "It is strongly recommended to pass the ``sampling_rate`` argument to this function. Failing to do so can result in silent errors that might be hard to debug.\n"
     ]
    },
    {
     "name": "stdout",
     "output_type": "stream",
     "text": [
      "i 640\n",
      "filename rock.00063.wav\n",
      "label rock\n",
      "track_id 00063.wav\n"
     ]
    },
    {
     "name": "stderr",
     "output_type": "stream",
     "text": [
      "It is strongly recommended to pass the ``sampling_rate`` argument to this function. Failing to do so can result in silent errors that might be hard to debug.\n"
     ]
    },
    {
     "name": "stdout",
     "output_type": "stream",
     "text": [
      "i 641\n",
      "filename rock.00062.wav\n",
      "label rock\n",
      "track_id 00062.wav\n"
     ]
    },
    {
     "name": "stderr",
     "output_type": "stream",
     "text": [
      "It is strongly recommended to pass the ``sampling_rate`` argument to this function. Failing to do so can result in silent errors that might be hard to debug.\n"
     ]
    },
    {
     "name": "stdout",
     "output_type": "stream",
     "text": [
      "i 642\n",
      "filename rock.00076.wav\n",
      "label rock\n",
      "track_id 00076.wav\n"
     ]
    },
    {
     "name": "stderr",
     "output_type": "stream",
     "text": [
      "It is strongly recommended to pass the ``sampling_rate`` argument to this function. Failing to do so can result in silent errors that might be hard to debug.\n"
     ]
    },
    {
     "name": "stdout",
     "output_type": "stream",
     "text": [
      "i 643\n",
      "filename rock.00089.wav\n",
      "label rock\n",
      "track_id 00089.wav\n"
     ]
    },
    {
     "name": "stderr",
     "output_type": "stream",
     "text": [
      "It is strongly recommended to pass the ``sampling_rate`` argument to this function. Failing to do so can result in silent errors that might be hard to debug.\n"
     ]
    },
    {
     "name": "stdout",
     "output_type": "stream",
     "text": [
      "i 644\n",
      "filename rock.00090.wav\n",
      "label rock\n",
      "track_id 00090.wav\n"
     ]
    },
    {
     "name": "stderr",
     "output_type": "stream",
     "text": [
      "It is strongly recommended to pass the ``sampling_rate`` argument to this function. Failing to do so can result in silent errors that might be hard to debug.\n"
     ]
    },
    {
     "name": "stdout",
     "output_type": "stream",
     "text": [
      "i 645\n",
      "filename rock.00084.wav\n",
      "label rock\n",
      "track_id 00084.wav\n"
     ]
    },
    {
     "name": "stderr",
     "output_type": "stream",
     "text": [
      "It is strongly recommended to pass the ``sampling_rate`` argument to this function. Failing to do so can result in silent errors that might be hard to debug.\n"
     ]
    },
    {
     "name": "stdout",
     "output_type": "stream",
     "text": [
      "i 646\n",
      "filename rock.00053.wav\n",
      "label rock\n",
      "track_id 00053.wav\n"
     ]
    },
    {
     "name": "stderr",
     "output_type": "stream",
     "text": [
      "It is strongly recommended to pass the ``sampling_rate`` argument to this function. Failing to do so can result in silent errors that might be hard to debug.\n"
     ]
    },
    {
     "name": "stdout",
     "output_type": "stream",
     "text": [
      "i 647\n",
      "filename rock.00047.wav\n",
      "label rock\n",
      "track_id 00047.wav\n"
     ]
    },
    {
     "name": "stderr",
     "output_type": "stream",
     "text": [
      "It is strongly recommended to pass the ``sampling_rate`` argument to this function. Failing to do so can result in silent errors that might be hard to debug.\n"
     ]
    },
    {
     "name": "stdout",
     "output_type": "stream",
     "text": [
      "i 648\n",
      "filename rock.00046.wav\n",
      "label rock\n",
      "track_id 00046.wav\n"
     ]
    },
    {
     "name": "stderr",
     "output_type": "stream",
     "text": [
      "It is strongly recommended to pass the ``sampling_rate`` argument to this function. Failing to do so can result in silent errors that might be hard to debug.\n"
     ]
    },
    {
     "name": "stdout",
     "output_type": "stream",
     "text": [
      "i 649\n",
      "filename rock.00052.wav\n",
      "label rock\n",
      "track_id 00052.wav\n"
     ]
    },
    {
     "name": "stderr",
     "output_type": "stream",
     "text": [
      "It is strongly recommended to pass the ``sampling_rate`` argument to this function. Failing to do so can result in silent errors that might be hard to debug.\n"
     ]
    },
    {
     "name": "stdout",
     "output_type": "stream",
     "text": [
      "i 650\n",
      "filename rock.00085.wav\n",
      "label rock\n",
      "track_id 00085.wav\n"
     ]
    },
    {
     "name": "stderr",
     "output_type": "stream",
     "text": [
      "It is strongly recommended to pass the ``sampling_rate`` argument to this function. Failing to do so can result in silent errors that might be hard to debug.\n"
     ]
    },
    {
     "name": "stdout",
     "output_type": "stream",
     "text": [
      "i 651\n",
      "filename rock.00091.wav\n",
      "label rock\n",
      "track_id 00091.wav\n"
     ]
    },
    {
     "name": "stderr",
     "output_type": "stream",
     "text": [
      "It is strongly recommended to pass the ``sampling_rate`` argument to this function. Failing to do so can result in silent errors that might be hard to debug.\n"
     ]
    },
    {
     "name": "stdout",
     "output_type": "stream",
     "text": [
      "i 652\n",
      "filename rock.00087.wav\n",
      "label rock\n",
      "track_id 00087.wav\n"
     ]
    },
    {
     "name": "stderr",
     "output_type": "stream",
     "text": [
      "It is strongly recommended to pass the ``sampling_rate`` argument to this function. Failing to do so can result in silent errors that might be hard to debug.\n"
     ]
    },
    {
     "name": "stdout",
     "output_type": "stream",
     "text": [
      "i 653\n",
      "filename rock.00093.wav\n",
      "label rock\n",
      "track_id 00093.wav\n"
     ]
    },
    {
     "name": "stderr",
     "output_type": "stream",
     "text": [
      "It is strongly recommended to pass the ``sampling_rate`` argument to this function. Failing to do so can result in silent errors that might be hard to debug.\n"
     ]
    },
    {
     "name": "stdout",
     "output_type": "stream",
     "text": [
      "i 654\n",
      "filename rock.00044.wav\n",
      "label rock\n",
      "track_id 00044.wav\n"
     ]
    },
    {
     "name": "stderr",
     "output_type": "stream",
     "text": [
      "It is strongly recommended to pass the ``sampling_rate`` argument to this function. Failing to do so can result in silent errors that might be hard to debug.\n"
     ]
    },
    {
     "name": "stdout",
     "output_type": "stream",
     "text": [
      "i 655\n",
      "filename rock.00050.wav\n",
      "label rock\n",
      "track_id 00050.wav\n"
     ]
    },
    {
     "name": "stderr",
     "output_type": "stream",
     "text": [
      "It is strongly recommended to pass the ``sampling_rate`` argument to this function. Failing to do so can result in silent errors that might be hard to debug.\n"
     ]
    },
    {
     "name": "stdout",
     "output_type": "stream",
     "text": [
      "i 656\n",
      "filename rock.00078.wav\n",
      "label rock\n",
      "track_id 00078.wav\n"
     ]
    },
    {
     "name": "stderr",
     "output_type": "stream",
     "text": [
      "It is strongly recommended to pass the ``sampling_rate`` argument to this function. Failing to do so can result in silent errors that might be hard to debug.\n"
     ]
    },
    {
     "name": "stdout",
     "output_type": "stream",
     "text": [
      "i 657\n",
      "filename rock.00079.wav\n",
      "label rock\n",
      "track_id 00079.wav\n"
     ]
    },
    {
     "name": "stderr",
     "output_type": "stream",
     "text": [
      "It is strongly recommended to pass the ``sampling_rate`` argument to this function. Failing to do so can result in silent errors that might be hard to debug.\n"
     ]
    },
    {
     "name": "stdout",
     "output_type": "stream",
     "text": [
      "i 658\n",
      "filename rock.00051.wav\n",
      "label rock\n",
      "track_id 00051.wav\n"
     ]
    },
    {
     "name": "stderr",
     "output_type": "stream",
     "text": [
      "It is strongly recommended to pass the ``sampling_rate`` argument to this function. Failing to do so can result in silent errors that might be hard to debug.\n"
     ]
    },
    {
     "name": "stdout",
     "output_type": "stream",
     "text": [
      "i 659\n",
      "filename rock.00045.wav\n",
      "label rock\n",
      "track_id 00045.wav\n"
     ]
    },
    {
     "name": "stderr",
     "output_type": "stream",
     "text": [
      "It is strongly recommended to pass the ``sampling_rate`` argument to this function. Failing to do so can result in silent errors that might be hard to debug.\n"
     ]
    },
    {
     "name": "stdout",
     "output_type": "stream",
     "text": [
      "i 660\n",
      "filename rock.00092.wav\n",
      "label rock\n",
      "track_id 00092.wav\n"
     ]
    },
    {
     "name": "stderr",
     "output_type": "stream",
     "text": [
      "It is strongly recommended to pass the ``sampling_rate`` argument to this function. Failing to do so can result in silent errors that might be hard to debug.\n"
     ]
    },
    {
     "name": "stdout",
     "output_type": "stream",
     "text": [
      "i 661\n",
      "filename rock.00086.wav\n",
      "label rock\n",
      "track_id 00086.wav\n"
     ]
    },
    {
     "name": "stderr",
     "output_type": "stream",
     "text": [
      "It is strongly recommended to pass the ``sampling_rate`` argument to this function. Failing to do so can result in silent errors that might be hard to debug.\n"
     ]
    },
    {
     "name": "stdout",
     "output_type": "stream",
     "text": [
      "i 662\n",
      "filename rock.00082.wav\n",
      "label rock\n",
      "track_id 00082.wav\n"
     ]
    },
    {
     "name": "stderr",
     "output_type": "stream",
     "text": [
      "It is strongly recommended to pass the ``sampling_rate`` argument to this function. Failing to do so can result in silent errors that might be hard to debug.\n"
     ]
    },
    {
     "name": "stdout",
     "output_type": "stream",
     "text": [
      "i 663\n",
      "filename rock.00096.wav\n",
      "label rock\n",
      "track_id 00096.wav\n"
     ]
    },
    {
     "name": "stderr",
     "output_type": "stream",
     "text": [
      "It is strongly recommended to pass the ``sampling_rate`` argument to this function. Failing to do so can result in silent errors that might be hard to debug.\n"
     ]
    },
    {
     "name": "stdout",
     "output_type": "stream",
     "text": [
      "i 664\n",
      "filename rock.00069.wav\n",
      "label rock\n",
      "track_id 00069.wav\n"
     ]
    },
    {
     "name": "stderr",
     "output_type": "stream",
     "text": [
      "It is strongly recommended to pass the ``sampling_rate`` argument to this function. Failing to do so can result in silent errors that might be hard to debug.\n"
     ]
    },
    {
     "name": "stdout",
     "output_type": "stream",
     "text": [
      "i 665\n",
      "filename rock.00041.wav\n",
      "label rock\n",
      "track_id 00041.wav\n"
     ]
    },
    {
     "name": "stderr",
     "output_type": "stream",
     "text": [
      "It is strongly recommended to pass the ``sampling_rate`` argument to this function. Failing to do so can result in silent errors that might be hard to debug.\n"
     ]
    },
    {
     "name": "stdout",
     "output_type": "stream",
     "text": [
      "i 666\n",
      "filename rock.00055.wav\n",
      "label rock\n",
      "track_id 00055.wav\n"
     ]
    },
    {
     "name": "stderr",
     "output_type": "stream",
     "text": [
      "It is strongly recommended to pass the ``sampling_rate`` argument to this function. Failing to do so can result in silent errors that might be hard to debug.\n"
     ]
    },
    {
     "name": "stdout",
     "output_type": "stream",
     "text": [
      "i 667\n",
      "filename rock.00054.wav\n",
      "label rock\n",
      "track_id 00054.wav\n"
     ]
    },
    {
     "name": "stderr",
     "output_type": "stream",
     "text": [
      "It is strongly recommended to pass the ``sampling_rate`` argument to this function. Failing to do so can result in silent errors that might be hard to debug.\n"
     ]
    },
    {
     "name": "stdout",
     "output_type": "stream",
     "text": [
      "i 668\n",
      "filename rock.00040.wav\n",
      "label rock\n",
      "track_id 00040.wav\n"
     ]
    },
    {
     "name": "stderr",
     "output_type": "stream",
     "text": [
      "It is strongly recommended to pass the ``sampling_rate`` argument to this function. Failing to do so can result in silent errors that might be hard to debug.\n"
     ]
    },
    {
     "name": "stdout",
     "output_type": "stream",
     "text": [
      "i 669\n",
      "filename rock.00068.wav\n",
      "label rock\n",
      "track_id 00068.wav\n"
     ]
    },
    {
     "name": "stderr",
     "output_type": "stream",
     "text": [
      "It is strongly recommended to pass the ``sampling_rate`` argument to this function. Failing to do so can result in silent errors that might be hard to debug.\n"
     ]
    },
    {
     "name": "stdout",
     "output_type": "stream",
     "text": [
      "i 670\n",
      "filename rock.00097.wav\n",
      "label rock\n",
      "track_id 00097.wav\n"
     ]
    },
    {
     "name": "stderr",
     "output_type": "stream",
     "text": [
      "It is strongly recommended to pass the ``sampling_rate`` argument to this function. Failing to do so can result in silent errors that might be hard to debug.\n"
     ]
    },
    {
     "name": "stdout",
     "output_type": "stream",
     "text": [
      "i 671\n",
      "filename rock.00083.wav\n",
      "label rock\n",
      "track_id 00083.wav\n"
     ]
    },
    {
     "name": "stderr",
     "output_type": "stream",
     "text": [
      "It is strongly recommended to pass the ``sampling_rate`` argument to this function. Failing to do so can result in silent errors that might be hard to debug.\n"
     ]
    },
    {
     "name": "stdout",
     "output_type": "stream",
     "text": [
      "i 672\n",
      "filename rock.00095.wav\n",
      "label rock\n",
      "track_id 00095.wav\n"
     ]
    },
    {
     "name": "stderr",
     "output_type": "stream",
     "text": [
      "It is strongly recommended to pass the ``sampling_rate`` argument to this function. Failing to do so can result in silent errors that might be hard to debug.\n"
     ]
    },
    {
     "name": "stdout",
     "output_type": "stream",
     "text": [
      "i 673\n",
      "filename rock.00081.wav\n",
      "label rock\n",
      "track_id 00081.wav\n"
     ]
    },
    {
     "name": "stderr",
     "output_type": "stream",
     "text": [
      "It is strongly recommended to pass the ``sampling_rate`` argument to this function. Failing to do so can result in silent errors that might be hard to debug.\n"
     ]
    },
    {
     "name": "stdout",
     "output_type": "stream",
     "text": [
      "i 674\n",
      "filename rock.00056.wav\n",
      "label rock\n",
      "track_id 00056.wav\n"
     ]
    },
    {
     "name": "stderr",
     "output_type": "stream",
     "text": [
      "It is strongly recommended to pass the ``sampling_rate`` argument to this function. Failing to do so can result in silent errors that might be hard to debug.\n"
     ]
    },
    {
     "name": "stdout",
     "output_type": "stream",
     "text": [
      "i 675\n",
      "filename rock.00042.wav\n",
      "label rock\n",
      "track_id 00042.wav\n"
     ]
    },
    {
     "name": "stderr",
     "output_type": "stream",
     "text": [
      "It is strongly recommended to pass the ``sampling_rate`` argument to this function. Failing to do so can result in silent errors that might be hard to debug.\n"
     ]
    },
    {
     "name": "stdout",
     "output_type": "stream",
     "text": [
      "i 676\n",
      "filename rock.00043.wav\n",
      "label rock\n",
      "track_id 00043.wav\n"
     ]
    },
    {
     "name": "stderr",
     "output_type": "stream",
     "text": [
      "It is strongly recommended to pass the ``sampling_rate`` argument to this function. Failing to do so can result in silent errors that might be hard to debug.\n"
     ]
    },
    {
     "name": "stdout",
     "output_type": "stream",
     "text": [
      "i 677\n",
      "filename rock.00057.wav\n",
      "label rock\n",
      "track_id 00057.wav\n"
     ]
    },
    {
     "name": "stderr",
     "output_type": "stream",
     "text": [
      "It is strongly recommended to pass the ``sampling_rate`` argument to this function. Failing to do so can result in silent errors that might be hard to debug.\n"
     ]
    },
    {
     "name": "stdout",
     "output_type": "stream",
     "text": [
      "i 678\n",
      "filename rock.00080.wav\n",
      "label rock\n",
      "track_id 00080.wav\n"
     ]
    },
    {
     "name": "stderr",
     "output_type": "stream",
     "text": [
      "It is strongly recommended to pass the ``sampling_rate`` argument to this function. Failing to do so can result in silent errors that might be hard to debug.\n"
     ]
    },
    {
     "name": "stdout",
     "output_type": "stream",
     "text": [
      "i 679\n",
      "filename rock.00094.wav\n",
      "label rock\n",
      "track_id 00094.wav\n"
     ]
    },
    {
     "name": "stderr",
     "output_type": "stream",
     "text": [
      "It is strongly recommended to pass the ``sampling_rate`` argument to this function. Failing to do so can result in silent errors that might be hard to debug.\n"
     ]
    },
    {
     "name": "stdout",
     "output_type": "stream",
     "text": [
      "i 680\n",
      "filename rock.00030.wav\n",
      "label rock\n",
      "track_id 00030.wav\n"
     ]
    },
    {
     "name": "stderr",
     "output_type": "stream",
     "text": [
      "It is strongly recommended to pass the ``sampling_rate`` argument to this function. Failing to do so can result in silent errors that might be hard to debug.\n"
     ]
    },
    {
     "name": "stdout",
     "output_type": "stream",
     "text": [
      "i 681\n",
      "filename rock.00024.wav\n",
      "label rock\n",
      "track_id 00024.wav\n"
     ]
    },
    {
     "name": "stderr",
     "output_type": "stream",
     "text": [
      "It is strongly recommended to pass the ``sampling_rate`` argument to this function. Failing to do so can result in silent errors that might be hard to debug.\n"
     ]
    },
    {
     "name": "stdout",
     "output_type": "stream",
     "text": [
      "i 682\n",
      "filename rock.00018.wav\n",
      "label rock\n",
      "track_id 00018.wav\n"
     ]
    },
    {
     "name": "stderr",
     "output_type": "stream",
     "text": [
      "It is strongly recommended to pass the ``sampling_rate`` argument to this function. Failing to do so can result in silent errors that might be hard to debug.\n"
     ]
    },
    {
     "name": "stdout",
     "output_type": "stream",
     "text": [
      "i 683\n",
      "filename rock.00019.wav\n",
      "label rock\n",
      "track_id 00019.wav\n"
     ]
    },
    {
     "name": "stderr",
     "output_type": "stream",
     "text": [
      "It is strongly recommended to pass the ``sampling_rate`` argument to this function. Failing to do so can result in silent errors that might be hard to debug.\n"
     ]
    },
    {
     "name": "stdout",
     "output_type": "stream",
     "text": [
      "i 684\n",
      "filename rock.00025.wav\n",
      "label rock\n",
      "track_id 00025.wav\n"
     ]
    },
    {
     "name": "stderr",
     "output_type": "stream",
     "text": [
      "It is strongly recommended to pass the ``sampling_rate`` argument to this function. Failing to do so can result in silent errors that might be hard to debug.\n"
     ]
    },
    {
     "name": "stdout",
     "output_type": "stream",
     "text": [
      "i 685\n",
      "filename rock.00031.wav\n",
      "label rock\n",
      "track_id 00031.wav\n"
     ]
    },
    {
     "name": "stderr",
     "output_type": "stream",
     "text": [
      "It is strongly recommended to pass the ``sampling_rate`` argument to this function. Failing to do so can result in silent errors that might be hard to debug.\n"
     ]
    },
    {
     "name": "stdout",
     "output_type": "stream",
     "text": [
      "i 686\n",
      "filename rock.00027.wav\n",
      "label rock\n",
      "track_id 00027.wav\n"
     ]
    },
    {
     "name": "stderr",
     "output_type": "stream",
     "text": [
      "It is strongly recommended to pass the ``sampling_rate`` argument to this function. Failing to do so can result in silent errors that might be hard to debug.\n"
     ]
    },
    {
     "name": "stdout",
     "output_type": "stream",
     "text": [
      "i 687\n",
      "filename rock.00033.wav\n",
      "label rock\n",
      "track_id 00033.wav\n"
     ]
    },
    {
     "name": "stderr",
     "output_type": "stream",
     "text": [
      "It is strongly recommended to pass the ``sampling_rate`` argument to this function. Failing to do so can result in silent errors that might be hard to debug.\n"
     ]
    },
    {
     "name": "stdout",
     "output_type": "stream",
     "text": [
      "i 688\n",
      "filename rock.00032.wav\n",
      "label rock\n",
      "track_id 00032.wav\n"
     ]
    },
    {
     "name": "stderr",
     "output_type": "stream",
     "text": [
      "It is strongly recommended to pass the ``sampling_rate`` argument to this function. Failing to do so can result in silent errors that might be hard to debug.\n"
     ]
    },
    {
     "name": "stdout",
     "output_type": "stream",
     "text": [
      "i 689\n",
      "filename rock.00026.wav\n",
      "label rock\n",
      "track_id 00026.wav\n"
     ]
    },
    {
     "name": "stderr",
     "output_type": "stream",
     "text": [
      "It is strongly recommended to pass the ``sampling_rate`` argument to this function. Failing to do so can result in silent errors that might be hard to debug.\n"
     ]
    },
    {
     "name": "stdout",
     "output_type": "stream",
     "text": [
      "i 690\n",
      "filename rock.00022.wav\n",
      "label rock\n",
      "track_id 00022.wav\n"
     ]
    },
    {
     "name": "stderr",
     "output_type": "stream",
     "text": [
      "It is strongly recommended to pass the ``sampling_rate`` argument to this function. Failing to do so can result in silent errors that might be hard to debug.\n"
     ]
    },
    {
     "name": "stdout",
     "output_type": "stream",
     "text": [
      "i 691\n",
      "filename rock.00036.wav\n",
      "label rock\n",
      "track_id 00036.wav\n"
     ]
    },
    {
     "name": "stderr",
     "output_type": "stream",
     "text": [
      "It is strongly recommended to pass the ``sampling_rate`` argument to this function. Failing to do so can result in silent errors that might be hard to debug.\n"
     ]
    },
    {
     "name": "stdout",
     "output_type": "stream",
     "text": [
      "i 692\n",
      "filename rock.00037.wav\n",
      "label rock\n",
      "track_id 00037.wav\n"
     ]
    },
    {
     "name": "stderr",
     "output_type": "stream",
     "text": [
      "It is strongly recommended to pass the ``sampling_rate`` argument to this function. Failing to do so can result in silent errors that might be hard to debug.\n"
     ]
    },
    {
     "name": "stdout",
     "output_type": "stream",
     "text": [
      "i 693\n",
      "filename rock.00023.wav\n",
      "label rock\n",
      "track_id 00023.wav\n"
     ]
    },
    {
     "name": "stderr",
     "output_type": "stream",
     "text": [
      "It is strongly recommended to pass the ``sampling_rate`` argument to this function. Failing to do so can result in silent errors that might be hard to debug.\n"
     ]
    },
    {
     "name": "stdout",
     "output_type": "stream",
     "text": [
      "i 694\n",
      "filename rock.00009.wav\n",
      "label rock\n",
      "track_id 00009.wav\n"
     ]
    },
    {
     "name": "stderr",
     "output_type": "stream",
     "text": [
      "It is strongly recommended to pass the ``sampling_rate`` argument to this function. Failing to do so can result in silent errors that might be hard to debug.\n"
     ]
    },
    {
     "name": "stdout",
     "output_type": "stream",
     "text": [
      "i 695\n",
      "filename rock.00035.wav\n",
      "label rock\n",
      "track_id 00035.wav\n"
     ]
    },
    {
     "name": "stderr",
     "output_type": "stream",
     "text": [
      "It is strongly recommended to pass the ``sampling_rate`` argument to this function. Failing to do so can result in silent errors that might be hard to debug.\n"
     ]
    },
    {
     "name": "stdout",
     "output_type": "stream",
     "text": [
      "i 696\n",
      "filename rock.00021.wav\n",
      "label rock\n",
      "track_id 00021.wav\n"
     ]
    },
    {
     "name": "stderr",
     "output_type": "stream",
     "text": [
      "It is strongly recommended to pass the ``sampling_rate`` argument to this function. Failing to do so can result in silent errors that might be hard to debug.\n"
     ]
    },
    {
     "name": "stdout",
     "output_type": "stream",
     "text": [
      "i 697\n",
      "filename rock.00020.wav\n",
      "label rock\n",
      "track_id 00020.wav\n"
     ]
    },
    {
     "name": "stderr",
     "output_type": "stream",
     "text": [
      "It is strongly recommended to pass the ``sampling_rate`` argument to this function. Failing to do so can result in silent errors that might be hard to debug.\n"
     ]
    },
    {
     "name": "stdout",
     "output_type": "stream",
     "text": [
      "i 698\n",
      "filename rock.00034.wav\n",
      "label rock\n",
      "track_id 00034.wav\n"
     ]
    },
    {
     "name": "stderr",
     "output_type": "stream",
     "text": [
      "It is strongly recommended to pass the ``sampling_rate`` argument to this function. Failing to do so can result in silent errors that might be hard to debug.\n"
     ]
    },
    {
     "name": "stdout",
     "output_type": "stream",
     "text": [
      "i 699\n",
      "filename rock.00008.wav\n",
      "label rock\n",
      "track_id 00008.wav\n"
     ]
    },
    {
     "name": "stderr",
     "output_type": "stream",
     "text": [
      "8it [43:53, 359.01s/it]It is strongly recommended to pass the ``sampling_rate`` argument to this function. Failing to do so can result in silent errors that might be hard to debug.\n"
     ]
    },
    {
     "name": "stdout",
     "output_type": "stream",
     "text": [
      "i 700\n",
      "root ../audios/gtzan/hiphop\n",
      "dirs []\n",
      "files ['hiphop.00022.wav', 'hiphop.00036.wav', 'hiphop.00037.wav', 'hiphop.00023.wav', 'hiphop.00009.wav', 'hiphop.00035.wav', 'hiphop.00021.wav', 'hiphop.00020.wav', 'hiphop.00034.wav', 'hiphop.00008.wav', 'hiphop.00030.wav', 'hiphop.00024.wav', 'hiphop.00018.wav', 'hiphop.00019.wav', 'hiphop.00025.wav', 'hiphop.00031.wav', 'hiphop.00027.wav', 'hiphop.00033.wav', 'hiphop.00032.wav', 'hiphop.00026.wav', 'hiphop.00069.wav', 'hiphop.00041.wav', 'hiphop.00055.wav', 'hiphop.00082.wav', 'hiphop.00096.wav', 'hiphop.00097.wav', 'hiphop.00083.wav', 'hiphop.00054.wav', 'hiphop.00040.wav', 'hiphop.00068.wav', 'hiphop.00056.wav', 'hiphop.00042.wav', 'hiphop.00095.wav', 'hiphop.00081.wav', 'hiphop.00080.wav', 'hiphop.00094.wav', 'hiphop.00043.wav', 'hiphop.00057.wav', 'hiphop.00053.wav', 'hiphop.00047.wav', 'hiphop.00090.wav', 'hiphop.00084.wav', 'hiphop.00085.wav', 'hiphop.00091.wav', 'hiphop.00046.wav', 'hiphop.00052.wav', 'hiphop.00044.wav', 'hiphop.00050.wav', 'hiphop.00078.wav', 'hiphop.00087.wav', 'hiphop.00093.wav', 'hiphop.00092.wav', 'hiphop.00086.wav', 'hiphop.00079.wav', 'hiphop.00051.wav', 'hiphop.00045.wav', 'hiphop.00048.wav', 'hiphop.00060.wav', 'hiphop.00074.wav', 'hiphop.00075.wav', 'hiphop.00061.wav', 'hiphop.00049.wav', 'hiphop.00077.wav', 'hiphop.00063.wav', 'hiphop.00088.wav', 'hiphop.00089.wav', 'hiphop.00062.wav', 'hiphop.00076.wav', 'hiphop.00072.wav', 'hiphop.00066.wav', 'hiphop.00099.wav', 'hiphop.00098.wav', 'hiphop.00067.wav', 'hiphop.00073.wav', 'hiphop.00065.wav', 'hiphop.00071.wav', 'hiphop.00059.wav', 'hiphop.00058.wav', 'hiphop.00070.wav', 'hiphop.00064.wav', 'hiphop.00003.wav', 'hiphop.00017.wav', 'hiphop.00016.wav', 'hiphop.00002.wav', 'hiphop.00028.wav', 'hiphop.00014.wav', 'hiphop.00000.wav', 'hiphop.00001.wav', 'hiphop.00015.wav', 'hiphop.00029.wav', 'hiphop.00011.wav', 'hiphop.00005.wav', 'hiphop.00039.wav', 'hiphop.00038.wav', 'hiphop.00004.wav', 'hiphop.00010.wav', 'hiphop.00006.wav', 'hiphop.00012.wav', 'hiphop.00013.wav', 'hiphop.00007.wav']\n",
      "filename hiphop.00022.wav\n",
      "label hiphop\n",
      "track_id 00022.wav\n"
     ]
    },
    {
     "name": "stderr",
     "output_type": "stream",
     "text": [
      "It is strongly recommended to pass the ``sampling_rate`` argument to this function. Failing to do so can result in silent errors that might be hard to debug.\n"
     ]
    },
    {
     "name": "stdout",
     "output_type": "stream",
     "text": [
      "i 701\n",
      "filename hiphop.00036.wav\n",
      "label hiphop\n",
      "track_id 00036.wav\n"
     ]
    },
    {
     "name": "stderr",
     "output_type": "stream",
     "text": [
      "It is strongly recommended to pass the ``sampling_rate`` argument to this function. Failing to do so can result in silent errors that might be hard to debug.\n"
     ]
    },
    {
     "name": "stdout",
     "output_type": "stream",
     "text": [
      "i 702\n",
      "filename hiphop.00037.wav\n",
      "label hiphop\n",
      "track_id 00037.wav\n"
     ]
    },
    {
     "name": "stderr",
     "output_type": "stream",
     "text": [
      "It is strongly recommended to pass the ``sampling_rate`` argument to this function. Failing to do so can result in silent errors that might be hard to debug.\n"
     ]
    },
    {
     "name": "stdout",
     "output_type": "stream",
     "text": [
      "i 703\n",
      "filename hiphop.00023.wav\n",
      "label hiphop\n",
      "track_id 00023.wav\n"
     ]
    },
    {
     "name": "stderr",
     "output_type": "stream",
     "text": [
      "It is strongly recommended to pass the ``sampling_rate`` argument to this function. Failing to do so can result in silent errors that might be hard to debug.\n"
     ]
    },
    {
     "name": "stdout",
     "output_type": "stream",
     "text": [
      "i 704\n",
      "filename hiphop.00009.wav\n",
      "label hiphop\n",
      "track_id 00009.wav\n"
     ]
    },
    {
     "name": "stderr",
     "output_type": "stream",
     "text": [
      "It is strongly recommended to pass the ``sampling_rate`` argument to this function. Failing to do so can result in silent errors that might be hard to debug.\n"
     ]
    },
    {
     "name": "stdout",
     "output_type": "stream",
     "text": [
      "i 705\n",
      "filename hiphop.00035.wav\n",
      "label hiphop\n",
      "track_id 00035.wav\n"
     ]
    },
    {
     "name": "stderr",
     "output_type": "stream",
     "text": [
      "It is strongly recommended to pass the ``sampling_rate`` argument to this function. Failing to do so can result in silent errors that might be hard to debug.\n"
     ]
    },
    {
     "name": "stdout",
     "output_type": "stream",
     "text": [
      "i 706\n",
      "filename hiphop.00021.wav\n",
      "label hiphop\n",
      "track_id 00021.wav\n"
     ]
    },
    {
     "name": "stderr",
     "output_type": "stream",
     "text": [
      "It is strongly recommended to pass the ``sampling_rate`` argument to this function. Failing to do so can result in silent errors that might be hard to debug.\n"
     ]
    },
    {
     "name": "stdout",
     "output_type": "stream",
     "text": [
      "i 707\n",
      "filename hiphop.00020.wav\n",
      "label hiphop\n",
      "track_id 00020.wav\n"
     ]
    },
    {
     "name": "stderr",
     "output_type": "stream",
     "text": [
      "It is strongly recommended to pass the ``sampling_rate`` argument to this function. Failing to do so can result in silent errors that might be hard to debug.\n"
     ]
    },
    {
     "name": "stdout",
     "output_type": "stream",
     "text": [
      "i 708\n",
      "filename hiphop.00034.wav\n",
      "label hiphop\n",
      "track_id 00034.wav\n"
     ]
    },
    {
     "name": "stderr",
     "output_type": "stream",
     "text": [
      "It is strongly recommended to pass the ``sampling_rate`` argument to this function. Failing to do so can result in silent errors that might be hard to debug.\n"
     ]
    },
    {
     "name": "stdout",
     "output_type": "stream",
     "text": [
      "i 709\n",
      "filename hiphop.00008.wav\n",
      "label hiphop\n",
      "track_id 00008.wav\n"
     ]
    },
    {
     "name": "stderr",
     "output_type": "stream",
     "text": [
      "It is strongly recommended to pass the ``sampling_rate`` argument to this function. Failing to do so can result in silent errors that might be hard to debug.\n"
     ]
    },
    {
     "name": "stdout",
     "output_type": "stream",
     "text": [
      "i 710\n",
      "filename hiphop.00030.wav\n",
      "label hiphop\n",
      "track_id 00030.wav\n"
     ]
    },
    {
     "name": "stderr",
     "output_type": "stream",
     "text": [
      "It is strongly recommended to pass the ``sampling_rate`` argument to this function. Failing to do so can result in silent errors that might be hard to debug.\n"
     ]
    },
    {
     "name": "stdout",
     "output_type": "stream",
     "text": [
      "i 711\n",
      "filename hiphop.00024.wav\n",
      "label hiphop\n",
      "track_id 00024.wav\n"
     ]
    },
    {
     "name": "stderr",
     "output_type": "stream",
     "text": [
      "It is strongly recommended to pass the ``sampling_rate`` argument to this function. Failing to do so can result in silent errors that might be hard to debug.\n"
     ]
    },
    {
     "name": "stdout",
     "output_type": "stream",
     "text": [
      "i 712\n",
      "filename hiphop.00018.wav\n",
      "label hiphop\n",
      "track_id 00018.wav\n"
     ]
    },
    {
     "name": "stderr",
     "output_type": "stream",
     "text": [
      "It is strongly recommended to pass the ``sampling_rate`` argument to this function. Failing to do so can result in silent errors that might be hard to debug.\n"
     ]
    },
    {
     "name": "stdout",
     "output_type": "stream",
     "text": [
      "i 713\n",
      "filename hiphop.00019.wav\n",
      "label hiphop\n",
      "track_id 00019.wav\n"
     ]
    },
    {
     "name": "stderr",
     "output_type": "stream",
     "text": [
      "It is strongly recommended to pass the ``sampling_rate`` argument to this function. Failing to do so can result in silent errors that might be hard to debug.\n"
     ]
    },
    {
     "name": "stdout",
     "output_type": "stream",
     "text": [
      "i 714\n",
      "filename hiphop.00025.wav\n",
      "label hiphop\n",
      "track_id 00025.wav\n"
     ]
    },
    {
     "name": "stderr",
     "output_type": "stream",
     "text": [
      "It is strongly recommended to pass the ``sampling_rate`` argument to this function. Failing to do so can result in silent errors that might be hard to debug.\n"
     ]
    },
    {
     "name": "stdout",
     "output_type": "stream",
     "text": [
      "i 715\n",
      "filename hiphop.00031.wav\n",
      "label hiphop\n",
      "track_id 00031.wav\n"
     ]
    },
    {
     "name": "stderr",
     "output_type": "stream",
     "text": [
      "It is strongly recommended to pass the ``sampling_rate`` argument to this function. Failing to do so can result in silent errors that might be hard to debug.\n"
     ]
    },
    {
     "name": "stdout",
     "output_type": "stream",
     "text": [
      "i 716\n",
      "filename hiphop.00027.wav\n",
      "label hiphop\n",
      "track_id 00027.wav\n"
     ]
    },
    {
     "name": "stderr",
     "output_type": "stream",
     "text": [
      "It is strongly recommended to pass the ``sampling_rate`` argument to this function. Failing to do so can result in silent errors that might be hard to debug.\n"
     ]
    },
    {
     "name": "stdout",
     "output_type": "stream",
     "text": [
      "i 717\n",
      "filename hiphop.00033.wav\n",
      "label hiphop\n",
      "track_id 00033.wav\n"
     ]
    },
    {
     "name": "stderr",
     "output_type": "stream",
     "text": [
      "It is strongly recommended to pass the ``sampling_rate`` argument to this function. Failing to do so can result in silent errors that might be hard to debug.\n"
     ]
    },
    {
     "name": "stdout",
     "output_type": "stream",
     "text": [
      "i 718\n",
      "filename hiphop.00032.wav\n",
      "label hiphop\n",
      "track_id 00032.wav\n"
     ]
    },
    {
     "name": "stderr",
     "output_type": "stream",
     "text": [
      "It is strongly recommended to pass the ``sampling_rate`` argument to this function. Failing to do so can result in silent errors that might be hard to debug.\n"
     ]
    },
    {
     "name": "stdout",
     "output_type": "stream",
     "text": [
      "i 719\n",
      "filename hiphop.00026.wav\n",
      "label hiphop\n",
      "track_id 00026.wav\n"
     ]
    },
    {
     "name": "stderr",
     "output_type": "stream",
     "text": [
      "It is strongly recommended to pass the ``sampling_rate`` argument to this function. Failing to do so can result in silent errors that might be hard to debug.\n"
     ]
    },
    {
     "name": "stdout",
     "output_type": "stream",
     "text": [
      "i 720\n",
      "filename hiphop.00069.wav\n",
      "label hiphop\n",
      "track_id 00069.wav\n"
     ]
    },
    {
     "name": "stderr",
     "output_type": "stream",
     "text": [
      "It is strongly recommended to pass the ``sampling_rate`` argument to this function. Failing to do so can result in silent errors that might be hard to debug.\n"
     ]
    },
    {
     "name": "stdout",
     "output_type": "stream",
     "text": [
      "i 721\n",
      "filename hiphop.00041.wav\n",
      "label hiphop\n",
      "track_id 00041.wav\n"
     ]
    },
    {
     "name": "stderr",
     "output_type": "stream",
     "text": [
      "It is strongly recommended to pass the ``sampling_rate`` argument to this function. Failing to do so can result in silent errors that might be hard to debug.\n"
     ]
    },
    {
     "name": "stdout",
     "output_type": "stream",
     "text": [
      "i 722\n",
      "filename hiphop.00055.wav\n",
      "label hiphop\n",
      "track_id 00055.wav\n"
     ]
    },
    {
     "name": "stderr",
     "output_type": "stream",
     "text": [
      "It is strongly recommended to pass the ``sampling_rate`` argument to this function. Failing to do so can result in silent errors that might be hard to debug.\n"
     ]
    },
    {
     "name": "stdout",
     "output_type": "stream",
     "text": [
      "i 723\n",
      "filename hiphop.00082.wav\n",
      "label hiphop\n",
      "track_id 00082.wav\n"
     ]
    },
    {
     "name": "stderr",
     "output_type": "stream",
     "text": [
      "It is strongly recommended to pass the ``sampling_rate`` argument to this function. Failing to do so can result in silent errors that might be hard to debug.\n"
     ]
    },
    {
     "name": "stdout",
     "output_type": "stream",
     "text": [
      "i 724\n",
      "filename hiphop.00096.wav\n",
      "label hiphop\n",
      "track_id 00096.wav\n"
     ]
    },
    {
     "name": "stderr",
     "output_type": "stream",
     "text": [
      "It is strongly recommended to pass the ``sampling_rate`` argument to this function. Failing to do so can result in silent errors that might be hard to debug.\n"
     ]
    },
    {
     "name": "stdout",
     "output_type": "stream",
     "text": [
      "i 725\n",
      "filename hiphop.00097.wav\n",
      "label hiphop\n",
      "track_id 00097.wav\n"
     ]
    },
    {
     "name": "stderr",
     "output_type": "stream",
     "text": [
      "It is strongly recommended to pass the ``sampling_rate`` argument to this function. Failing to do so can result in silent errors that might be hard to debug.\n"
     ]
    },
    {
     "name": "stdout",
     "output_type": "stream",
     "text": [
      "i 726\n",
      "filename hiphop.00083.wav\n",
      "label hiphop\n",
      "track_id 00083.wav\n"
     ]
    },
    {
     "name": "stderr",
     "output_type": "stream",
     "text": [
      "It is strongly recommended to pass the ``sampling_rate`` argument to this function. Failing to do so can result in silent errors that might be hard to debug.\n"
     ]
    },
    {
     "name": "stdout",
     "output_type": "stream",
     "text": [
      "i 727\n",
      "filename hiphop.00054.wav\n",
      "label hiphop\n",
      "track_id 00054.wav\n"
     ]
    },
    {
     "name": "stderr",
     "output_type": "stream",
     "text": [
      "It is strongly recommended to pass the ``sampling_rate`` argument to this function. Failing to do so can result in silent errors that might be hard to debug.\n"
     ]
    },
    {
     "name": "stdout",
     "output_type": "stream",
     "text": [
      "i 728\n",
      "filename hiphop.00040.wav\n",
      "label hiphop\n",
      "track_id 00040.wav\n"
     ]
    },
    {
     "name": "stderr",
     "output_type": "stream",
     "text": [
      "It is strongly recommended to pass the ``sampling_rate`` argument to this function. Failing to do so can result in silent errors that might be hard to debug.\n"
     ]
    },
    {
     "name": "stdout",
     "output_type": "stream",
     "text": [
      "i 729\n",
      "filename hiphop.00068.wav\n",
      "label hiphop\n",
      "track_id 00068.wav\n"
     ]
    },
    {
     "name": "stderr",
     "output_type": "stream",
     "text": [
      "It is strongly recommended to pass the ``sampling_rate`` argument to this function. Failing to do so can result in silent errors that might be hard to debug.\n"
     ]
    },
    {
     "name": "stdout",
     "output_type": "stream",
     "text": [
      "i 730\n",
      "filename hiphop.00056.wav\n",
      "label hiphop\n",
      "track_id 00056.wav\n"
     ]
    },
    {
     "name": "stderr",
     "output_type": "stream",
     "text": [
      "It is strongly recommended to pass the ``sampling_rate`` argument to this function. Failing to do so can result in silent errors that might be hard to debug.\n"
     ]
    },
    {
     "name": "stdout",
     "output_type": "stream",
     "text": [
      "i 731\n",
      "filename hiphop.00042.wav\n",
      "label hiphop\n",
      "track_id 00042.wav\n"
     ]
    },
    {
     "name": "stderr",
     "output_type": "stream",
     "text": [
      "It is strongly recommended to pass the ``sampling_rate`` argument to this function. Failing to do so can result in silent errors that might be hard to debug.\n"
     ]
    },
    {
     "name": "stdout",
     "output_type": "stream",
     "text": [
      "i 732\n",
      "filename hiphop.00095.wav\n",
      "label hiphop\n",
      "track_id 00095.wav\n"
     ]
    },
    {
     "name": "stderr",
     "output_type": "stream",
     "text": [
      "It is strongly recommended to pass the ``sampling_rate`` argument to this function. Failing to do so can result in silent errors that might be hard to debug.\n"
     ]
    },
    {
     "name": "stdout",
     "output_type": "stream",
     "text": [
      "i 733\n",
      "filename hiphop.00081.wav\n",
      "label hiphop\n",
      "track_id 00081.wav\n"
     ]
    },
    {
     "name": "stderr",
     "output_type": "stream",
     "text": [
      "It is strongly recommended to pass the ``sampling_rate`` argument to this function. Failing to do so can result in silent errors that might be hard to debug.\n"
     ]
    },
    {
     "name": "stdout",
     "output_type": "stream",
     "text": [
      "i 734\n",
      "filename hiphop.00080.wav\n",
      "label hiphop\n",
      "track_id 00080.wav\n"
     ]
    },
    {
     "name": "stderr",
     "output_type": "stream",
     "text": [
      "It is strongly recommended to pass the ``sampling_rate`` argument to this function. Failing to do so can result in silent errors that might be hard to debug.\n"
     ]
    },
    {
     "name": "stdout",
     "output_type": "stream",
     "text": [
      "i 735\n",
      "filename hiphop.00094.wav\n",
      "label hiphop\n",
      "track_id 00094.wav\n"
     ]
    },
    {
     "name": "stderr",
     "output_type": "stream",
     "text": [
      "It is strongly recommended to pass the ``sampling_rate`` argument to this function. Failing to do so can result in silent errors that might be hard to debug.\n"
     ]
    },
    {
     "name": "stdout",
     "output_type": "stream",
     "text": [
      "i 736\n",
      "filename hiphop.00043.wav\n",
      "label hiphop\n",
      "track_id 00043.wav\n"
     ]
    },
    {
     "name": "stderr",
     "output_type": "stream",
     "text": [
      "It is strongly recommended to pass the ``sampling_rate`` argument to this function. Failing to do so can result in silent errors that might be hard to debug.\n"
     ]
    },
    {
     "name": "stdout",
     "output_type": "stream",
     "text": [
      "i 737\n",
      "filename hiphop.00057.wav\n",
      "label hiphop\n",
      "track_id 00057.wav\n"
     ]
    },
    {
     "name": "stderr",
     "output_type": "stream",
     "text": [
      "It is strongly recommended to pass the ``sampling_rate`` argument to this function. Failing to do so can result in silent errors that might be hard to debug.\n"
     ]
    },
    {
     "name": "stdout",
     "output_type": "stream",
     "text": [
      "i 738\n",
      "filename hiphop.00053.wav\n",
      "label hiphop\n",
      "track_id 00053.wav\n"
     ]
    },
    {
     "name": "stderr",
     "output_type": "stream",
     "text": [
      "It is strongly recommended to pass the ``sampling_rate`` argument to this function. Failing to do so can result in silent errors that might be hard to debug.\n"
     ]
    },
    {
     "name": "stdout",
     "output_type": "stream",
     "text": [
      "i 739\n",
      "filename hiphop.00047.wav\n",
      "label hiphop\n",
      "track_id 00047.wav\n"
     ]
    },
    {
     "name": "stderr",
     "output_type": "stream",
     "text": [
      "It is strongly recommended to pass the ``sampling_rate`` argument to this function. Failing to do so can result in silent errors that might be hard to debug.\n"
     ]
    },
    {
     "name": "stdout",
     "output_type": "stream",
     "text": [
      "i 740\n",
      "filename hiphop.00090.wav\n",
      "label hiphop\n",
      "track_id 00090.wav\n"
     ]
    },
    {
     "name": "stderr",
     "output_type": "stream",
     "text": [
      "It is strongly recommended to pass the ``sampling_rate`` argument to this function. Failing to do so can result in silent errors that might be hard to debug.\n"
     ]
    },
    {
     "name": "stdout",
     "output_type": "stream",
     "text": [
      "i 741\n",
      "filename hiphop.00084.wav\n",
      "label hiphop\n",
      "track_id 00084.wav\n"
     ]
    },
    {
     "name": "stderr",
     "output_type": "stream",
     "text": [
      "It is strongly recommended to pass the ``sampling_rate`` argument to this function. Failing to do so can result in silent errors that might be hard to debug.\n"
     ]
    },
    {
     "name": "stdout",
     "output_type": "stream",
     "text": [
      "i 742\n",
      "filename hiphop.00085.wav\n",
      "label hiphop\n",
      "track_id 00085.wav\n"
     ]
    },
    {
     "name": "stderr",
     "output_type": "stream",
     "text": [
      "It is strongly recommended to pass the ``sampling_rate`` argument to this function. Failing to do so can result in silent errors that might be hard to debug.\n"
     ]
    },
    {
     "name": "stdout",
     "output_type": "stream",
     "text": [
      "i 743\n",
      "filename hiphop.00091.wav\n",
      "label hiphop\n",
      "track_id 00091.wav\n"
     ]
    },
    {
     "name": "stderr",
     "output_type": "stream",
     "text": [
      "It is strongly recommended to pass the ``sampling_rate`` argument to this function. Failing to do so can result in silent errors that might be hard to debug.\n"
     ]
    },
    {
     "name": "stdout",
     "output_type": "stream",
     "text": [
      "i 744\n",
      "filename hiphop.00046.wav\n",
      "label hiphop\n",
      "track_id 00046.wav\n"
     ]
    },
    {
     "name": "stderr",
     "output_type": "stream",
     "text": [
      "It is strongly recommended to pass the ``sampling_rate`` argument to this function. Failing to do so can result in silent errors that might be hard to debug.\n"
     ]
    },
    {
     "name": "stdout",
     "output_type": "stream",
     "text": [
      "i 745\n",
      "filename hiphop.00052.wav\n",
      "label hiphop\n",
      "track_id 00052.wav\n"
     ]
    },
    {
     "name": "stderr",
     "output_type": "stream",
     "text": [
      "It is strongly recommended to pass the ``sampling_rate`` argument to this function. Failing to do so can result in silent errors that might be hard to debug.\n"
     ]
    },
    {
     "name": "stdout",
     "output_type": "stream",
     "text": [
      "i 746\n",
      "filename hiphop.00044.wav\n",
      "label hiphop\n",
      "track_id 00044.wav\n"
     ]
    },
    {
     "name": "stderr",
     "output_type": "stream",
     "text": [
      "It is strongly recommended to pass the ``sampling_rate`` argument to this function. Failing to do so can result in silent errors that might be hard to debug.\n"
     ]
    },
    {
     "name": "stdout",
     "output_type": "stream",
     "text": [
      "i 747\n",
      "filename hiphop.00050.wav\n",
      "label hiphop\n",
      "track_id 00050.wav\n"
     ]
    },
    {
     "name": "stderr",
     "output_type": "stream",
     "text": [
      "It is strongly recommended to pass the ``sampling_rate`` argument to this function. Failing to do so can result in silent errors that might be hard to debug.\n"
     ]
    },
    {
     "name": "stdout",
     "output_type": "stream",
     "text": [
      "i 748\n",
      "filename hiphop.00078.wav\n",
      "label hiphop\n",
      "track_id 00078.wav\n"
     ]
    },
    {
     "name": "stderr",
     "output_type": "stream",
     "text": [
      "It is strongly recommended to pass the ``sampling_rate`` argument to this function. Failing to do so can result in silent errors that might be hard to debug.\n"
     ]
    },
    {
     "name": "stdout",
     "output_type": "stream",
     "text": [
      "i 749\n",
      "filename hiphop.00087.wav\n",
      "label hiphop\n",
      "track_id 00087.wav\n"
     ]
    },
    {
     "name": "stderr",
     "output_type": "stream",
     "text": [
      "It is strongly recommended to pass the ``sampling_rate`` argument to this function. Failing to do so can result in silent errors that might be hard to debug.\n"
     ]
    },
    {
     "name": "stdout",
     "output_type": "stream",
     "text": [
      "i 750\n",
      "filename hiphop.00093.wav\n",
      "label hiphop\n",
      "track_id 00093.wav\n"
     ]
    },
    {
     "name": "stderr",
     "output_type": "stream",
     "text": [
      "It is strongly recommended to pass the ``sampling_rate`` argument to this function. Failing to do so can result in silent errors that might be hard to debug.\n"
     ]
    },
    {
     "name": "stdout",
     "output_type": "stream",
     "text": [
      "i 751\n",
      "filename hiphop.00092.wav\n",
      "label hiphop\n",
      "track_id 00092.wav\n"
     ]
    },
    {
     "name": "stderr",
     "output_type": "stream",
     "text": [
      "It is strongly recommended to pass the ``sampling_rate`` argument to this function. Failing to do so can result in silent errors that might be hard to debug.\n"
     ]
    },
    {
     "name": "stdout",
     "output_type": "stream",
     "text": [
      "i 752\n",
      "filename hiphop.00086.wav\n",
      "label hiphop\n",
      "track_id 00086.wav\n"
     ]
    },
    {
     "name": "stderr",
     "output_type": "stream",
     "text": [
      "It is strongly recommended to pass the ``sampling_rate`` argument to this function. Failing to do so can result in silent errors that might be hard to debug.\n"
     ]
    },
    {
     "name": "stdout",
     "output_type": "stream",
     "text": [
      "i 753\n",
      "filename hiphop.00079.wav\n",
      "label hiphop\n",
      "track_id 00079.wav\n"
     ]
    },
    {
     "name": "stderr",
     "output_type": "stream",
     "text": [
      "It is strongly recommended to pass the ``sampling_rate`` argument to this function. Failing to do so can result in silent errors that might be hard to debug.\n"
     ]
    },
    {
     "name": "stdout",
     "output_type": "stream",
     "text": [
      "i 754\n",
      "filename hiphop.00051.wav\n",
      "label hiphop\n",
      "track_id 00051.wav\n"
     ]
    },
    {
     "name": "stderr",
     "output_type": "stream",
     "text": [
      "It is strongly recommended to pass the ``sampling_rate`` argument to this function. Failing to do so can result in silent errors that might be hard to debug.\n"
     ]
    },
    {
     "name": "stdout",
     "output_type": "stream",
     "text": [
      "i 755\n",
      "filename hiphop.00045.wav\n",
      "label hiphop\n",
      "track_id 00045.wav\n"
     ]
    },
    {
     "name": "stderr",
     "output_type": "stream",
     "text": [
      "It is strongly recommended to pass the ``sampling_rate`` argument to this function. Failing to do so can result in silent errors that might be hard to debug.\n"
     ]
    },
    {
     "name": "stdout",
     "output_type": "stream",
     "text": [
      "i 756\n",
      "filename hiphop.00048.wav\n",
      "label hiphop\n",
      "track_id 00048.wav\n"
     ]
    },
    {
     "name": "stderr",
     "output_type": "stream",
     "text": [
      "It is strongly recommended to pass the ``sampling_rate`` argument to this function. Failing to do so can result in silent errors that might be hard to debug.\n"
     ]
    },
    {
     "name": "stdout",
     "output_type": "stream",
     "text": [
      "i 757\n",
      "filename hiphop.00060.wav\n",
      "label hiphop\n",
      "track_id 00060.wav\n"
     ]
    },
    {
     "name": "stderr",
     "output_type": "stream",
     "text": [
      "It is strongly recommended to pass the ``sampling_rate`` argument to this function. Failing to do so can result in silent errors that might be hard to debug.\n"
     ]
    },
    {
     "name": "stdout",
     "output_type": "stream",
     "text": [
      "i 758\n",
      "filename hiphop.00074.wav\n",
      "label hiphop\n",
      "track_id 00074.wav\n"
     ]
    },
    {
     "name": "stderr",
     "output_type": "stream",
     "text": [
      "It is strongly recommended to pass the ``sampling_rate`` argument to this function. Failing to do so can result in silent errors that might be hard to debug.\n"
     ]
    },
    {
     "name": "stdout",
     "output_type": "stream",
     "text": [
      "i 759\n",
      "filename hiphop.00075.wav\n",
      "label hiphop\n",
      "track_id 00075.wav\n"
     ]
    },
    {
     "name": "stderr",
     "output_type": "stream",
     "text": [
      "It is strongly recommended to pass the ``sampling_rate`` argument to this function. Failing to do so can result in silent errors that might be hard to debug.\n"
     ]
    },
    {
     "name": "stdout",
     "output_type": "stream",
     "text": [
      "i 760\n",
      "filename hiphop.00061.wav\n",
      "label hiphop\n",
      "track_id 00061.wav\n"
     ]
    },
    {
     "name": "stderr",
     "output_type": "stream",
     "text": [
      "It is strongly recommended to pass the ``sampling_rate`` argument to this function. Failing to do so can result in silent errors that might be hard to debug.\n"
     ]
    },
    {
     "name": "stdout",
     "output_type": "stream",
     "text": [
      "i 761\n",
      "filename hiphop.00049.wav\n",
      "label hiphop\n",
      "track_id 00049.wav\n"
     ]
    },
    {
     "name": "stderr",
     "output_type": "stream",
     "text": [
      "It is strongly recommended to pass the ``sampling_rate`` argument to this function. Failing to do so can result in silent errors that might be hard to debug.\n"
     ]
    },
    {
     "name": "stdout",
     "output_type": "stream",
     "text": [
      "i 762\n",
      "filename hiphop.00077.wav\n",
      "label hiphop\n",
      "track_id 00077.wav\n"
     ]
    },
    {
     "name": "stderr",
     "output_type": "stream",
     "text": [
      "It is strongly recommended to pass the ``sampling_rate`` argument to this function. Failing to do so can result in silent errors that might be hard to debug.\n"
     ]
    },
    {
     "name": "stdout",
     "output_type": "stream",
     "text": [
      "i 763\n",
      "filename hiphop.00063.wav\n",
      "label hiphop\n",
      "track_id 00063.wav\n"
     ]
    },
    {
     "name": "stderr",
     "output_type": "stream",
     "text": [
      "It is strongly recommended to pass the ``sampling_rate`` argument to this function. Failing to do so can result in silent errors that might be hard to debug.\n"
     ]
    },
    {
     "name": "stdout",
     "output_type": "stream",
     "text": [
      "i 764\n",
      "filename hiphop.00088.wav\n",
      "label hiphop\n",
      "track_id 00088.wav\n"
     ]
    },
    {
     "name": "stderr",
     "output_type": "stream",
     "text": [
      "It is strongly recommended to pass the ``sampling_rate`` argument to this function. Failing to do so can result in silent errors that might be hard to debug.\n"
     ]
    },
    {
     "name": "stdout",
     "output_type": "stream",
     "text": [
      "i 765\n",
      "filename hiphop.00089.wav\n",
      "label hiphop\n",
      "track_id 00089.wav\n"
     ]
    },
    {
     "name": "stderr",
     "output_type": "stream",
     "text": [
      "It is strongly recommended to pass the ``sampling_rate`` argument to this function. Failing to do so can result in silent errors that might be hard to debug.\n"
     ]
    },
    {
     "name": "stdout",
     "output_type": "stream",
     "text": [
      "i 766\n",
      "filename hiphop.00062.wav\n",
      "label hiphop\n",
      "track_id 00062.wav\n"
     ]
    },
    {
     "name": "stderr",
     "output_type": "stream",
     "text": [
      "It is strongly recommended to pass the ``sampling_rate`` argument to this function. Failing to do so can result in silent errors that might be hard to debug.\n"
     ]
    },
    {
     "name": "stdout",
     "output_type": "stream",
     "text": [
      "i 767\n",
      "filename hiphop.00076.wav\n",
      "label hiphop\n",
      "track_id 00076.wav\n"
     ]
    },
    {
     "name": "stderr",
     "output_type": "stream",
     "text": [
      "It is strongly recommended to pass the ``sampling_rate`` argument to this function. Failing to do so can result in silent errors that might be hard to debug.\n"
     ]
    },
    {
     "name": "stdout",
     "output_type": "stream",
     "text": [
      "i 768\n",
      "filename hiphop.00072.wav\n",
      "label hiphop\n",
      "track_id 00072.wav\n"
     ]
    },
    {
     "name": "stderr",
     "output_type": "stream",
     "text": [
      "It is strongly recommended to pass the ``sampling_rate`` argument to this function. Failing to do so can result in silent errors that might be hard to debug.\n"
     ]
    },
    {
     "name": "stdout",
     "output_type": "stream",
     "text": [
      "i 769\n",
      "filename hiphop.00066.wav\n",
      "label hiphop\n",
      "track_id 00066.wav\n"
     ]
    },
    {
     "name": "stderr",
     "output_type": "stream",
     "text": [
      "It is strongly recommended to pass the ``sampling_rate`` argument to this function. Failing to do so can result in silent errors that might be hard to debug.\n"
     ]
    },
    {
     "name": "stdout",
     "output_type": "stream",
     "text": [
      "i 770\n",
      "filename hiphop.00099.wav\n",
      "label hiphop\n",
      "track_id 00099.wav\n"
     ]
    },
    {
     "name": "stderr",
     "output_type": "stream",
     "text": [
      "It is strongly recommended to pass the ``sampling_rate`` argument to this function. Failing to do so can result in silent errors that might be hard to debug.\n"
     ]
    },
    {
     "name": "stdout",
     "output_type": "stream",
     "text": [
      "i 771\n",
      "filename hiphop.00098.wav\n",
      "label hiphop\n",
      "track_id 00098.wav\n"
     ]
    },
    {
     "name": "stderr",
     "output_type": "stream",
     "text": [
      "It is strongly recommended to pass the ``sampling_rate`` argument to this function. Failing to do so can result in silent errors that might be hard to debug.\n"
     ]
    },
    {
     "name": "stdout",
     "output_type": "stream",
     "text": [
      "i 772\n",
      "filename hiphop.00067.wav\n",
      "label hiphop\n",
      "track_id 00067.wav\n"
     ]
    },
    {
     "name": "stderr",
     "output_type": "stream",
     "text": [
      "It is strongly recommended to pass the ``sampling_rate`` argument to this function. Failing to do so can result in silent errors that might be hard to debug.\n"
     ]
    },
    {
     "name": "stdout",
     "output_type": "stream",
     "text": [
      "i 773\n",
      "filename hiphop.00073.wav\n",
      "label hiphop\n",
      "track_id 00073.wav\n"
     ]
    },
    {
     "name": "stderr",
     "output_type": "stream",
     "text": [
      "It is strongly recommended to pass the ``sampling_rate`` argument to this function. Failing to do so can result in silent errors that might be hard to debug.\n"
     ]
    },
    {
     "name": "stdout",
     "output_type": "stream",
     "text": [
      "i 774\n",
      "filename hiphop.00065.wav\n",
      "label hiphop\n",
      "track_id 00065.wav\n"
     ]
    },
    {
     "name": "stderr",
     "output_type": "stream",
     "text": [
      "It is strongly recommended to pass the ``sampling_rate`` argument to this function. Failing to do so can result in silent errors that might be hard to debug.\n"
     ]
    },
    {
     "name": "stdout",
     "output_type": "stream",
     "text": [
      "i 775\n",
      "filename hiphop.00071.wav\n",
      "label hiphop\n",
      "track_id 00071.wav\n"
     ]
    },
    {
     "name": "stderr",
     "output_type": "stream",
     "text": [
      "It is strongly recommended to pass the ``sampling_rate`` argument to this function. Failing to do so can result in silent errors that might be hard to debug.\n"
     ]
    },
    {
     "name": "stdout",
     "output_type": "stream",
     "text": [
      "i 776\n",
      "filename hiphop.00059.wav\n",
      "label hiphop\n",
      "track_id 00059.wav\n"
     ]
    },
    {
     "name": "stderr",
     "output_type": "stream",
     "text": [
      "It is strongly recommended to pass the ``sampling_rate`` argument to this function. Failing to do so can result in silent errors that might be hard to debug.\n"
     ]
    },
    {
     "name": "stdout",
     "output_type": "stream",
     "text": [
      "i 777\n",
      "filename hiphop.00058.wav\n",
      "label hiphop\n",
      "track_id 00058.wav\n"
     ]
    },
    {
     "name": "stderr",
     "output_type": "stream",
     "text": [
      "It is strongly recommended to pass the ``sampling_rate`` argument to this function. Failing to do so can result in silent errors that might be hard to debug.\n"
     ]
    },
    {
     "name": "stdout",
     "output_type": "stream",
     "text": [
      "i 778\n",
      "filename hiphop.00070.wav\n",
      "label hiphop\n",
      "track_id 00070.wav\n"
     ]
    },
    {
     "name": "stderr",
     "output_type": "stream",
     "text": [
      "It is strongly recommended to pass the ``sampling_rate`` argument to this function. Failing to do so can result in silent errors that might be hard to debug.\n"
     ]
    },
    {
     "name": "stdout",
     "output_type": "stream",
     "text": [
      "i 779\n",
      "filename hiphop.00064.wav\n",
      "label hiphop\n",
      "track_id 00064.wav\n"
     ]
    },
    {
     "name": "stderr",
     "output_type": "stream",
     "text": [
      "It is strongly recommended to pass the ``sampling_rate`` argument to this function. Failing to do so can result in silent errors that might be hard to debug.\n"
     ]
    },
    {
     "name": "stdout",
     "output_type": "stream",
     "text": [
      "i 780\n",
      "filename hiphop.00003.wav\n",
      "label hiphop\n",
      "track_id 00003.wav\n"
     ]
    },
    {
     "name": "stderr",
     "output_type": "stream",
     "text": [
      "It is strongly recommended to pass the ``sampling_rate`` argument to this function. Failing to do so can result in silent errors that might be hard to debug.\n"
     ]
    },
    {
     "name": "stdout",
     "output_type": "stream",
     "text": [
      "i 781\n",
      "filename hiphop.00017.wav\n",
      "label hiphop\n",
      "track_id 00017.wav\n"
     ]
    },
    {
     "name": "stderr",
     "output_type": "stream",
     "text": [
      "It is strongly recommended to pass the ``sampling_rate`` argument to this function. Failing to do so can result in silent errors that might be hard to debug.\n"
     ]
    },
    {
     "name": "stdout",
     "output_type": "stream",
     "text": [
      "i 782\n",
      "filename hiphop.00016.wav\n",
      "label hiphop\n",
      "track_id 00016.wav\n"
     ]
    },
    {
     "name": "stderr",
     "output_type": "stream",
     "text": [
      "It is strongly recommended to pass the ``sampling_rate`` argument to this function. Failing to do so can result in silent errors that might be hard to debug.\n"
     ]
    },
    {
     "name": "stdout",
     "output_type": "stream",
     "text": [
      "i 783\n",
      "filename hiphop.00002.wav\n",
      "label hiphop\n",
      "track_id 00002.wav\n"
     ]
    },
    {
     "name": "stderr",
     "output_type": "stream",
     "text": [
      "It is strongly recommended to pass the ``sampling_rate`` argument to this function. Failing to do so can result in silent errors that might be hard to debug.\n"
     ]
    },
    {
     "name": "stdout",
     "output_type": "stream",
     "text": [
      "i 784\n",
      "filename hiphop.00028.wav\n",
      "label hiphop\n",
      "track_id 00028.wav\n"
     ]
    },
    {
     "name": "stderr",
     "output_type": "stream",
     "text": [
      "It is strongly recommended to pass the ``sampling_rate`` argument to this function. Failing to do so can result in silent errors that might be hard to debug.\n"
     ]
    },
    {
     "name": "stdout",
     "output_type": "stream",
     "text": [
      "i 785\n",
      "filename hiphop.00014.wav\n",
      "label hiphop\n",
      "track_id 00014.wav\n"
     ]
    },
    {
     "name": "stderr",
     "output_type": "stream",
     "text": [
      "It is strongly recommended to pass the ``sampling_rate`` argument to this function. Failing to do so can result in silent errors that might be hard to debug.\n"
     ]
    },
    {
     "name": "stdout",
     "output_type": "stream",
     "text": [
      "i 786\n",
      "filename hiphop.00000.wav\n",
      "label hiphop\n",
      "track_id 00000.wav\n"
     ]
    },
    {
     "name": "stderr",
     "output_type": "stream",
     "text": [
      "It is strongly recommended to pass the ``sampling_rate`` argument to this function. Failing to do so can result in silent errors that might be hard to debug.\n"
     ]
    },
    {
     "name": "stdout",
     "output_type": "stream",
     "text": [
      "i 787\n",
      "filename hiphop.00001.wav\n",
      "label hiphop\n",
      "track_id 00001.wav\n"
     ]
    },
    {
     "name": "stderr",
     "output_type": "stream",
     "text": [
      "It is strongly recommended to pass the ``sampling_rate`` argument to this function. Failing to do so can result in silent errors that might be hard to debug.\n"
     ]
    },
    {
     "name": "stdout",
     "output_type": "stream",
     "text": [
      "i 788\n",
      "filename hiphop.00015.wav\n",
      "label hiphop\n",
      "track_id 00015.wav\n"
     ]
    },
    {
     "name": "stderr",
     "output_type": "stream",
     "text": [
      "It is strongly recommended to pass the ``sampling_rate`` argument to this function. Failing to do so can result in silent errors that might be hard to debug.\n"
     ]
    },
    {
     "name": "stdout",
     "output_type": "stream",
     "text": [
      "i 789\n",
      "filename hiphop.00029.wav\n",
      "label hiphop\n",
      "track_id 00029.wav\n"
     ]
    },
    {
     "name": "stderr",
     "output_type": "stream",
     "text": [
      "It is strongly recommended to pass the ``sampling_rate`` argument to this function. Failing to do so can result in silent errors that might be hard to debug.\n"
     ]
    },
    {
     "name": "stdout",
     "output_type": "stream",
     "text": [
      "i 790\n",
      "filename hiphop.00011.wav\n",
      "label hiphop\n",
      "track_id 00011.wav\n"
     ]
    },
    {
     "name": "stderr",
     "output_type": "stream",
     "text": [
      "It is strongly recommended to pass the ``sampling_rate`` argument to this function. Failing to do so can result in silent errors that might be hard to debug.\n"
     ]
    },
    {
     "name": "stdout",
     "output_type": "stream",
     "text": [
      "i 791\n",
      "filename hiphop.00005.wav\n",
      "label hiphop\n",
      "track_id 00005.wav\n"
     ]
    },
    {
     "name": "stderr",
     "output_type": "stream",
     "text": [
      "It is strongly recommended to pass the ``sampling_rate`` argument to this function. Failing to do so can result in silent errors that might be hard to debug.\n"
     ]
    },
    {
     "name": "stdout",
     "output_type": "stream",
     "text": [
      "i 792\n",
      "filename hiphop.00039.wav\n",
      "label hiphop\n",
      "track_id 00039.wav\n"
     ]
    },
    {
     "name": "stderr",
     "output_type": "stream",
     "text": [
      "It is strongly recommended to pass the ``sampling_rate`` argument to this function. Failing to do so can result in silent errors that might be hard to debug.\n"
     ]
    },
    {
     "name": "stdout",
     "output_type": "stream",
     "text": [
      "i 793\n",
      "filename hiphop.00038.wav\n",
      "label hiphop\n",
      "track_id 00038.wav\n"
     ]
    },
    {
     "name": "stderr",
     "output_type": "stream",
     "text": [
      "It is strongly recommended to pass the ``sampling_rate`` argument to this function. Failing to do so can result in silent errors that might be hard to debug.\n"
     ]
    },
    {
     "name": "stdout",
     "output_type": "stream",
     "text": [
      "i 794\n",
      "filename hiphop.00004.wav\n",
      "label hiphop\n",
      "track_id 00004.wav\n"
     ]
    },
    {
     "name": "stderr",
     "output_type": "stream",
     "text": [
      "It is strongly recommended to pass the ``sampling_rate`` argument to this function. Failing to do so can result in silent errors that might be hard to debug.\n"
     ]
    },
    {
     "name": "stdout",
     "output_type": "stream",
     "text": [
      "i 795\n",
      "filename hiphop.00010.wav\n",
      "label hiphop\n",
      "track_id 00010.wav\n"
     ]
    },
    {
     "name": "stderr",
     "output_type": "stream",
     "text": [
      "It is strongly recommended to pass the ``sampling_rate`` argument to this function. Failing to do so can result in silent errors that might be hard to debug.\n"
     ]
    },
    {
     "name": "stdout",
     "output_type": "stream",
     "text": [
      "i 796\n",
      "filename hiphop.00006.wav\n",
      "label hiphop\n",
      "track_id 00006.wav\n"
     ]
    },
    {
     "name": "stderr",
     "output_type": "stream",
     "text": [
      "It is strongly recommended to pass the ``sampling_rate`` argument to this function. Failing to do so can result in silent errors that might be hard to debug.\n"
     ]
    },
    {
     "name": "stdout",
     "output_type": "stream",
     "text": [
      "i 797\n",
      "filename hiphop.00012.wav\n",
      "label hiphop\n",
      "track_id 00012.wav\n"
     ]
    },
    {
     "name": "stderr",
     "output_type": "stream",
     "text": [
      "It is strongly recommended to pass the ``sampling_rate`` argument to this function. Failing to do so can result in silent errors that might be hard to debug.\n"
     ]
    },
    {
     "name": "stdout",
     "output_type": "stream",
     "text": [
      "i 798\n",
      "filename hiphop.00013.wav\n",
      "label hiphop\n",
      "track_id 00013.wav\n"
     ]
    },
    {
     "name": "stderr",
     "output_type": "stream",
     "text": [
      "It is strongly recommended to pass the ``sampling_rate`` argument to this function. Failing to do so can result in silent errors that might be hard to debug.\n"
     ]
    },
    {
     "name": "stdout",
     "output_type": "stream",
     "text": [
      "i 799\n",
      "filename hiphop.00007.wav\n",
      "label hiphop\n",
      "track_id 00007.wav\n"
     ]
    },
    {
     "name": "stderr",
     "output_type": "stream",
     "text": [
      "9it [50:04, 362.63s/it]It is strongly recommended to pass the ``sampling_rate`` argument to this function. Failing to do so can result in silent errors that might be hard to debug.\n"
     ]
    },
    {
     "name": "stdout",
     "output_type": "stream",
     "text": [
      "i 800\n",
      "root ../audios/gtzan/country\n",
      "dirs []\n",
      "files ['country.00088.wav', 'country.00063.wav', 'country.00077.wav', 'country.00076.wav', 'country.00062.wav', 'country.00089.wav', 'country.00048.wav', 'country.00074.wav', 'country.00060.wav', 'country.00061.wav', 'country.00075.wav', 'country.00049.wav', 'country.00071.wav', 'country.00065.wav', 'country.00059.wav', 'country.00058.wav', 'country.00064.wav', 'country.00070.wav', 'country.00099.wav', 'country.00066.wav', 'country.00072.wav', 'country.00073.wav', 'country.00067.wav', 'country.00098.wav', 'country.00028.wav', 'country.00000.wav', 'country.00014.wav', 'country.00015.wav', 'country.00001.wav', 'country.00029.wav', 'country.00017.wav', 'country.00003.wav', 'country.00002.wav', 'country.00016.wav', 'country.00012.wav', 'country.00006.wav', 'country.00007.wav', 'country.00013.wav', 'country.00005.wav', 'country.00011.wav', 'country.00039.wav', 'country.00038.wav', 'country.00010.wav', 'country.00004.wav', 'country.00009.wav', 'country.00021.wav', 'country.00035.wav', 'country.00034.wav', 'country.00020.wav', 'country.00008.wav', 'country.00036.wav', 'country.00022.wav', 'country.00023.wav', 'country.00037.wav', 'country.00033.wav', 'country.00027.wav', 'country.00026.wav', 'country.00032.wav', 'country.00024.wav', 'country.00030.wav', 'country.00018.wav', 'country.00019.wav', 'country.00031.wav', 'country.00025.wav', 'country.00081.wav', 'country.00095.wav', 'country.00042.wav', 'country.00056.wav', 'country.00057.wav', 'country.00043.wav', 'country.00094.wav', 'country.00080.wav', 'country.00096.wav', 'country.00082.wav', 'country.00069.wav', 'country.00055.wav', 'country.00041.wav', 'country.00040.wav', 'country.00054.wav', 'country.00068.wav', 'country.00083.wav', 'country.00097.wav', 'country.00093.wav', 'country.00087.wav', 'country.00050.wav', 'country.00044.wav', 'country.00078.wav', 'country.00079.wav', 'country.00045.wav', 'country.00051.wav', 'country.00086.wav', 'country.00092.wav', 'country.00084.wav', 'country.00090.wav', 'country.00047.wav', 'country.00053.wav', 'country.00052.wav', 'country.00046.wav', 'country.00091.wav', 'country.00085.wav']\n",
      "filename country.00088.wav\n",
      "label country\n",
      "track_id 00088.wav\n"
     ]
    },
    {
     "name": "stderr",
     "output_type": "stream",
     "text": [
      "It is strongly recommended to pass the ``sampling_rate`` argument to this function. Failing to do so can result in silent errors that might be hard to debug.\n"
     ]
    },
    {
     "name": "stdout",
     "output_type": "stream",
     "text": [
      "i 801\n",
      "filename country.00063.wav\n",
      "label country\n",
      "track_id 00063.wav\n"
     ]
    },
    {
     "name": "stderr",
     "output_type": "stream",
     "text": [
      "It is strongly recommended to pass the ``sampling_rate`` argument to this function. Failing to do so can result in silent errors that might be hard to debug.\n"
     ]
    },
    {
     "name": "stdout",
     "output_type": "stream",
     "text": [
      "i 802\n",
      "filename country.00077.wav\n",
      "label country\n",
      "track_id 00077.wav\n"
     ]
    },
    {
     "name": "stderr",
     "output_type": "stream",
     "text": [
      "It is strongly recommended to pass the ``sampling_rate`` argument to this function. Failing to do so can result in silent errors that might be hard to debug.\n"
     ]
    },
    {
     "name": "stdout",
     "output_type": "stream",
     "text": [
      "i 803\n",
      "filename country.00076.wav\n",
      "label country\n",
      "track_id 00076.wav\n"
     ]
    },
    {
     "name": "stderr",
     "output_type": "stream",
     "text": [
      "It is strongly recommended to pass the ``sampling_rate`` argument to this function. Failing to do so can result in silent errors that might be hard to debug.\n"
     ]
    },
    {
     "name": "stdout",
     "output_type": "stream",
     "text": [
      "i 804\n",
      "filename country.00062.wav\n",
      "label country\n",
      "track_id 00062.wav\n"
     ]
    },
    {
     "name": "stderr",
     "output_type": "stream",
     "text": [
      "It is strongly recommended to pass the ``sampling_rate`` argument to this function. Failing to do so can result in silent errors that might be hard to debug.\n"
     ]
    },
    {
     "name": "stdout",
     "output_type": "stream",
     "text": [
      "i 805\n",
      "filename country.00089.wav\n",
      "label country\n",
      "track_id 00089.wav\n"
     ]
    },
    {
     "name": "stderr",
     "output_type": "stream",
     "text": [
      "It is strongly recommended to pass the ``sampling_rate`` argument to this function. Failing to do so can result in silent errors that might be hard to debug.\n"
     ]
    },
    {
     "name": "stdout",
     "output_type": "stream",
     "text": [
      "i 806\n",
      "filename country.00048.wav\n",
      "label country\n",
      "track_id 00048.wav\n"
     ]
    },
    {
     "name": "stderr",
     "output_type": "stream",
     "text": [
      "It is strongly recommended to pass the ``sampling_rate`` argument to this function. Failing to do so can result in silent errors that might be hard to debug.\n"
     ]
    },
    {
     "name": "stdout",
     "output_type": "stream",
     "text": [
      "i 807\n",
      "filename country.00074.wav\n",
      "label country\n",
      "track_id 00074.wav\n"
     ]
    },
    {
     "name": "stderr",
     "output_type": "stream",
     "text": [
      "It is strongly recommended to pass the ``sampling_rate`` argument to this function. Failing to do so can result in silent errors that might be hard to debug.\n"
     ]
    },
    {
     "name": "stdout",
     "output_type": "stream",
     "text": [
      "i 808\n",
      "filename country.00060.wav\n",
      "label country\n",
      "track_id 00060.wav\n"
     ]
    },
    {
     "name": "stderr",
     "output_type": "stream",
     "text": [
      "It is strongly recommended to pass the ``sampling_rate`` argument to this function. Failing to do so can result in silent errors that might be hard to debug.\n"
     ]
    },
    {
     "name": "stdout",
     "output_type": "stream",
     "text": [
      "i 809\n",
      "filename country.00061.wav\n",
      "label country\n",
      "track_id 00061.wav\n"
     ]
    },
    {
     "name": "stderr",
     "output_type": "stream",
     "text": [
      "It is strongly recommended to pass the ``sampling_rate`` argument to this function. Failing to do so can result in silent errors that might be hard to debug.\n"
     ]
    },
    {
     "name": "stdout",
     "output_type": "stream",
     "text": [
      "i 810\n",
      "filename country.00075.wav\n",
      "label country\n",
      "track_id 00075.wav\n"
     ]
    },
    {
     "name": "stderr",
     "output_type": "stream",
     "text": [
      "It is strongly recommended to pass the ``sampling_rate`` argument to this function. Failing to do so can result in silent errors that might be hard to debug.\n"
     ]
    },
    {
     "name": "stdout",
     "output_type": "stream",
     "text": [
      "i 811\n",
      "filename country.00049.wav\n",
      "label country\n",
      "track_id 00049.wav\n"
     ]
    },
    {
     "name": "stderr",
     "output_type": "stream",
     "text": [
      "It is strongly recommended to pass the ``sampling_rate`` argument to this function. Failing to do so can result in silent errors that might be hard to debug.\n"
     ]
    },
    {
     "name": "stdout",
     "output_type": "stream",
     "text": [
      "i 812\n",
      "filename country.00071.wav\n",
      "label country\n",
      "track_id 00071.wav\n"
     ]
    },
    {
     "name": "stderr",
     "output_type": "stream",
     "text": [
      "It is strongly recommended to pass the ``sampling_rate`` argument to this function. Failing to do so can result in silent errors that might be hard to debug.\n"
     ]
    },
    {
     "name": "stdout",
     "output_type": "stream",
     "text": [
      "i 813\n",
      "filename country.00065.wav\n",
      "label country\n",
      "track_id 00065.wav\n"
     ]
    },
    {
     "name": "stderr",
     "output_type": "stream",
     "text": [
      "It is strongly recommended to pass the ``sampling_rate`` argument to this function. Failing to do so can result in silent errors that might be hard to debug.\n"
     ]
    },
    {
     "name": "stdout",
     "output_type": "stream",
     "text": [
      "i 814\n",
      "filename country.00059.wav\n",
      "label country\n",
      "track_id 00059.wav\n"
     ]
    },
    {
     "name": "stderr",
     "output_type": "stream",
     "text": [
      "It is strongly recommended to pass the ``sampling_rate`` argument to this function. Failing to do so can result in silent errors that might be hard to debug.\n"
     ]
    },
    {
     "name": "stdout",
     "output_type": "stream",
     "text": [
      "i 815\n",
      "filename country.00058.wav\n",
      "label country\n",
      "track_id 00058.wav\n"
     ]
    },
    {
     "name": "stderr",
     "output_type": "stream",
     "text": [
      "It is strongly recommended to pass the ``sampling_rate`` argument to this function. Failing to do so can result in silent errors that might be hard to debug.\n"
     ]
    },
    {
     "name": "stdout",
     "output_type": "stream",
     "text": [
      "i 816\n",
      "filename country.00064.wav\n",
      "label country\n",
      "track_id 00064.wav\n"
     ]
    },
    {
     "name": "stderr",
     "output_type": "stream",
     "text": [
      "It is strongly recommended to pass the ``sampling_rate`` argument to this function. Failing to do so can result in silent errors that might be hard to debug.\n"
     ]
    },
    {
     "name": "stdout",
     "output_type": "stream",
     "text": [
      "i 817\n",
      "filename country.00070.wav\n",
      "label country\n",
      "track_id 00070.wav\n"
     ]
    },
    {
     "name": "stderr",
     "output_type": "stream",
     "text": [
      "It is strongly recommended to pass the ``sampling_rate`` argument to this function. Failing to do so can result in silent errors that might be hard to debug.\n"
     ]
    },
    {
     "name": "stdout",
     "output_type": "stream",
     "text": [
      "i 818\n",
      "filename country.00099.wav\n",
      "label country\n",
      "track_id 00099.wav\n"
     ]
    },
    {
     "name": "stderr",
     "output_type": "stream",
     "text": [
      "It is strongly recommended to pass the ``sampling_rate`` argument to this function. Failing to do so can result in silent errors that might be hard to debug.\n"
     ]
    },
    {
     "name": "stdout",
     "output_type": "stream",
     "text": [
      "i 819\n",
      "filename country.00066.wav\n",
      "label country\n",
      "track_id 00066.wav\n"
     ]
    },
    {
     "name": "stderr",
     "output_type": "stream",
     "text": [
      "It is strongly recommended to pass the ``sampling_rate`` argument to this function. Failing to do so can result in silent errors that might be hard to debug.\n"
     ]
    },
    {
     "name": "stdout",
     "output_type": "stream",
     "text": [
      "i 820\n",
      "filename country.00072.wav\n",
      "label country\n",
      "track_id 00072.wav\n"
     ]
    },
    {
     "name": "stderr",
     "output_type": "stream",
     "text": [
      "It is strongly recommended to pass the ``sampling_rate`` argument to this function. Failing to do so can result in silent errors that might be hard to debug.\n"
     ]
    },
    {
     "name": "stdout",
     "output_type": "stream",
     "text": [
      "i 821\n",
      "filename country.00073.wav\n",
      "label country\n",
      "track_id 00073.wav\n"
     ]
    },
    {
     "name": "stderr",
     "output_type": "stream",
     "text": [
      "It is strongly recommended to pass the ``sampling_rate`` argument to this function. Failing to do so can result in silent errors that might be hard to debug.\n"
     ]
    },
    {
     "name": "stdout",
     "output_type": "stream",
     "text": [
      "i 822\n",
      "filename country.00067.wav\n",
      "label country\n",
      "track_id 00067.wav\n"
     ]
    },
    {
     "name": "stderr",
     "output_type": "stream",
     "text": [
      "It is strongly recommended to pass the ``sampling_rate`` argument to this function. Failing to do so can result in silent errors that might be hard to debug.\n"
     ]
    },
    {
     "name": "stdout",
     "output_type": "stream",
     "text": [
      "i 823\n",
      "filename country.00098.wav\n",
      "label country\n",
      "track_id 00098.wav\n"
     ]
    },
    {
     "name": "stderr",
     "output_type": "stream",
     "text": [
      "It is strongly recommended to pass the ``sampling_rate`` argument to this function. Failing to do so can result in silent errors that might be hard to debug.\n"
     ]
    },
    {
     "name": "stdout",
     "output_type": "stream",
     "text": [
      "i 824\n",
      "filename country.00028.wav\n",
      "label country\n",
      "track_id 00028.wav\n"
     ]
    },
    {
     "name": "stderr",
     "output_type": "stream",
     "text": [
      "It is strongly recommended to pass the ``sampling_rate`` argument to this function. Failing to do so can result in silent errors that might be hard to debug.\n"
     ]
    },
    {
     "name": "stdout",
     "output_type": "stream",
     "text": [
      "i 825\n",
      "filename country.00000.wav\n",
      "label country\n",
      "track_id 00000.wav\n"
     ]
    },
    {
     "name": "stderr",
     "output_type": "stream",
     "text": [
      "It is strongly recommended to pass the ``sampling_rate`` argument to this function. Failing to do so can result in silent errors that might be hard to debug.\n"
     ]
    },
    {
     "name": "stdout",
     "output_type": "stream",
     "text": [
      "i 826\n",
      "filename country.00014.wav\n",
      "label country\n",
      "track_id 00014.wav\n"
     ]
    },
    {
     "name": "stderr",
     "output_type": "stream",
     "text": [
      "It is strongly recommended to pass the ``sampling_rate`` argument to this function. Failing to do so can result in silent errors that might be hard to debug.\n"
     ]
    },
    {
     "name": "stdout",
     "output_type": "stream",
     "text": [
      "i 827\n",
      "filename country.00015.wav\n",
      "label country\n",
      "track_id 00015.wav\n"
     ]
    },
    {
     "name": "stderr",
     "output_type": "stream",
     "text": [
      "It is strongly recommended to pass the ``sampling_rate`` argument to this function. Failing to do so can result in silent errors that might be hard to debug.\n"
     ]
    },
    {
     "name": "stdout",
     "output_type": "stream",
     "text": [
      "i 828\n",
      "filename country.00001.wav\n",
      "label country\n",
      "track_id 00001.wav\n"
     ]
    },
    {
     "name": "stderr",
     "output_type": "stream",
     "text": [
      "It is strongly recommended to pass the ``sampling_rate`` argument to this function. Failing to do so can result in silent errors that might be hard to debug.\n"
     ]
    },
    {
     "name": "stdout",
     "output_type": "stream",
     "text": [
      "i 829\n",
      "filename country.00029.wav\n",
      "label country\n",
      "track_id 00029.wav\n"
     ]
    },
    {
     "name": "stderr",
     "output_type": "stream",
     "text": [
      "It is strongly recommended to pass the ``sampling_rate`` argument to this function. Failing to do so can result in silent errors that might be hard to debug.\n"
     ]
    },
    {
     "name": "stdout",
     "output_type": "stream",
     "text": [
      "i 830\n",
      "filename country.00017.wav\n",
      "label country\n",
      "track_id 00017.wav\n"
     ]
    },
    {
     "name": "stderr",
     "output_type": "stream",
     "text": [
      "It is strongly recommended to pass the ``sampling_rate`` argument to this function. Failing to do so can result in silent errors that might be hard to debug.\n"
     ]
    },
    {
     "name": "stdout",
     "output_type": "stream",
     "text": [
      "i 831\n",
      "filename country.00003.wav\n",
      "label country\n",
      "track_id 00003.wav\n"
     ]
    },
    {
     "name": "stderr",
     "output_type": "stream",
     "text": [
      "It is strongly recommended to pass the ``sampling_rate`` argument to this function. Failing to do so can result in silent errors that might be hard to debug.\n"
     ]
    },
    {
     "name": "stdout",
     "output_type": "stream",
     "text": [
      "i 832\n",
      "filename country.00002.wav\n",
      "label country\n",
      "track_id 00002.wav\n"
     ]
    },
    {
     "name": "stderr",
     "output_type": "stream",
     "text": [
      "It is strongly recommended to pass the ``sampling_rate`` argument to this function. Failing to do so can result in silent errors that might be hard to debug.\n"
     ]
    },
    {
     "name": "stdout",
     "output_type": "stream",
     "text": [
      "i 833\n",
      "filename country.00016.wav\n",
      "label country\n",
      "track_id 00016.wav\n"
     ]
    },
    {
     "name": "stderr",
     "output_type": "stream",
     "text": [
      "It is strongly recommended to pass the ``sampling_rate`` argument to this function. Failing to do so can result in silent errors that might be hard to debug.\n"
     ]
    },
    {
     "name": "stdout",
     "output_type": "stream",
     "text": [
      "i 834\n",
      "filename country.00012.wav\n",
      "label country\n",
      "track_id 00012.wav\n"
     ]
    },
    {
     "name": "stderr",
     "output_type": "stream",
     "text": [
      "It is strongly recommended to pass the ``sampling_rate`` argument to this function. Failing to do so can result in silent errors that might be hard to debug.\n"
     ]
    },
    {
     "name": "stdout",
     "output_type": "stream",
     "text": [
      "i 835\n",
      "filename country.00006.wav\n",
      "label country\n",
      "track_id 00006.wav\n"
     ]
    },
    {
     "name": "stderr",
     "output_type": "stream",
     "text": [
      "It is strongly recommended to pass the ``sampling_rate`` argument to this function. Failing to do so can result in silent errors that might be hard to debug.\n"
     ]
    },
    {
     "name": "stdout",
     "output_type": "stream",
     "text": [
      "i 836\n",
      "filename country.00007.wav\n",
      "label country\n",
      "track_id 00007.wav\n"
     ]
    },
    {
     "name": "stderr",
     "output_type": "stream",
     "text": [
      "It is strongly recommended to pass the ``sampling_rate`` argument to this function. Failing to do so can result in silent errors that might be hard to debug.\n"
     ]
    },
    {
     "name": "stdout",
     "output_type": "stream",
     "text": [
      "i 837\n",
      "filename country.00013.wav\n",
      "label country\n",
      "track_id 00013.wav\n"
     ]
    },
    {
     "name": "stderr",
     "output_type": "stream",
     "text": [
      "It is strongly recommended to pass the ``sampling_rate`` argument to this function. Failing to do so can result in silent errors that might be hard to debug.\n"
     ]
    },
    {
     "name": "stdout",
     "output_type": "stream",
     "text": [
      "i 838\n",
      "filename country.00005.wav\n",
      "label country\n",
      "track_id 00005.wav\n"
     ]
    },
    {
     "name": "stderr",
     "output_type": "stream",
     "text": [
      "It is strongly recommended to pass the ``sampling_rate`` argument to this function. Failing to do so can result in silent errors that might be hard to debug.\n"
     ]
    },
    {
     "name": "stdout",
     "output_type": "stream",
     "text": [
      "i 839\n",
      "filename country.00011.wav\n",
      "label country\n",
      "track_id 00011.wav\n"
     ]
    },
    {
     "name": "stderr",
     "output_type": "stream",
     "text": [
      "It is strongly recommended to pass the ``sampling_rate`` argument to this function. Failing to do so can result in silent errors that might be hard to debug.\n"
     ]
    },
    {
     "name": "stdout",
     "output_type": "stream",
     "text": [
      "i 840\n",
      "filename country.00039.wav\n",
      "label country\n",
      "track_id 00039.wav\n"
     ]
    },
    {
     "name": "stderr",
     "output_type": "stream",
     "text": [
      "It is strongly recommended to pass the ``sampling_rate`` argument to this function. Failing to do so can result in silent errors that might be hard to debug.\n"
     ]
    },
    {
     "name": "stdout",
     "output_type": "stream",
     "text": [
      "i 841\n",
      "filename country.00038.wav\n",
      "label country\n",
      "track_id 00038.wav\n"
     ]
    },
    {
     "name": "stderr",
     "output_type": "stream",
     "text": [
      "It is strongly recommended to pass the ``sampling_rate`` argument to this function. Failing to do so can result in silent errors that might be hard to debug.\n"
     ]
    },
    {
     "name": "stdout",
     "output_type": "stream",
     "text": [
      "i 842\n",
      "filename country.00010.wav\n",
      "label country\n",
      "track_id 00010.wav\n"
     ]
    },
    {
     "name": "stderr",
     "output_type": "stream",
     "text": [
      "It is strongly recommended to pass the ``sampling_rate`` argument to this function. Failing to do so can result in silent errors that might be hard to debug.\n"
     ]
    },
    {
     "name": "stdout",
     "output_type": "stream",
     "text": [
      "i 843\n",
      "filename country.00004.wav\n",
      "label country\n",
      "track_id 00004.wav\n"
     ]
    },
    {
     "name": "stderr",
     "output_type": "stream",
     "text": [
      "It is strongly recommended to pass the ``sampling_rate`` argument to this function. Failing to do so can result in silent errors that might be hard to debug.\n"
     ]
    },
    {
     "name": "stdout",
     "output_type": "stream",
     "text": [
      "i 844\n",
      "filename country.00009.wav\n",
      "label country\n",
      "track_id 00009.wav\n"
     ]
    },
    {
     "name": "stderr",
     "output_type": "stream",
     "text": [
      "It is strongly recommended to pass the ``sampling_rate`` argument to this function. Failing to do so can result in silent errors that might be hard to debug.\n"
     ]
    },
    {
     "name": "stdout",
     "output_type": "stream",
     "text": [
      "i 845\n",
      "filename country.00021.wav\n",
      "label country\n",
      "track_id 00021.wav\n"
     ]
    },
    {
     "name": "stderr",
     "output_type": "stream",
     "text": [
      "It is strongly recommended to pass the ``sampling_rate`` argument to this function. Failing to do so can result in silent errors that might be hard to debug.\n"
     ]
    },
    {
     "name": "stdout",
     "output_type": "stream",
     "text": [
      "i 846\n",
      "filename country.00035.wav\n",
      "label country\n",
      "track_id 00035.wav\n"
     ]
    },
    {
     "name": "stderr",
     "output_type": "stream",
     "text": [
      "It is strongly recommended to pass the ``sampling_rate`` argument to this function. Failing to do so can result in silent errors that might be hard to debug.\n"
     ]
    },
    {
     "name": "stdout",
     "output_type": "stream",
     "text": [
      "i 847\n",
      "filename country.00034.wav\n",
      "label country\n",
      "track_id 00034.wav\n"
     ]
    },
    {
     "name": "stderr",
     "output_type": "stream",
     "text": [
      "It is strongly recommended to pass the ``sampling_rate`` argument to this function. Failing to do so can result in silent errors that might be hard to debug.\n"
     ]
    },
    {
     "name": "stdout",
     "output_type": "stream",
     "text": [
      "i 848\n",
      "filename country.00020.wav\n",
      "label country\n",
      "track_id 00020.wav\n"
     ]
    },
    {
     "name": "stderr",
     "output_type": "stream",
     "text": [
      "It is strongly recommended to pass the ``sampling_rate`` argument to this function. Failing to do so can result in silent errors that might be hard to debug.\n"
     ]
    },
    {
     "name": "stdout",
     "output_type": "stream",
     "text": [
      "i 849\n",
      "filename country.00008.wav\n",
      "label country\n",
      "track_id 00008.wav\n"
     ]
    },
    {
     "name": "stderr",
     "output_type": "stream",
     "text": [
      "It is strongly recommended to pass the ``sampling_rate`` argument to this function. Failing to do so can result in silent errors that might be hard to debug.\n"
     ]
    },
    {
     "name": "stdout",
     "output_type": "stream",
     "text": [
      "i 850\n",
      "filename country.00036.wav\n",
      "label country\n",
      "track_id 00036.wav\n"
     ]
    },
    {
     "name": "stderr",
     "output_type": "stream",
     "text": [
      "It is strongly recommended to pass the ``sampling_rate`` argument to this function. Failing to do so can result in silent errors that might be hard to debug.\n"
     ]
    },
    {
     "name": "stdout",
     "output_type": "stream",
     "text": [
      "i 851\n",
      "filename country.00022.wav\n",
      "label country\n",
      "track_id 00022.wav\n"
     ]
    },
    {
     "name": "stderr",
     "output_type": "stream",
     "text": [
      "It is strongly recommended to pass the ``sampling_rate`` argument to this function. Failing to do so can result in silent errors that might be hard to debug.\n"
     ]
    },
    {
     "name": "stdout",
     "output_type": "stream",
     "text": [
      "i 852\n",
      "filename country.00023.wav\n",
      "label country\n",
      "track_id 00023.wav\n"
     ]
    },
    {
     "name": "stderr",
     "output_type": "stream",
     "text": [
      "It is strongly recommended to pass the ``sampling_rate`` argument to this function. Failing to do so can result in silent errors that might be hard to debug.\n"
     ]
    },
    {
     "name": "stdout",
     "output_type": "stream",
     "text": [
      "i 853\n",
      "filename country.00037.wav\n",
      "label country\n",
      "track_id 00037.wav\n"
     ]
    },
    {
     "name": "stderr",
     "output_type": "stream",
     "text": [
      "It is strongly recommended to pass the ``sampling_rate`` argument to this function. Failing to do so can result in silent errors that might be hard to debug.\n"
     ]
    },
    {
     "name": "stdout",
     "output_type": "stream",
     "text": [
      "i 854\n",
      "filename country.00033.wav\n",
      "label country\n",
      "track_id 00033.wav\n"
     ]
    },
    {
     "name": "stderr",
     "output_type": "stream",
     "text": [
      "It is strongly recommended to pass the ``sampling_rate`` argument to this function. Failing to do so can result in silent errors that might be hard to debug.\n"
     ]
    },
    {
     "name": "stdout",
     "output_type": "stream",
     "text": [
      "i 855\n",
      "filename country.00027.wav\n",
      "label country\n",
      "track_id 00027.wav\n"
     ]
    },
    {
     "name": "stderr",
     "output_type": "stream",
     "text": [
      "It is strongly recommended to pass the ``sampling_rate`` argument to this function. Failing to do so can result in silent errors that might be hard to debug.\n"
     ]
    },
    {
     "name": "stdout",
     "output_type": "stream",
     "text": [
      "i 856\n",
      "filename country.00026.wav\n",
      "label country\n",
      "track_id 00026.wav\n"
     ]
    },
    {
     "name": "stderr",
     "output_type": "stream",
     "text": [
      "It is strongly recommended to pass the ``sampling_rate`` argument to this function. Failing to do so can result in silent errors that might be hard to debug.\n"
     ]
    },
    {
     "name": "stdout",
     "output_type": "stream",
     "text": [
      "i 857\n",
      "filename country.00032.wav\n",
      "label country\n",
      "track_id 00032.wav\n"
     ]
    },
    {
     "name": "stderr",
     "output_type": "stream",
     "text": [
      "It is strongly recommended to pass the ``sampling_rate`` argument to this function. Failing to do so can result in silent errors that might be hard to debug.\n"
     ]
    },
    {
     "name": "stdout",
     "output_type": "stream",
     "text": [
      "i 858\n",
      "filename country.00024.wav\n",
      "label country\n",
      "track_id 00024.wav\n"
     ]
    },
    {
     "name": "stderr",
     "output_type": "stream",
     "text": [
      "It is strongly recommended to pass the ``sampling_rate`` argument to this function. Failing to do so can result in silent errors that might be hard to debug.\n"
     ]
    },
    {
     "name": "stdout",
     "output_type": "stream",
     "text": [
      "i 859\n",
      "filename country.00030.wav\n",
      "label country\n",
      "track_id 00030.wav\n"
     ]
    },
    {
     "name": "stderr",
     "output_type": "stream",
     "text": [
      "It is strongly recommended to pass the ``sampling_rate`` argument to this function. Failing to do so can result in silent errors that might be hard to debug.\n"
     ]
    },
    {
     "name": "stdout",
     "output_type": "stream",
     "text": [
      "i 860\n",
      "filename country.00018.wav\n",
      "label country\n",
      "track_id 00018.wav\n"
     ]
    },
    {
     "name": "stderr",
     "output_type": "stream",
     "text": [
      "It is strongly recommended to pass the ``sampling_rate`` argument to this function. Failing to do so can result in silent errors that might be hard to debug.\n"
     ]
    },
    {
     "name": "stdout",
     "output_type": "stream",
     "text": [
      "i 861\n",
      "filename country.00019.wav\n",
      "label country\n",
      "track_id 00019.wav\n"
     ]
    },
    {
     "name": "stderr",
     "output_type": "stream",
     "text": [
      "It is strongly recommended to pass the ``sampling_rate`` argument to this function. Failing to do so can result in silent errors that might be hard to debug.\n"
     ]
    },
    {
     "name": "stdout",
     "output_type": "stream",
     "text": [
      "i 862\n",
      "filename country.00031.wav\n",
      "label country\n",
      "track_id 00031.wav\n"
     ]
    },
    {
     "name": "stderr",
     "output_type": "stream",
     "text": [
      "It is strongly recommended to pass the ``sampling_rate`` argument to this function. Failing to do so can result in silent errors that might be hard to debug.\n"
     ]
    },
    {
     "name": "stdout",
     "output_type": "stream",
     "text": [
      "i 863\n",
      "filename country.00025.wav\n",
      "label country\n",
      "track_id 00025.wav\n"
     ]
    },
    {
     "name": "stderr",
     "output_type": "stream",
     "text": [
      "It is strongly recommended to pass the ``sampling_rate`` argument to this function. Failing to do so can result in silent errors that might be hard to debug.\n"
     ]
    },
    {
     "name": "stdout",
     "output_type": "stream",
     "text": [
      "i 864\n",
      "filename country.00081.wav\n",
      "label country\n",
      "track_id 00081.wav\n"
     ]
    },
    {
     "name": "stderr",
     "output_type": "stream",
     "text": [
      "It is strongly recommended to pass the ``sampling_rate`` argument to this function. Failing to do so can result in silent errors that might be hard to debug.\n"
     ]
    },
    {
     "name": "stdout",
     "output_type": "stream",
     "text": [
      "i 865\n",
      "filename country.00095.wav\n",
      "label country\n",
      "track_id 00095.wav\n"
     ]
    },
    {
     "name": "stderr",
     "output_type": "stream",
     "text": [
      "It is strongly recommended to pass the ``sampling_rate`` argument to this function. Failing to do so can result in silent errors that might be hard to debug.\n"
     ]
    },
    {
     "name": "stdout",
     "output_type": "stream",
     "text": [
      "i 866\n",
      "filename country.00042.wav\n",
      "label country\n",
      "track_id 00042.wav\n"
     ]
    },
    {
     "name": "stderr",
     "output_type": "stream",
     "text": [
      "It is strongly recommended to pass the ``sampling_rate`` argument to this function. Failing to do so can result in silent errors that might be hard to debug.\n"
     ]
    },
    {
     "name": "stdout",
     "output_type": "stream",
     "text": [
      "i 867\n",
      "filename country.00056.wav\n",
      "label country\n",
      "track_id 00056.wav\n"
     ]
    },
    {
     "name": "stderr",
     "output_type": "stream",
     "text": [
      "It is strongly recommended to pass the ``sampling_rate`` argument to this function. Failing to do so can result in silent errors that might be hard to debug.\n"
     ]
    },
    {
     "name": "stdout",
     "output_type": "stream",
     "text": [
      "i 868\n",
      "filename country.00057.wav\n",
      "label country\n",
      "track_id 00057.wav\n"
     ]
    },
    {
     "name": "stderr",
     "output_type": "stream",
     "text": [
      "It is strongly recommended to pass the ``sampling_rate`` argument to this function. Failing to do so can result in silent errors that might be hard to debug.\n"
     ]
    },
    {
     "name": "stdout",
     "output_type": "stream",
     "text": [
      "i 869\n",
      "filename country.00043.wav\n",
      "label country\n",
      "track_id 00043.wav\n"
     ]
    },
    {
     "name": "stderr",
     "output_type": "stream",
     "text": [
      "It is strongly recommended to pass the ``sampling_rate`` argument to this function. Failing to do so can result in silent errors that might be hard to debug.\n"
     ]
    },
    {
     "name": "stdout",
     "output_type": "stream",
     "text": [
      "i 870\n",
      "filename country.00094.wav\n",
      "label country\n",
      "track_id 00094.wav\n"
     ]
    },
    {
     "name": "stderr",
     "output_type": "stream",
     "text": [
      "It is strongly recommended to pass the ``sampling_rate`` argument to this function. Failing to do so can result in silent errors that might be hard to debug.\n"
     ]
    },
    {
     "name": "stdout",
     "output_type": "stream",
     "text": [
      "i 871\n",
      "filename country.00080.wav\n",
      "label country\n",
      "track_id 00080.wav\n"
     ]
    },
    {
     "name": "stderr",
     "output_type": "stream",
     "text": [
      "It is strongly recommended to pass the ``sampling_rate`` argument to this function. Failing to do so can result in silent errors that might be hard to debug.\n"
     ]
    },
    {
     "name": "stdout",
     "output_type": "stream",
     "text": [
      "i 872\n",
      "filename country.00096.wav\n",
      "label country\n",
      "track_id 00096.wav\n"
     ]
    },
    {
     "name": "stderr",
     "output_type": "stream",
     "text": [
      "It is strongly recommended to pass the ``sampling_rate`` argument to this function. Failing to do so can result in silent errors that might be hard to debug.\n"
     ]
    },
    {
     "name": "stdout",
     "output_type": "stream",
     "text": [
      "i 873\n",
      "filename country.00082.wav\n",
      "label country\n",
      "track_id 00082.wav\n"
     ]
    },
    {
     "name": "stderr",
     "output_type": "stream",
     "text": [
      "It is strongly recommended to pass the ``sampling_rate`` argument to this function. Failing to do so can result in silent errors that might be hard to debug.\n"
     ]
    },
    {
     "name": "stdout",
     "output_type": "stream",
     "text": [
      "i 874\n",
      "filename country.00069.wav\n",
      "label country\n",
      "track_id 00069.wav\n"
     ]
    },
    {
     "name": "stderr",
     "output_type": "stream",
     "text": [
      "It is strongly recommended to pass the ``sampling_rate`` argument to this function. Failing to do so can result in silent errors that might be hard to debug.\n"
     ]
    },
    {
     "name": "stdout",
     "output_type": "stream",
     "text": [
      "i 875\n",
      "filename country.00055.wav\n",
      "label country\n",
      "track_id 00055.wav\n"
     ]
    },
    {
     "name": "stderr",
     "output_type": "stream",
     "text": [
      "It is strongly recommended to pass the ``sampling_rate`` argument to this function. Failing to do so can result in silent errors that might be hard to debug.\n"
     ]
    },
    {
     "name": "stdout",
     "output_type": "stream",
     "text": [
      "i 876\n",
      "filename country.00041.wav\n",
      "label country\n",
      "track_id 00041.wav\n"
     ]
    },
    {
     "name": "stderr",
     "output_type": "stream",
     "text": [
      "It is strongly recommended to pass the ``sampling_rate`` argument to this function. Failing to do so can result in silent errors that might be hard to debug.\n"
     ]
    },
    {
     "name": "stdout",
     "output_type": "stream",
     "text": [
      "i 877\n",
      "filename country.00040.wav\n",
      "label country\n",
      "track_id 00040.wav\n"
     ]
    },
    {
     "name": "stderr",
     "output_type": "stream",
     "text": [
      "It is strongly recommended to pass the ``sampling_rate`` argument to this function. Failing to do so can result in silent errors that might be hard to debug.\n"
     ]
    },
    {
     "name": "stdout",
     "output_type": "stream",
     "text": [
      "i 878\n",
      "filename country.00054.wav\n",
      "label country\n",
      "track_id 00054.wav\n"
     ]
    },
    {
     "name": "stderr",
     "output_type": "stream",
     "text": [
      "It is strongly recommended to pass the ``sampling_rate`` argument to this function. Failing to do so can result in silent errors that might be hard to debug.\n"
     ]
    },
    {
     "name": "stdout",
     "output_type": "stream",
     "text": [
      "i 879\n",
      "filename country.00068.wav\n",
      "label country\n",
      "track_id 00068.wav\n"
     ]
    },
    {
     "name": "stderr",
     "output_type": "stream",
     "text": [
      "It is strongly recommended to pass the ``sampling_rate`` argument to this function. Failing to do so can result in silent errors that might be hard to debug.\n"
     ]
    },
    {
     "name": "stdout",
     "output_type": "stream",
     "text": [
      "i 880\n",
      "filename country.00083.wav\n",
      "label country\n",
      "track_id 00083.wav\n"
     ]
    },
    {
     "name": "stderr",
     "output_type": "stream",
     "text": [
      "It is strongly recommended to pass the ``sampling_rate`` argument to this function. Failing to do so can result in silent errors that might be hard to debug.\n"
     ]
    },
    {
     "name": "stdout",
     "output_type": "stream",
     "text": [
      "i 881\n",
      "filename country.00097.wav\n",
      "label country\n",
      "track_id 00097.wav\n"
     ]
    },
    {
     "name": "stderr",
     "output_type": "stream",
     "text": [
      "It is strongly recommended to pass the ``sampling_rate`` argument to this function. Failing to do so can result in silent errors that might be hard to debug.\n"
     ]
    },
    {
     "name": "stdout",
     "output_type": "stream",
     "text": [
      "i 882\n",
      "filename country.00093.wav\n",
      "label country\n",
      "track_id 00093.wav\n"
     ]
    },
    {
     "name": "stderr",
     "output_type": "stream",
     "text": [
      "It is strongly recommended to pass the ``sampling_rate`` argument to this function. Failing to do so can result in silent errors that might be hard to debug.\n"
     ]
    },
    {
     "name": "stdout",
     "output_type": "stream",
     "text": [
      "i 883\n",
      "filename country.00087.wav\n",
      "label country\n",
      "track_id 00087.wav\n"
     ]
    },
    {
     "name": "stderr",
     "output_type": "stream",
     "text": [
      "It is strongly recommended to pass the ``sampling_rate`` argument to this function. Failing to do so can result in silent errors that might be hard to debug.\n"
     ]
    },
    {
     "name": "stdout",
     "output_type": "stream",
     "text": [
      "i 884\n",
      "filename country.00050.wav\n",
      "label country\n",
      "track_id 00050.wav\n"
     ]
    },
    {
     "name": "stderr",
     "output_type": "stream",
     "text": [
      "It is strongly recommended to pass the ``sampling_rate`` argument to this function. Failing to do so can result in silent errors that might be hard to debug.\n"
     ]
    },
    {
     "name": "stdout",
     "output_type": "stream",
     "text": [
      "i 885\n",
      "filename country.00044.wav\n",
      "label country\n",
      "track_id 00044.wav\n"
     ]
    },
    {
     "name": "stderr",
     "output_type": "stream",
     "text": [
      "It is strongly recommended to pass the ``sampling_rate`` argument to this function. Failing to do so can result in silent errors that might be hard to debug.\n"
     ]
    },
    {
     "name": "stdout",
     "output_type": "stream",
     "text": [
      "i 886\n",
      "filename country.00078.wav\n",
      "label country\n",
      "track_id 00078.wav\n"
     ]
    },
    {
     "name": "stderr",
     "output_type": "stream",
     "text": [
      "It is strongly recommended to pass the ``sampling_rate`` argument to this function. Failing to do so can result in silent errors that might be hard to debug.\n"
     ]
    },
    {
     "name": "stdout",
     "output_type": "stream",
     "text": [
      "i 887\n",
      "filename country.00079.wav\n",
      "label country\n",
      "track_id 00079.wav\n"
     ]
    },
    {
     "name": "stderr",
     "output_type": "stream",
     "text": [
      "It is strongly recommended to pass the ``sampling_rate`` argument to this function. Failing to do so can result in silent errors that might be hard to debug.\n"
     ]
    },
    {
     "name": "stdout",
     "output_type": "stream",
     "text": [
      "i 888\n",
      "filename country.00045.wav\n",
      "label country\n",
      "track_id 00045.wav\n"
     ]
    },
    {
     "name": "stderr",
     "output_type": "stream",
     "text": [
      "It is strongly recommended to pass the ``sampling_rate`` argument to this function. Failing to do so can result in silent errors that might be hard to debug.\n"
     ]
    },
    {
     "name": "stdout",
     "output_type": "stream",
     "text": [
      "i 889\n",
      "filename country.00051.wav\n",
      "label country\n",
      "track_id 00051.wav\n"
     ]
    },
    {
     "name": "stderr",
     "output_type": "stream",
     "text": [
      "It is strongly recommended to pass the ``sampling_rate`` argument to this function. Failing to do so can result in silent errors that might be hard to debug.\n"
     ]
    },
    {
     "name": "stdout",
     "output_type": "stream",
     "text": [
      "i 890\n",
      "filename country.00086.wav\n",
      "label country\n",
      "track_id 00086.wav\n"
     ]
    },
    {
     "name": "stderr",
     "output_type": "stream",
     "text": [
      "It is strongly recommended to pass the ``sampling_rate`` argument to this function. Failing to do so can result in silent errors that might be hard to debug.\n"
     ]
    },
    {
     "name": "stdout",
     "output_type": "stream",
     "text": [
      "i 891\n",
      "filename country.00092.wav\n",
      "label country\n",
      "track_id 00092.wav\n"
     ]
    },
    {
     "name": "stderr",
     "output_type": "stream",
     "text": [
      "It is strongly recommended to pass the ``sampling_rate`` argument to this function. Failing to do so can result in silent errors that might be hard to debug.\n"
     ]
    },
    {
     "name": "stdout",
     "output_type": "stream",
     "text": [
      "i 892\n",
      "filename country.00084.wav\n",
      "label country\n",
      "track_id 00084.wav\n"
     ]
    },
    {
     "name": "stderr",
     "output_type": "stream",
     "text": [
      "It is strongly recommended to pass the ``sampling_rate`` argument to this function. Failing to do so can result in silent errors that might be hard to debug.\n"
     ]
    },
    {
     "name": "stdout",
     "output_type": "stream",
     "text": [
      "i 893\n",
      "filename country.00090.wav\n",
      "label country\n",
      "track_id 00090.wav\n"
     ]
    },
    {
     "name": "stderr",
     "output_type": "stream",
     "text": [
      "It is strongly recommended to pass the ``sampling_rate`` argument to this function. Failing to do so can result in silent errors that might be hard to debug.\n"
     ]
    },
    {
     "name": "stdout",
     "output_type": "stream",
     "text": [
      "i 894\n",
      "filename country.00047.wav\n",
      "label country\n",
      "track_id 00047.wav\n"
     ]
    },
    {
     "name": "stderr",
     "output_type": "stream",
     "text": [
      "It is strongly recommended to pass the ``sampling_rate`` argument to this function. Failing to do so can result in silent errors that might be hard to debug.\n"
     ]
    },
    {
     "name": "stdout",
     "output_type": "stream",
     "text": [
      "i 895\n",
      "filename country.00053.wav\n",
      "label country\n",
      "track_id 00053.wav\n"
     ]
    },
    {
     "name": "stderr",
     "output_type": "stream",
     "text": [
      "It is strongly recommended to pass the ``sampling_rate`` argument to this function. Failing to do so can result in silent errors that might be hard to debug.\n"
     ]
    },
    {
     "name": "stdout",
     "output_type": "stream",
     "text": [
      "i 896\n",
      "filename country.00052.wav\n",
      "label country\n",
      "track_id 00052.wav\n"
     ]
    },
    {
     "name": "stderr",
     "output_type": "stream",
     "text": [
      "It is strongly recommended to pass the ``sampling_rate`` argument to this function. Failing to do so can result in silent errors that might be hard to debug.\n"
     ]
    },
    {
     "name": "stdout",
     "output_type": "stream",
     "text": [
      "i 897\n",
      "filename country.00046.wav\n",
      "label country\n",
      "track_id 00046.wav\n"
     ]
    },
    {
     "name": "stderr",
     "output_type": "stream",
     "text": [
      "It is strongly recommended to pass the ``sampling_rate`` argument to this function. Failing to do so can result in silent errors that might be hard to debug.\n"
     ]
    },
    {
     "name": "stdout",
     "output_type": "stream",
     "text": [
      "i 898\n",
      "filename country.00091.wav\n",
      "label country\n",
      "track_id 00091.wav\n"
     ]
    },
    {
     "name": "stderr",
     "output_type": "stream",
     "text": [
      "It is strongly recommended to pass the ``sampling_rate`` argument to this function. Failing to do so can result in silent errors that might be hard to debug.\n"
     ]
    },
    {
     "name": "stdout",
     "output_type": "stream",
     "text": [
      "i 899\n",
      "filename country.00085.wav\n",
      "label country\n",
      "track_id 00085.wav\n"
     ]
    },
    {
     "name": "stderr",
     "output_type": "stream",
     "text": [
      "10it [55:57, 359.78s/it]It is strongly recommended to pass the ``sampling_rate`` argument to this function. Failing to do so can result in silent errors that might be hard to debug.\n"
     ]
    },
    {
     "name": "stdout",
     "output_type": "stream",
     "text": [
      "i 900\n",
      "root ../audios/gtzan/jazz\n",
      "dirs []\n",
      "files ['jazz.00016.wav', 'jazz.00002.wav', 'jazz.00003.wav', 'jazz.00017.wav', 'jazz.00001.wav', 'jazz.00015.wav', 'jazz.00029.wav', 'jazz.00028.wav', 'jazz.00014.wav', 'jazz.00000.wav', 'jazz.00038.wav', 'jazz.00004.wav', 'jazz.00010.wav', 'jazz.00011.wav', 'jazz.00005.wav', 'jazz.00039.wav', 'jazz.00013.wav', 'jazz.00007.wav', 'jazz.00006.wav', 'jazz.00012.wav', 'jazz.00075.wav', 'jazz.00061.wav', 'jazz.00049.wav', 'jazz.00048.wav', 'jazz.00060.wav', 'jazz.00074.wav', 'jazz.00062.wav', 'jazz.00076.wav', 'jazz.00089.wav', 'jazz.00088.wav', 'jazz.00077.wav', 'jazz.00063.wav', 'jazz.00067.wav', 'jazz.00073.wav', 'jazz.00098.wav', 'jazz.00099.wav', 'jazz.00072.wav', 'jazz.00066.wav', 'jazz.00058.wav', 'jazz.00070.wav', 'jazz.00064.wav', 'jazz.00065.wav', 'jazz.00071.wav', 'jazz.00059.wav', 'jazz.00054.wav', 'jazz.00040.wav', 'jazz.00068.wav', 'jazz.00097.wav', 'jazz.00083.wav', 'jazz.00082.wav', 'jazz.00096.wav', 'jazz.00069.wav', 'jazz.00041.wav', 'jazz.00055.wav', 'jazz.00043.wav', 'jazz.00057.wav', 'jazz.00080.wav', 'jazz.00094.wav', 'jazz.00095.wav', 'jazz.00081.wav', 'jazz.00056.wav', 'jazz.00042.wav', 'jazz.00046.wav', 'jazz.00052.wav', 'jazz.00085.wav', 'jazz.00091.wav', 'jazz.00090.wav', 'jazz.00084.wav', 'jazz.00053.wav', 'jazz.00047.wav', 'jazz.00079.wav', 'jazz.00051.wav', 'jazz.00045.wav', 'jazz.00092.wav', 'jazz.00086.wav', 'jazz.00087.wav', 'jazz.00093.wav', 'jazz.00044.wav', 'jazz.00050.wav', 'jazz.00078.wav', 'jazz.00037.wav', 'jazz.00023.wav', 'jazz.00022.wav', 'jazz.00036.wav', 'jazz.00020.wav', 'jazz.00034.wav', 'jazz.00008.wav', 'jazz.00009.wav', 'jazz.00035.wav', 'jazz.00021.wav', 'jazz.00019.wav', 'jazz.00025.wav', 'jazz.00031.wav', 'jazz.00030.wav', 'jazz.00024.wav', 'jazz.00018.wav', 'jazz.00032.wav', 'jazz.00026.wav', 'jazz.00027.wav', 'jazz.00033.wav']\n",
      "filename jazz.00016.wav\n",
      "label jazz\n",
      "track_id 00016.wav\n"
     ]
    },
    {
     "name": "stderr",
     "output_type": "stream",
     "text": [
      "It is strongly recommended to pass the ``sampling_rate`` argument to this function. Failing to do so can result in silent errors that might be hard to debug.\n"
     ]
    },
    {
     "name": "stdout",
     "output_type": "stream",
     "text": [
      "i 901\n",
      "filename jazz.00002.wav\n",
      "label jazz\n",
      "track_id 00002.wav\n"
     ]
    },
    {
     "name": "stderr",
     "output_type": "stream",
     "text": [
      "It is strongly recommended to pass the ``sampling_rate`` argument to this function. Failing to do so can result in silent errors that might be hard to debug.\n"
     ]
    },
    {
     "name": "stdout",
     "output_type": "stream",
     "text": [
      "i 902\n",
      "filename jazz.00003.wav\n",
      "label jazz\n",
      "track_id 00003.wav\n"
     ]
    },
    {
     "name": "stderr",
     "output_type": "stream",
     "text": [
      "It is strongly recommended to pass the ``sampling_rate`` argument to this function. Failing to do so can result in silent errors that might be hard to debug.\n"
     ]
    },
    {
     "name": "stdout",
     "output_type": "stream",
     "text": [
      "i 903\n",
      "filename jazz.00017.wav\n",
      "label jazz\n",
      "track_id 00017.wav\n"
     ]
    },
    {
     "name": "stderr",
     "output_type": "stream",
     "text": [
      "It is strongly recommended to pass the ``sampling_rate`` argument to this function. Failing to do so can result in silent errors that might be hard to debug.\n"
     ]
    },
    {
     "name": "stdout",
     "output_type": "stream",
     "text": [
      "i 904\n",
      "filename jazz.00001.wav\n",
      "label jazz\n",
      "track_id 00001.wav\n"
     ]
    },
    {
     "name": "stderr",
     "output_type": "stream",
     "text": [
      "It is strongly recommended to pass the ``sampling_rate`` argument to this function. Failing to do so can result in silent errors that might be hard to debug.\n"
     ]
    },
    {
     "name": "stdout",
     "output_type": "stream",
     "text": [
      "i 905\n",
      "filename jazz.00015.wav\n",
      "label jazz\n",
      "track_id 00015.wav\n"
     ]
    },
    {
     "name": "stderr",
     "output_type": "stream",
     "text": [
      "It is strongly recommended to pass the ``sampling_rate`` argument to this function. Failing to do so can result in silent errors that might be hard to debug.\n"
     ]
    },
    {
     "name": "stdout",
     "output_type": "stream",
     "text": [
      "i 906\n",
      "filename jazz.00029.wav\n",
      "label jazz\n",
      "track_id 00029.wav\n"
     ]
    },
    {
     "name": "stderr",
     "output_type": "stream",
     "text": [
      "It is strongly recommended to pass the ``sampling_rate`` argument to this function. Failing to do so can result in silent errors that might be hard to debug.\n"
     ]
    },
    {
     "name": "stdout",
     "output_type": "stream",
     "text": [
      "i 907\n",
      "filename jazz.00028.wav\n",
      "label jazz\n",
      "track_id 00028.wav\n"
     ]
    },
    {
     "name": "stderr",
     "output_type": "stream",
     "text": [
      "It is strongly recommended to pass the ``sampling_rate`` argument to this function. Failing to do so can result in silent errors that might be hard to debug.\n"
     ]
    },
    {
     "name": "stdout",
     "output_type": "stream",
     "text": [
      "i 908\n",
      "filename jazz.00014.wav\n",
      "label jazz\n",
      "track_id 00014.wav\n"
     ]
    },
    {
     "name": "stderr",
     "output_type": "stream",
     "text": [
      "It is strongly recommended to pass the ``sampling_rate`` argument to this function. Failing to do so can result in silent errors that might be hard to debug.\n"
     ]
    },
    {
     "name": "stdout",
     "output_type": "stream",
     "text": [
      "i 909\n",
      "filename jazz.00000.wav\n",
      "label jazz\n",
      "track_id 00000.wav\n"
     ]
    },
    {
     "name": "stderr",
     "output_type": "stream",
     "text": [
      "It is strongly recommended to pass the ``sampling_rate`` argument to this function. Failing to do so can result in silent errors that might be hard to debug.\n"
     ]
    },
    {
     "name": "stdout",
     "output_type": "stream",
     "text": [
      "i 910\n",
      "filename jazz.00038.wav\n",
      "label jazz\n",
      "track_id 00038.wav\n"
     ]
    },
    {
     "name": "stderr",
     "output_type": "stream",
     "text": [
      "It is strongly recommended to pass the ``sampling_rate`` argument to this function. Failing to do so can result in silent errors that might be hard to debug.\n"
     ]
    },
    {
     "name": "stdout",
     "output_type": "stream",
     "text": [
      "i 911\n",
      "filename jazz.00004.wav\n",
      "label jazz\n",
      "track_id 00004.wav\n"
     ]
    },
    {
     "name": "stderr",
     "output_type": "stream",
     "text": [
      "It is strongly recommended to pass the ``sampling_rate`` argument to this function. Failing to do so can result in silent errors that might be hard to debug.\n"
     ]
    },
    {
     "name": "stdout",
     "output_type": "stream",
     "text": [
      "i 912\n",
      "filename jazz.00010.wav\n",
      "label jazz\n",
      "track_id 00010.wav\n"
     ]
    },
    {
     "name": "stderr",
     "output_type": "stream",
     "text": [
      "It is strongly recommended to pass the ``sampling_rate`` argument to this function. Failing to do so can result in silent errors that might be hard to debug.\n"
     ]
    },
    {
     "name": "stdout",
     "output_type": "stream",
     "text": [
      "i 913\n",
      "filename jazz.00011.wav\n",
      "label jazz\n",
      "track_id 00011.wav\n"
     ]
    },
    {
     "name": "stderr",
     "output_type": "stream",
     "text": [
      "It is strongly recommended to pass the ``sampling_rate`` argument to this function. Failing to do so can result in silent errors that might be hard to debug.\n"
     ]
    },
    {
     "name": "stdout",
     "output_type": "stream",
     "text": [
      "i 914\n",
      "filename jazz.00005.wav\n",
      "label jazz\n",
      "track_id 00005.wav\n"
     ]
    },
    {
     "name": "stderr",
     "output_type": "stream",
     "text": [
      "It is strongly recommended to pass the ``sampling_rate`` argument to this function. Failing to do so can result in silent errors that might be hard to debug.\n"
     ]
    },
    {
     "name": "stdout",
     "output_type": "stream",
     "text": [
      "i 915\n",
      "filename jazz.00039.wav\n",
      "label jazz\n",
      "track_id 00039.wav\n"
     ]
    },
    {
     "name": "stderr",
     "output_type": "stream",
     "text": [
      "It is strongly recommended to pass the ``sampling_rate`` argument to this function. Failing to do so can result in silent errors that might be hard to debug.\n"
     ]
    },
    {
     "name": "stdout",
     "output_type": "stream",
     "text": [
      "i 916\n",
      "filename jazz.00013.wav\n",
      "label jazz\n",
      "track_id 00013.wav\n"
     ]
    },
    {
     "name": "stderr",
     "output_type": "stream",
     "text": [
      "It is strongly recommended to pass the ``sampling_rate`` argument to this function. Failing to do so can result in silent errors that might be hard to debug.\n"
     ]
    },
    {
     "name": "stdout",
     "output_type": "stream",
     "text": [
      "i 917\n",
      "filename jazz.00007.wav\n",
      "label jazz\n",
      "track_id 00007.wav\n"
     ]
    },
    {
     "name": "stderr",
     "output_type": "stream",
     "text": [
      "It is strongly recommended to pass the ``sampling_rate`` argument to this function. Failing to do so can result in silent errors that might be hard to debug.\n"
     ]
    },
    {
     "name": "stdout",
     "output_type": "stream",
     "text": [
      "i 918\n",
      "filename jazz.00006.wav\n",
      "label jazz\n",
      "track_id 00006.wav\n"
     ]
    },
    {
     "name": "stderr",
     "output_type": "stream",
     "text": [
      "It is strongly recommended to pass the ``sampling_rate`` argument to this function. Failing to do so can result in silent errors that might be hard to debug.\n"
     ]
    },
    {
     "name": "stdout",
     "output_type": "stream",
     "text": [
      "i 919\n",
      "filename jazz.00012.wav\n",
      "label jazz\n",
      "track_id 00012.wav\n"
     ]
    },
    {
     "name": "stderr",
     "output_type": "stream",
     "text": [
      "It is strongly recommended to pass the ``sampling_rate`` argument to this function. Failing to do so can result in silent errors that might be hard to debug.\n"
     ]
    },
    {
     "name": "stdout",
     "output_type": "stream",
     "text": [
      "i 920\n",
      "filename jazz.00075.wav\n",
      "label jazz\n",
      "track_id 00075.wav\n"
     ]
    },
    {
     "name": "stderr",
     "output_type": "stream",
     "text": [
      "It is strongly recommended to pass the ``sampling_rate`` argument to this function. Failing to do so can result in silent errors that might be hard to debug.\n"
     ]
    },
    {
     "name": "stdout",
     "output_type": "stream",
     "text": [
      "i 921\n",
      "filename jazz.00061.wav\n",
      "label jazz\n",
      "track_id 00061.wav\n"
     ]
    },
    {
     "name": "stderr",
     "output_type": "stream",
     "text": [
      "It is strongly recommended to pass the ``sampling_rate`` argument to this function. Failing to do so can result in silent errors that might be hard to debug.\n"
     ]
    },
    {
     "name": "stdout",
     "output_type": "stream",
     "text": [
      "i 922\n",
      "filename jazz.00049.wav\n",
      "label jazz\n",
      "track_id 00049.wav\n"
     ]
    },
    {
     "name": "stderr",
     "output_type": "stream",
     "text": [
      "It is strongly recommended to pass the ``sampling_rate`` argument to this function. Failing to do so can result in silent errors that might be hard to debug.\n"
     ]
    },
    {
     "name": "stdout",
     "output_type": "stream",
     "text": [
      "i 923\n",
      "filename jazz.00048.wav\n",
      "label jazz\n",
      "track_id 00048.wav\n"
     ]
    },
    {
     "name": "stderr",
     "output_type": "stream",
     "text": [
      "It is strongly recommended to pass the ``sampling_rate`` argument to this function. Failing to do so can result in silent errors that might be hard to debug.\n"
     ]
    },
    {
     "name": "stdout",
     "output_type": "stream",
     "text": [
      "i 924\n",
      "filename jazz.00060.wav\n",
      "label jazz\n",
      "track_id 00060.wav\n"
     ]
    },
    {
     "name": "stderr",
     "output_type": "stream",
     "text": [
      "It is strongly recommended to pass the ``sampling_rate`` argument to this function. Failing to do so can result in silent errors that might be hard to debug.\n"
     ]
    },
    {
     "name": "stdout",
     "output_type": "stream",
     "text": [
      "i 925\n",
      "filename jazz.00074.wav\n",
      "label jazz\n",
      "track_id 00074.wav\n"
     ]
    },
    {
     "name": "stderr",
     "output_type": "stream",
     "text": [
      "It is strongly recommended to pass the ``sampling_rate`` argument to this function. Failing to do so can result in silent errors that might be hard to debug.\n"
     ]
    },
    {
     "name": "stdout",
     "output_type": "stream",
     "text": [
      "i 926\n",
      "filename jazz.00062.wav\n",
      "label jazz\n",
      "track_id 00062.wav\n"
     ]
    },
    {
     "name": "stderr",
     "output_type": "stream",
     "text": [
      "It is strongly recommended to pass the ``sampling_rate`` argument to this function. Failing to do so can result in silent errors that might be hard to debug.\n"
     ]
    },
    {
     "name": "stdout",
     "output_type": "stream",
     "text": [
      "i 927\n",
      "filename jazz.00076.wav\n",
      "label jazz\n",
      "track_id 00076.wav\n"
     ]
    },
    {
     "name": "stderr",
     "output_type": "stream",
     "text": [
      "It is strongly recommended to pass the ``sampling_rate`` argument to this function. Failing to do so can result in silent errors that might be hard to debug.\n"
     ]
    },
    {
     "name": "stdout",
     "output_type": "stream",
     "text": [
      "i 928\n",
      "filename jazz.00089.wav\n",
      "label jazz\n",
      "track_id 00089.wav\n"
     ]
    },
    {
     "name": "stderr",
     "output_type": "stream",
     "text": [
      "It is strongly recommended to pass the ``sampling_rate`` argument to this function. Failing to do so can result in silent errors that might be hard to debug.\n"
     ]
    },
    {
     "name": "stdout",
     "output_type": "stream",
     "text": [
      "i 929\n",
      "filename jazz.00088.wav\n",
      "label jazz\n",
      "track_id 00088.wav\n"
     ]
    },
    {
     "name": "stderr",
     "output_type": "stream",
     "text": [
      "It is strongly recommended to pass the ``sampling_rate`` argument to this function. Failing to do so can result in silent errors that might be hard to debug.\n"
     ]
    },
    {
     "name": "stdout",
     "output_type": "stream",
     "text": [
      "i 930\n",
      "filename jazz.00077.wav\n",
      "label jazz\n",
      "track_id 00077.wav\n"
     ]
    },
    {
     "name": "stderr",
     "output_type": "stream",
     "text": [
      "It is strongly recommended to pass the ``sampling_rate`` argument to this function. Failing to do so can result in silent errors that might be hard to debug.\n"
     ]
    },
    {
     "name": "stdout",
     "output_type": "stream",
     "text": [
      "i 931\n",
      "filename jazz.00063.wav\n",
      "label jazz\n",
      "track_id 00063.wav\n"
     ]
    },
    {
     "name": "stderr",
     "output_type": "stream",
     "text": [
      "It is strongly recommended to pass the ``sampling_rate`` argument to this function. Failing to do so can result in silent errors that might be hard to debug.\n"
     ]
    },
    {
     "name": "stdout",
     "output_type": "stream",
     "text": [
      "i 932\n",
      "filename jazz.00067.wav\n",
      "label jazz\n",
      "track_id 00067.wav\n"
     ]
    },
    {
     "name": "stderr",
     "output_type": "stream",
     "text": [
      "It is strongly recommended to pass the ``sampling_rate`` argument to this function. Failing to do so can result in silent errors that might be hard to debug.\n"
     ]
    },
    {
     "name": "stdout",
     "output_type": "stream",
     "text": [
      "i 933\n",
      "filename jazz.00073.wav\n",
      "label jazz\n",
      "track_id 00073.wav\n"
     ]
    },
    {
     "name": "stderr",
     "output_type": "stream",
     "text": [
      "It is strongly recommended to pass the ``sampling_rate`` argument to this function. Failing to do so can result in silent errors that might be hard to debug.\n"
     ]
    },
    {
     "name": "stdout",
     "output_type": "stream",
     "text": [
      "i 934\n",
      "filename jazz.00098.wav\n",
      "label jazz\n",
      "track_id 00098.wav\n"
     ]
    },
    {
     "name": "stderr",
     "output_type": "stream",
     "text": [
      "It is strongly recommended to pass the ``sampling_rate`` argument to this function. Failing to do so can result in silent errors that might be hard to debug.\n"
     ]
    },
    {
     "name": "stdout",
     "output_type": "stream",
     "text": [
      "i 935\n",
      "filename jazz.00099.wav\n",
      "label jazz\n",
      "track_id 00099.wav\n"
     ]
    },
    {
     "name": "stderr",
     "output_type": "stream",
     "text": [
      "It is strongly recommended to pass the ``sampling_rate`` argument to this function. Failing to do so can result in silent errors that might be hard to debug.\n"
     ]
    },
    {
     "name": "stdout",
     "output_type": "stream",
     "text": [
      "i 936\n",
      "filename jazz.00072.wav\n",
      "label jazz\n",
      "track_id 00072.wav\n"
     ]
    },
    {
     "name": "stderr",
     "output_type": "stream",
     "text": [
      "It is strongly recommended to pass the ``sampling_rate`` argument to this function. Failing to do so can result in silent errors that might be hard to debug.\n"
     ]
    },
    {
     "name": "stdout",
     "output_type": "stream",
     "text": [
      "i 937\n",
      "filename jazz.00066.wav\n",
      "label jazz\n",
      "track_id 00066.wav\n"
     ]
    },
    {
     "name": "stderr",
     "output_type": "stream",
     "text": [
      "It is strongly recommended to pass the ``sampling_rate`` argument to this function. Failing to do so can result in silent errors that might be hard to debug.\n"
     ]
    },
    {
     "name": "stdout",
     "output_type": "stream",
     "text": [
      "i 938\n",
      "filename jazz.00058.wav\n",
      "label jazz\n",
      "track_id 00058.wav\n"
     ]
    },
    {
     "name": "stderr",
     "output_type": "stream",
     "text": [
      "It is strongly recommended to pass the ``sampling_rate`` argument to this function. Failing to do so can result in silent errors that might be hard to debug.\n"
     ]
    },
    {
     "name": "stdout",
     "output_type": "stream",
     "text": [
      "i 939\n",
      "filename jazz.00070.wav\n",
      "label jazz\n",
      "track_id 00070.wav\n"
     ]
    },
    {
     "name": "stderr",
     "output_type": "stream",
     "text": [
      "It is strongly recommended to pass the ``sampling_rate`` argument to this function. Failing to do so can result in silent errors that might be hard to debug.\n"
     ]
    },
    {
     "name": "stdout",
     "output_type": "stream",
     "text": [
      "i 940\n",
      "filename jazz.00064.wav\n",
      "label jazz\n",
      "track_id 00064.wav\n"
     ]
    },
    {
     "name": "stderr",
     "output_type": "stream",
     "text": [
      "It is strongly recommended to pass the ``sampling_rate`` argument to this function. Failing to do so can result in silent errors that might be hard to debug.\n"
     ]
    },
    {
     "name": "stdout",
     "output_type": "stream",
     "text": [
      "i 941\n",
      "filename jazz.00065.wav\n",
      "label jazz\n",
      "track_id 00065.wav\n"
     ]
    },
    {
     "name": "stderr",
     "output_type": "stream",
     "text": [
      "It is strongly recommended to pass the ``sampling_rate`` argument to this function. Failing to do so can result in silent errors that might be hard to debug.\n"
     ]
    },
    {
     "name": "stdout",
     "output_type": "stream",
     "text": [
      "i 942\n",
      "filename jazz.00071.wav\n",
      "label jazz\n",
      "track_id 00071.wav\n"
     ]
    },
    {
     "name": "stderr",
     "output_type": "stream",
     "text": [
      "It is strongly recommended to pass the ``sampling_rate`` argument to this function. Failing to do so can result in silent errors that might be hard to debug.\n"
     ]
    },
    {
     "name": "stdout",
     "output_type": "stream",
     "text": [
      "i 943\n",
      "filename jazz.00059.wav\n",
      "label jazz\n",
      "track_id 00059.wav\n"
     ]
    },
    {
     "name": "stderr",
     "output_type": "stream",
     "text": [
      "It is strongly recommended to pass the ``sampling_rate`` argument to this function. Failing to do so can result in silent errors that might be hard to debug.\n"
     ]
    },
    {
     "name": "stdout",
     "output_type": "stream",
     "text": [
      "i 944\n",
      "filename jazz.00054.wav\n",
      "label jazz\n",
      "track_id 00054.wav\n",
      "filename jazz.00040.wav\n",
      "label jazz\n",
      "track_id 00040.wav\n"
     ]
    },
    {
     "name": "stderr",
     "output_type": "stream",
     "text": [
      "It is strongly recommended to pass the ``sampling_rate`` argument to this function. Failing to do so can result in silent errors that might be hard to debug.\n"
     ]
    },
    {
     "name": "stdout",
     "output_type": "stream",
     "text": [
      "i 945\n",
      "filename jazz.00068.wav\n",
      "label jazz\n",
      "track_id 00068.wav\n"
     ]
    },
    {
     "name": "stderr",
     "output_type": "stream",
     "text": [
      "It is strongly recommended to pass the ``sampling_rate`` argument to this function. Failing to do so can result in silent errors that might be hard to debug.\n"
     ]
    },
    {
     "name": "stdout",
     "output_type": "stream",
     "text": [
      "i 946\n",
      "filename jazz.00097.wav\n",
      "label jazz\n",
      "track_id 00097.wav\n"
     ]
    },
    {
     "name": "stderr",
     "output_type": "stream",
     "text": [
      "It is strongly recommended to pass the ``sampling_rate`` argument to this function. Failing to do so can result in silent errors that might be hard to debug.\n"
     ]
    },
    {
     "name": "stdout",
     "output_type": "stream",
     "text": [
      "i 947\n",
      "filename jazz.00083.wav\n",
      "label jazz\n",
      "track_id 00083.wav\n"
     ]
    },
    {
     "name": "stderr",
     "output_type": "stream",
     "text": [
      "It is strongly recommended to pass the ``sampling_rate`` argument to this function. Failing to do so can result in silent errors that might be hard to debug.\n"
     ]
    },
    {
     "name": "stdout",
     "output_type": "stream",
     "text": [
      "i 948\n",
      "filename jazz.00082.wav\n",
      "label jazz\n",
      "track_id 00082.wav\n"
     ]
    },
    {
     "name": "stderr",
     "output_type": "stream",
     "text": [
      "It is strongly recommended to pass the ``sampling_rate`` argument to this function. Failing to do so can result in silent errors that might be hard to debug.\n"
     ]
    },
    {
     "name": "stdout",
     "output_type": "stream",
     "text": [
      "i 949\n",
      "filename jazz.00096.wav\n",
      "label jazz\n",
      "track_id 00096.wav\n"
     ]
    },
    {
     "name": "stderr",
     "output_type": "stream",
     "text": [
      "It is strongly recommended to pass the ``sampling_rate`` argument to this function. Failing to do so can result in silent errors that might be hard to debug.\n"
     ]
    },
    {
     "name": "stdout",
     "output_type": "stream",
     "text": [
      "i 950\n",
      "filename jazz.00069.wav\n",
      "label jazz\n",
      "track_id 00069.wav\n"
     ]
    },
    {
     "name": "stderr",
     "output_type": "stream",
     "text": [
      "It is strongly recommended to pass the ``sampling_rate`` argument to this function. Failing to do so can result in silent errors that might be hard to debug.\n"
     ]
    },
    {
     "name": "stdout",
     "output_type": "stream",
     "text": [
      "i 951\n",
      "filename jazz.00041.wav\n",
      "label jazz\n",
      "track_id 00041.wav\n"
     ]
    },
    {
     "name": "stderr",
     "output_type": "stream",
     "text": [
      "It is strongly recommended to pass the ``sampling_rate`` argument to this function. Failing to do so can result in silent errors that might be hard to debug.\n"
     ]
    },
    {
     "name": "stdout",
     "output_type": "stream",
     "text": [
      "i 952\n",
      "filename jazz.00055.wav\n",
      "label jazz\n",
      "track_id 00055.wav\n"
     ]
    },
    {
     "name": "stderr",
     "output_type": "stream",
     "text": [
      "It is strongly recommended to pass the ``sampling_rate`` argument to this function. Failing to do so can result in silent errors that might be hard to debug.\n"
     ]
    },
    {
     "name": "stdout",
     "output_type": "stream",
     "text": [
      "i 953\n",
      "filename jazz.00043.wav\n",
      "label jazz\n",
      "track_id 00043.wav\n"
     ]
    },
    {
     "name": "stderr",
     "output_type": "stream",
     "text": [
      "It is strongly recommended to pass the ``sampling_rate`` argument to this function. Failing to do so can result in silent errors that might be hard to debug.\n"
     ]
    },
    {
     "name": "stdout",
     "output_type": "stream",
     "text": [
      "i 954\n",
      "filename jazz.00057.wav\n",
      "label jazz\n",
      "track_id 00057.wav\n"
     ]
    },
    {
     "name": "stderr",
     "output_type": "stream",
     "text": [
      "It is strongly recommended to pass the ``sampling_rate`` argument to this function. Failing to do so can result in silent errors that might be hard to debug.\n"
     ]
    },
    {
     "name": "stdout",
     "output_type": "stream",
     "text": [
      "i 955\n",
      "filename jazz.00080.wav\n",
      "label jazz\n",
      "track_id 00080.wav\n"
     ]
    },
    {
     "name": "stderr",
     "output_type": "stream",
     "text": [
      "It is strongly recommended to pass the ``sampling_rate`` argument to this function. Failing to do so can result in silent errors that might be hard to debug.\n"
     ]
    },
    {
     "name": "stdout",
     "output_type": "stream",
     "text": [
      "i 956\n",
      "filename jazz.00094.wav\n",
      "label jazz\n",
      "track_id 00094.wav\n"
     ]
    },
    {
     "name": "stderr",
     "output_type": "stream",
     "text": [
      "It is strongly recommended to pass the ``sampling_rate`` argument to this function. Failing to do so can result in silent errors that might be hard to debug.\n"
     ]
    },
    {
     "name": "stdout",
     "output_type": "stream",
     "text": [
      "i 957\n",
      "filename jazz.00095.wav\n",
      "label jazz\n",
      "track_id 00095.wav\n"
     ]
    },
    {
     "name": "stderr",
     "output_type": "stream",
     "text": [
      "It is strongly recommended to pass the ``sampling_rate`` argument to this function. Failing to do so can result in silent errors that might be hard to debug.\n"
     ]
    },
    {
     "name": "stdout",
     "output_type": "stream",
     "text": [
      "i 958\n",
      "filename jazz.00081.wav\n",
      "label jazz\n",
      "track_id 00081.wav\n"
     ]
    },
    {
     "name": "stderr",
     "output_type": "stream",
     "text": [
      "It is strongly recommended to pass the ``sampling_rate`` argument to this function. Failing to do so can result in silent errors that might be hard to debug.\n"
     ]
    },
    {
     "name": "stdout",
     "output_type": "stream",
     "text": [
      "i 959\n",
      "filename jazz.00056.wav\n",
      "label jazz\n",
      "track_id 00056.wav\n"
     ]
    },
    {
     "name": "stderr",
     "output_type": "stream",
     "text": [
      "It is strongly recommended to pass the ``sampling_rate`` argument to this function. Failing to do so can result in silent errors that might be hard to debug.\n"
     ]
    },
    {
     "name": "stdout",
     "output_type": "stream",
     "text": [
      "i 960\n",
      "filename jazz.00042.wav\n",
      "label jazz\n",
      "track_id 00042.wav\n"
     ]
    },
    {
     "name": "stderr",
     "output_type": "stream",
     "text": [
      "It is strongly recommended to pass the ``sampling_rate`` argument to this function. Failing to do so can result in silent errors that might be hard to debug.\n"
     ]
    },
    {
     "name": "stdout",
     "output_type": "stream",
     "text": [
      "i 961\n",
      "filename jazz.00046.wav\n",
      "label jazz\n",
      "track_id 00046.wav\n"
     ]
    },
    {
     "name": "stderr",
     "output_type": "stream",
     "text": [
      "It is strongly recommended to pass the ``sampling_rate`` argument to this function. Failing to do so can result in silent errors that might be hard to debug.\n"
     ]
    },
    {
     "name": "stdout",
     "output_type": "stream",
     "text": [
      "i 962\n",
      "filename jazz.00052.wav\n",
      "label jazz\n",
      "track_id 00052.wav\n"
     ]
    },
    {
     "name": "stderr",
     "output_type": "stream",
     "text": [
      "It is strongly recommended to pass the ``sampling_rate`` argument to this function. Failing to do so can result in silent errors that might be hard to debug.\n"
     ]
    },
    {
     "name": "stdout",
     "output_type": "stream",
     "text": [
      "i 963\n",
      "filename jazz.00085.wav\n",
      "label jazz\n",
      "track_id 00085.wav\n"
     ]
    },
    {
     "name": "stderr",
     "output_type": "stream",
     "text": [
      "It is strongly recommended to pass the ``sampling_rate`` argument to this function. Failing to do so can result in silent errors that might be hard to debug.\n"
     ]
    },
    {
     "name": "stdout",
     "output_type": "stream",
     "text": [
      "i 964\n",
      "filename jazz.00091.wav\n",
      "label jazz\n",
      "track_id 00091.wav\n"
     ]
    },
    {
     "name": "stderr",
     "output_type": "stream",
     "text": [
      "It is strongly recommended to pass the ``sampling_rate`` argument to this function. Failing to do so can result in silent errors that might be hard to debug.\n"
     ]
    },
    {
     "name": "stdout",
     "output_type": "stream",
     "text": [
      "i 965\n",
      "filename jazz.00090.wav\n",
      "label jazz\n",
      "track_id 00090.wav\n"
     ]
    },
    {
     "name": "stderr",
     "output_type": "stream",
     "text": [
      "It is strongly recommended to pass the ``sampling_rate`` argument to this function. Failing to do so can result in silent errors that might be hard to debug.\n"
     ]
    },
    {
     "name": "stdout",
     "output_type": "stream",
     "text": [
      "i 966\n",
      "filename jazz.00084.wav\n",
      "label jazz\n",
      "track_id 00084.wav\n"
     ]
    },
    {
     "name": "stderr",
     "output_type": "stream",
     "text": [
      "It is strongly recommended to pass the ``sampling_rate`` argument to this function. Failing to do so can result in silent errors that might be hard to debug.\n"
     ]
    },
    {
     "name": "stdout",
     "output_type": "stream",
     "text": [
      "i 967\n",
      "filename jazz.00053.wav\n",
      "label jazz\n",
      "track_id 00053.wav\n"
     ]
    },
    {
     "name": "stderr",
     "output_type": "stream",
     "text": [
      "It is strongly recommended to pass the ``sampling_rate`` argument to this function. Failing to do so can result in silent errors that might be hard to debug.\n"
     ]
    },
    {
     "name": "stdout",
     "output_type": "stream",
     "text": [
      "i 968\n",
      "filename jazz.00047.wav\n",
      "label jazz\n",
      "track_id 00047.wav\n"
     ]
    },
    {
     "name": "stderr",
     "output_type": "stream",
     "text": [
      "It is strongly recommended to pass the ``sampling_rate`` argument to this function. Failing to do so can result in silent errors that might be hard to debug.\n"
     ]
    },
    {
     "name": "stdout",
     "output_type": "stream",
     "text": [
      "i 969\n",
      "filename jazz.00079.wav\n",
      "label jazz\n",
      "track_id 00079.wav\n"
     ]
    },
    {
     "name": "stderr",
     "output_type": "stream",
     "text": [
      "It is strongly recommended to pass the ``sampling_rate`` argument to this function. Failing to do so can result in silent errors that might be hard to debug.\n"
     ]
    },
    {
     "name": "stdout",
     "output_type": "stream",
     "text": [
      "i 970\n",
      "filename jazz.00051.wav\n",
      "label jazz\n",
      "track_id 00051.wav\n"
     ]
    },
    {
     "name": "stderr",
     "output_type": "stream",
     "text": [
      "It is strongly recommended to pass the ``sampling_rate`` argument to this function. Failing to do so can result in silent errors that might be hard to debug.\n"
     ]
    },
    {
     "name": "stdout",
     "output_type": "stream",
     "text": [
      "i 971\n",
      "filename jazz.00045.wav\n",
      "label jazz\n",
      "track_id 00045.wav\n"
     ]
    },
    {
     "name": "stderr",
     "output_type": "stream",
     "text": [
      "It is strongly recommended to pass the ``sampling_rate`` argument to this function. Failing to do so can result in silent errors that might be hard to debug.\n"
     ]
    },
    {
     "name": "stdout",
     "output_type": "stream",
     "text": [
      "i 972\n",
      "filename jazz.00092.wav\n",
      "label jazz\n",
      "track_id 00092.wav\n"
     ]
    },
    {
     "name": "stderr",
     "output_type": "stream",
     "text": [
      "It is strongly recommended to pass the ``sampling_rate`` argument to this function. Failing to do so can result in silent errors that might be hard to debug.\n"
     ]
    },
    {
     "name": "stdout",
     "output_type": "stream",
     "text": [
      "i 973\n",
      "filename jazz.00086.wav\n",
      "label jazz\n",
      "track_id 00086.wav\n"
     ]
    },
    {
     "name": "stderr",
     "output_type": "stream",
     "text": [
      "It is strongly recommended to pass the ``sampling_rate`` argument to this function. Failing to do so can result in silent errors that might be hard to debug.\n"
     ]
    },
    {
     "name": "stdout",
     "output_type": "stream",
     "text": [
      "i 974\n",
      "filename jazz.00087.wav\n",
      "label jazz\n",
      "track_id 00087.wav\n"
     ]
    },
    {
     "name": "stderr",
     "output_type": "stream",
     "text": [
      "It is strongly recommended to pass the ``sampling_rate`` argument to this function. Failing to do so can result in silent errors that might be hard to debug.\n"
     ]
    },
    {
     "name": "stdout",
     "output_type": "stream",
     "text": [
      "i 975\n",
      "filename jazz.00093.wav\n",
      "label jazz\n",
      "track_id 00093.wav\n"
     ]
    },
    {
     "name": "stderr",
     "output_type": "stream",
     "text": [
      "It is strongly recommended to pass the ``sampling_rate`` argument to this function. Failing to do so can result in silent errors that might be hard to debug.\n"
     ]
    },
    {
     "name": "stdout",
     "output_type": "stream",
     "text": [
      "i 976\n",
      "filename jazz.00044.wav\n",
      "label jazz\n",
      "track_id 00044.wav\n"
     ]
    },
    {
     "name": "stderr",
     "output_type": "stream",
     "text": [
      "It is strongly recommended to pass the ``sampling_rate`` argument to this function. Failing to do so can result in silent errors that might be hard to debug.\n"
     ]
    },
    {
     "name": "stdout",
     "output_type": "stream",
     "text": [
      "i 977\n",
      "filename jazz.00050.wav\n",
      "label jazz\n",
      "track_id 00050.wav\n"
     ]
    },
    {
     "name": "stderr",
     "output_type": "stream",
     "text": [
      "It is strongly recommended to pass the ``sampling_rate`` argument to this function. Failing to do so can result in silent errors that might be hard to debug.\n"
     ]
    },
    {
     "name": "stdout",
     "output_type": "stream",
     "text": [
      "i 978\n",
      "filename jazz.00078.wav\n",
      "label jazz\n",
      "track_id 00078.wav\n"
     ]
    },
    {
     "name": "stderr",
     "output_type": "stream",
     "text": [
      "It is strongly recommended to pass the ``sampling_rate`` argument to this function. Failing to do so can result in silent errors that might be hard to debug.\n"
     ]
    },
    {
     "name": "stdout",
     "output_type": "stream",
     "text": [
      "i 979\n",
      "filename jazz.00037.wav\n",
      "label jazz\n",
      "track_id 00037.wav\n"
     ]
    },
    {
     "name": "stderr",
     "output_type": "stream",
     "text": [
      "It is strongly recommended to pass the ``sampling_rate`` argument to this function. Failing to do so can result in silent errors that might be hard to debug.\n"
     ]
    },
    {
     "name": "stdout",
     "output_type": "stream",
     "text": [
      "i 980\n",
      "filename jazz.00023.wav\n",
      "label jazz\n",
      "track_id 00023.wav\n"
     ]
    },
    {
     "name": "stderr",
     "output_type": "stream",
     "text": [
      "It is strongly recommended to pass the ``sampling_rate`` argument to this function. Failing to do so can result in silent errors that might be hard to debug.\n"
     ]
    },
    {
     "name": "stdout",
     "output_type": "stream",
     "text": [
      "i 981\n",
      "filename jazz.00022.wav\n",
      "label jazz\n",
      "track_id 00022.wav\n"
     ]
    },
    {
     "name": "stderr",
     "output_type": "stream",
     "text": [
      "It is strongly recommended to pass the ``sampling_rate`` argument to this function. Failing to do so can result in silent errors that might be hard to debug.\n"
     ]
    },
    {
     "name": "stdout",
     "output_type": "stream",
     "text": [
      "i 982\n",
      "filename jazz.00036.wav\n",
      "label jazz\n",
      "track_id 00036.wav\n"
     ]
    },
    {
     "name": "stderr",
     "output_type": "stream",
     "text": [
      "It is strongly recommended to pass the ``sampling_rate`` argument to this function. Failing to do so can result in silent errors that might be hard to debug.\n"
     ]
    },
    {
     "name": "stdout",
     "output_type": "stream",
     "text": [
      "i 983\n",
      "filename jazz.00020.wav\n",
      "label jazz\n",
      "track_id 00020.wav\n"
     ]
    },
    {
     "name": "stderr",
     "output_type": "stream",
     "text": [
      "It is strongly recommended to pass the ``sampling_rate`` argument to this function. Failing to do so can result in silent errors that might be hard to debug.\n"
     ]
    },
    {
     "name": "stdout",
     "output_type": "stream",
     "text": [
      "i 984\n",
      "filename jazz.00034.wav\n",
      "label jazz\n",
      "track_id 00034.wav\n"
     ]
    },
    {
     "name": "stderr",
     "output_type": "stream",
     "text": [
      "It is strongly recommended to pass the ``sampling_rate`` argument to this function. Failing to do so can result in silent errors that might be hard to debug.\n"
     ]
    },
    {
     "name": "stdout",
     "output_type": "stream",
     "text": [
      "i 985\n",
      "filename jazz.00008.wav\n",
      "label jazz\n",
      "track_id 00008.wav\n"
     ]
    },
    {
     "name": "stderr",
     "output_type": "stream",
     "text": [
      "It is strongly recommended to pass the ``sampling_rate`` argument to this function. Failing to do so can result in silent errors that might be hard to debug.\n"
     ]
    },
    {
     "name": "stdout",
     "output_type": "stream",
     "text": [
      "i 986\n",
      "filename jazz.00009.wav\n",
      "label jazz\n",
      "track_id 00009.wav\n"
     ]
    },
    {
     "name": "stderr",
     "output_type": "stream",
     "text": [
      "It is strongly recommended to pass the ``sampling_rate`` argument to this function. Failing to do so can result in silent errors that might be hard to debug.\n"
     ]
    },
    {
     "name": "stdout",
     "output_type": "stream",
     "text": [
      "i 987\n",
      "filename jazz.00035.wav\n",
      "label jazz\n",
      "track_id 00035.wav\n"
     ]
    },
    {
     "name": "stderr",
     "output_type": "stream",
     "text": [
      "It is strongly recommended to pass the ``sampling_rate`` argument to this function. Failing to do so can result in silent errors that might be hard to debug.\n"
     ]
    },
    {
     "name": "stdout",
     "output_type": "stream",
     "text": [
      "i 988\n",
      "filename jazz.00021.wav\n",
      "label jazz\n",
      "track_id 00021.wav\n"
     ]
    },
    {
     "name": "stderr",
     "output_type": "stream",
     "text": [
      "It is strongly recommended to pass the ``sampling_rate`` argument to this function. Failing to do so can result in silent errors that might be hard to debug.\n"
     ]
    },
    {
     "name": "stdout",
     "output_type": "stream",
     "text": [
      "i 989\n",
      "filename jazz.00019.wav\n",
      "label jazz\n",
      "track_id 00019.wav\n"
     ]
    },
    {
     "name": "stderr",
     "output_type": "stream",
     "text": [
      "It is strongly recommended to pass the ``sampling_rate`` argument to this function. Failing to do so can result in silent errors that might be hard to debug.\n"
     ]
    },
    {
     "name": "stdout",
     "output_type": "stream",
     "text": [
      "i 990\n",
      "filename jazz.00025.wav\n",
      "label jazz\n",
      "track_id 00025.wav\n"
     ]
    },
    {
     "name": "stderr",
     "output_type": "stream",
     "text": [
      "It is strongly recommended to pass the ``sampling_rate`` argument to this function. Failing to do so can result in silent errors that might be hard to debug.\n"
     ]
    },
    {
     "name": "stdout",
     "output_type": "stream",
     "text": [
      "i 991\n",
      "filename jazz.00031.wav\n",
      "label jazz\n",
      "track_id 00031.wav\n"
     ]
    },
    {
     "name": "stderr",
     "output_type": "stream",
     "text": [
      "It is strongly recommended to pass the ``sampling_rate`` argument to this function. Failing to do so can result in silent errors that might be hard to debug.\n"
     ]
    },
    {
     "name": "stdout",
     "output_type": "stream",
     "text": [
      "i 992\n",
      "filename jazz.00030.wav\n",
      "label jazz\n",
      "track_id 00030.wav\n"
     ]
    },
    {
     "name": "stderr",
     "output_type": "stream",
     "text": [
      "It is strongly recommended to pass the ``sampling_rate`` argument to this function. Failing to do so can result in silent errors that might be hard to debug.\n"
     ]
    },
    {
     "name": "stdout",
     "output_type": "stream",
     "text": [
      "i 993\n",
      "filename jazz.00024.wav\n",
      "label jazz\n",
      "track_id 00024.wav\n"
     ]
    },
    {
     "name": "stderr",
     "output_type": "stream",
     "text": [
      "It is strongly recommended to pass the ``sampling_rate`` argument to this function. Failing to do so can result in silent errors that might be hard to debug.\n"
     ]
    },
    {
     "name": "stdout",
     "output_type": "stream",
     "text": [
      "i 994\n",
      "filename jazz.00018.wav\n",
      "label jazz\n",
      "track_id 00018.wav\n"
     ]
    },
    {
     "name": "stderr",
     "output_type": "stream",
     "text": [
      "It is strongly recommended to pass the ``sampling_rate`` argument to this function. Failing to do so can result in silent errors that might be hard to debug.\n"
     ]
    },
    {
     "name": "stdout",
     "output_type": "stream",
     "text": [
      "i 995\n",
      "filename jazz.00032.wav\n",
      "label jazz\n",
      "track_id 00032.wav\n"
     ]
    },
    {
     "name": "stderr",
     "output_type": "stream",
     "text": [
      "It is strongly recommended to pass the ``sampling_rate`` argument to this function. Failing to do so can result in silent errors that might be hard to debug.\n"
     ]
    },
    {
     "name": "stdout",
     "output_type": "stream",
     "text": [
      "i 996\n",
      "filename jazz.00026.wav\n",
      "label jazz\n",
      "track_id 00026.wav\n"
     ]
    },
    {
     "name": "stderr",
     "output_type": "stream",
     "text": [
      "It is strongly recommended to pass the ``sampling_rate`` argument to this function. Failing to do so can result in silent errors that might be hard to debug.\n"
     ]
    },
    {
     "name": "stdout",
     "output_type": "stream",
     "text": [
      "i 997\n",
      "filename jazz.00027.wav\n",
      "label jazz\n",
      "track_id 00027.wav\n"
     ]
    },
    {
     "name": "stderr",
     "output_type": "stream",
     "text": [
      "It is strongly recommended to pass the ``sampling_rate`` argument to this function. Failing to do so can result in silent errors that might be hard to debug.\n"
     ]
    },
    {
     "name": "stdout",
     "output_type": "stream",
     "text": [
      "i 998\n",
      "filename jazz.00033.wav\n",
      "label jazz\n",
      "track_id 00033.wav\n"
     ]
    },
    {
     "name": "stderr",
     "output_type": "stream",
     "text": [
      "11it [1:01:46, 336.93s/it]"
     ]
    },
    {
     "name": "stdout",
     "output_type": "stream",
     "text": [
      "i 999\n"
     ]
    },
    {
     "name": "stderr",
     "output_type": "stream",
     "text": [
      "\n"
     ]
    }
   ],
   "source": [
    "from tqdm import tqdm\n",
    "import torchaudio\n",
    "import torch\n",
    "import os\n",
    "\n",
    "audio_directory = \"../audios/gtzan\"\n",
    "arquivos_problematicos = []\n",
    "arquivos_extraidos = []\n",
    "for root, dirs, files in tqdm(os.walk(audio_directory )):\n",
    "    for filename in files:\n",
    "        if filename.endswith(\".wav\"):\n",
    "            try:\n",
    "                print('filename', filename)\n",
    "                file_path = os.path.join(root, filename)\n",
    "                label = filename.split('.')[0].lstrip(\"0\")\n",
    "                track_id = filename.split('.')[1] + '.wav'\n",
    "                print('label', label)\n",
    "                print('track_id', track_id)\n",
    "\n",
    "                audio_input, rate = torchaudio.load(file_path)\n",
    "                input_values = processor(audio_input.squeeze().numpy(), return_tensors=\"pt\", padding=\"longest\").input_values\n",
    "                # Extract features by passing the input through the model\n",
    "                with torch.no_grad():\n",
    "                    features = model(input_values).logits\n",
    "                # Aggregate features using mean pooling\n",
    "                aggregated_features = torch.mean(features, dim=1).squeeze().numpy()\n",
    "                new_row_data = list(aggregated_features) + [track_id,label]  \n",
    "                df.loc[len(df)] = new_row_data\n",
    "                arquivos_extraidos.append(filename)\n",
    "            except Exception as e:  # Captura qualquer exceção que ocorra\n",
    "                arquivos_problematicos.append(filename)  # Adiciona o nome do arquivo à lista\n",
    "\n"
   ]
  },
  {
   "cell_type": "code",
   "execution_count": 4,
   "metadata": {},
   "outputs": [],
   "source": [
    "df.to_csv('wav2vec-gtzan.csv', index=False)"
   ]
  },
  {
   "cell_type": "code",
   "execution_count": 5,
   "metadata": {},
   "outputs": [],
   "source": [
    "with open('gtzan-wav2vec-failed.txt', 'w') as file:\n",
    "    # Write each item on a new line\n",
    "    for item in arquivos_problematicos:\n",
    "        file.write(f\"{item}\\n\")"
   ]
  },
  {
   "cell_type": "code",
   "execution_count": 6,
   "metadata": {},
   "outputs": [
    {
     "name": "stdout",
     "output_type": "stream",
     "text": [
      "blues.00000.wav\n",
      "blues.00001.wav\n",
      "blues.00002.wav\n",
      "blues.00003.wav\n",
      "blues.00004.wav\n",
      "blues.00005.wav\n",
      "blues.00006.wav\n",
      "blues.00007.wav\n",
      "blues.00008.wav\n",
      "blues.00009.wav\n",
      "blues.00010.wav\n",
      "blues.00011.wav\n",
      "blues.00012.wav\n",
      "blues.00013.wav\n",
      "blues.00014.wav\n",
      "blues.00015.wav\n",
      "blues.00016.wav\n",
      "blues.00017.wav\n",
      "blues.00018.wav\n",
      "blues.00019.wav\n",
      "blues.00020.wav\n",
      "blues.00021.wav\n",
      "blues.00022.wav\n",
      "blues.00023.wav\n",
      "blues.00024.wav\n",
      "blues.00025.wav\n",
      "blues.00026.wav\n",
      "blues.00027.wav\n",
      "blues.00028.wav\n",
      "blues.00029.wav\n",
      "blues.00030.wav\n",
      "blues.00031.wav\n",
      "blues.00032.wav\n",
      "blues.00033.wav\n",
      "blues.00034.wav\n",
      "blues.00035.wav\n",
      "blues.00036.wav\n",
      "blues.00037.wav\n",
      "blues.00038.wav\n",
      "blues.00039.wav\n",
      "blues.00040.wav\n",
      "blues.00041.wav\n",
      "blues.00042.wav\n",
      "blues.00043.wav\n",
      "blues.00044.wav\n",
      "blues.00045.wav\n",
      "blues.00046.wav\n",
      "blues.00047.wav\n",
      "blues.00048.wav\n",
      "blues.00049.wav\n",
      "blues.00050.wav\n",
      "blues.00051.wav\n",
      "blues.00052.wav\n",
      "blues.00053.wav\n",
      "blues.00054.wav\n",
      "blues.00055.wav\n",
      "blues.00056.wav\n",
      "blues.00057.wav\n",
      "blues.00058.wav\n",
      "blues.00059.wav\n",
      "blues.00060.wav\n",
      "blues.00061.wav\n",
      "blues.00062.wav\n",
      "blues.00063.wav\n",
      "blues.00064.wav\n",
      "blues.00065.wav\n",
      "blues.00066.wav\n",
      "blues.00067.wav\n",
      "blues.00068.wav\n",
      "blues.00069.wav\n",
      "blues.00070.wav\n",
      "blues.00071.wav\n",
      "blues.00072.wav\n",
      "blues.00073.wav\n",
      "blues.00074.wav\n",
      "blues.00075.wav\n",
      "blues.00076.wav\n",
      "blues.00077.wav\n",
      "blues.00078.wav\n",
      "blues.00079.wav\n",
      "blues.00080.wav\n",
      "blues.00081.wav\n",
      "blues.00082.wav\n",
      "blues.00083.wav\n",
      "blues.00084.wav\n",
      "blues.00085.wav\n",
      "blues.00086.wav\n",
      "blues.00087.wav\n",
      "blues.00088.wav\n",
      "blues.00089.wav\n",
      "blues.00090.wav\n",
      "blues.00091.wav\n",
      "blues.00092.wav\n",
      "blues.00093.wav\n",
      "blues.00094.wav\n",
      "blues.00095.wav\n",
      "blues.00096.wav\n",
      "blues.00097.wav\n",
      "blues.00098.wav\n",
      "blues.00099.wav\n",
      "classical.00000.wav\n",
      "classical.00001.wav\n",
      "classical.00002.wav\n",
      "classical.00003.wav\n",
      "classical.00004.wav\n",
      "classical.00005.wav\n",
      "classical.00006.wav\n",
      "classical.00007.wav\n",
      "classical.00008.wav\n",
      "classical.00009.wav\n",
      "classical.00010.wav\n",
      "classical.00011.wav\n",
      "classical.00012.wav\n",
      "classical.00013.wav\n",
      "classical.00014.wav\n",
      "classical.00015.wav\n",
      "classical.00016.wav\n",
      "classical.00017.wav\n",
      "classical.00018.wav\n",
      "classical.00019.wav\n",
      "classical.00020.wav\n",
      "classical.00021.wav\n",
      "classical.00022.wav\n",
      "classical.00023.wav\n",
      "classical.00024.wav\n",
      "classical.00025.wav\n",
      "classical.00026.wav\n",
      "classical.00027.wav\n",
      "classical.00028.wav\n",
      "classical.00029.wav\n",
      "classical.00030.wav\n",
      "classical.00031.wav\n",
      "classical.00032.wav\n",
      "classical.00033.wav\n",
      "classical.00034.wav\n",
      "classical.00035.wav\n",
      "classical.00036.wav\n",
      "classical.00037.wav\n",
      "classical.00038.wav\n",
      "classical.00039.wav\n",
      "classical.00040.wav\n",
      "classical.00041.wav\n",
      "classical.00042.wav\n",
      "classical.00043.wav\n",
      "classical.00044.wav\n",
      "classical.00045.wav\n",
      "classical.00046.wav\n",
      "classical.00047.wav\n",
      "classical.00048.wav\n",
      "classical.00049.wav\n",
      "classical.00050.wav\n",
      "classical.00051.wav\n",
      "classical.00052.wav\n",
      "classical.00053.wav\n",
      "classical.00054.wav\n",
      "classical.00055.wav\n",
      "classical.00056.wav\n",
      "classical.00057.wav\n",
      "classical.00058.wav\n",
      "classical.00059.wav\n",
      "classical.00060.wav\n",
      "classical.00061.wav\n",
      "classical.00062.wav\n",
      "classical.00063.wav\n",
      "classical.00064.wav\n",
      "classical.00065.wav\n",
      "classical.00066.wav\n",
      "classical.00067.wav\n",
      "classical.00068.wav\n",
      "classical.00069.wav\n",
      "classical.00070.wav\n",
      "classical.00071.wav\n",
      "classical.00072.wav\n",
      "classical.00073.wav\n",
      "classical.00074.wav\n",
      "classical.00075.wav\n",
      "classical.00076.wav\n",
      "classical.00077.wav\n",
      "classical.00078.wav\n",
      "classical.00079.wav\n",
      "classical.00080.wav\n",
      "classical.00081.wav\n",
      "classical.00082.wav\n",
      "classical.00083.wav\n",
      "classical.00084.wav\n",
      "classical.00085.wav\n",
      "classical.00086.wav\n",
      "classical.00087.wav\n",
      "classical.00088.wav\n",
      "classical.00089.wav\n",
      "classical.00090.wav\n",
      "classical.00091.wav\n",
      "classical.00092.wav\n",
      "classical.00093.wav\n",
      "classical.00094.wav\n",
      "classical.00095.wav\n",
      "classical.00096.wav\n",
      "classical.00097.wav\n",
      "classical.00098.wav\n",
      "classical.00099.wav\n",
      "country.00000.wav\n",
      "country.00001.wav\n",
      "country.00002.wav\n",
      "country.00003.wav\n",
      "country.00004.wav\n",
      "country.00005.wav\n",
      "country.00006.wav\n",
      "country.00007.wav\n",
      "country.00008.wav\n",
      "country.00009.wav\n",
      "country.00010.wav\n",
      "country.00011.wav\n",
      "country.00012.wav\n",
      "country.00013.wav\n",
      "country.00014.wav\n",
      "country.00015.wav\n",
      "country.00016.wav\n",
      "country.00017.wav\n",
      "country.00018.wav\n",
      "country.00019.wav\n",
      "country.00020.wav\n",
      "country.00021.wav\n",
      "country.00022.wav\n",
      "country.00023.wav\n",
      "country.00024.wav\n",
      "country.00025.wav\n",
      "country.00026.wav\n",
      "country.00027.wav\n",
      "country.00028.wav\n",
      "country.00029.wav\n",
      "country.00030.wav\n",
      "country.00031.wav\n",
      "country.00032.wav\n",
      "country.00033.wav\n",
      "country.00034.wav\n",
      "country.00035.wav\n",
      "country.00036.wav\n",
      "country.00037.wav\n",
      "country.00038.wav\n",
      "country.00039.wav\n",
      "country.00040.wav\n",
      "country.00041.wav\n",
      "country.00042.wav\n",
      "country.00043.wav\n",
      "country.00044.wav\n",
      "country.00045.wav\n",
      "country.00046.wav\n",
      "country.00047.wav\n",
      "country.00048.wav\n",
      "country.00049.wav\n",
      "country.00050.wav\n",
      "country.00051.wav\n",
      "country.00052.wav\n",
      "country.00053.wav\n",
      "country.00054.wav\n",
      "country.00055.wav\n",
      "country.00056.wav\n",
      "country.00057.wav\n",
      "country.00058.wav\n",
      "country.00059.wav\n",
      "country.00060.wav\n",
      "country.00061.wav\n",
      "country.00062.wav\n",
      "country.00063.wav\n",
      "country.00064.wav\n",
      "country.00065.wav\n",
      "country.00066.wav\n",
      "country.00067.wav\n",
      "country.00068.wav\n",
      "country.00069.wav\n",
      "country.00070.wav\n",
      "country.00071.wav\n",
      "country.00072.wav\n",
      "country.00073.wav\n",
      "country.00074.wav\n",
      "country.00075.wav\n",
      "country.00076.wav\n",
      "country.00077.wav\n",
      "country.00078.wav\n",
      "country.00079.wav\n",
      "country.00080.wav\n",
      "country.00081.wav\n",
      "country.00082.wav\n",
      "country.00083.wav\n",
      "country.00084.wav\n",
      "country.00085.wav\n",
      "country.00086.wav\n",
      "country.00087.wav\n",
      "country.00088.wav\n",
      "country.00089.wav\n",
      "country.00090.wav\n",
      "country.00091.wav\n",
      "country.00092.wav\n",
      "country.00093.wav\n",
      "country.00094.wav\n",
      "country.00095.wav\n",
      "country.00096.wav\n",
      "country.00097.wav\n",
      "country.00098.wav\n",
      "country.00099.wav\n",
      "disco.00000.wav\n",
      "disco.00001.wav\n",
      "disco.00002.wav\n",
      "disco.00003.wav\n",
      "disco.00004.wav\n",
      "disco.00005.wav\n",
      "disco.00006.wav\n",
      "disco.00007.wav\n",
      "disco.00008.wav\n",
      "disco.00009.wav\n",
      "disco.00010.wav\n",
      "disco.00011.wav\n",
      "disco.00012.wav\n",
      "disco.00013.wav\n",
      "disco.00014.wav\n",
      "disco.00015.wav\n",
      "disco.00016.wav\n",
      "disco.00017.wav\n",
      "disco.00018.wav\n",
      "disco.00019.wav\n",
      "disco.00020.wav\n",
      "disco.00021.wav\n",
      "disco.00022.wav\n",
      "disco.00023.wav\n",
      "disco.00024.wav\n",
      "disco.00025.wav\n",
      "disco.00026.wav\n",
      "disco.00027.wav\n",
      "disco.00028.wav\n",
      "disco.00029.wav\n",
      "disco.00030.wav\n",
      "disco.00031.wav\n",
      "disco.00032.wav\n",
      "disco.00033.wav\n",
      "disco.00034.wav\n",
      "disco.00035.wav\n",
      "disco.00036.wav\n",
      "disco.00037.wav\n",
      "disco.00038.wav\n",
      "disco.00039.wav\n",
      "disco.00040.wav\n",
      "disco.00041.wav\n",
      "disco.00042.wav\n",
      "disco.00043.wav\n",
      "disco.00044.wav\n",
      "disco.00045.wav\n",
      "disco.00046.wav\n",
      "disco.00047.wav\n",
      "disco.00048.wav\n",
      "disco.00049.wav\n",
      "disco.00050.wav\n",
      "disco.00051.wav\n",
      "disco.00052.wav\n",
      "disco.00053.wav\n",
      "disco.00054.wav\n",
      "disco.00055.wav\n",
      "disco.00056.wav\n",
      "disco.00057.wav\n",
      "disco.00058.wav\n",
      "disco.00059.wav\n",
      "disco.00060.wav\n",
      "disco.00061.wav\n",
      "disco.00062.wav\n",
      "disco.00063.wav\n",
      "disco.00064.wav\n",
      "disco.00065.wav\n",
      "disco.00066.wav\n",
      "disco.00067.wav\n",
      "disco.00068.wav\n",
      "disco.00069.wav\n",
      "disco.00070.wav\n",
      "disco.00071.wav\n",
      "disco.00072.wav\n",
      "disco.00073.wav\n",
      "disco.00074.wav\n",
      "disco.00075.wav\n",
      "disco.00076.wav\n",
      "disco.00077.wav\n",
      "disco.00078.wav\n",
      "disco.00079.wav\n",
      "disco.00080.wav\n",
      "disco.00081.wav\n",
      "disco.00082.wav\n",
      "disco.00083.wav\n",
      "disco.00084.wav\n",
      "disco.00085.wav\n",
      "disco.00086.wav\n",
      "disco.00087.wav\n",
      "disco.00088.wav\n",
      "disco.00089.wav\n",
      "disco.00090.wav\n",
      "disco.00091.wav\n",
      "disco.00092.wav\n",
      "disco.00093.wav\n",
      "disco.00094.wav\n",
      "disco.00095.wav\n",
      "disco.00096.wav\n",
      "disco.00097.wav\n",
      "disco.00098.wav\n",
      "disco.00099.wav\n",
      "hiphop.00000.wav\n",
      "hiphop.00001.wav\n",
      "hiphop.00002.wav\n",
      "hiphop.00003.wav\n",
      "hiphop.00004.wav\n",
      "hiphop.00005.wav\n",
      "hiphop.00006.wav\n",
      "hiphop.00007.wav\n",
      "hiphop.00008.wav\n",
      "hiphop.00009.wav\n",
      "hiphop.00010.wav\n",
      "hiphop.00011.wav\n",
      "hiphop.00012.wav\n",
      "hiphop.00013.wav\n",
      "hiphop.00014.wav\n",
      "hiphop.00015.wav\n",
      "hiphop.00016.wav\n",
      "hiphop.00017.wav\n",
      "hiphop.00018.wav\n",
      "hiphop.00019.wav\n",
      "hiphop.00020.wav\n",
      "hiphop.00021.wav\n",
      "hiphop.00022.wav\n",
      "hiphop.00023.wav\n",
      "hiphop.00024.wav\n",
      "hiphop.00025.wav\n",
      "hiphop.00026.wav\n",
      "hiphop.00027.wav\n",
      "hiphop.00028.wav\n",
      "hiphop.00029.wav\n",
      "hiphop.00030.wav\n",
      "hiphop.00031.wav\n",
      "hiphop.00032.wav\n",
      "hiphop.00033.wav\n",
      "hiphop.00034.wav\n",
      "hiphop.00035.wav\n",
      "hiphop.00036.wav\n",
      "hiphop.00037.wav\n",
      "hiphop.00038.wav\n",
      "hiphop.00039.wav\n",
      "hiphop.00040.wav\n",
      "hiphop.00041.wav\n",
      "hiphop.00042.wav\n",
      "hiphop.00043.wav\n",
      "hiphop.00044.wav\n",
      "hiphop.00045.wav\n",
      "hiphop.00046.wav\n",
      "hiphop.00047.wav\n",
      "hiphop.00048.wav\n",
      "hiphop.00049.wav\n",
      "hiphop.00050.wav\n",
      "hiphop.00051.wav\n",
      "hiphop.00052.wav\n",
      "hiphop.00053.wav\n",
      "hiphop.00054.wav\n",
      "hiphop.00055.wav\n",
      "hiphop.00056.wav\n",
      "hiphop.00057.wav\n",
      "hiphop.00058.wav\n",
      "hiphop.00059.wav\n",
      "hiphop.00060.wav\n",
      "hiphop.00061.wav\n",
      "hiphop.00062.wav\n",
      "hiphop.00063.wav\n",
      "hiphop.00064.wav\n",
      "hiphop.00065.wav\n",
      "hiphop.00066.wav\n",
      "hiphop.00067.wav\n",
      "hiphop.00068.wav\n",
      "hiphop.00069.wav\n",
      "hiphop.00070.wav\n",
      "hiphop.00071.wav\n",
      "hiphop.00072.wav\n",
      "hiphop.00073.wav\n",
      "hiphop.00074.wav\n",
      "hiphop.00075.wav\n",
      "hiphop.00076.wav\n",
      "hiphop.00077.wav\n",
      "hiphop.00078.wav\n",
      "hiphop.00079.wav\n",
      "hiphop.00080.wav\n",
      "hiphop.00081.wav\n",
      "hiphop.00082.wav\n",
      "hiphop.00083.wav\n",
      "hiphop.00084.wav\n",
      "hiphop.00085.wav\n",
      "hiphop.00086.wav\n",
      "hiphop.00087.wav\n",
      "hiphop.00088.wav\n",
      "hiphop.00089.wav\n",
      "hiphop.00090.wav\n",
      "hiphop.00091.wav\n",
      "hiphop.00092.wav\n",
      "hiphop.00093.wav\n",
      "hiphop.00094.wav\n",
      "hiphop.00095.wav\n",
      "hiphop.00096.wav\n",
      "hiphop.00097.wav\n",
      "hiphop.00098.wav\n",
      "hiphop.00099.wav\n",
      "jazz.00000.wav\n",
      "jazz.00001.wav\n",
      "jazz.00002.wav\n",
      "jazz.00003.wav\n",
      "jazz.00004.wav\n",
      "jazz.00005.wav\n",
      "jazz.00006.wav\n",
      "jazz.00007.wav\n",
      "jazz.00008.wav\n",
      "jazz.00009.wav\n",
      "jazz.00010.wav\n",
      "jazz.00011.wav\n",
      "jazz.00012.wav\n",
      "jazz.00013.wav\n",
      "jazz.00014.wav\n",
      "jazz.00015.wav\n",
      "jazz.00016.wav\n",
      "jazz.00017.wav\n",
      "jazz.00018.wav\n",
      "jazz.00019.wav\n",
      "jazz.00020.wav\n",
      "jazz.00021.wav\n",
      "jazz.00022.wav\n",
      "jazz.00023.wav\n",
      "jazz.00024.wav\n",
      "jazz.00025.wav\n",
      "jazz.00026.wav\n",
      "jazz.00027.wav\n",
      "jazz.00028.wav\n",
      "jazz.00029.wav\n",
      "jazz.00030.wav\n",
      "jazz.00031.wav\n",
      "jazz.00032.wav\n",
      "jazz.00033.wav\n",
      "jazz.00034.wav\n",
      "jazz.00035.wav\n",
      "jazz.00036.wav\n",
      "jazz.00037.wav\n",
      "jazz.00038.wav\n",
      "jazz.00039.wav\n",
      "jazz.00040.wav\n",
      "jazz.00041.wav\n",
      "jazz.00042.wav\n",
      "jazz.00043.wav\n",
      "jazz.00044.wav\n",
      "jazz.00045.wav\n",
      "jazz.00046.wav\n",
      "jazz.00047.wav\n",
      "jazz.00048.wav\n",
      "jazz.00049.wav\n",
      "jazz.00050.wav\n",
      "jazz.00051.wav\n",
      "jazz.00052.wav\n",
      "jazz.00053.wav\n",
      "jazz.00055.wav\n",
      "jazz.00056.wav\n",
      "jazz.00057.wav\n",
      "jazz.00058.wav\n",
      "jazz.00059.wav\n",
      "jazz.00060.wav\n",
      "jazz.00061.wav\n",
      "jazz.00062.wav\n",
      "jazz.00063.wav\n",
      "jazz.00064.wav\n",
      "jazz.00065.wav\n",
      "jazz.00066.wav\n",
      "jazz.00067.wav\n",
      "jazz.00068.wav\n",
      "jazz.00069.wav\n",
      "jazz.00070.wav\n",
      "jazz.00071.wav\n",
      "jazz.00072.wav\n",
      "jazz.00073.wav\n",
      "jazz.00074.wav\n",
      "jazz.00075.wav\n",
      "jazz.00076.wav\n",
      "jazz.00077.wav\n",
      "jazz.00078.wav\n",
      "jazz.00079.wav\n",
      "jazz.00080.wav\n",
      "jazz.00081.wav\n",
      "jazz.00082.wav\n",
      "jazz.00083.wav\n",
      "jazz.00084.wav\n",
      "jazz.00085.wav\n",
      "jazz.00086.wav\n",
      "jazz.00087.wav\n",
      "jazz.00088.wav\n",
      "jazz.00089.wav\n",
      "jazz.00090.wav\n",
      "jazz.00091.wav\n",
      "jazz.00092.wav\n",
      "jazz.00093.wav\n",
      "jazz.00094.wav\n",
      "jazz.00095.wav\n",
      "jazz.00096.wav\n",
      "jazz.00097.wav\n",
      "jazz.00098.wav\n",
      "jazz.00099.wav\n",
      "metal.00000.wav\n",
      "metal.00001.wav\n",
      "metal.00002.wav\n",
      "metal.00003.wav\n",
      "metal.00004.wav\n",
      "metal.00005.wav\n",
      "metal.00006.wav\n",
      "metal.00007.wav\n",
      "metal.00008.wav\n",
      "metal.00009.wav\n",
      "metal.00010.wav\n",
      "metal.00011.wav\n",
      "metal.00012.wav\n",
      "metal.00013.wav\n",
      "metal.00014.wav\n",
      "metal.00015.wav\n",
      "metal.00016.wav\n",
      "metal.00017.wav\n",
      "metal.00018.wav\n",
      "metal.00019.wav\n",
      "metal.00020.wav\n",
      "metal.00021.wav\n",
      "metal.00022.wav\n",
      "metal.00023.wav\n",
      "metal.00024.wav\n",
      "metal.00025.wav\n",
      "metal.00026.wav\n",
      "metal.00027.wav\n",
      "metal.00028.wav\n",
      "metal.00029.wav\n",
      "metal.00030.wav\n",
      "metal.00031.wav\n",
      "metal.00032.wav\n",
      "metal.00033.wav\n",
      "metal.00034.wav\n",
      "metal.00035.wav\n",
      "metal.00036.wav\n",
      "metal.00037.wav\n",
      "metal.00038.wav\n",
      "metal.00039.wav\n",
      "metal.00040.wav\n",
      "metal.00041.wav\n",
      "metal.00042.wav\n",
      "metal.00043.wav\n",
      "metal.00044.wav\n",
      "metal.00045.wav\n",
      "metal.00046.wav\n",
      "metal.00047.wav\n",
      "metal.00048.wav\n",
      "metal.00049.wav\n",
      "metal.00050.wav\n",
      "metal.00051.wav\n",
      "metal.00052.wav\n",
      "metal.00053.wav\n",
      "metal.00054.wav\n",
      "metal.00055.wav\n",
      "metal.00056.wav\n",
      "metal.00057.wav\n",
      "metal.00058.wav\n",
      "metal.00059.wav\n",
      "metal.00060.wav\n",
      "metal.00061.wav\n",
      "metal.00062.wav\n",
      "metal.00063.wav\n",
      "metal.00064.wav\n",
      "metal.00065.wav\n",
      "metal.00066.wav\n",
      "metal.00067.wav\n",
      "metal.00068.wav\n",
      "metal.00069.wav\n",
      "metal.00070.wav\n",
      "metal.00071.wav\n",
      "metal.00072.wav\n",
      "metal.00073.wav\n",
      "metal.00074.wav\n",
      "metal.00075.wav\n",
      "metal.00076.wav\n",
      "metal.00077.wav\n",
      "metal.00078.wav\n",
      "metal.00079.wav\n",
      "metal.00080.wav\n",
      "metal.00081.wav\n",
      "metal.00082.wav\n",
      "metal.00083.wav\n",
      "metal.00084.wav\n",
      "metal.00085.wav\n",
      "metal.00086.wav\n",
      "metal.00087.wav\n",
      "metal.00088.wav\n",
      "metal.00089.wav\n",
      "metal.00090.wav\n",
      "metal.00091.wav\n",
      "metal.00092.wav\n",
      "metal.00093.wav\n",
      "metal.00094.wav\n",
      "metal.00095.wav\n",
      "metal.00096.wav\n",
      "metal.00097.wav\n",
      "metal.00098.wav\n",
      "metal.00099.wav\n",
      "pop.00000.wav\n",
      "pop.00001.wav\n",
      "pop.00002.wav\n",
      "pop.00003.wav\n",
      "pop.00004.wav\n",
      "pop.00005.wav\n",
      "pop.00006.wav\n",
      "pop.00007.wav\n",
      "pop.00008.wav\n",
      "pop.00009.wav\n",
      "pop.00010.wav\n",
      "pop.00011.wav\n",
      "pop.00012.wav\n",
      "pop.00013.wav\n",
      "pop.00014.wav\n",
      "pop.00015.wav\n",
      "pop.00016.wav\n",
      "pop.00017.wav\n",
      "pop.00018.wav\n",
      "pop.00019.wav\n",
      "pop.00020.wav\n",
      "pop.00021.wav\n",
      "pop.00022.wav\n",
      "pop.00023.wav\n",
      "pop.00024.wav\n",
      "pop.00025.wav\n",
      "pop.00026.wav\n",
      "pop.00027.wav\n",
      "pop.00028.wav\n",
      "pop.00029.wav\n",
      "pop.00030.wav\n",
      "pop.00031.wav\n",
      "pop.00032.wav\n",
      "pop.00033.wav\n",
      "pop.00034.wav\n",
      "pop.00035.wav\n",
      "pop.00036.wav\n",
      "pop.00037.wav\n",
      "pop.00038.wav\n",
      "pop.00039.wav\n",
      "pop.00040.wav\n",
      "pop.00041.wav\n",
      "pop.00042.wav\n",
      "pop.00043.wav\n",
      "pop.00044.wav\n",
      "pop.00045.wav\n",
      "pop.00046.wav\n",
      "pop.00047.wav\n",
      "pop.00048.wav\n",
      "pop.00049.wav\n",
      "pop.00050.wav\n",
      "pop.00051.wav\n",
      "pop.00052.wav\n",
      "pop.00053.wav\n",
      "pop.00054.wav\n",
      "pop.00055.wav\n",
      "pop.00056.wav\n",
      "pop.00057.wav\n",
      "pop.00058.wav\n",
      "pop.00059.wav\n",
      "pop.00060.wav\n",
      "pop.00061.wav\n",
      "pop.00062.wav\n",
      "pop.00063.wav\n",
      "pop.00064.wav\n",
      "pop.00065.wav\n",
      "pop.00066.wav\n",
      "pop.00067.wav\n",
      "pop.00068.wav\n",
      "pop.00069.wav\n",
      "pop.00070.wav\n",
      "pop.00071.wav\n",
      "pop.00072.wav\n",
      "pop.00073.wav\n",
      "pop.00074.wav\n",
      "pop.00075.wav\n",
      "pop.00076.wav\n",
      "pop.00077.wav\n",
      "pop.00078.wav\n",
      "pop.00079.wav\n",
      "pop.00080.wav\n",
      "pop.00081.wav\n",
      "pop.00082.wav\n",
      "pop.00083.wav\n",
      "pop.00084.wav\n",
      "pop.00085.wav\n",
      "pop.00086.wav\n",
      "pop.00087.wav\n",
      "pop.00088.wav\n",
      "pop.00089.wav\n",
      "pop.00090.wav\n",
      "pop.00091.wav\n",
      "pop.00092.wav\n",
      "pop.00093.wav\n",
      "pop.00094.wav\n",
      "pop.00095.wav\n",
      "pop.00096.wav\n",
      "pop.00097.wav\n",
      "pop.00098.wav\n",
      "pop.00099.wav\n",
      "reggae.00000.wav\n",
      "reggae.00001.wav\n",
      "reggae.00002.wav\n",
      "reggae.00003.wav\n",
      "reggae.00004.wav\n",
      "reggae.00005.wav\n",
      "reggae.00006.wav\n",
      "reggae.00007.wav\n",
      "reggae.00008.wav\n",
      "reggae.00009.wav\n",
      "reggae.00010.wav\n",
      "reggae.00011.wav\n",
      "reggae.00012.wav\n",
      "reggae.00013.wav\n",
      "reggae.00014.wav\n",
      "reggae.00015.wav\n",
      "reggae.00016.wav\n",
      "reggae.00017.wav\n",
      "reggae.00018.wav\n",
      "reggae.00019.wav\n",
      "reggae.00020.wav\n",
      "reggae.00021.wav\n",
      "reggae.00022.wav\n",
      "reggae.00023.wav\n",
      "reggae.00024.wav\n",
      "reggae.00025.wav\n",
      "reggae.00026.wav\n",
      "reggae.00027.wav\n",
      "reggae.00028.wav\n",
      "reggae.00029.wav\n",
      "reggae.00030.wav\n",
      "reggae.00031.wav\n",
      "reggae.00032.wav\n",
      "reggae.00033.wav\n",
      "reggae.00034.wav\n",
      "reggae.00035.wav\n",
      "reggae.00036.wav\n",
      "reggae.00037.wav\n",
      "reggae.00038.wav\n",
      "reggae.00039.wav\n",
      "reggae.00040.wav\n",
      "reggae.00041.wav\n",
      "reggae.00042.wav\n",
      "reggae.00043.wav\n",
      "reggae.00044.wav\n",
      "reggae.00045.wav\n",
      "reggae.00046.wav\n",
      "reggae.00047.wav\n",
      "reggae.00048.wav\n",
      "reggae.00049.wav\n",
      "reggae.00050.wav\n",
      "reggae.00051.wav\n",
      "reggae.00052.wav\n",
      "reggae.00053.wav\n",
      "reggae.00054.wav\n",
      "reggae.00055.wav\n",
      "reggae.00056.wav\n",
      "reggae.00057.wav\n",
      "reggae.00058.wav\n",
      "reggae.00059.wav\n",
      "reggae.00060.wav\n",
      "reggae.00061.wav\n",
      "reggae.00062.wav\n",
      "reggae.00063.wav\n",
      "reggae.00064.wav\n",
      "reggae.00065.wav\n",
      "reggae.00066.wav\n",
      "reggae.00067.wav\n",
      "reggae.00068.wav\n",
      "reggae.00069.wav\n",
      "reggae.00070.wav\n",
      "reggae.00071.wav\n",
      "reggae.00072.wav\n",
      "reggae.00073.wav\n",
      "reggae.00074.wav\n",
      "reggae.00075.wav\n",
      "reggae.00076.wav\n",
      "reggae.00077.wav\n",
      "reggae.00078.wav\n",
      "reggae.00079.wav\n",
      "reggae.00080.wav\n",
      "reggae.00081.wav\n",
      "reggae.00082.wav\n",
      "reggae.00083.wav\n",
      "reggae.00084.wav\n",
      "reggae.00085.wav\n",
      "reggae.00086.wav\n",
      "reggae.00087.wav\n",
      "reggae.00088.wav\n",
      "reggae.00089.wav\n",
      "reggae.00090.wav\n",
      "reggae.00091.wav\n",
      "reggae.00092.wav\n",
      "reggae.00093.wav\n",
      "reggae.00094.wav\n",
      "reggae.00095.wav\n",
      "reggae.00096.wav\n",
      "reggae.00097.wav\n",
      "reggae.00098.wav\n",
      "reggae.00099.wav\n",
      "rock.00000.wav\n",
      "rock.00001.wav\n",
      "rock.00002.wav\n",
      "rock.00003.wav\n",
      "rock.00004.wav\n",
      "rock.00005.wav\n",
      "rock.00006.wav\n",
      "rock.00007.wav\n",
      "rock.00008.wav\n",
      "rock.00009.wav\n",
      "rock.00010.wav\n",
      "rock.00011.wav\n",
      "rock.00012.wav\n",
      "rock.00013.wav\n",
      "rock.00014.wav\n",
      "rock.00015.wav\n",
      "rock.00016.wav\n",
      "rock.00017.wav\n",
      "rock.00018.wav\n",
      "rock.00019.wav\n",
      "rock.00020.wav\n",
      "rock.00021.wav\n",
      "rock.00022.wav\n",
      "rock.00023.wav\n",
      "rock.00024.wav\n",
      "rock.00025.wav\n",
      "rock.00026.wav\n",
      "rock.00027.wav\n",
      "rock.00028.wav\n",
      "rock.00029.wav\n",
      "rock.00030.wav\n",
      "rock.00031.wav\n",
      "rock.00032.wav\n",
      "rock.00033.wav\n",
      "rock.00034.wav\n",
      "rock.00035.wav\n",
      "rock.00036.wav\n",
      "rock.00037.wav\n",
      "rock.00038.wav\n",
      "rock.00039.wav\n",
      "rock.00040.wav\n",
      "rock.00041.wav\n",
      "rock.00042.wav\n",
      "rock.00043.wav\n",
      "rock.00044.wav\n",
      "rock.00045.wav\n",
      "rock.00046.wav\n",
      "rock.00047.wav\n",
      "rock.00048.wav\n",
      "rock.00049.wav\n",
      "rock.00050.wav\n",
      "rock.00051.wav\n",
      "rock.00052.wav\n",
      "rock.00053.wav\n",
      "rock.00054.wav\n",
      "rock.00055.wav\n",
      "rock.00056.wav\n",
      "rock.00057.wav\n",
      "rock.00058.wav\n",
      "rock.00059.wav\n",
      "rock.00060.wav\n",
      "rock.00061.wav\n",
      "rock.00062.wav\n",
      "rock.00063.wav\n",
      "rock.00064.wav\n",
      "rock.00065.wav\n",
      "rock.00066.wav\n",
      "rock.00067.wav\n",
      "rock.00068.wav\n",
      "rock.00069.wav\n",
      "rock.00070.wav\n",
      "rock.00071.wav\n",
      "rock.00072.wav\n",
      "rock.00073.wav\n",
      "rock.00074.wav\n",
      "rock.00075.wav\n",
      "rock.00076.wav\n",
      "rock.00077.wav\n",
      "rock.00078.wav\n",
      "rock.00079.wav\n",
      "rock.00080.wav\n",
      "rock.00081.wav\n",
      "rock.00082.wav\n",
      "rock.00083.wav\n",
      "rock.00084.wav\n",
      "rock.00085.wav\n",
      "rock.00086.wav\n",
      "rock.00087.wav\n",
      "rock.00088.wav\n",
      "rock.00089.wav\n",
      "rock.00090.wav\n",
      "rock.00091.wav\n",
      "rock.00092.wav\n",
      "rock.00093.wav\n",
      "rock.00094.wav\n",
      "rock.00095.wav\n",
      "rock.00096.wav\n",
      "rock.00097.wav\n",
      "rock.00098.wav\n",
      "rock.00099.wav\n"
     ]
    }
   ],
   "source": [
    "arquivos_extraidos.sort()\n",
    "for f in arquivos_extraidos:\n",
    "    print(f)\n"
   ]
  },
  {
   "cell_type": "code",
   "execution_count": 7,
   "metadata": {},
   "outputs": [],
   "source": [
    "df = pd.read_csv('wav2vec-gtzan.csv')"
   ]
  },
  {
   "cell_type": "code",
   "execution_count": null,
   "metadata": {},
   "outputs": [],
   "source": []
  }
 ],
 "metadata": {
  "kernelspec": {
   "display_name": "env",
   "language": "python",
   "name": "python3"
  },
  "language_info": {
   "codemirror_mode": {
    "name": "ipython",
    "version": 3
   },
   "file_extension": ".py",
   "mimetype": "text/x-python",
   "name": "python",
   "nbconvert_exporter": "python",
   "pygments_lexer": "ipython3",
   "version": "3.11.3"
  }
 },
 "nbformat": 4,
 "nbformat_minor": 2
}
